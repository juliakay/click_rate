{
 "cells": [
  {
   "cell_type": "markdown",
   "metadata": {},
   "source": [
    "# Click-Through Rate Prediction\n",
    "## Random Forest / XGBoost"
   ]
  },
  {
   "cell_type": "markdown",
   "metadata": {},
   "source": [
    "Ryan Koch, Sam Kahr, Julia Kang - AMLI 2019"
   ]
  },
  {
   "cell_type": "markdown",
   "metadata": {},
   "source": [
    "References: https://towardsdatascience.com/mobile-ads-click-through-rate-ctr-prediction-44fdac40c6ff"
   ]
  },
  {
   "cell_type": "markdown",
   "metadata": {},
   "source": [
    "## Import Libraries and Data"
   ]
  },
  {
   "cell_type": "code",
   "execution_count": 105,
   "metadata": {},
   "outputs": [],
   "source": [
    "import pandas as pd\n",
    "import numpy as np\n",
    "import multiprocessing as mp\n",
    "import psutil\n",
    "import random\n",
    "import datetime as datetime\n",
    "import matplotlib.pyplot as plt"
   ]
  },
  {
   "cell_type": "code",
   "execution_count": 106,
   "metadata": {},
   "outputs": [],
   "source": [
    "# read in the Avazu - criteo labs - csv file\n",
    "# rand_sample_csv is a randomized subset (1% the size) of the sample_csv which is ~400k instances \n",
    "\n",
    "df = pd.read_csv('/home/data/rand_sample_csv.csv')\n",
    "\n"
   ]
  },
  {
   "cell_type": "markdown",
   "metadata": {},
   "source": [
    "# Data Exploration"
   ]
  },
  {
   "cell_type": "code",
   "execution_count": 107,
   "metadata": {},
   "outputs": [
    {
     "data": {
      "text/html": [
       "<div>\n",
       "<style scoped>\n",
       "    .dataframe tbody tr th:only-of-type {\n",
       "        vertical-align: middle;\n",
       "    }\n",
       "\n",
       "    .dataframe tbody tr th {\n",
       "        vertical-align: top;\n",
       "    }\n",
       "\n",
       "    .dataframe thead th {\n",
       "        text-align: right;\n",
       "    }\n",
       "</style>\n",
       "<table border=\"1\" class=\"dataframe\">\n",
       "  <thead>\n",
       "    <tr style=\"text-align: right;\">\n",
       "      <th></th>\n",
       "      <th>Unnamed: 0</th>\n",
       "      <th>Unnamed: 0.1</th>\n",
       "      <th>id</th>\n",
       "      <th>click</th>\n",
       "      <th>hour</th>\n",
       "      <th>C1</th>\n",
       "      <th>banner_pos</th>\n",
       "      <th>site_id</th>\n",
       "      <th>site_domain</th>\n",
       "      <th>site_category</th>\n",
       "      <th>...</th>\n",
       "      <th>device_type</th>\n",
       "      <th>device_conn_type</th>\n",
       "      <th>C14</th>\n",
       "      <th>C15</th>\n",
       "      <th>C16</th>\n",
       "      <th>C17</th>\n",
       "      <th>C18</th>\n",
       "      <th>C19</th>\n",
       "      <th>C20</th>\n",
       "      <th>C21</th>\n",
       "    </tr>\n",
       "  </thead>\n",
       "  <tbody>\n",
       "    <tr>\n",
       "      <th>0</th>\n",
       "      <td>0</td>\n",
       "      <td>236</td>\n",
       "      <td>13120299559997056165</td>\n",
       "      <td>0</td>\n",
       "      <td>14102100</td>\n",
       "      <td>1005</td>\n",
       "      <td>0</td>\n",
       "      <td>543a539e</td>\n",
       "      <td>c7ca3108</td>\n",
       "      <td>3e814130</td>\n",
       "      <td>...</td>\n",
       "      <td>1</td>\n",
       "      <td>0</td>\n",
       "      <td>20362</td>\n",
       "      <td>320</td>\n",
       "      <td>50</td>\n",
       "      <td>2333</td>\n",
       "      <td>0</td>\n",
       "      <td>39</td>\n",
       "      <td>-1</td>\n",
       "      <td>157</td>\n",
       "    </tr>\n",
       "    <tr>\n",
       "      <th>1</th>\n",
       "      <td>1</td>\n",
       "      <td>259</td>\n",
       "      <td>13447361190641805430</td>\n",
       "      <td>0</td>\n",
       "      <td>14102100</td>\n",
       "      <td>1005</td>\n",
       "      <td>1</td>\n",
       "      <td>17caea14</td>\n",
       "      <td>0dde25ec</td>\n",
       "      <td>f028772b</td>\n",
       "      <td>...</td>\n",
       "      <td>1</td>\n",
       "      <td>0</td>\n",
       "      <td>19950</td>\n",
       "      <td>320</td>\n",
       "      <td>50</td>\n",
       "      <td>1800</td>\n",
       "      <td>3</td>\n",
       "      <td>167</td>\n",
       "      <td>100075</td>\n",
       "      <td>23</td>\n",
       "    </tr>\n",
       "    <tr>\n",
       "      <th>2</th>\n",
       "      <td>2</td>\n",
       "      <td>357</td>\n",
       "      <td>14758321504714974000</td>\n",
       "      <td>0</td>\n",
       "      <td>14102100</td>\n",
       "      <td>1005</td>\n",
       "      <td>0</td>\n",
       "      <td>85f751fd</td>\n",
       "      <td>c4e18dd6</td>\n",
       "      <td>50e219e0</td>\n",
       "      <td>...</td>\n",
       "      <td>1</td>\n",
       "      <td>0</td>\n",
       "      <td>19743</td>\n",
       "      <td>320</td>\n",
       "      <td>50</td>\n",
       "      <td>2264</td>\n",
       "      <td>3</td>\n",
       "      <td>427</td>\n",
       "      <td>100000</td>\n",
       "      <td>61</td>\n",
       "    </tr>\n",
       "    <tr>\n",
       "      <th>3</th>\n",
       "      <td>3</td>\n",
       "      <td>455</td>\n",
       "      <td>16246356889796608406</td>\n",
       "      <td>0</td>\n",
       "      <td>14102100</td>\n",
       "      <td>1005</td>\n",
       "      <td>0</td>\n",
       "      <td>5b08c53b</td>\n",
       "      <td>7687a86e</td>\n",
       "      <td>3e814130</td>\n",
       "      <td>...</td>\n",
       "      <td>1</td>\n",
       "      <td>0</td>\n",
       "      <td>17654</td>\n",
       "      <td>300</td>\n",
       "      <td>250</td>\n",
       "      <td>1994</td>\n",
       "      <td>2</td>\n",
       "      <td>39</td>\n",
       "      <td>100084</td>\n",
       "      <td>33</td>\n",
       "    </tr>\n",
       "    <tr>\n",
       "      <th>4</th>\n",
       "      <td>4</td>\n",
       "      <td>540</td>\n",
       "      <td>17569568361412548369</td>\n",
       "      <td>0</td>\n",
       "      <td>14102100</td>\n",
       "      <td>1005</td>\n",
       "      <td>0</td>\n",
       "      <td>543a539e</td>\n",
       "      <td>c7ca3108</td>\n",
       "      <td>3e814130</td>\n",
       "      <td>...</td>\n",
       "      <td>1</td>\n",
       "      <td>0</td>\n",
       "      <td>20362</td>\n",
       "      <td>320</td>\n",
       "      <td>50</td>\n",
       "      <td>2333</td>\n",
       "      <td>0</td>\n",
       "      <td>39</td>\n",
       "      <td>-1</td>\n",
       "      <td>157</td>\n",
       "    </tr>\n",
       "  </tbody>\n",
       "</table>\n",
       "<p>5 rows × 26 columns</p>\n",
       "</div>"
      ],
      "text/plain": [
       "   Unnamed: 0  Unnamed: 0.1                    id  click      hour    C1  \\\n",
       "0           0           236  13120299559997056165      0  14102100  1005   \n",
       "1           1           259  13447361190641805430      0  14102100  1005   \n",
       "2           2           357  14758321504714974000      0  14102100  1005   \n",
       "3           3           455  16246356889796608406      0  14102100  1005   \n",
       "4           4           540  17569568361412548369      0  14102100  1005   \n",
       "\n",
       "   banner_pos   site_id site_domain site_category  ... device_type  \\\n",
       "0           0  543a539e    c7ca3108      3e814130  ...           1   \n",
       "1           1  17caea14    0dde25ec      f028772b  ...           1   \n",
       "2           0  85f751fd    c4e18dd6      50e219e0  ...           1   \n",
       "3           0  5b08c53b    7687a86e      3e814130  ...           1   \n",
       "4           0  543a539e    c7ca3108      3e814130  ...           1   \n",
       "\n",
       "  device_conn_type    C14  C15  C16   C17  C18  C19     C20  C21  \n",
       "0                0  20362  320   50  2333    0   39      -1  157  \n",
       "1                0  19950  320   50  1800    3  167  100075   23  \n",
       "2                0  19743  320   50  2264    3  427  100000   61  \n",
       "3                0  17654  300  250  1994    2   39  100084   33  \n",
       "4                0  20362  320   50  2333    0   39      -1  157  \n",
       "\n",
       "[5 rows x 26 columns]"
      ]
     },
     "execution_count": 107,
     "metadata": {},
     "output_type": "execute_result"
    }
   ],
   "source": [
    "df.head(5)"
   ]
  },
  {
   "cell_type": "code",
   "execution_count": 108,
   "metadata": {},
   "outputs": [
    {
     "data": {
      "text/html": [
       "<div>\n",
       "<style scoped>\n",
       "    .dataframe tbody tr th:only-of-type {\n",
       "        vertical-align: middle;\n",
       "    }\n",
       "\n",
       "    .dataframe tbody tr th {\n",
       "        vertical-align: top;\n",
       "    }\n",
       "\n",
       "    .dataframe thead th {\n",
       "        text-align: right;\n",
       "    }\n",
       "</style>\n",
       "<table border=\"1\" class=\"dataframe\">\n",
       "  <thead>\n",
       "    <tr style=\"text-align: right;\">\n",
       "      <th></th>\n",
       "      <th>Unnamed: 0</th>\n",
       "      <th>Unnamed: 0.1</th>\n",
       "      <th>id</th>\n",
       "      <th>click</th>\n",
       "      <th>hour</th>\n",
       "      <th>C1</th>\n",
       "      <th>banner_pos</th>\n",
       "      <th>device_type</th>\n",
       "      <th>device_conn_type</th>\n",
       "      <th>C14</th>\n",
       "      <th>C15</th>\n",
       "      <th>C16</th>\n",
       "      <th>C17</th>\n",
       "      <th>C18</th>\n",
       "      <th>C19</th>\n",
       "      <th>C20</th>\n",
       "      <th>C21</th>\n",
       "    </tr>\n",
       "  </thead>\n",
       "  <tbody>\n",
       "    <tr>\n",
       "      <th>count</th>\n",
       "      <td>4184.000000</td>\n",
       "      <td>4184.000000</td>\n",
       "      <td>4.184000e+03</td>\n",
       "      <td>4184.000000</td>\n",
       "      <td>4.184000e+03</td>\n",
       "      <td>4184.000000</td>\n",
       "      <td>4184.000000</td>\n",
       "      <td>4184.000000</td>\n",
       "      <td>4184.000000</td>\n",
       "      <td>4184.000000</td>\n",
       "      <td>4184.000000</td>\n",
       "      <td>4184.000000</td>\n",
       "      <td>4184.000000</td>\n",
       "      <td>4184.000000</td>\n",
       "      <td>4184.000000</td>\n",
       "      <td>4184.000000</td>\n",
       "      <td>4184.000000</td>\n",
       "    </tr>\n",
       "    <tr>\n",
       "      <th>mean</th>\n",
       "      <td>2091.500000</td>\n",
       "      <td>202351.664675</td>\n",
       "      <td>9.113168e+18</td>\n",
       "      <td>0.170172</td>\n",
       "      <td>1.410256e+07</td>\n",
       "      <td>1004.977533</td>\n",
       "      <td>0.283222</td>\n",
       "      <td>1.012189</td>\n",
       "      <td>0.331501</td>\n",
       "      <td>18728.379302</td>\n",
       "      <td>318.803059</td>\n",
       "      <td>60.868069</td>\n",
       "      <td>2100.065488</td>\n",
       "      <td>1.412285</td>\n",
       "      <td>229.095841</td>\n",
       "      <td>53381.884082</td>\n",
       "      <td>84.231836</td>\n",
       "    </tr>\n",
       "    <tr>\n",
       "      <th>std</th>\n",
       "      <td>1207.961092</td>\n",
       "      <td>116384.632429</td>\n",
       "      <td>5.389524e+18</td>\n",
       "      <td>0.375829</td>\n",
       "      <td>2.963423e+02</td>\n",
       "      <td>1.032567</td>\n",
       "      <td>0.489278</td>\n",
       "      <td>0.488054</td>\n",
       "      <td>0.856303</td>\n",
       "      <td>5058.361185</td>\n",
       "      <td>22.743031</td>\n",
       "      <td>48.729395</td>\n",
       "      <td>621.145767</td>\n",
       "      <td>1.324642</td>\n",
       "      <td>358.883751</td>\n",
       "      <td>49952.289351</td>\n",
       "      <td>70.673532</td>\n",
       "    </tr>\n",
       "    <tr>\n",
       "      <th>min</th>\n",
       "      <td>0.000000</td>\n",
       "      <td>236.000000</td>\n",
       "      <td>1.513211e+15</td>\n",
       "      <td>0.000000</td>\n",
       "      <td>1.410210e+07</td>\n",
       "      <td>1002.000000</td>\n",
       "      <td>0.000000</td>\n",
       "      <td>0.000000</td>\n",
       "      <td>0.000000</td>\n",
       "      <td>375.000000</td>\n",
       "      <td>216.000000</td>\n",
       "      <td>36.000000</td>\n",
       "      <td>112.000000</td>\n",
       "      <td>0.000000</td>\n",
       "      <td>33.000000</td>\n",
       "      <td>-1.000000</td>\n",
       "      <td>13.000000</td>\n",
       "    </tr>\n",
       "    <tr>\n",
       "      <th>25%</th>\n",
       "      <td>1045.750000</td>\n",
       "      <td>99768.500000</td>\n",
       "      <td>4.449284e+18</td>\n",
       "      <td>0.000000</td>\n",
       "      <td>1.410230e+07</td>\n",
       "      <td>1005.000000</td>\n",
       "      <td>0.000000</td>\n",
       "      <td>1.000000</td>\n",
       "      <td>0.000000</td>\n",
       "      <td>16687.000000</td>\n",
       "      <td>320.000000</td>\n",
       "      <td>50.000000</td>\n",
       "      <td>1800.000000</td>\n",
       "      <td>0.000000</td>\n",
       "      <td>35.000000</td>\n",
       "      <td>-1.000000</td>\n",
       "      <td>23.000000</td>\n",
       "    </tr>\n",
       "    <tr>\n",
       "      <th>50%</th>\n",
       "      <td>2091.500000</td>\n",
       "      <td>204607.500000</td>\n",
       "      <td>9.042769e+18</td>\n",
       "      <td>0.000000</td>\n",
       "      <td>1.410260e+07</td>\n",
       "      <td>1005.000000</td>\n",
       "      <td>0.000000</td>\n",
       "      <td>1.000000</td>\n",
       "      <td>0.000000</td>\n",
       "      <td>20312.000000</td>\n",
       "      <td>320.000000</td>\n",
       "      <td>50.000000</td>\n",
       "      <td>2314.000000</td>\n",
       "      <td>2.000000</td>\n",
       "      <td>39.000000</td>\n",
       "      <td>100053.500000</td>\n",
       "      <td>61.000000</td>\n",
       "    </tr>\n",
       "    <tr>\n",
       "      <th>75%</th>\n",
       "      <td>3137.250000</td>\n",
       "      <td>301481.250000</td>\n",
       "      <td>1.381808e+19</td>\n",
       "      <td>0.000000</td>\n",
       "      <td>1.410281e+07</td>\n",
       "      <td>1005.000000</td>\n",
       "      <td>1.000000</td>\n",
       "      <td>1.000000</td>\n",
       "      <td>0.000000</td>\n",
       "      <td>21893.000000</td>\n",
       "      <td>320.000000</td>\n",
       "      <td>50.000000</td>\n",
       "      <td>2526.000000</td>\n",
       "      <td>3.000000</td>\n",
       "      <td>169.000000</td>\n",
       "      <td>100084.750000</td>\n",
       "      <td>111.000000</td>\n",
       "    </tr>\n",
       "    <tr>\n",
       "      <th>max</th>\n",
       "      <td>4183.000000</td>\n",
       "      <td>404396.000000</td>\n",
       "      <td>1.844673e+19</td>\n",
       "      <td>1.000000</td>\n",
       "      <td>1.410302e+07</td>\n",
       "      <td>1012.000000</td>\n",
       "      <td>7.000000</td>\n",
       "      <td>5.000000</td>\n",
       "      <td>5.000000</td>\n",
       "      <td>24041.000000</td>\n",
       "      <td>728.000000</td>\n",
       "      <td>480.000000</td>\n",
       "      <td>2756.000000</td>\n",
       "      <td>3.000000</td>\n",
       "      <td>1839.000000</td>\n",
       "      <td>100248.000000</td>\n",
       "      <td>255.000000</td>\n",
       "    </tr>\n",
       "  </tbody>\n",
       "</table>\n",
       "</div>"
      ],
      "text/plain": [
       "        Unnamed: 0   Unnamed: 0.1            id        click          hour  \\\n",
       "count  4184.000000    4184.000000  4.184000e+03  4184.000000  4.184000e+03   \n",
       "mean   2091.500000  202351.664675  9.113168e+18     0.170172  1.410256e+07   \n",
       "std    1207.961092  116384.632429  5.389524e+18     0.375829  2.963423e+02   \n",
       "min       0.000000     236.000000  1.513211e+15     0.000000  1.410210e+07   \n",
       "25%    1045.750000   99768.500000  4.449284e+18     0.000000  1.410230e+07   \n",
       "50%    2091.500000  204607.500000  9.042769e+18     0.000000  1.410260e+07   \n",
       "75%    3137.250000  301481.250000  1.381808e+19     0.000000  1.410281e+07   \n",
       "max    4183.000000  404396.000000  1.844673e+19     1.000000  1.410302e+07   \n",
       "\n",
       "                C1   banner_pos  device_type  device_conn_type           C14  \\\n",
       "count  4184.000000  4184.000000  4184.000000       4184.000000   4184.000000   \n",
       "mean   1004.977533     0.283222     1.012189          0.331501  18728.379302   \n",
       "std       1.032567     0.489278     0.488054          0.856303   5058.361185   \n",
       "min    1002.000000     0.000000     0.000000          0.000000    375.000000   \n",
       "25%    1005.000000     0.000000     1.000000          0.000000  16687.000000   \n",
       "50%    1005.000000     0.000000     1.000000          0.000000  20312.000000   \n",
       "75%    1005.000000     1.000000     1.000000          0.000000  21893.000000   \n",
       "max    1012.000000     7.000000     5.000000          5.000000  24041.000000   \n",
       "\n",
       "               C15          C16          C17          C18          C19  \\\n",
       "count  4184.000000  4184.000000  4184.000000  4184.000000  4184.000000   \n",
       "mean    318.803059    60.868069  2100.065488     1.412285   229.095841   \n",
       "std      22.743031    48.729395   621.145767     1.324642   358.883751   \n",
       "min     216.000000    36.000000   112.000000     0.000000    33.000000   \n",
       "25%     320.000000    50.000000  1800.000000     0.000000    35.000000   \n",
       "50%     320.000000    50.000000  2314.000000     2.000000    39.000000   \n",
       "75%     320.000000    50.000000  2526.000000     3.000000   169.000000   \n",
       "max     728.000000   480.000000  2756.000000     3.000000  1839.000000   \n",
       "\n",
       "                 C20          C21  \n",
       "count    4184.000000  4184.000000  \n",
       "mean    53381.884082    84.231836  \n",
       "std     49952.289351    70.673532  \n",
       "min        -1.000000    13.000000  \n",
       "25%        -1.000000    23.000000  \n",
       "50%    100053.500000    61.000000  \n",
       "75%    100084.750000   111.000000  \n",
       "max    100248.000000   255.000000  "
      ]
     },
     "execution_count": 108,
     "metadata": {},
     "output_type": "execute_result"
    }
   ],
   "source": [
    "df.describe()"
   ]
  },
  {
   "cell_type": "code",
   "execution_count": 109,
   "metadata": {},
   "outputs": [],
   "source": [
    "# looks like clicks were normalized to 1. \n",
    "# What is 0.17 of a click, likely the probability of a click. 0 no click, 1 click"
   ]
  },
  {
   "cell_type": "code",
   "execution_count": 110,
   "metadata": {},
   "outputs": [
    {
     "data": {
      "text/plain": [
       "(4184, 26)"
      ]
     },
     "execution_count": 110,
     "metadata": {},
     "output_type": "execute_result"
    }
   ],
   "source": [
    "df.shape # this sample has 4,184 rows of data with 26 columns"
   ]
  },
  {
   "cell_type": "code",
   "execution_count": 111,
   "metadata": {},
   "outputs": [
    {
     "data": {
      "text/plain": [
       "Unnamed: 0           int64\n",
       "Unnamed: 0.1         int64\n",
       "id                  uint64\n",
       "click                int64\n",
       "hour                 int64\n",
       "C1                   int64\n",
       "banner_pos           int64\n",
       "site_id             object\n",
       "site_domain         object\n",
       "site_category       object\n",
       "app_id              object\n",
       "app_domain          object\n",
       "app_category        object\n",
       "device_id           object\n",
       "device_ip           object\n",
       "device_model        object\n",
       "device_type          int64\n",
       "device_conn_type     int64\n",
       "C14                  int64\n",
       "C15                  int64\n",
       "C16                  int64\n",
       "C17                  int64\n",
       "C18                  int64\n",
       "C19                  int64\n",
       "C20                  int64\n",
       "C21                  int64\n",
       "dtype: object"
      ]
     },
     "execution_count": 111,
     "metadata": {},
     "output_type": "execute_result"
    }
   ],
   "source": [
    "df.dtypes\n",
    "# avazu: \"all integer features are categorical variables, all IDs, no numerical meaning\""
   ]
  },
  {
   "cell_type": "code",
   "execution_count": 112,
   "metadata": {},
   "outputs": [],
   "source": [
    "# what do the columns mean?"
   ]
  },
  {
   "cell_type": "markdown",
   "metadata": {},
   "source": [
    " - id: ad identifier\n",
    " - click: 0/1 for non-click/click\n",
    " - hour: format is YYMMDDHH\n",
    " - C1 — anonymized categorical variable\n",
    " - banner_pos\n",
    " - site_id\n",
    " - site_domain\n",
    " - site_category\n",
    " - app_id\n",
    " - app_domain\n",
    " - app_category\n",
    " - device_id\n",
    " - device_ip\n",
    " - device_model\n",
    " - device_type\n",
    " - device_conn_type\n",
    " - C14-C21 — anonymized categorical variables"
   ]
  },
  {
   "cell_type": "code",
   "execution_count": 113,
   "metadata": {},
   "outputs": [
    {
     "name": "stdout",
     "output_type": "stream",
     "text": [
      "4184\n",
      "4184\n",
      "4184\n",
      "2\n",
      "240\n",
      "5\n",
      "5\n",
      "354\n",
      "292\n",
      "14\n",
      "244\n",
      "32\n",
      "14\n",
      "660\n",
      "3908\n",
      "871\n",
      "4\n",
      "4\n",
      "675\n",
      "4\n",
      "5\n",
      "279\n",
      "4\n",
      "59\n",
      "105\n",
      "54\n"
     ]
    }
   ],
   "source": [
    "# what are the range of unique values of each column\n",
    "for col in df.columns.values:\n",
    "    print( \"{}\".format(len(df[col].unique())))"
   ]
  },
  {
   "cell_type": "code",
   "execution_count": 114,
   "metadata": {},
   "outputs": [
    {
     "data": {
      "text/html": [
       "<div>\n",
       "<style scoped>\n",
       "    .dataframe tbody tr th:only-of-type {\n",
       "        vertical-align: middle;\n",
       "    }\n",
       "\n",
       "    .dataframe tbody tr th {\n",
       "        vertical-align: top;\n",
       "    }\n",
       "\n",
       "    .dataframe thead th {\n",
       "        text-align: right;\n",
       "    }\n",
       "</style>\n",
       "<table border=\"1\" class=\"dataframe\">\n",
       "  <thead>\n",
       "    <tr style=\"text-align: right;\">\n",
       "      <th></th>\n",
       "      <th>Unnamed: 0</th>\n",
       "      <th>Unnamed: 0.1</th>\n",
       "      <th>id</th>\n",
       "      <th>click</th>\n",
       "      <th>hour</th>\n",
       "      <th>C1</th>\n",
       "      <th>banner_pos</th>\n",
       "      <th>site_id</th>\n",
       "      <th>site_domain</th>\n",
       "      <th>site_category</th>\n",
       "      <th>...</th>\n",
       "      <th>device_type</th>\n",
       "      <th>device_conn_type</th>\n",
       "      <th>C14</th>\n",
       "      <th>C15</th>\n",
       "      <th>C16</th>\n",
       "      <th>C17</th>\n",
       "      <th>C18</th>\n",
       "      <th>C19</th>\n",
       "      <th>C20</th>\n",
       "      <th>C21</th>\n",
       "    </tr>\n",
       "  </thead>\n",
       "  <tbody>\n",
       "    <tr>\n",
       "      <th>1</th>\n",
       "      <td>1</td>\n",
       "      <td>259</td>\n",
       "      <td>13447361190641805430</td>\n",
       "      <td>0</td>\n",
       "      <td>14102100</td>\n",
       "      <td>1005</td>\n",
       "      <td>1</td>\n",
       "      <td>17caea14</td>\n",
       "      <td>0dde25ec</td>\n",
       "      <td>f028772b</td>\n",
       "      <td>...</td>\n",
       "      <td>1</td>\n",
       "      <td>0</td>\n",
       "      <td>19950</td>\n",
       "      <td>320</td>\n",
       "      <td>50</td>\n",
       "      <td>1800</td>\n",
       "      <td>3</td>\n",
       "      <td>167</td>\n",
       "      <td>100075</td>\n",
       "      <td>23</td>\n",
       "    </tr>\n",
       "  </tbody>\n",
       "</table>\n",
       "<p>1 rows × 26 columns</p>\n",
       "</div>"
      ],
      "text/plain": [
       "   Unnamed: 0  Unnamed: 0.1                    id  click      hour    C1  \\\n",
       "1           1           259  13447361190641805430      0  14102100  1005   \n",
       "\n",
       "   banner_pos   site_id site_domain site_category  ... device_type  \\\n",
       "1           1  17caea14    0dde25ec      f028772b  ...           1   \n",
       "\n",
       "  device_conn_type    C14  C15 C16   C17  C18  C19     C20  C21  \n",
       "1                0  19950  320  50  1800    3  167  100075   23  \n",
       "\n",
       "[1 rows x 26 columns]"
      ]
     },
     "execution_count": 114,
     "metadata": {},
     "output_type": "execute_result"
    }
   ],
   "source": [
    "# lets look at an individual user\n",
    "\n",
    "df[df.id == 13447361190641805430]"
   ]
  },
  {
   "cell_type": "markdown",
   "metadata": {},
   "source": [
    "# Questions of the data"
   ]
  },
  {
   "cell_type": "code",
   "execution_count": 115,
   "metadata": {},
   "outputs": [],
   "source": [
    "# At which time do people click ads most frequently?\n",
    "# where are most clicks coming from? \n",
    "# what nique correlations from any or all combinations of each column relate to click?\n",
    "# what correlations between seemingly unrelated columns (banner_pos and device type, etc.) exist?\n",
    "# how are banner_pos, device_type, device_conn_type encoded?"
   ]
  },
  {
   "cell_type": "markdown",
   "metadata": {},
   "source": [
    "# Data Preprocessing"
   ]
  },
  {
   "cell_type": "code",
   "execution_count": 116,
   "metadata": {},
   "outputs": [],
   "source": [
    "#  unnamed column are columns that are created when a dataframe is converted to a csv. \n",
    "# 'Unnamed: 0', 'Unnamed: 0.1' are row indexes which were tansposed into columns.\n",
    "df_new = df.drop(['Unnamed: 0', 'Unnamed: 0.1'], axis=1) "
   ]
  },
  {
   "cell_type": "code",
   "execution_count": 117,
   "metadata": {},
   "outputs": [
    {
     "data": {
      "text/plain": [
       "(4184, 24)"
      ]
     },
     "execution_count": 117,
     "metadata": {},
     "output_type": "execute_result"
    }
   ],
   "source": [
    "df_new.shape"
   ]
  },
  {
   "cell_type": "code",
   "execution_count": 118,
   "metadata": {},
   "outputs": [
    {
     "name": "stdout",
     "output_type": "stream",
     "text": [
      "id: 4184\n",
      "click: 2\n",
      "hour: 240\n",
      "C1: 5\n",
      "banner_pos: 5\n",
      "site_id: 354\n",
      "site_domain: 292\n",
      "site_category: 14\n",
      "app_id: 244\n",
      "app_domain: 32\n",
      "app_category: 14\n",
      "device_id: 660\n",
      "device_ip: 3908\n",
      "device_model: 871\n",
      "device_type: 4\n",
      "device_conn_type: 4\n",
      "C14: 675\n",
      "C15: 4\n",
      "C16: 5\n",
      "C17: 279\n",
      "C18: 4\n",
      "C19: 59\n",
      "C20: 105\n",
      "C21: 54\n"
     ]
    }
   ],
   "source": [
    "# how many unique values are in each col?\n",
    "\n",
    "for col in df_new.columns.values:\n",
    "    print(str(col)+ \": \" +  \"{}\".format(len(df_new[col].unique())) )\n",
    "    "
   ]
  },
  {
   "cell_type": "code",
   "execution_count": 119,
   "metadata": {
    "scrolled": true
   },
   "outputs": [
    {
     "data": {
      "text/plain": [
       "id                  0\n",
       "click               0\n",
       "hour                0\n",
       "C1                  0\n",
       "banner_pos          0\n",
       "site_id             0\n",
       "site_domain         0\n",
       "site_category       0\n",
       "app_id              0\n",
       "app_domain          0\n",
       "app_category        0\n",
       "device_id           0\n",
       "device_ip           0\n",
       "device_model        0\n",
       "device_type         0\n",
       "device_conn_type    0\n",
       "C14                 0\n",
       "C15                 0\n",
       "C16                 0\n",
       "C17                 0\n",
       "C18                 0\n",
       "C19                 0\n",
       "C20                 0\n",
       "C21                 0\n",
       "dtype: int64"
      ]
     },
     "execution_count": 119,
     "metadata": {},
     "output_type": "execute_result"
    }
   ],
   "source": [
    "# check for missing values\n",
    "\n",
    "df_new.isnull().sum()\n"
   ]
  },
  {
   "cell_type": "code",
   "execution_count": 120,
   "metadata": {},
   "outputs": [
    {
     "name": "stdout",
     "output_type": "stream",
     "text": [
      "id total: 4184\n",
      "click total: 2\n",
      "hour total: 240\n",
      "C1 total: 5\n",
      "banner_pos total: 5\n",
      "site_id total: 354\n",
      "site_domain total: 292\n",
      "site_category total: 14\n",
      "app_id total: 244\n",
      "app_domain total: 32\n",
      "app_category total: 14\n",
      "device_id total: 660\n",
      "device_ip total: 3908\n",
      "device_model total: 871\n",
      "device_type total: 4\n",
      "device_conn_type total: 4\n",
      "C14 total: 675\n",
      "C15 total: 4\n",
      "C16 total: 5\n",
      "C17 total: 279\n",
      "C18 total: 4\n",
      "C19 total: 59\n",
      "C20 total: 105\n",
      "C21 total: 54\n"
     ]
    }
   ],
   "source": [
    "# summed list of each column for df_new, looking for inconsistencies\n",
    "\n",
    "for col in df_new.columns.values:\n",
    "    total = len(df_new[col].unique())\n",
    "    print(str(col) + \" \" + \"total: \" + str(total))"
   ]
  },
  {
   "cell_type": "code",
   "execution_count": 121,
   "metadata": {},
   "outputs": [],
   "source": [
    "# tried writing an algo to check for erroneous, inconsistent spelling or abbreviations, formatting issues (e.g., odd/unexpected characters or punctuation)\n",
    "# couldn't work one out... moving on"
   ]
  },
  {
   "cell_type": "markdown",
   "metadata": {},
   "source": [
    "Each instance of a column are hashed values of an original ID.\n",
    "Hashing was done to anonymize the services contributing ad data to this dataset.\n",
    "For illustrative/descriptive purposes we will treat each hashed value as names or in other fictional contexts (e.g.,'7801e8d9' = 'www.overstock.com'). (Thank you Naomi!)"
   ]
  },
  {
   "cell_type": "markdown",
   "metadata": {},
   "source": [
    "# Feature Engineering\n",
    "## Hour & Date "
   ]
  },
  {
   "cell_type": "code",
   "execution_count": 122,
   "metadata": {},
   "outputs": [
    {
     "data": {
      "text/plain": [
       "dtype('int64')"
      ]
     },
     "execution_count": 122,
     "metadata": {},
     "output_type": "execute_result"
    }
   ],
   "source": [
    "# check hour column data type\n",
    "df_new.hour.dtype"
   ]
  },
  {
   "cell_type": "code",
   "execution_count": 123,
   "metadata": {},
   "outputs": [
    {
     "data": {
      "text/plain": [
       "0      2014-10-21 00:00:00\n",
       "1      2014-10-21 00:00:00\n",
       "2      2014-10-21 00:00:00\n",
       "3      2014-10-21 00:00:00\n",
       "4      2014-10-21 00:00:00\n",
       "5      2014-10-21 00:00:00\n",
       "6      2014-10-21 00:00:00\n",
       "7      2014-10-21 00:00:00\n",
       "8      2014-10-21 00:00:00\n",
       "9      2014-10-21 00:00:00\n",
       "10     2014-10-21 00:00:00\n",
       "11     2014-10-21 01:00:00\n",
       "12     2014-10-21 01:00:00\n",
       "13     2014-10-21 01:00:00\n",
       "14     2014-10-21 01:00:00\n",
       "15     2014-10-21 01:00:00\n",
       "16     2014-10-21 01:00:00\n",
       "17     2014-10-21 01:00:00\n",
       "18     2014-10-21 01:00:00\n",
       "19     2014-10-21 01:00:00\n",
       "20     2014-10-21 01:00:00\n",
       "21     2014-10-21 01:00:00\n",
       "22     2014-10-21 01:00:00\n",
       "23     2014-10-21 01:00:00\n",
       "24     2014-10-21 01:00:00\n",
       "25     2014-10-21 01:00:00\n",
       "26     2014-10-21 01:00:00\n",
       "27     2014-10-21 01:00:00\n",
       "28     2014-10-21 01:00:00\n",
       "29     2014-10-21 01:00:00\n",
       "               ...        \n",
       "4154   2014-10-30 20:00:00\n",
       "4155   2014-10-30 20:00:00\n",
       "4156   2014-10-30 21:00:00\n",
       "4157   2014-10-30 21:00:00\n",
       "4158   2014-10-30 21:00:00\n",
       "4159   2014-10-30 21:00:00\n",
       "4160   2014-10-30 21:00:00\n",
       "4161   2014-10-30 21:00:00\n",
       "4162   2014-10-30 21:00:00\n",
       "4163   2014-10-30 21:00:00\n",
       "4164   2014-10-30 21:00:00\n",
       "4165   2014-10-30 21:00:00\n",
       "4166   2014-10-30 22:00:00\n",
       "4167   2014-10-30 22:00:00\n",
       "4168   2014-10-30 22:00:00\n",
       "4169   2014-10-30 22:00:00\n",
       "4170   2014-10-30 23:00:00\n",
       "4171   2014-10-30 23:00:00\n",
       "4172   2014-10-30 23:00:00\n",
       "4173   2014-10-30 23:00:00\n",
       "4174   2014-10-30 23:00:00\n",
       "4175   2014-10-30 23:00:00\n",
       "4176   2014-10-30 23:00:00\n",
       "4177   2014-10-30 23:00:00\n",
       "4178   2014-10-30 23:00:00\n",
       "4179   2014-10-30 23:00:00\n",
       "4180   2014-10-30 23:00:00\n",
       "4181   2014-10-30 23:00:00\n",
       "4182   2014-10-30 23:00:00\n",
       "4183   2014-10-30 23:00:00\n",
       "Name: new_hour, Length: 4184, dtype: datetime64[ns]"
      ]
     },
     "execution_count": 123,
     "metadata": {},
     "output_type": "execute_result"
    }
   ],
   "source": [
    "# separate the date and time\n",
    "parse_date = lambda val : pd.datetime.strptime(val, '%y%m%d%H')\n",
    "df_new['new_hour'] = df_new.hour.astype(str).apply(parse_date)\n",
    "df_new['new_hour']"
   ]
  },
  {
   "cell_type": "code",
   "execution_count": 124,
   "metadata": {},
   "outputs": [
    {
     "data": {
      "text/html": [
       "<div>\n",
       "<style scoped>\n",
       "    .dataframe tbody tr th:only-of-type {\n",
       "        vertical-align: middle;\n",
       "    }\n",
       "\n",
       "    .dataframe tbody tr th {\n",
       "        vertical-align: top;\n",
       "    }\n",
       "\n",
       "    .dataframe thead th {\n",
       "        text-align: right;\n",
       "    }\n",
       "</style>\n",
       "<table border=\"1\" class=\"dataframe\">\n",
       "  <thead>\n",
       "    <tr style=\"text-align: right;\">\n",
       "      <th></th>\n",
       "      <th>id</th>\n",
       "      <th>click</th>\n",
       "      <th>hour</th>\n",
       "      <th>C1</th>\n",
       "      <th>banner_pos</th>\n",
       "      <th>site_id</th>\n",
       "      <th>site_domain</th>\n",
       "      <th>site_category</th>\n",
       "      <th>app_id</th>\n",
       "      <th>app_domain</th>\n",
       "      <th>...</th>\n",
       "      <th>device_conn_type</th>\n",
       "      <th>C14</th>\n",
       "      <th>C15</th>\n",
       "      <th>C16</th>\n",
       "      <th>C17</th>\n",
       "      <th>C18</th>\n",
       "      <th>C19</th>\n",
       "      <th>C20</th>\n",
       "      <th>C21</th>\n",
       "      <th>new_hour</th>\n",
       "    </tr>\n",
       "  </thead>\n",
       "  <tbody>\n",
       "    <tr>\n",
       "      <th>0</th>\n",
       "      <td>13120299559997056165</td>\n",
       "      <td>0</td>\n",
       "      <td>14102100</td>\n",
       "      <td>1005</td>\n",
       "      <td>0</td>\n",
       "      <td>543a539e</td>\n",
       "      <td>c7ca3108</td>\n",
       "      <td>3e814130</td>\n",
       "      <td>ecad2386</td>\n",
       "      <td>7801e8d9</td>\n",
       "      <td>...</td>\n",
       "      <td>0</td>\n",
       "      <td>20362</td>\n",
       "      <td>320</td>\n",
       "      <td>50</td>\n",
       "      <td>2333</td>\n",
       "      <td>0</td>\n",
       "      <td>39</td>\n",
       "      <td>-1</td>\n",
       "      <td>157</td>\n",
       "      <td>2014-10-21</td>\n",
       "    </tr>\n",
       "    <tr>\n",
       "      <th>1</th>\n",
       "      <td>13447361190641805430</td>\n",
       "      <td>0</td>\n",
       "      <td>14102100</td>\n",
       "      <td>1005</td>\n",
       "      <td>1</td>\n",
       "      <td>17caea14</td>\n",
       "      <td>0dde25ec</td>\n",
       "      <td>f028772b</td>\n",
       "      <td>ecad2386</td>\n",
       "      <td>7801e8d9</td>\n",
       "      <td>...</td>\n",
       "      <td>0</td>\n",
       "      <td>19950</td>\n",
       "      <td>320</td>\n",
       "      <td>50</td>\n",
       "      <td>1800</td>\n",
       "      <td>3</td>\n",
       "      <td>167</td>\n",
       "      <td>100075</td>\n",
       "      <td>23</td>\n",
       "      <td>2014-10-21</td>\n",
       "    </tr>\n",
       "    <tr>\n",
       "      <th>2</th>\n",
       "      <td>14758321504714974000</td>\n",
       "      <td>0</td>\n",
       "      <td>14102100</td>\n",
       "      <td>1005</td>\n",
       "      <td>0</td>\n",
       "      <td>85f751fd</td>\n",
       "      <td>c4e18dd6</td>\n",
       "      <td>50e219e0</td>\n",
       "      <td>febd1138</td>\n",
       "      <td>82e27996</td>\n",
       "      <td>...</td>\n",
       "      <td>0</td>\n",
       "      <td>19743</td>\n",
       "      <td>320</td>\n",
       "      <td>50</td>\n",
       "      <td>2264</td>\n",
       "      <td>3</td>\n",
       "      <td>427</td>\n",
       "      <td>100000</td>\n",
       "      <td>61</td>\n",
       "      <td>2014-10-21</td>\n",
       "    </tr>\n",
       "  </tbody>\n",
       "</table>\n",
       "<p>3 rows × 25 columns</p>\n",
       "</div>"
      ],
      "text/plain": [
       "                     id  click      hour    C1  banner_pos   site_id  \\\n",
       "0  13120299559997056165      0  14102100  1005           0  543a539e   \n",
       "1  13447361190641805430      0  14102100  1005           1  17caea14   \n",
       "2  14758321504714974000      0  14102100  1005           0  85f751fd   \n",
       "\n",
       "  site_domain site_category    app_id app_domain  ... device_conn_type    C14  \\\n",
       "0    c7ca3108      3e814130  ecad2386   7801e8d9  ...                0  20362   \n",
       "1    0dde25ec      f028772b  ecad2386   7801e8d9  ...                0  19950   \n",
       "2    c4e18dd6      50e219e0  febd1138   82e27996  ...                0  19743   \n",
       "\n",
       "   C15 C16   C17  C18  C19     C20  C21   new_hour  \n",
       "0  320  50  2333    0   39      -1  157 2014-10-21  \n",
       "1  320  50  1800    3  167  100075   23 2014-10-21  \n",
       "2  320  50  2264    3  427  100000   61 2014-10-21  \n",
       "\n",
       "[3 rows x 25 columns]"
      ]
     },
     "execution_count": 124,
     "metadata": {},
     "output_type": "execute_result"
    }
   ],
   "source": [
    "# check if column 'new_hour' was created and parsed to string\n",
    "df_new.head(3)"
   ]
  },
  {
   "cell_type": "code",
   "execution_count": 125,
   "metadata": {},
   "outputs": [
    {
     "data": {
      "text/plain": [
       "dtype('<M8[ns]')"
      ]
     },
     "execution_count": 125,
     "metadata": {},
     "output_type": "execute_result"
    }
   ],
   "source": [
    "#confirm dtype of new_hour\n",
    "df_new.new_hour.dtype"
   ]
  },
  {
   "cell_type": "code",
   "execution_count": 126,
   "metadata": {},
   "outputs": [],
   "source": [
    "# create new_date & new_time columns from parsed new_hour column\n",
    "df_new['date'] = [d.date() for d in df_new['new_hour']]\n",
    "df_new['time'] = [d.time() for d in df_new['new_hour']]"
   ]
  },
  {
   "cell_type": "code",
   "execution_count": 127,
   "metadata": {},
   "outputs": [
    {
     "data": {
      "text/html": [
       "<div>\n",
       "<style scoped>\n",
       "    .dataframe tbody tr th:only-of-type {\n",
       "        vertical-align: middle;\n",
       "    }\n",
       "\n",
       "    .dataframe tbody tr th {\n",
       "        vertical-align: top;\n",
       "    }\n",
       "\n",
       "    .dataframe thead th {\n",
       "        text-align: right;\n",
       "    }\n",
       "</style>\n",
       "<table border=\"1\" class=\"dataframe\">\n",
       "  <thead>\n",
       "    <tr style=\"text-align: right;\">\n",
       "      <th></th>\n",
       "      <th>id</th>\n",
       "      <th>click</th>\n",
       "      <th>hour</th>\n",
       "      <th>C1</th>\n",
       "      <th>banner_pos</th>\n",
       "      <th>site_id</th>\n",
       "      <th>site_domain</th>\n",
       "      <th>site_category</th>\n",
       "      <th>app_id</th>\n",
       "      <th>app_domain</th>\n",
       "      <th>...</th>\n",
       "      <th>C15</th>\n",
       "      <th>C16</th>\n",
       "      <th>C17</th>\n",
       "      <th>C18</th>\n",
       "      <th>C19</th>\n",
       "      <th>C20</th>\n",
       "      <th>C21</th>\n",
       "      <th>new_hour</th>\n",
       "      <th>date</th>\n",
       "      <th>time</th>\n",
       "    </tr>\n",
       "  </thead>\n",
       "  <tbody>\n",
       "    <tr>\n",
       "      <th>0</th>\n",
       "      <td>13120299559997056165</td>\n",
       "      <td>0</td>\n",
       "      <td>14102100</td>\n",
       "      <td>1005</td>\n",
       "      <td>0</td>\n",
       "      <td>543a539e</td>\n",
       "      <td>c7ca3108</td>\n",
       "      <td>3e814130</td>\n",
       "      <td>ecad2386</td>\n",
       "      <td>7801e8d9</td>\n",
       "      <td>...</td>\n",
       "      <td>320</td>\n",
       "      <td>50</td>\n",
       "      <td>2333</td>\n",
       "      <td>0</td>\n",
       "      <td>39</td>\n",
       "      <td>-1</td>\n",
       "      <td>157</td>\n",
       "      <td>2014-10-21</td>\n",
       "      <td>2014-10-21</td>\n",
       "      <td>00:00:00</td>\n",
       "    </tr>\n",
       "    <tr>\n",
       "      <th>1</th>\n",
       "      <td>13447361190641805430</td>\n",
       "      <td>0</td>\n",
       "      <td>14102100</td>\n",
       "      <td>1005</td>\n",
       "      <td>1</td>\n",
       "      <td>17caea14</td>\n",
       "      <td>0dde25ec</td>\n",
       "      <td>f028772b</td>\n",
       "      <td>ecad2386</td>\n",
       "      <td>7801e8d9</td>\n",
       "      <td>...</td>\n",
       "      <td>320</td>\n",
       "      <td>50</td>\n",
       "      <td>1800</td>\n",
       "      <td>3</td>\n",
       "      <td>167</td>\n",
       "      <td>100075</td>\n",
       "      <td>23</td>\n",
       "      <td>2014-10-21</td>\n",
       "      <td>2014-10-21</td>\n",
       "      <td>00:00:00</td>\n",
       "    </tr>\n",
       "    <tr>\n",
       "      <th>2</th>\n",
       "      <td>14758321504714974000</td>\n",
       "      <td>0</td>\n",
       "      <td>14102100</td>\n",
       "      <td>1005</td>\n",
       "      <td>0</td>\n",
       "      <td>85f751fd</td>\n",
       "      <td>c4e18dd6</td>\n",
       "      <td>50e219e0</td>\n",
       "      <td>febd1138</td>\n",
       "      <td>82e27996</td>\n",
       "      <td>...</td>\n",
       "      <td>320</td>\n",
       "      <td>50</td>\n",
       "      <td>2264</td>\n",
       "      <td>3</td>\n",
       "      <td>427</td>\n",
       "      <td>100000</td>\n",
       "      <td>61</td>\n",
       "      <td>2014-10-21</td>\n",
       "      <td>2014-10-21</td>\n",
       "      <td>00:00:00</td>\n",
       "    </tr>\n",
       "  </tbody>\n",
       "</table>\n",
       "<p>3 rows × 27 columns</p>\n",
       "</div>"
      ],
      "text/plain": [
       "                     id  click      hour    C1  banner_pos   site_id  \\\n",
       "0  13120299559997056165      0  14102100  1005           0  543a539e   \n",
       "1  13447361190641805430      0  14102100  1005           1  17caea14   \n",
       "2  14758321504714974000      0  14102100  1005           0  85f751fd   \n",
       "\n",
       "  site_domain site_category    app_id app_domain  ...  C15 C16   C17 C18  C19  \\\n",
       "0    c7ca3108      3e814130  ecad2386   7801e8d9  ...  320  50  2333   0   39   \n",
       "1    0dde25ec      f028772b  ecad2386   7801e8d9  ...  320  50  1800   3  167   \n",
       "2    c4e18dd6      50e219e0  febd1138   82e27996  ...  320  50  2264   3  427   \n",
       "\n",
       "      C20  C21   new_hour        date      time  \n",
       "0      -1  157 2014-10-21  2014-10-21  00:00:00  \n",
       "1  100075   23 2014-10-21  2014-10-21  00:00:00  \n",
       "2  100000   61 2014-10-21  2014-10-21  00:00:00  \n",
       "\n",
       "[3 rows x 27 columns]"
      ]
     },
     "execution_count": 127,
     "metadata": {},
     "output_type": "execute_result"
    }
   ],
   "source": [
    "#check if columns were established properly\n",
    "df_new.head(3)"
   ]
  },
  {
   "cell_type": "code",
   "execution_count": 128,
   "metadata": {},
   "outputs": [
    {
     "data": {
      "text/plain": [
       "id                          uint64\n",
       "click                        int64\n",
       "hour                         int64\n",
       "C1                           int64\n",
       "banner_pos                   int64\n",
       "site_id                     object\n",
       "site_domain                 object\n",
       "site_category               object\n",
       "app_id                      object\n",
       "app_domain                  object\n",
       "app_category                object\n",
       "device_id                   object\n",
       "device_ip                   object\n",
       "device_model                object\n",
       "device_type                  int64\n",
       "device_conn_type             int64\n",
       "C14                          int64\n",
       "C15                          int64\n",
       "C16                          int64\n",
       "C17                          int64\n",
       "C18                          int64\n",
       "C19                          int64\n",
       "C20                          int64\n",
       "C21                          int64\n",
       "new_hour            datetime64[ns]\n",
       "date                        object\n",
       "time                        object\n",
       "dtype: object"
      ]
     },
     "execution_count": 128,
     "metadata": {},
     "output_type": "execute_result"
    }
   ],
   "source": [
    "df_new.dtypes"
   ]
  },
  {
   "cell_type": "code",
   "execution_count": 129,
   "metadata": {},
   "outputs": [],
   "source": [
    "# drop redundant cols\n",
    "df_tmp = df_new.drop(['new_hour', 'hour'], axis=1)"
   ]
  },
  {
   "cell_type": "code",
   "execution_count": 130,
   "metadata": {},
   "outputs": [
    {
     "data": {
      "text/html": [
       "<div>\n",
       "<style scoped>\n",
       "    .dataframe tbody tr th:only-of-type {\n",
       "        vertical-align: middle;\n",
       "    }\n",
       "\n",
       "    .dataframe tbody tr th {\n",
       "        vertical-align: top;\n",
       "    }\n",
       "\n",
       "    .dataframe thead th {\n",
       "        text-align: right;\n",
       "    }\n",
       "</style>\n",
       "<table border=\"1\" class=\"dataframe\">\n",
       "  <thead>\n",
       "    <tr style=\"text-align: right;\">\n",
       "      <th></th>\n",
       "      <th>id</th>\n",
       "      <th>click</th>\n",
       "      <th>C1</th>\n",
       "      <th>banner_pos</th>\n",
       "      <th>site_id</th>\n",
       "      <th>site_domain</th>\n",
       "      <th>site_category</th>\n",
       "      <th>app_id</th>\n",
       "      <th>app_domain</th>\n",
       "      <th>app_category</th>\n",
       "      <th>...</th>\n",
       "      <th>C14</th>\n",
       "      <th>C15</th>\n",
       "      <th>C16</th>\n",
       "      <th>C17</th>\n",
       "      <th>C18</th>\n",
       "      <th>C19</th>\n",
       "      <th>C20</th>\n",
       "      <th>C21</th>\n",
       "      <th>date</th>\n",
       "      <th>time</th>\n",
       "    </tr>\n",
       "  </thead>\n",
       "  <tbody>\n",
       "    <tr>\n",
       "      <th>0</th>\n",
       "      <td>13120299559997056165</td>\n",
       "      <td>0</td>\n",
       "      <td>1005</td>\n",
       "      <td>0</td>\n",
       "      <td>543a539e</td>\n",
       "      <td>c7ca3108</td>\n",
       "      <td>3e814130</td>\n",
       "      <td>ecad2386</td>\n",
       "      <td>7801e8d9</td>\n",
       "      <td>07d7df22</td>\n",
       "      <td>...</td>\n",
       "      <td>20362</td>\n",
       "      <td>320</td>\n",
       "      <td>50</td>\n",
       "      <td>2333</td>\n",
       "      <td>0</td>\n",
       "      <td>39</td>\n",
       "      <td>-1</td>\n",
       "      <td>157</td>\n",
       "      <td>2014-10-21</td>\n",
       "      <td>00:00:00</td>\n",
       "    </tr>\n",
       "    <tr>\n",
       "      <th>1</th>\n",
       "      <td>13447361190641805430</td>\n",
       "      <td>0</td>\n",
       "      <td>1005</td>\n",
       "      <td>1</td>\n",
       "      <td>17caea14</td>\n",
       "      <td>0dde25ec</td>\n",
       "      <td>f028772b</td>\n",
       "      <td>ecad2386</td>\n",
       "      <td>7801e8d9</td>\n",
       "      <td>07d7df22</td>\n",
       "      <td>...</td>\n",
       "      <td>19950</td>\n",
       "      <td>320</td>\n",
       "      <td>50</td>\n",
       "      <td>1800</td>\n",
       "      <td>3</td>\n",
       "      <td>167</td>\n",
       "      <td>100075</td>\n",
       "      <td>23</td>\n",
       "      <td>2014-10-21</td>\n",
       "      <td>00:00:00</td>\n",
       "    </tr>\n",
       "  </tbody>\n",
       "</table>\n",
       "<p>2 rows × 25 columns</p>\n",
       "</div>"
      ],
      "text/plain": [
       "                     id  click    C1  banner_pos   site_id site_domain  \\\n",
       "0  13120299559997056165      0  1005           0  543a539e    c7ca3108   \n",
       "1  13447361190641805430      0  1005           1  17caea14    0dde25ec   \n",
       "\n",
       "  site_category    app_id app_domain app_category  ...    C14  C15 C16   C17  \\\n",
       "0      3e814130  ecad2386   7801e8d9     07d7df22  ...  20362  320  50  2333   \n",
       "1      f028772b  ecad2386   7801e8d9     07d7df22  ...  19950  320  50  1800   \n",
       "\n",
       "   C18  C19     C20  C21        date      time  \n",
       "0    0   39      -1  157  2014-10-21  00:00:00  \n",
       "1    3  167  100075   23  2014-10-21  00:00:00  \n",
       "\n",
       "[2 rows x 25 columns]"
      ]
     },
     "execution_count": 130,
     "metadata": {},
     "output_type": "execute_result"
    }
   ],
   "source": [
    "df_tmp.head(2)"
   ]
  },
  {
   "cell_type": "code",
   "execution_count": 133,
   "metadata": {},
   "outputs": [
    {
     "data": {
      "text/html": [
       "<div>\n",
       "<style scoped>\n",
       "    .dataframe tbody tr th:only-of-type {\n",
       "        vertical-align: middle;\n",
       "    }\n",
       "\n",
       "    .dataframe tbody tr th {\n",
       "        vertical-align: top;\n",
       "    }\n",
       "\n",
       "    .dataframe thead th {\n",
       "        text-align: right;\n",
       "    }\n",
       "</style>\n",
       "<table border=\"1\" class=\"dataframe\">\n",
       "  <thead>\n",
       "    <tr style=\"text-align: right;\">\n",
       "      <th></th>\n",
       "      <th>id</th>\n",
       "      <th>click</th>\n",
       "      <th>C1</th>\n",
       "      <th>banner_pos</th>\n",
       "      <th>site_id</th>\n",
       "      <th>site_domain</th>\n",
       "      <th>site_category</th>\n",
       "      <th>app_id</th>\n",
       "      <th>app_domain</th>\n",
       "      <th>app_category</th>\n",
       "      <th>...</th>\n",
       "      <th>C14</th>\n",
       "      <th>C15</th>\n",
       "      <th>C16</th>\n",
       "      <th>C17</th>\n",
       "      <th>C18</th>\n",
       "      <th>C19</th>\n",
       "      <th>C20</th>\n",
       "      <th>C21</th>\n",
       "      <th>date</th>\n",
       "      <th>time</th>\n",
       "    </tr>\n",
       "  </thead>\n",
       "  <tbody>\n",
       "    <tr>\n",
       "      <th>0</th>\n",
       "      <td>13120299559997056165</td>\n",
       "      <td>0</td>\n",
       "      <td>1005</td>\n",
       "      <td>0</td>\n",
       "      <td>543a539e</td>\n",
       "      <td>c7ca3108</td>\n",
       "      <td>3e814130</td>\n",
       "      <td>ecad2386</td>\n",
       "      <td>7801e8d9</td>\n",
       "      <td>07d7df22</td>\n",
       "      <td>...</td>\n",
       "      <td>20362</td>\n",
       "      <td>320</td>\n",
       "      <td>50</td>\n",
       "      <td>2333</td>\n",
       "      <td>0</td>\n",
       "      <td>39</td>\n",
       "      <td>-1</td>\n",
       "      <td>157</td>\n",
       "      <td>2014-10-21</td>\n",
       "      <td>00:00:00</td>\n",
       "    </tr>\n",
       "    <tr>\n",
       "      <th>1</th>\n",
       "      <td>13447361190641805430</td>\n",
       "      <td>0</td>\n",
       "      <td>1005</td>\n",
       "      <td>1</td>\n",
       "      <td>17caea14</td>\n",
       "      <td>0dde25ec</td>\n",
       "      <td>f028772b</td>\n",
       "      <td>ecad2386</td>\n",
       "      <td>7801e8d9</td>\n",
       "      <td>07d7df22</td>\n",
       "      <td>...</td>\n",
       "      <td>19950</td>\n",
       "      <td>320</td>\n",
       "      <td>50</td>\n",
       "      <td>1800</td>\n",
       "      <td>3</td>\n",
       "      <td>167</td>\n",
       "      <td>100075</td>\n",
       "      <td>23</td>\n",
       "      <td>2014-10-21</td>\n",
       "      <td>00:00:00</td>\n",
       "    </tr>\n",
       "  </tbody>\n",
       "</table>\n",
       "<p>2 rows × 25 columns</p>\n",
       "</div>"
      ],
      "text/plain": [
       "                     id  click    C1  banner_pos   site_id site_domain  \\\n",
       "0  13120299559997056165      0  1005           0  543a539e    c7ca3108   \n",
       "1  13447361190641805430      0  1005           1  17caea14    0dde25ec   \n",
       "\n",
       "  site_category    app_id app_domain app_category  ...    C14  C15 C16   C17  \\\n",
       "0      3e814130  ecad2386   7801e8d9     07d7df22  ...  20362  320  50  2333   \n",
       "1      f028772b  ecad2386   7801e8d9     07d7df22  ...  19950  320  50  1800   \n",
       "\n",
       "   C18  C19     C20  C21        date      time  \n",
       "0    0   39      -1  157  2014-10-21  00:00:00  \n",
       "1    3  167  100075   23  2014-10-21  00:00:00  \n",
       "\n",
       "[2 rows x 25 columns]"
      ]
     },
     "execution_count": 133,
     "metadata": {},
     "output_type": "execute_result"
    }
   ],
   "source": [
    "df_tmp.head(2)"
   ]
  },
  {
   "cell_type": "code",
   "execution_count": 134,
   "metadata": {},
   "outputs": [
    {
     "name": "stdout",
     "output_type": "stream",
     "text": [
      "id total: 4184\n",
      "click total: 2\n",
      "C1 total: 5\n",
      "banner_pos total: 5\n",
      "site_id total: 354\n",
      "site_domain total: 292\n",
      "site_category total: 14\n",
      "app_id total: 244\n",
      "app_domain total: 32\n",
      "app_category total: 14\n",
      "device_id total: 660\n",
      "device_ip total: 3908\n",
      "device_model total: 871\n",
      "device_type total: 4\n",
      "device_conn_type total: 4\n",
      "C14 total: 675\n",
      "C15 total: 4\n",
      "C16 total: 5\n",
      "C17 total: 279\n",
      "C18 total: 4\n",
      "C19 total: 59\n",
      "C20 total: 105\n",
      "C21 total: 54\n",
      "date total: 10\n",
      "time total: 24\n"
     ]
    }
   ],
   "source": [
    "# sannity check of summed columns for unique vals\n",
    "\n",
    "for col in df_tmp.columns.values:\n",
    "    total = len(df_tmp[col].unique())\n",
    "    print(str(col) + \" \" + \"total: \" + str(total))"
   ]
  },
  {
   "cell_type": "code",
   "execution_count": 135,
   "metadata": {},
   "outputs": [],
   "source": [
    "# save to csv to back up work\n",
    "df_new.to_csv(\"rf_date_time_sample.csv\")"
   ]
  },
  {
   "cell_type": "markdown",
   "metadata": {},
   "source": [
    "# Features"
   ]
  },
  {
   "cell_type": "markdown",
   "metadata": {},
   "source": [
    " - Target feature : click\n",
    " - Site features : site_id, site_domain, site_category\n",
    " - App feature: app_id, app_domain, app_category\n",
    " - Device feature: device_id, device_ip, device_model, device_type, device_conn_type\n",
    " - Anonymized categorical features: C14-C21"
   ]
  },
  {
   "cell_type": "markdown",
   "metadata": {},
   "source": [
    "# Clicks"
   ]
  },
  {
   "cell_type": "code",
   "execution_count": 137,
   "metadata": {},
   "outputs": [
    {
     "data": {
      "text/plain": [
       "0    0.829828\n",
       "1    0.170172\n",
       "Name: click, dtype: float64"
      ]
     },
     "execution_count": 137,
     "metadata": {},
     "output_type": "execute_result"
    }
   ],
   "source": [
    "#see what percentage of people click and what percentage of people do not click\n",
    "# click = 17%, no click = 83%\n",
    "df_tmp['click'].value_counts()/4184"
   ]
  },
  {
   "cell_type": "code",
   "execution_count": 138,
   "metadata": {},
   "outputs": [
    {
     "name": "stdout",
     "output_type": "stream",
     "text": [
      "2014-10-21 2014-10-30\n"
     ]
    }
   ],
   "source": [
    "#Find the start and end date of the dataset\n",
    "print(df_tmp['date'].min(), df_tmp['date'].max())"
   ]
  },
  {
   "cell_type": "markdown",
   "metadata": {},
   "source": [
    "Our dataset ranges from 10/21/2014 to 10/30/2014. It spans a total of 10 days."
   ]
  },
  {
   "cell_type": "markdown",
   "metadata": {},
   "source": [
    "# Data Visualization"
   ]
  },
  {
   "cell_type": "markdown",
   "metadata": {},
   "source": [
    "### Click viz\n",
    "0 = no click, 1 = click"
   ]
  },
  {
   "cell_type": "code",
   "execution_count": 145,
   "metadata": {},
   "outputs": [
    {
     "data": {
      "image/png": "[encoded data removed]",
      "text/plain": [
       "<Figure size 432x288 with 1 Axes>"
      ]
     },
     "metadata": {},
     "output_type": "display_data"
    }
   ],
   "source": [
    "import seaborn as sns\n",
    "import matplotlib.pyplot as plt\n",
    "\n",
    "sns.countplot(x='click',data=df_tmp, palette='hls')\n",
    "plt.show();"
   ]
  },
  {
   "cell_type": "code",
   "execution_count": 151,
   "metadata": {},
   "outputs": [
    {
     "data": {
      "text/plain": [
       "Text(0.5, 1.0, 'Click by Date and Time (UTC)')"
      ]
     },
     "execution_count": 151,
     "metadata": {},
     "output_type": "execute_result"
    },
    {
     "data": {
      "image/png": "[encoded data removed]",
      "text/plain": [
       "<Figure size 864x432 with 1 Axes>"
      ]
     },
     "metadata": {},
     "output_type": "display_data"
    }
   ],
   "source": [
    "# make groups of summed clicks by date\n",
    "df_tmp.groupby(['date']).agg({'click': 'sum'}).plot(figsize=(12,6))\n",
    "plt.ylabel('Number of Clicks')\n",
    "plt.title('Clicks by Date')\n"
   ]
  },
  {
   "cell_type": "markdown",
   "metadata": {},
   "source": [
    "High click rate on Oct. 22nd and OCt. 28\n",
    "Low click rate on Oct. 24 with lowest rate on Oct. 29"
   ]
  },
  {
   "cell_type": "code",
   "execution_count": null,
   "metadata": {},
   "outputs": [],
   "source": []
  }
 ],
 "metadata": {
  "kernelspec": {
   "display_name": "Python 3",
   "language": "python",
   "name": "python3"
  },
  "language_info": {
   "codemirror_mode": {
    "name": "ipython",
    "version": 3
   },
   "file_extension": ".py",
   "mimetype": "text/x-python",
   "name": "python",
   "nbconvert_exporter": "python",
   "pygments_lexer": "ipython3",
   "version": "3.5.3"
  }
 },
 "nbformat": 4,
 "nbformat_minor": 2
}
