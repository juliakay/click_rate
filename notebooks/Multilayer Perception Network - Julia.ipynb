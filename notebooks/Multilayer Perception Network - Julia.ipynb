{
 "cells": [
  {
   "cell_type": "markdown",
   "metadata": {},
   "source": [
    "# Avazu - Click-Through Rate Prediction"
   ]
  },
  {
   "cell_type": "markdown",
   "metadata": {},
   "source": [
    "Julia Kang - jkang613@gmail.com - AMLI 2019 - Mills College"
   ]
  },
  {
   "cell_type": "code",
   "execution_count": 1,
   "metadata": {},
   "outputs": [
    {
     "name": "stderr",
     "output_type": "stream",
     "text": [
      "/anaconda3/lib/python3.6/site-packages/sklearn/ensemble/weight_boosting.py:29: DeprecationWarning: numpy.core.umath_tests is an internal NumPy module and should not be imported. It will be removed in a future NumPy release.\n",
      "  from numpy.core.umath_tests import inner1d\n",
      "/anaconda3/lib/python3.6/site-packages/h5py/__init__.py:36: FutureWarning: Conversion of the second argument of issubdtype from `float` to `np.floating` is deprecated. In future, it will be treated as `np.float64 == np.dtype(float).type`.\n",
      "  from ._conv import register_converters as _register_converters\n"
     ]
    }
   ],
   "source": [
    "import pandas as pd\n",
    "import numpy as np\n",
    "import matplotlib.pyplot as plt\n",
    "from sklearn.model_selection import train_test_split\n",
    "from sklearn import linear_model\n",
    "# from sklearn import model_selection\n",
    "from sklearn.linear_model import LogisticRegression\n",
    "from sklearn import metrics\n",
    "from sklearn.ensemble import RandomForestClassifier\n",
    "from math import sqrt #for RMSE\n",
    "  \n",
    "import tensorflow as tf \n",
    "from tensorflow.feature_column import numeric_column,categorical_column_with_hash_bucket,categorical_column_with_vocabulary_list\n",
    "from tensorflow.estimator import LinearClassifier\n",
    "from tensorflow import keras\n",
    "from tensorflow.data import Dataset"
   ]
  },
  {
   "cell_type": "markdown",
   "metadata": {},
   "source": [
    "## Model: Multilayer Perception Neural Network"
   ]
  },
  {
   "cell_type": "code",
   "execution_count": 1,
   "metadata": {},
   "outputs": [
    {
     "ename": "NameError",
     "evalue": "name 'pd' is not defined",
     "output_type": "error",
     "traceback": [
      "\u001b[0;31m---------------------------------------------------------------------------\u001b[0m",
      "\u001b[0;31mNameError\u001b[0m                                 Traceback (most recent call last)",
      "\u001b[0;32m<ipython-input-1-cb1956a3e8b6>\u001b[0m in \u001b[0;36m<module>\u001b[0;34m\u001b[0m\n\u001b[1;32m      1\u001b[0m \u001b[0;31m# raw_df = pd.read_csv('numeric_rand_sample.csv')\u001b[0m\u001b[0;34m\u001b[0m\u001b[0;34m\u001b[0m\u001b[0;34m\u001b[0m\u001b[0m\n\u001b[0;32m----> 2\u001b[0;31m \u001b[0mraw_df\u001b[0m \u001b[0;34m=\u001b[0m \u001b[0mpd\u001b[0m\u001b[0;34m.\u001b[0m\u001b[0mread_csv\u001b[0m\u001b[0;34m(\u001b[0m\u001b[0;34m'numeric_rand_sample.csv'\u001b[0m\u001b[0;34m)\u001b[0m\u001b[0;34m\u001b[0m\u001b[0;34m\u001b[0m\u001b[0m\n\u001b[0m\u001b[1;32m      3\u001b[0m \u001b[0mraw_df\u001b[0m \u001b[0;34m=\u001b[0m \u001b[0mraw_df\u001b[0m\u001b[0;34m.\u001b[0m\u001b[0mdrop\u001b[0m\u001b[0;34m(\u001b[0m\u001b[0;34m'Unnamed: 0'\u001b[0m\u001b[0;34m,\u001b[0m \u001b[0maxis\u001b[0m \u001b[0;34m=\u001b[0m \u001b[0;36m1\u001b[0m\u001b[0;34m)\u001b[0m\u001b[0;34m\u001b[0m\u001b[0;34m\u001b[0m\u001b[0m\n\u001b[1;32m      4\u001b[0m \u001b[0;34m\u001b[0m\u001b[0m\n\u001b[1;32m      5\u001b[0m \u001b[0mraw_df\u001b[0m\u001b[0;34m.\u001b[0m\u001b[0mhead\u001b[0m\u001b[0;34m(\u001b[0m\u001b[0;34m)\u001b[0m \u001b[0;31m#ad id is unique to each row\u001b[0m\u001b[0;34m\u001b[0m\u001b[0;34m\u001b[0m\u001b[0m\n",
      "\u001b[0;31mNameError\u001b[0m: name 'pd' is not defined"
     ]
    }
   ],
   "source": [
    "# raw_df = pd.read_csv('numeric_rand_sample.csv')\n",
    "raw_df = pd.read_csv('numeric_rand_sample.csv')\n",
    "raw_df = raw_df.drop('Unnamed: 0', axis = 1) \n",
    "\n",
    "raw_df.head() #ad id is unique to each row\n",
    "# len(sub_df)"
   ]
  },
  {
   "cell_type": "code",
   "execution_count": 14,
   "metadata": {},
   "outputs": [],
   "source": [
    "FEATURES = []\n",
    "\n",
    "for col in raw_df.columns:\n",
    "    if np.issubdtype(raw_df[col].dtypes , np.number):\n",
    "        FEATURES.append(col)\n",
    "FEATURES.remove('click')\n",
    "TARGET = 'click'"
   ]
  },
  {
   "cell_type": "code",
   "execution_count": 15,
   "metadata": {},
   "outputs": [
    {
     "data": {
      "text/html": [
       "<div>\n",
       "<style scoped>\n",
       "    .dataframe tbody tr th:only-of-type {\n",
       "        vertical-align: middle;\n",
       "    }\n",
       "\n",
       "    .dataframe tbody tr th {\n",
       "        vertical-align: top;\n",
       "    }\n",
       "\n",
       "    .dataframe thead th {\n",
       "        text-align: right;\n",
       "    }\n",
       "</style>\n",
       "<table border=\"1\" class=\"dataframe\">\n",
       "  <thead>\n",
       "    <tr style=\"text-align: right;\">\n",
       "      <th></th>\n",
       "      <th>click</th>\n",
       "      <th>C1</th>\n",
       "      <th>banner_pos</th>\n",
       "      <th>site_id</th>\n",
       "      <th>site_domain</th>\n",
       "      <th>site_category</th>\n",
       "      <th>app_id</th>\n",
       "      <th>app_domain</th>\n",
       "      <th>app_category</th>\n",
       "      <th>device_id</th>\n",
       "      <th>...</th>\n",
       "      <th>time</th>\n",
       "      <th>device_type_a</th>\n",
       "      <th>device_type_b</th>\n",
       "      <th>device_type_c</th>\n",
       "      <th>device_type_d</th>\n",
       "      <th>device_type_e</th>\n",
       "      <th>device_conn_type_a</th>\n",
       "      <th>device_conn_type_b</th>\n",
       "      <th>device_conn_type_c</th>\n",
       "      <th>device_conn_type_d</th>\n",
       "    </tr>\n",
       "  </thead>\n",
       "  <tbody>\n",
       "    <tr>\n",
       "      <th>242327</th>\n",
       "      <td>0</td>\n",
       "      <td>1005</td>\n",
       "      <td>0</td>\n",
       "      <td>1145</td>\n",
       "      <td>1680</td>\n",
       "      <td>5</td>\n",
       "      <td>2294</td>\n",
       "      <td>75</td>\n",
       "      <td>3</td>\n",
       "      <td>43137</td>\n",
       "      <td>...</td>\n",
       "      <td>4</td>\n",
       "      <td>0</td>\n",
       "      <td>1</td>\n",
       "      <td>0</td>\n",
       "      <td>0</td>\n",
       "      <td>0</td>\n",
       "      <td>1</td>\n",
       "      <td>0</td>\n",
       "      <td>0</td>\n",
       "      <td>0</td>\n",
       "    </tr>\n",
       "    <tr>\n",
       "      <th>274613</th>\n",
       "      <td>1</td>\n",
       "      <td>1005</td>\n",
       "      <td>1</td>\n",
       "      <td>1854</td>\n",
       "      <td>1327</td>\n",
       "      <td>19</td>\n",
       "      <td>2129</td>\n",
       "      <td>65</td>\n",
       "      <td>0</td>\n",
       "      <td>43137</td>\n",
       "      <td>...</td>\n",
       "      <td>3</td>\n",
       "      <td>0</td>\n",
       "      <td>1</td>\n",
       "      <td>0</td>\n",
       "      <td>0</td>\n",
       "      <td>0</td>\n",
       "      <td>1</td>\n",
       "      <td>0</td>\n",
       "      <td>0</td>\n",
       "      <td>0</td>\n",
       "    </tr>\n",
       "    <tr>\n",
       "      <th>323457</th>\n",
       "      <td>0</td>\n",
       "      <td>1005</td>\n",
       "      <td>0</td>\n",
       "      <td>263</td>\n",
       "      <td>2056</td>\n",
       "      <td>1</td>\n",
       "      <td>2129</td>\n",
       "      <td>65</td>\n",
       "      <td>0</td>\n",
       "      <td>43137</td>\n",
       "      <td>...</td>\n",
       "      <td>0</td>\n",
       "      <td>0</td>\n",
       "      <td>1</td>\n",
       "      <td>0</td>\n",
       "      <td>0</td>\n",
       "      <td>0</td>\n",
       "      <td>1</td>\n",
       "      <td>0</td>\n",
       "      <td>0</td>\n",
       "      <td>0</td>\n",
       "    </tr>\n",
       "    <tr>\n",
       "      <th>275743</th>\n",
       "      <td>0</td>\n",
       "      <td>1005</td>\n",
       "      <td>1</td>\n",
       "      <td>837</td>\n",
       "      <td>180</td>\n",
       "      <td>19</td>\n",
       "      <td>2129</td>\n",
       "      <td>65</td>\n",
       "      <td>0</td>\n",
       "      <td>43137</td>\n",
       "      <td>...</td>\n",
       "      <td>4</td>\n",
       "      <td>0</td>\n",
       "      <td>1</td>\n",
       "      <td>0</td>\n",
       "      <td>0</td>\n",
       "      <td>0</td>\n",
       "      <td>1</td>\n",
       "      <td>0</td>\n",
       "      <td>0</td>\n",
       "      <td>0</td>\n",
       "    </tr>\n",
       "    <tr>\n",
       "      <th>394154</th>\n",
       "      <td>0</td>\n",
       "      <td>1005</td>\n",
       "      <td>1</td>\n",
       "      <td>284</td>\n",
       "      <td>1895</td>\n",
       "      <td>19</td>\n",
       "      <td>2129</td>\n",
       "      <td>65</td>\n",
       "      <td>0</td>\n",
       "      <td>43137</td>\n",
       "      <td>...</td>\n",
       "      <td>16</td>\n",
       "      <td>0</td>\n",
       "      <td>1</td>\n",
       "      <td>0</td>\n",
       "      <td>0</td>\n",
       "      <td>0</td>\n",
       "      <td>1</td>\n",
       "      <td>0</td>\n",
       "      <td>0</td>\n",
       "      <td>0</td>\n",
       "    </tr>\n",
       "  </tbody>\n",
       "</table>\n",
       "<p>5 rows × 34 columns</p>\n",
       "</div>"
      ],
      "text/plain": [
       "        click    C1  banner_pos  site_id  site_domain  site_category  app_id  \\\n",
       "242327      0  1005           0     1145         1680              5    2294   \n",
       "274613      1  1005           1     1854         1327             19    2129   \n",
       "323457      0  1005           0      263         2056              1    2129   \n",
       "275743      0  1005           1      837          180             19    2129   \n",
       "394154      0  1005           1      284         1895             19    2129   \n",
       "\n",
       "        app_domain  app_category  device_id         ...          time  \\\n",
       "242327          75             3      43137         ...             4   \n",
       "274613          65             0      43137         ...             3   \n",
       "323457          65             0      43137         ...             0   \n",
       "275743          65             0      43137         ...             4   \n",
       "394154          65             0      43137         ...            16   \n",
       "\n",
       "        device_type_a  device_type_b  device_type_c  device_type_d  \\\n",
       "242327              0              1              0              0   \n",
       "274613              0              1              0              0   \n",
       "323457              0              1              0              0   \n",
       "275743              0              1              0              0   \n",
       "394154              0              1              0              0   \n",
       "\n",
       "        device_type_e  device_conn_type_a  device_conn_type_b  \\\n",
       "242327              0                   1                   0   \n",
       "274613              0                   1                   0   \n",
       "323457              0                   1                   0   \n",
       "275743              0                   1                   0   \n",
       "394154              0                   1                   0   \n",
       "\n",
       "        device_conn_type_c  device_conn_type_d  \n",
       "242327                   0                   0  \n",
       "274613                   0                   0  \n",
       "323457                   0                   0  \n",
       "275743                   0                   0  \n",
       "394154                   0                   0  \n",
       "\n",
       "[5 rows x 34 columns]"
      ]
     },
     "execution_count": 15,
     "metadata": {},
     "output_type": "execute_result"
    }
   ],
   "source": [
    "# split the data into test and train\n",
    "train, test  = train_test_split(\n",
    "  raw_df,                        # split our digits dataframe\n",
    "  stratify=raw_df[TARGET],       # stratify by the 'click' column   \n",
    "  test_size=0.2,                # 20% of the data should be held for testing\n",
    "  random_state=42               # hard-coded random state for repeatability in the example\n",
    ")\n",
    "\n",
    "train.head()"
   ]
  },
  {
   "cell_type": "code",
   "execution_count": 16,
   "metadata": {},
   "outputs": [],
   "source": [
    "feature_columns = []\n",
    "\n",
    "for col in FEATURES:\n",
    "    feature_columns.append(numeric_column(col, dtype=tf.dtypes.int64))\n"
   ]
  },
  {
   "cell_type": "code",
   "execution_count": 17,
   "metadata": {},
   "outputs": [
    {
     "name": "stdout",
     "output_type": "stream",
     "text": [
      "Training features: (323528, 33)\n",
      "Training labels: (323528,)\n",
      "Test features: (80882, 33)\n",
      "Test labels: (80882,)\n"
     ]
    }
   ],
   "source": [
    "#train\n",
    "train_tf_x = []\n",
    "for col in FEATURES:\n",
    "    train_tf_x.append(train[col])\n",
    "    \n",
    "train_x = np.asarray(train_tf_x)\n",
    "train_x = np.transpose(train_x)\n",
    "\n",
    "train_y = np.asarray(train['click'])\n",
    "\n",
    "#train\n",
    "test_tf_x = []\n",
    "for col in FEATURES:\n",
    "    test_tf_x.append(test[col])\n",
    "    \n",
    "test_x = np.asarray(test_tf_x)\n",
    "test_x = np.transpose(test_x)\n",
    "\n",
    "test_y = np.asarray(test['click'])\n",
    "\n",
    "print('Training features:', train_x.shape)\n",
    "print('Training labels:', train_y.shape)\n",
    "print('Test features:', test_x.shape)\n",
    "print('Test labels:', test_y.shape)"
   ]
  },
  {
   "cell_type": "code",
   "execution_count": 18,
   "metadata": {},
   "outputs": [],
   "source": [
    "# Define the model by specifying a neural network layers\n",
    "\n",
    "# LOOK INTO CLASS WEIGHTS\n",
    "\n",
    "model = tf.keras.Sequential([\n",
    "    \n",
    "    #input layer 1\n",
    "    tf.keras.layers.Dense(19,input_shape=(len(FEATURES),),activation=tf.nn.tanh),\n",
    "    \n",
    "    # Layer 2\n",
    "#     tf.keras.layers.Dense(16, activation=tf.nn.sigmoid),\n",
    "    \n",
    "    # Layer 2\n",
    "    tf.keras.layers.Dense(12, activation=tf.nn.tanh),\n",
    "    \n",
    "    # output\n",
    "    tf.keras.layers.Dense(1, activation=tf.nn.sigmoid) \n",
    "])\n",
    "\n",
    "# Set model's settings, including loss function, optimizer, and metrics\n",
    "\n",
    "model.compile(\n",
    "    optimizer = 'adam',\n",
    "    loss='binary_crossentropy',\n",
    "    metrics=['accuracy']\n",
    ")"
   ]
  },
  {
   "cell_type": "code",
   "execution_count": 19,
   "metadata": {},
   "outputs": [
    {
     "name": "stdout",
     "output_type": "stream",
     "text": [
      "Epoch 1/9\n",
      "323528/323528 [==============================] - 1s 4us/sample - loss: 0.5165 - acc: 0.7836\n",
      "Epoch 2/9\n",
      "323528/323528 [==============================] - 1s 2us/sample - loss: 0.4617 - acc: 0.8300\n",
      "Epoch 3/9\n",
      "323528/323528 [==============================] - 1s 2us/sample - loss: 0.4584 - acc: 0.8300\n",
      "Epoch 4/9\n",
      "323528/323528 [==============================] - 1s 2us/sample - loss: 0.4563 - acc: 0.8300\n",
      "Epoch 5/9\n",
      "323528/323528 [==============================] - 1s 2us/sample - loss: 0.4552 - acc: 0.8300\n",
      "Epoch 6/9\n",
      "323528/323528 [==============================] - 1s 2us/sample - loss: 0.4547 - acc: 0.8300\n",
      "Epoch 7/9\n",
      "323528/323528 [==============================] - 1s 2us/sample - loss: 0.4542 - acc: 0.8300\n",
      "Epoch 8/9\n",
      "323528/323528 [==============================] - 1s 2us/sample - loss: 0.4539 - acc: 0.8300\n",
      "Epoch 9/9\n",
      "323528/323528 [==============================] - 1s 2us/sample - loss: 0.4535 - acc: 0.8300\n"
     ]
    },
    {
     "data": {
      "text/plain": [
       "<tensorflow.python.keras.callbacks.History at 0x1a257cd978>"
      ]
     },
     "execution_count": 19,
     "metadata": {},
     "output_type": "execute_result"
    }
   ],
   "source": [
    "model.fit(train_x, train_y,epochs=10, batch_size=10000, shuffle=True)\n",
    "\n",
    "# loss: 0.4559 - acc: 0.8300 - when using all sigmoids and 4 layers\n",
    "# loss: 0.4698 - acc: 0.8300 - when using all sigmoid and decreasing number of nodes\n",
    "# loss: 0.4584 - acc: 0.8300 - when using all sigmoid and there is only 3 layers "
   ]
  },
  {
   "cell_type": "code",
   "execution_count": null,
   "metadata": {},
   "outputs": [],
   "source": []
  }
 ],
 "metadata": {
  "kernelspec": {
   "display_name": "Python 3",
   "language": "python",
   "name": "python3"
  },
  "language_info": {
   "codemirror_mode": {
    "name": "ipython",
    "version": 3
   },
   "file_extension": ".py",
   "mimetype": "text/x-python",
   "name": "python",
   "nbconvert_exporter": "python",
   "pygments_lexer": "ipython3",
   "version": "3.7.1"
  }
 },
 "nbformat": 4,
 "nbformat_minor": 2
}
