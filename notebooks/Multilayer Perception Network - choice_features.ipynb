{
 "cells": [
  {
   "cell_type": "markdown",
   "metadata": {},
   "source": [
    "Julia Kang - jkang613@gmail.com - AMLI 2019 - Mills College"
   ]
  },
  {
   "cell_type": "code",
   "execution_count": 1,
   "metadata": {},
   "outputs": [
    {
     "name": "stderr",
     "output_type": "stream",
     "text": [
      "/anaconda3/lib/python3.6/site-packages/sklearn/ensemble/weight_boosting.py:29: DeprecationWarning: numpy.core.umath_tests is an internal NumPy module and should not be imported. It will be removed in a future NumPy release.\n",
      "  from numpy.core.umath_tests import inner1d\n",
      "/anaconda3/lib/python3.6/site-packages/h5py/__init__.py:36: FutureWarning: Conversion of the second argument of issubdtype from `float` to `np.floating` is deprecated. In future, it will be treated as `np.float64 == np.dtype(float).type`.\n",
      "  from ._conv import register_converters as _register_converters\n"
     ]
    }
   ],
   "source": [
    "import pandas as pd\n",
    "import numpy as np\n",
    "import matplotlib.pyplot as plt\n",
    "from sklearn.model_selection import train_test_split\n",
    "from sklearn import linear_model\n",
    "# from sklearn import model_selection\n",
    "from sklearn.linear_model import LogisticRegression\n",
    "from sklearn import metrics\n",
    "from sklearn.ensemble import RandomForestClassifier\n",
    "from math import sqrt #for RMSE\n",
    "  \n",
    "import tensorflow as tf \n",
    "from tensorflow.feature_column import numeric_column,categorical_column_with_hash_bucket,categorical_column_with_vocabulary_list\n",
    "from tensorflow.estimator import LinearClassifier\n",
    "from tensorflow import keras\n",
    "from tensorflow.data import Dataset"
   ]
  },
  {
   "cell_type": "markdown",
   "metadata": {},
   "source": [
    "## Model: Multilayer Perception Neural Network"
   ]
  },
  {
   "cell_type": "code",
   "execution_count": 4,
   "metadata": {},
   "outputs": [
    {
     "data": {
      "text/plain": [
       "4184"
      ]
     },
     "execution_count": 4,
     "metadata": {},
     "output_type": "execute_result"
    }
   ],
   "source": [
    "# raw_df = pd.read_csv('numeric_rand_sample.csv')\n",
    "raw_df = pd.read_csv('choice_features.csv')\n",
    "raw_df = raw_df.drop('Unnamed: 0', axis = 1) \n",
    "\n",
    "raw_df.head() #ad id is unique to each row\n",
    "len(raw_df)"
   ]
  },
  {
   "cell_type": "code",
   "execution_count": 5,
   "metadata": {},
   "outputs": [],
   "source": [
    "FEATURES = []\n",
    "\n",
    "for col in raw_df.columns:\n",
    "    if np.issubdtype(raw_df[col].dtypes , np.number):\n",
    "        FEATURES.append(col)\n",
    "FEATURES.remove('click')\n",
    "TARGET = 'click'"
   ]
  },
  {
   "cell_type": "code",
   "execution_count": 7,
   "metadata": {},
   "outputs": [],
   "source": [
    "#FEATURES"
   ]
  },
  {
   "cell_type": "code",
   "execution_count": 8,
   "metadata": {},
   "outputs": [
    {
     "data": {
      "text/html": [
       "<div>\n",
       "<style scoped>\n",
       "    .dataframe tbody tr th:only-of-type {\n",
       "        vertical-align: middle;\n",
       "    }\n",
       "\n",
       "    .dataframe tbody tr th {\n",
       "        vertical-align: top;\n",
       "    }\n",
       "\n",
       "    .dataframe thead th {\n",
       "        text-align: right;\n",
       "    }\n",
       "</style>\n",
       "<table border=\"1\" class=\"dataframe\">\n",
       "  <thead>\n",
       "    <tr style=\"text-align: right;\">\n",
       "      <th></th>\n",
       "      <th>click</th>\n",
       "      <th>C1</th>\n",
       "      <th>banner_pos</th>\n",
       "      <th>site_domain</th>\n",
       "      <th>site_category</th>\n",
       "      <th>app_domain</th>\n",
       "      <th>app_category</th>\n",
       "      <th>device_id</th>\n",
       "      <th>device_ip</th>\n",
       "      <th>device_model</th>\n",
       "      <th>...</th>\n",
       "      <th>C15</th>\n",
       "      <th>C16</th>\n",
       "      <th>date</th>\n",
       "      <th>time</th>\n",
       "      <th>user_id</th>\n",
       "      <th>device_ip_count</th>\n",
       "      <th>device_id_count</th>\n",
       "      <th>user_count</th>\n",
       "      <th>user_hour_count</th>\n",
       "      <th>user_bagged</th>\n",
       "    </tr>\n",
       "  </thead>\n",
       "  <tbody>\n",
       "    <tr>\n",
       "      <th>4114</th>\n",
       "      <td>0</td>\n",
       "      <td>1005</td>\n",
       "      <td>0</td>\n",
       "      <td>225</td>\n",
       "      <td>4</td>\n",
       "      <td>3</td>\n",
       "      <td>12</td>\n",
       "      <td>438</td>\n",
       "      <td>931</td>\n",
       "      <td>406</td>\n",
       "      <td>...</td>\n",
       "      <td>320</td>\n",
       "      <td>50</td>\n",
       "      <td>9</td>\n",
       "      <td>18</td>\n",
       "      <td>963</td>\n",
       "      <td>1499</td>\n",
       "      <td>1499</td>\n",
       "      <td>1499</td>\n",
       "      <td>170</td>\n",
       "      <td>148</td>\n",
       "    </tr>\n",
       "    <tr>\n",
       "      <th>1250</th>\n",
       "      <td>0</td>\n",
       "      <td>1002</td>\n",
       "      <td>0</td>\n",
       "      <td>274</td>\n",
       "      <td>4</td>\n",
       "      <td>12</td>\n",
       "      <td>0</td>\n",
       "      <td>266</td>\n",
       "      <td>2147</td>\n",
       "      <td>564</td>\n",
       "      <td>...</td>\n",
       "      <td>320</td>\n",
       "      <td>50</td>\n",
       "      <td>2</td>\n",
       "      <td>14</td>\n",
       "      <td>1724</td>\n",
       "      <td>1</td>\n",
       "      <td>1</td>\n",
       "      <td>1</td>\n",
       "      <td>211</td>\n",
       "      <td>232</td>\n",
       "    </tr>\n",
       "    <tr>\n",
       "      <th>3862</th>\n",
       "      <td>0</td>\n",
       "      <td>1005</td>\n",
       "      <td>1</td>\n",
       "      <td>83</td>\n",
       "      <td>12</td>\n",
       "      <td>12</td>\n",
       "      <td>0</td>\n",
       "      <td>438</td>\n",
       "      <td>1613</td>\n",
       "      <td>123</td>\n",
       "      <td>...</td>\n",
       "      <td>320</td>\n",
       "      <td>50</td>\n",
       "      <td>9</td>\n",
       "      <td>7</td>\n",
       "      <td>1694</td>\n",
       "      <td>24</td>\n",
       "      <td>24</td>\n",
       "      <td>24</td>\n",
       "      <td>174</td>\n",
       "      <td>232</td>\n",
       "    </tr>\n",
       "    <tr>\n",
       "      <th>2094</th>\n",
       "      <td>1</td>\n",
       "      <td>1005</td>\n",
       "      <td>0</td>\n",
       "      <td>275</td>\n",
       "      <td>1</td>\n",
       "      <td>12</td>\n",
       "      <td>0</td>\n",
       "      <td>438</td>\n",
       "      <td>451</td>\n",
       "      <td>864</td>\n",
       "      <td>...</td>\n",
       "      <td>320</td>\n",
       "      <td>50</td>\n",
       "      <td>5</td>\n",
       "      <td>2</td>\n",
       "      <td>479</td>\n",
       "      <td>720</td>\n",
       "      <td>720</td>\n",
       "      <td>720</td>\n",
       "      <td>136</td>\n",
       "      <td>232</td>\n",
       "    </tr>\n",
       "    <tr>\n",
       "      <th>670</th>\n",
       "      <td>1</td>\n",
       "      <td>1005</td>\n",
       "      <td>0</td>\n",
       "      <td>225</td>\n",
       "      <td>4</td>\n",
       "      <td>7</td>\n",
       "      <td>2</td>\n",
       "      <td>543</td>\n",
       "      <td>922</td>\n",
       "      <td>67</td>\n",
       "      <td>...</td>\n",
       "      <td>320</td>\n",
       "      <td>50</td>\n",
       "      <td>1</td>\n",
       "      <td>10</td>\n",
       "      <td>3449</td>\n",
       "      <td>1499</td>\n",
       "      <td>1499</td>\n",
       "      <td>1499</td>\n",
       "      <td>232</td>\n",
       "      <td>248</td>\n",
       "    </tr>\n",
       "  </tbody>\n",
       "</table>\n",
       "<p>5 rows × 22 columns</p>\n",
       "</div>"
      ],
      "text/plain": [
       "      click    C1  banner_pos  site_domain  site_category  app_domain  \\\n",
       "4114      0  1005           0          225              4           3   \n",
       "1250      0  1002           0          274              4          12   \n",
       "3862      0  1005           1           83             12          12   \n",
       "2094      1  1005           0          275              1          12   \n",
       "670       1  1005           0          225              4           7   \n",
       "\n",
       "      app_category  device_id  device_ip  device_model  ...  C15  C16  date  \\\n",
       "4114            12        438        931           406  ...  320   50     9   \n",
       "1250             0        266       2147           564  ...  320   50     2   \n",
       "3862             0        438       1613           123  ...  320   50     9   \n",
       "2094             0        438        451           864  ...  320   50     5   \n",
       "670              2        543        922            67  ...  320   50     1   \n",
       "\n",
       "      time  user_id  device_ip_count  device_id_count  user_count  \\\n",
       "4114    18      963             1499             1499        1499   \n",
       "1250    14     1724                1                1           1   \n",
       "3862     7     1694               24               24          24   \n",
       "2094     2      479              720              720         720   \n",
       "670     10     3449             1499             1499        1499   \n",
       "\n",
       "      user_hour_count  user_bagged  \n",
       "4114              170          148  \n",
       "1250              211          232  \n",
       "3862              174          232  \n",
       "2094              136          232  \n",
       "670               232          248  \n",
       "\n",
       "[5 rows x 22 columns]"
      ]
     },
     "execution_count": 8,
     "metadata": {},
     "output_type": "execute_result"
    }
   ],
   "source": [
    "# split the data into test and train\n",
    "train, test  = train_test_split(\n",
    "  raw_df,                        # split our digits dataframe\n",
    "  stratify=raw_df[TARGET],       # stratify by the 'click' column   \n",
    "  test_size=0.2,                # 20% of the data should be held for testing\n",
    "  random_state=42               # hard-coded random state for repeatability in the example\n",
    ")\n",
    "\n",
    "train.head()"
   ]
  },
  {
   "cell_type": "code",
   "execution_count": 9,
   "metadata": {},
   "outputs": [],
   "source": [
    "feature_columns = []\n",
    "\n",
    "for col in FEATURES:\n",
    "    feature_columns.append(numeric_column(col, dtype=tf.dtypes.int64))\n"
   ]
  },
  {
   "cell_type": "code",
   "execution_count": 10,
   "metadata": {},
   "outputs": [
    {
     "name": "stdout",
     "output_type": "stream",
     "text": [
      "Training features: (3347, 21)\n",
      "Training labels: (3347,)\n",
      "Test features: (837, 21)\n",
      "Test labels: (837,)\n"
     ]
    }
   ],
   "source": [
    "#train\n",
    "train_tf_x = []\n",
    "for col in FEATURES:\n",
    "    train_tf_x.append(train[col])\n",
    "    \n",
    "train_x = np.asarray(train_tf_x)\n",
    "train_x = np.transpose(train_x)\n",
    "\n",
    "train_y = np.asarray(train['click'])\n",
    "\n",
    "#train\n",
    "test_tf_x = []\n",
    "for col in FEATURES:\n",
    "    test_tf_x.append(test[col])\n",
    "    \n",
    "test_x = np.asarray(test_tf_x)\n",
    "test_x = np.transpose(test_x)\n",
    "\n",
    "test_y = np.asarray(test['click'])\n",
    "\n",
    "print('Training features:', train_x.shape)\n",
    "print('Training labels:', train_y.shape)\n",
    "print('Test features:', test_x.shape)\n",
    "print('Test labels:', test_y.shape)"
   ]
  },
  {
   "cell_type": "code",
   "execution_count": 11,
   "metadata": {},
   "outputs": [
    {
     "name": "stdout",
     "output_type": "stream",
     "text": [
      "WARNING:tensorflow:From /anaconda3/lib/python3.6/site-packages/tensorflow/python/ops/resource_variable_ops.py:435: colocate_with (from tensorflow.python.framework.ops) is deprecated and will be removed in a future version.\n",
      "Instructions for updating:\n",
      "Colocations handled automatically by placer.\n"
     ]
    }
   ],
   "source": [
    "# Define the model by specifying a neural network layers\n",
    "\n",
    "# LOOK INTO CLASS WEIGHTS\n",
    "\n",
    "model = tf.keras.Sequential([\n",
    "    \n",
    "    #input layer 1\n",
    "    tf.keras.layers.Dense(19,input_shape=(len(FEATURES),),activation=tf.nn.tanh),\n",
    "    \n",
    "    # Layer 2\n",
    "#     tf.keras.layers.Dense(16, activation=tf.nn.sigmoid),\n",
    "    \n",
    "    # Layer 2\n",
    "    tf.keras.layers.Dense(12, activation=tf.nn.tanh),\n",
    "    \n",
    "    # output\n",
    "    tf.keras.layers.Dense(1, activation=tf.nn.sigmoid) \n",
    "])\n",
    "\n",
    "# Set model's settings, including loss function, optimizer, and metrics\n",
    "\n",
    "model.compile(\n",
    "    optimizer = 'adam',\n",
    "    loss='binary_crossentropy',\n",
    "    metrics=['accuracy']\n",
    ")"
   ]
  },
  {
   "cell_type": "code",
   "execution_count": 12,
   "metadata": {},
   "outputs": [
    {
     "name": "stdout",
     "output_type": "stream",
     "text": [
      "WARNING:tensorflow:From /anaconda3/lib/python3.6/site-packages/tensorflow/python/ops/math_ops.py:3066: to_int32 (from tensorflow.python.ops.math_ops) is deprecated and will be removed in a future version.\n",
      "Instructions for updating:\n",
      "Use tf.cast instead.\n",
      "Epoch 1/10\n",
      "3347/3347 [==============================] - 0s 66us/sample - loss: 0.5179 - acc: 0.8291\n",
      "Epoch 2/10\n",
      "3347/3347 [==============================] - 0s 1us/sample - loss: 0.5107 - acc: 0.8291\n",
      "Epoch 3/10\n",
      "3347/3347 [==============================] - 0s 2us/sample - loss: 0.5041 - acc: 0.8294\n",
      "Epoch 4/10\n",
      "3347/3347 [==============================] - 0s 1us/sample - loss: 0.4984 - acc: 0.8294\n",
      "Epoch 5/10\n",
      "3347/3347 [==============================] - 0s 1us/sample - loss: 0.4935 - acc: 0.8294\n",
      "Epoch 6/10\n",
      "3347/3347 [==============================] - 0s 1us/sample - loss: 0.4896 - acc: 0.8294\n",
      "Epoch 7/10\n",
      "3347/3347 [==============================] - 0s 2us/sample - loss: 0.4860 - acc: 0.8294\n",
      "Epoch 8/10\n",
      "3347/3347 [==============================] - 0s 3us/sample - loss: 0.4828 - acc: 0.8294\n",
      "Epoch 9/10\n",
      "3347/3347 [==============================] - 0s 2us/sample - loss: 0.4798 - acc: 0.8297\n",
      "Epoch 10/10\n",
      "3347/3347 [==============================] - 0s 2us/sample - loss: 0.4771 - acc: 0.8297\n"
     ]
    },
    {
     "data": {
      "text/plain": [
       "<tensorflow.python.keras.callbacks.History at 0x1a2c3e7ba8>"
      ]
     },
     "execution_count": 12,
     "metadata": {},
     "output_type": "execute_result"
    }
   ],
   "source": [
    "model.fit(train_x, train_y,epochs=10, batch_size=10000, shuffle=True)\n",
    "\n",
    "# loss: 0.4559 - acc: 0.8300 - when using all sigmoids and 4 layers\n",
    "# loss: 0.4698 - acc: 0.8300 - when using all sigmoid and decreasing number of nodes\n",
    "# loss: 0.4584 - acc: 0.8300 - when using all sigmoid and there is only 3 layers "
   ]
  },
  {
   "cell_type": "code",
   "execution_count": 13,
   "metadata": {},
   "outputs": [
    {
     "name": "stdout",
     "output_type": "stream",
     "text": [
      "\n",
      "WARNING: The TensorFlow contrib module will not be included in TensorFlow 2.0.\n",
      "For more information, please see:\n",
      "  * https://github.com/tensorflow/community/blob/master/rfcs/20180907-contrib-sunset.md\n",
      "  * https://github.com/tensorflow/addons\n",
      "If you depend on functionality not listed there, please file an issue.\n",
      "\n",
      "WARNING:tensorflow:This model was compiled with a Keras optimizer (<tensorflow.python.keras.optimizers.Adam object at 0x1a29ed5be0>) but is being saved in TensorFlow format with `save_weights`. The model's weights will be saved, but unlike with TensorFlow optimizers in the TensorFlow format the optimizer's state will not be saved.\n",
      "\n",
      "Consider using a TensorFlow optimizer from `tf.train`.\n",
      "WARNING:tensorflow:From /anaconda3/lib/python3.6/site-packages/tensorflow/python/keras/engine/network.py:1436: update_checkpoint_state (from tensorflow.python.training.checkpoint_management) is deprecated and will be removed in a future version.\n",
      "Instructions for updating:\n",
      "Use tf.train.CheckpointManager to manage checkpoints rather than manually editing the Checkpoint proto.\n",
      "WARNING:tensorflow:Model was compiled with an optimizer, but the optimizer is not from `tf.train` (e.g. `tf.train.AdagradOptimizer`). Only the serving graph was exported. The train and evaluate graphs were not added to the SavedModel.\n",
      "WARNING:tensorflow:From /anaconda3/lib/python3.6/site-packages/tensorflow/python/saved_model/signature_def_utils_impl.py:205: build_tensor_info (from tensorflow.python.saved_model.utils_impl) is deprecated and will be removed in a future version.\n",
      "Instructions for updating:\n",
      "This function will only be available through the v1 compatibility library as tf.compat.v1.saved_model.utils.build_tensor_info or tf.compat.v1.saved_model.build_tensor_info.\n",
      "INFO:tensorflow:Signatures INCLUDED in export for Classify: None\n",
      "INFO:tensorflow:Signatures INCLUDED in export for Regress: None\n",
      "INFO:tensorflow:Signatures INCLUDED in export for Predict: ['serving_default']\n",
      "INFO:tensorflow:Signatures INCLUDED in export for Train: None\n",
      "INFO:tensorflow:Signatures INCLUDED in export for Eval: None\n",
      "INFO:tensorflow:No assets to save.\n",
      "INFO:tensorflow:No assets to write.\n",
      "INFO:tensorflow:SavedModel written to: ./saved_models/1556042498/saved_model.pb\n"
     ]
    }
   ],
   "source": [
    "saved_model_path = tf.contrib.saved_model.save_keras_model(model, \"./saved_models\")"
   ]
  },
  {
   "cell_type": "code",
   "execution_count": null,
   "metadata": {},
   "outputs": [],
   "source": []
  }
 ],
 "metadata": {
  "kernelspec": {
   "display_name": "Python 3",
   "language": "python",
   "name": "python3"
  },
  "language_info": {
   "codemirror_mode": {
    "name": "ipython",
    "version": 3
   },
   "file_extension": ".py",
   "mimetype": "text/x-python",
   "name": "python",
   "nbconvert_exporter": "python",
   "pygments_lexer": "ipython3",
   "version": "3.6.5"
  }
 },
 "nbformat": 4,
 "nbformat_minor": 2
}
