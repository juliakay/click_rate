{
 "cells": [
  {
   "cell_type": "markdown",
   "metadata": {},
   "source": [
    "Julia Kang - jkang613@gmail.com - AMLI 2019 - Mills College"
   ]
  },
  {
   "cell_type": "code",
   "execution_count": 1,
   "metadata": {},
   "outputs": [],
   "source": [
    "import pandas as pd\n",
    "import numpy as np\n",
    "import multiprocessing as mp\n",
    "import random\n",
    "import datetime\n",
    "import matplotlib.pyplot as plt\n",
    "from sklearn.model_selection import train_test_split\n",
    "from sklearn import linear_model\n",
    "# from sklearn import model_selection\n",
    "from sklearn.linear_model import LogisticRegression\n",
    "from sklearn.preprocessing import OneHotEncoder\n",
    "from sklearn.preprocessing import LabelEncoder\n",
    "from sklearn import metrics\n",
    "from sklearn.ensemble import RandomForestClassifier\n",
    "from sklearn.feature_selection import RFE\n",
    "from math import sqrt #for RMSE\n"
   ]
  },
  {
   "cell_type": "markdown",
   "metadata": {},
   "source": [
    "## Model: Simple Random Forest Classifier "
   ]
  },
  {
   "cell_type": "code",
   "execution_count": 2,
   "metadata": {},
   "outputs": [
    {
     "data": {
      "text/html": [
       "<div>\n",
       "<style scoped>\n",
       "    .dataframe tbody tr th:only-of-type {\n",
       "        vertical-align: middle;\n",
       "    }\n",
       "\n",
       "    .dataframe tbody tr th {\n",
       "        vertical-align: top;\n",
       "    }\n",
       "\n",
       "    .dataframe thead th {\n",
       "        text-align: right;\n",
       "    }\n",
       "</style>\n",
       "<table border=\"1\" class=\"dataframe\">\n",
       "  <thead>\n",
       "    <tr style=\"text-align: right;\">\n",
       "      <th></th>\n",
       "      <th>click</th>\n",
       "      <th>C1</th>\n",
       "      <th>banner_pos</th>\n",
       "      <th>site_domain</th>\n",
       "      <th>site_category</th>\n",
       "      <th>app_domain</th>\n",
       "      <th>app_category</th>\n",
       "      <th>device_id</th>\n",
       "      <th>device_ip</th>\n",
       "      <th>device_model</th>\n",
       "      <th>...</th>\n",
       "      <th>C15</th>\n",
       "      <th>C16</th>\n",
       "      <th>date</th>\n",
       "      <th>time</th>\n",
       "      <th>user_id</th>\n",
       "      <th>device_ip_count</th>\n",
       "      <th>device_id_count</th>\n",
       "      <th>user_count</th>\n",
       "      <th>user_hour_count</th>\n",
       "      <th>user_bagged</th>\n",
       "    </tr>\n",
       "  </thead>\n",
       "  <tbody>\n",
       "    <tr>\n",
       "      <th>0</th>\n",
       "      <td>0</td>\n",
       "      <td>1005</td>\n",
       "      <td>0</td>\n",
       "      <td>227</td>\n",
       "      <td>3</td>\n",
       "      <td>12</td>\n",
       "      <td>0</td>\n",
       "      <td>438</td>\n",
       "      <td>1599</td>\n",
       "      <td>138</td>\n",
       "      <td>...</td>\n",
       "      <td>320</td>\n",
       "      <td>50</td>\n",
       "      <td>0</td>\n",
       "      <td>0</td>\n",
       "      <td>1681</td>\n",
       "      <td>2</td>\n",
       "      <td>2</td>\n",
       "      <td>2</td>\n",
       "      <td>95</td>\n",
       "      <td>232</td>\n",
       "    </tr>\n",
       "    <tr>\n",
       "      <th>1</th>\n",
       "      <td>0</td>\n",
       "      <td>1005</td>\n",
       "      <td>1</td>\n",
       "      <td>7</td>\n",
       "      <td>12</td>\n",
       "      <td>12</td>\n",
       "      <td>0</td>\n",
       "      <td>438</td>\n",
       "      <td>611</td>\n",
       "      <td>393</td>\n",
       "      <td>...</td>\n",
       "      <td>320</td>\n",
       "      <td>50</td>\n",
       "      <td>0</td>\n",
       "      <td>0</td>\n",
       "      <td>638</td>\n",
       "      <td>30</td>\n",
       "      <td>30</td>\n",
       "      <td>30</td>\n",
       "      <td>95</td>\n",
       "      <td>232</td>\n",
       "    </tr>\n",
       "    <tr>\n",
       "      <th>2</th>\n",
       "      <td>0</td>\n",
       "      <td>1005</td>\n",
       "      <td>0</td>\n",
       "      <td>225</td>\n",
       "      <td>4</td>\n",
       "      <td>15</td>\n",
       "      <td>2</td>\n",
       "      <td>438</td>\n",
       "      <td>1212</td>\n",
       "      <td>505</td>\n",
       "      <td>...</td>\n",
       "      <td>320</td>\n",
       "      <td>50</td>\n",
       "      <td>0</td>\n",
       "      <td>0</td>\n",
       "      <td>1264</td>\n",
       "      <td>1499</td>\n",
       "      <td>1499</td>\n",
       "      <td>1499</td>\n",
       "      <td>95</td>\n",
       "      <td>255</td>\n",
       "    </tr>\n",
       "    <tr>\n",
       "      <th>3</th>\n",
       "      <td>0</td>\n",
       "      <td>1005</td>\n",
       "      <td>0</td>\n",
       "      <td>125</td>\n",
       "      <td>3</td>\n",
       "      <td>12</td>\n",
       "      <td>0</td>\n",
       "      <td>438</td>\n",
       "      <td>1034</td>\n",
       "      <td>373</td>\n",
       "      <td>...</td>\n",
       "      <td>300</td>\n",
       "      <td>250</td>\n",
       "      <td>0</td>\n",
       "      <td>0</td>\n",
       "      <td>1081</td>\n",
       "      <td>97</td>\n",
       "      <td>97</td>\n",
       "      <td>97</td>\n",
       "      <td>95</td>\n",
       "      <td>232</td>\n",
       "    </tr>\n",
       "    <tr>\n",
       "      <th>4</th>\n",
       "      <td>0</td>\n",
       "      <td>1005</td>\n",
       "      <td>0</td>\n",
       "      <td>227</td>\n",
       "      <td>3</td>\n",
       "      <td>12</td>\n",
       "      <td>0</td>\n",
       "      <td>438</td>\n",
       "      <td>3474</td>\n",
       "      <td>746</td>\n",
       "      <td>...</td>\n",
       "      <td>320</td>\n",
       "      <td>50</td>\n",
       "      <td>0</td>\n",
       "      <td>0</td>\n",
       "      <td>3663</td>\n",
       "      <td>2</td>\n",
       "      <td>2</td>\n",
       "      <td>2</td>\n",
       "      <td>95</td>\n",
       "      <td>232</td>\n",
       "    </tr>\n",
       "  </tbody>\n",
       "</table>\n",
       "<p>5 rows × 22 columns</p>\n",
       "</div>"
      ],
      "text/plain": [
       "   click    C1  banner_pos  site_domain  site_category  app_domain  \\\n",
       "0      0  1005           0          227              3          12   \n",
       "1      0  1005           1            7             12          12   \n",
       "2      0  1005           0          225              4          15   \n",
       "3      0  1005           0          125              3          12   \n",
       "4      0  1005           0          227              3          12   \n",
       "\n",
       "   app_category  device_id  device_ip  device_model     ...       C15  C16  \\\n",
       "0             0        438       1599           138     ...       320   50   \n",
       "1             0        438        611           393     ...       320   50   \n",
       "2             2        438       1212           505     ...       320   50   \n",
       "3             0        438       1034           373     ...       300  250   \n",
       "4             0        438       3474           746     ...       320   50   \n",
       "\n",
       "   date  time  user_id  device_ip_count  device_id_count  user_count  \\\n",
       "0     0     0     1681                2                2           2   \n",
       "1     0     0      638               30               30          30   \n",
       "2     0     0     1264             1499             1499        1499   \n",
       "3     0     0     1081               97               97          97   \n",
       "4     0     0     3663                2                2           2   \n",
       "\n",
       "   user_hour_count  user_bagged  \n",
       "0               95          232  \n",
       "1               95          232  \n",
       "2               95          255  \n",
       "3               95          232  \n",
       "4               95          232  \n",
       "\n",
       "[5 rows x 22 columns]"
      ]
     },
     "execution_count": 2,
     "metadata": {},
     "output_type": "execute_result"
    }
   ],
   "source": [
    "# raw_df = pd.read_csv('numeric_rand_sample.csv')\n",
    "raw_df = pd.read_csv('choice_features.csv')\n",
    "raw_df = raw_df.drop('Unnamed: 0', axis = 1) \n",
    "\n",
    "raw_df.head() #ad id is unique to each row\n",
    "# len(sub_df)"
   ]
  },
  {
   "cell_type": "code",
   "execution_count": 3,
   "metadata": {},
   "outputs": [],
   "source": [
    "FEATURES = []\n",
    "\n",
    "for col in raw_df.columns:\n",
    "    if np.issubdtype(raw_df[col].dtypes , np.number):\n",
    "        FEATURES.append(col)\n",
    "\n",
    "FEATURES.remove('click')\n",
    "TARGET = 'click'"
   ]
  },
  {
   "cell_type": "code",
   "execution_count": 4,
   "metadata": {},
   "outputs": [
    {
     "data": {
      "text/plain": [
       "['C1',\n",
       " 'banner_pos',\n",
       " 'site_domain',\n",
       " 'site_category',\n",
       " 'app_domain',\n",
       " 'app_category',\n",
       " 'device_id',\n",
       " 'device_ip',\n",
       " 'device_model',\n",
       " 'device_type',\n",
       " 'device_conn_type',\n",
       " 'C15',\n",
       " 'C16',\n",
       " 'date',\n",
       " 'time',\n",
       " 'user_id',\n",
       " 'device_ip_count',\n",
       " 'device_id_count',\n",
       " 'user_count',\n",
       " 'user_hour_count',\n",
       " 'user_bagged']"
      ]
     },
     "execution_count": 4,
     "metadata": {},
     "output_type": "execute_result"
    }
   ],
   "source": [
    "FEATURES"
   ]
  },
  {
   "cell_type": "code",
   "execution_count": 5,
   "metadata": {},
   "outputs": [
    {
     "data": {
      "text/html": [
       "<div>\n",
       "<style scoped>\n",
       "    .dataframe tbody tr th:only-of-type {\n",
       "        vertical-align: middle;\n",
       "    }\n",
       "\n",
       "    .dataframe tbody tr th {\n",
       "        vertical-align: top;\n",
       "    }\n",
       "\n",
       "    .dataframe thead th {\n",
       "        text-align: right;\n",
       "    }\n",
       "</style>\n",
       "<table border=\"1\" class=\"dataframe\">\n",
       "  <thead>\n",
       "    <tr style=\"text-align: right;\">\n",
       "      <th></th>\n",
       "      <th>click</th>\n",
       "      <th>C1</th>\n",
       "      <th>banner_pos</th>\n",
       "      <th>site_domain</th>\n",
       "      <th>site_category</th>\n",
       "      <th>app_domain</th>\n",
       "      <th>app_category</th>\n",
       "      <th>device_id</th>\n",
       "      <th>device_ip</th>\n",
       "      <th>device_model</th>\n",
       "      <th>...</th>\n",
       "      <th>C15</th>\n",
       "      <th>C16</th>\n",
       "      <th>date</th>\n",
       "      <th>time</th>\n",
       "      <th>user_id</th>\n",
       "      <th>device_ip_count</th>\n",
       "      <th>device_id_count</th>\n",
       "      <th>user_count</th>\n",
       "      <th>user_hour_count</th>\n",
       "      <th>user_bagged</th>\n",
       "    </tr>\n",
       "  </thead>\n",
       "  <tbody>\n",
       "    <tr>\n",
       "      <th>4114</th>\n",
       "      <td>0</td>\n",
       "      <td>1005</td>\n",
       "      <td>0</td>\n",
       "      <td>225</td>\n",
       "      <td>4</td>\n",
       "      <td>3</td>\n",
       "      <td>12</td>\n",
       "      <td>438</td>\n",
       "      <td>931</td>\n",
       "      <td>406</td>\n",
       "      <td>...</td>\n",
       "      <td>320</td>\n",
       "      <td>50</td>\n",
       "      <td>9</td>\n",
       "      <td>18</td>\n",
       "      <td>963</td>\n",
       "      <td>1499</td>\n",
       "      <td>1499</td>\n",
       "      <td>1499</td>\n",
       "      <td>170</td>\n",
       "      <td>148</td>\n",
       "    </tr>\n",
       "    <tr>\n",
       "      <th>1250</th>\n",
       "      <td>0</td>\n",
       "      <td>1002</td>\n",
       "      <td>0</td>\n",
       "      <td>274</td>\n",
       "      <td>4</td>\n",
       "      <td>12</td>\n",
       "      <td>0</td>\n",
       "      <td>266</td>\n",
       "      <td>2147</td>\n",
       "      <td>564</td>\n",
       "      <td>...</td>\n",
       "      <td>320</td>\n",
       "      <td>50</td>\n",
       "      <td>2</td>\n",
       "      <td>14</td>\n",
       "      <td>1724</td>\n",
       "      <td>1</td>\n",
       "      <td>1</td>\n",
       "      <td>1</td>\n",
       "      <td>211</td>\n",
       "      <td>232</td>\n",
       "    </tr>\n",
       "    <tr>\n",
       "      <th>3862</th>\n",
       "      <td>0</td>\n",
       "      <td>1005</td>\n",
       "      <td>1</td>\n",
       "      <td>83</td>\n",
       "      <td>12</td>\n",
       "      <td>12</td>\n",
       "      <td>0</td>\n",
       "      <td>438</td>\n",
       "      <td>1613</td>\n",
       "      <td>123</td>\n",
       "      <td>...</td>\n",
       "      <td>320</td>\n",
       "      <td>50</td>\n",
       "      <td>9</td>\n",
       "      <td>7</td>\n",
       "      <td>1694</td>\n",
       "      <td>24</td>\n",
       "      <td>24</td>\n",
       "      <td>24</td>\n",
       "      <td>174</td>\n",
       "      <td>232</td>\n",
       "    </tr>\n",
       "    <tr>\n",
       "      <th>2094</th>\n",
       "      <td>1</td>\n",
       "      <td>1005</td>\n",
       "      <td>0</td>\n",
       "      <td>275</td>\n",
       "      <td>1</td>\n",
       "      <td>12</td>\n",
       "      <td>0</td>\n",
       "      <td>438</td>\n",
       "      <td>451</td>\n",
       "      <td>864</td>\n",
       "      <td>...</td>\n",
       "      <td>320</td>\n",
       "      <td>50</td>\n",
       "      <td>5</td>\n",
       "      <td>2</td>\n",
       "      <td>479</td>\n",
       "      <td>720</td>\n",
       "      <td>720</td>\n",
       "      <td>720</td>\n",
       "      <td>136</td>\n",
       "      <td>232</td>\n",
       "    </tr>\n",
       "    <tr>\n",
       "      <th>670</th>\n",
       "      <td>1</td>\n",
       "      <td>1005</td>\n",
       "      <td>0</td>\n",
       "      <td>225</td>\n",
       "      <td>4</td>\n",
       "      <td>7</td>\n",
       "      <td>2</td>\n",
       "      <td>543</td>\n",
       "      <td>922</td>\n",
       "      <td>67</td>\n",
       "      <td>...</td>\n",
       "      <td>320</td>\n",
       "      <td>50</td>\n",
       "      <td>1</td>\n",
       "      <td>10</td>\n",
       "      <td>3449</td>\n",
       "      <td>1499</td>\n",
       "      <td>1499</td>\n",
       "      <td>1499</td>\n",
       "      <td>232</td>\n",
       "      <td>248</td>\n",
       "    </tr>\n",
       "  </tbody>\n",
       "</table>\n",
       "<p>5 rows × 22 columns</p>\n",
       "</div>"
      ],
      "text/plain": [
       "      click    C1  banner_pos  site_domain  site_category  app_domain  \\\n",
       "4114      0  1005           0          225              4           3   \n",
       "1250      0  1002           0          274              4          12   \n",
       "3862      0  1005           1           83             12          12   \n",
       "2094      1  1005           0          275              1          12   \n",
       "670       1  1005           0          225              4           7   \n",
       "\n",
       "      app_category  device_id  device_ip  device_model     ...       C15  C16  \\\n",
       "4114            12        438        931           406     ...       320   50   \n",
       "1250             0        266       2147           564     ...       320   50   \n",
       "3862             0        438       1613           123     ...       320   50   \n",
       "2094             0        438        451           864     ...       320   50   \n",
       "670              2        543        922            67     ...       320   50   \n",
       "\n",
       "      date  time  user_id  device_ip_count  device_id_count  user_count  \\\n",
       "4114     9    18      963             1499             1499        1499   \n",
       "1250     2    14     1724                1                1           1   \n",
       "3862     9     7     1694               24               24          24   \n",
       "2094     5     2      479              720              720         720   \n",
       "670      1    10     3449             1499             1499        1499   \n",
       "\n",
       "      user_hour_count  user_bagged  \n",
       "4114              170          148  \n",
       "1250              211          232  \n",
       "3862              174          232  \n",
       "2094              136          232  \n",
       "670               232          248  \n",
       "\n",
       "[5 rows x 22 columns]"
      ]
     },
     "execution_count": 5,
     "metadata": {},
     "output_type": "execute_result"
    }
   ],
   "source": [
    "# split the data into test and train\n",
    "train, test  = train_test_split(\n",
    "  raw_df,                        # split our digits dataframe\n",
    "  stratify=raw_df[TARGET],       # stratify by the 'click' column   \n",
    "  test_size=0.2,                # 20% of the data should be held for testing\n",
    "  random_state=42               # hard-coded random state for repeatability in the example\n",
    ")\n",
    "\n",
    "train.head()"
   ]
  },
  {
   "cell_type": "code",
   "execution_count": 9,
   "metadata": {},
   "outputs": [
    {
     "name": "stdout",
     "output_type": "stream",
     "text": [
      "Training Features Shape: (3347, 21)\n",
      "Training Labels Shape: (3347,)\n",
      "Testing Features Shape: (837, 21)\n",
      "Testing Labels Shape: (837,)\n"
     ]
    }
   ],
   "source": [
    "#take preprocessed data from above for train and test set\n",
    "train_features = np.array(train[FEATURES])\n",
    "train_labels = np.array(train[TARGET])\n",
    "test_features = np.array(test[FEATURES])\n",
    "test_labels = np.array(test[TARGET])\n",
    "\n",
    "print('Training Features Shape:', train_features.shape)\n",
    "print('Training Labels Shape:', train_labels.shape)\n",
    "print('Testing Features Shape:', test_features.shape)\n",
    "print('Testing Labels Shape:', test_labels.shape)"
   ]
  },
  {
   "cell_type": "code",
   "execution_count": 10,
   "metadata": {},
   "outputs": [
    {
     "data": {
      "text/plain": [
       "RandomForestClassifier(bootstrap=True, class_weight=None, criterion='gini',\n",
       "            max_depth=None, max_features='auto', max_leaf_nodes=None,\n",
       "            min_impurity_decrease=0.0, min_impurity_split=None,\n",
       "            min_samples_leaf=1, min_samples_split=2,\n",
       "            min_weight_fraction_leaf=0.0, n_estimators=50, n_jobs=None,\n",
       "            oob_score=False, random_state=42, verbose=0, warm_start=False)"
      ]
     },
     "execution_count": 10,
     "metadata": {},
     "output_type": "execute_result"
    }
   ],
   "source": [
    "# Instantiate model with 10 decision trees - this will be our baseline model\n",
    "rf = RandomForestClassifier(n_estimators = 50, random_state = 42)\n",
    "# Train the model on training data\n",
    "rf.fit(train_features, train_labels.ravel()) #use ravel() - it flattens the array"
   ]
  },
  {
   "cell_type": "code",
   "execution_count": 12,
   "metadata": {},
   "outputs": [],
   "source": [
    "# Use the forest's predict method on the test data\n",
    "predictions = rf.predict(test_features)\n",
    "#reshape predictions to have 1 column to later use to concatenate\n",
    "predictions = predictions.reshape(837,1)"
   ]
  },
  {
   "cell_type": "code",
   "execution_count": 13,
   "metadata": {},
   "outputs": [],
   "source": [
    "#create dataframe that compares the actual vs predicted\n",
    "results = pd.DataFrame(np.column_stack((test_labels, predictions)))\n",
    "\n",
    "# results"
   ]
  },
  {
   "cell_type": "code",
   "execution_count": 14,
   "metadata": {},
   "outputs": [
    {
     "name": "stdout",
     "output_type": "stream",
     "text": [
      "RMSE when n_estimators = 10 is 0.4372172238559687\n",
      "Log Loss when n_estimators = 10 is 2.569517155949924\n"
     ]
    }
   ],
   "source": [
    "RMSE = sqrt(metrics.mean_squared_error(test_labels, predictions))\n",
    "print(\"RMSE when n_estimators = 10 is {}\".format(RMSE))\n",
    "# #RMSE: 0.4315343595981214 with n_estimators = 10\n",
    "\n",
    "LL = sqrt(metrics.log_loss(test_labels, predictions))\n",
    "print(\"Log Loss when n_estimators = 10 is {}\".format(LL))"
   ]
  },
  {
   "cell_type": "code",
   "execution_count": 15,
   "metadata": {},
   "outputs": [
    {
     "data": {
      "image/png": "[encoded data removed]",
      "text/plain": [
       "<Figure size 432x288 with 1 Axes>"
      ]
     },
     "metadata": {
      "needs_background": "light"
     },
     "output_type": "display_data"
    },
    {
     "name": "stdout",
     "output_type": "stream",
     "text": [
      "AUC when n_estimators = 10 is 0.5066622758131523\n"
     ]
    }
   ],
   "source": [
    "fpr, tpr, thresholds = metrics.roc_curve(test_labels, predictions)\n",
    "roc_auc = metrics.auc(fpr, tpr)\n",
    "plt.plot(fpr,tpr)\n",
    "plt.title('ROC curve')\n",
    "plt.show()\n",
    "\n",
    "print(\"AUC when n_estimators = 10 is {}\".format(roc_auc))"
   ]
  },
  {
   "cell_type": "markdown",
   "metadata": {},
   "source": [
    "### Random Forest - Parameter Tuning"
   ]
  },
  {
   "cell_type": "code",
   "execution_count": 16,
   "metadata": {},
   "outputs": [
    {
     "name": "stdout",
     "output_type": "stream",
     "text": [
      "[False False  True False  True  True  True  True  True False False False\n",
      "  True  True  True  True  True  True  True  True  True]\n",
      "[5 4 1 2 1 1 1 1 1 7 3 6 1 1 1 1 1 1 1 1 1]\n"
     ]
    }
   ],
   "source": [
    "#running scikit learns recursive feature selection\n",
    "n = 15 #number of features we want to select\n",
    "rfe = RFE(rf, n_features_to_select=n, step=1, verbose=0)\n",
    "\n",
    "rfe = rfe.fit(train_features, train_labels)\n",
    "\n",
    "print(rfe.support_)\n",
    "print(rfe.ranking_)\n"
   ]
  },
  {
   "cell_type": "code",
   "execution_count": 17,
   "metadata": {},
   "outputs": [],
   "source": [
    "rfe_bool = rfe.support_\n",
    "rfe_rank = rfe.ranking_"
   ]
  },
  {
   "cell_type": "markdown",
   "metadata": {},
   "source": [
    "### Re-Run Model with RFE features"
   ]
  },
  {
   "cell_type": "code",
   "execution_count": 18,
   "metadata": {},
   "outputs": [],
   "source": [
    "FEATURES = np.array(FEATURES)\n",
    "FEATURES_rfe = FEATURES[rfe_bool]"
   ]
  },
  {
   "cell_type": "code",
   "execution_count": 19,
   "metadata": {},
   "outputs": [
    {
     "name": "stdout",
     "output_type": "stream",
     "text": [
      "Training Features Shape: (3347, 15)\n",
      "Training Labels Shape: (3347,)\n",
      "Testing Features Shape: (837, 15)\n",
      "Testing Labels Shape: (837,)\n"
     ]
    }
   ],
   "source": [
    "#take preprocessed data from above for train and test set\n",
    "train_features = np.array(train[FEATURES_rfe])\n",
    "train_labels = np.array(train[TARGET])\n",
    "test_features = np.array(test[FEATURES_rfe])\n",
    "test_labels = np.array(test[TARGET])\n",
    "\n",
    "print('Training Features Shape:', train_features.shape)\n",
    "print('Training Labels Shape:', train_labels.shape)\n",
    "print('Testing Features Shape:', test_features.shape)\n",
    "print('Testing Labels Shape:', test_labels.shape)"
   ]
  },
  {
   "cell_type": "code",
   "execution_count": 20,
   "metadata": {},
   "outputs": [
    {
     "data": {
      "text/plain": [
       "RandomForestClassifier(bootstrap=True, class_weight=None, criterion='gini',\n",
       "            max_depth=None, max_features='auto', max_leaf_nodes=None,\n",
       "            min_impurity_decrease=0.0, min_impurity_split=None,\n",
       "            min_samples_leaf=1, min_samples_split=2,\n",
       "            min_weight_fraction_leaf=0.0, n_estimators=500, n_jobs=None,\n",
       "            oob_score=False, random_state=42, verbose=0, warm_start=False)"
      ]
     },
     "execution_count": 20,
     "metadata": {},
     "output_type": "execute_result"
    }
   ],
   "source": [
    "# Instantiate model with 10 decision trees - this will be our baseline model\n",
    "rf_rfe = RandomForestClassifier(n_estimators = 500, random_state = 42)\n",
    "# Train the model on training data\n",
    "rf_rfe.fit(train_features, train_labels.ravel()) #use ravel() - it flattens the array"
   ]
  },
  {
   "cell_type": "code",
   "execution_count": 21,
   "metadata": {},
   "outputs": [
    {
     "ename": "ValueError",
     "evalue": "cannot reshape array of size 837 into shape (80882,1)",
     "output_type": "error",
     "traceback": [
      "\u001b[0;31m---------------------------------------------------------------------------\u001b[0m",
      "\u001b[0;31mValueError\u001b[0m                                Traceback (most recent call last)",
      "\u001b[0;32m<ipython-input-21-099dc733f01b>\u001b[0m in \u001b[0;36m<module>\u001b[0;34m\u001b[0m\n\u001b[1;32m      2\u001b[0m \u001b[0mpredictions\u001b[0m \u001b[0;34m=\u001b[0m \u001b[0mrf_rfe\u001b[0m\u001b[0;34m.\u001b[0m\u001b[0mpredict\u001b[0m\u001b[0;34m(\u001b[0m\u001b[0mtest_features\u001b[0m\u001b[0;34m)\u001b[0m\u001b[0;34m\u001b[0m\u001b[0;34m\u001b[0m\u001b[0m\n\u001b[1;32m      3\u001b[0m \u001b[0;31m#reshape predictions to have 1 column to later use to concatenate\u001b[0m\u001b[0;34m\u001b[0m\u001b[0;34m\u001b[0m\u001b[0;34m\u001b[0m\u001b[0m\n\u001b[0;32m----> 4\u001b[0;31m \u001b[0mpredictions\u001b[0m \u001b[0;34m=\u001b[0m \u001b[0mpredictions\u001b[0m\u001b[0;34m.\u001b[0m\u001b[0mreshape\u001b[0m\u001b[0;34m(\u001b[0m\u001b[0;36m80882\u001b[0m\u001b[0;34m,\u001b[0m\u001b[0;36m1\u001b[0m\u001b[0;34m)\u001b[0m\u001b[0;34m\u001b[0m\u001b[0;34m\u001b[0m\u001b[0m\n\u001b[0m\u001b[1;32m      5\u001b[0m \u001b[0;34m\u001b[0m\u001b[0m\n\u001b[1;32m      6\u001b[0m \u001b[0mRMSE\u001b[0m \u001b[0;34m=\u001b[0m \u001b[0msqrt\u001b[0m\u001b[0;34m(\u001b[0m\u001b[0mmetrics\u001b[0m\u001b[0;34m.\u001b[0m\u001b[0mmean_squared_error\u001b[0m\u001b[0;34m(\u001b[0m\u001b[0mtest_labels\u001b[0m\u001b[0;34m,\u001b[0m \u001b[0mpredictions\u001b[0m\u001b[0;34m)\u001b[0m\u001b[0;34m)\u001b[0m\u001b[0;34m\u001b[0m\u001b[0;34m\u001b[0m\u001b[0m\n",
      "\u001b[0;31mValueError\u001b[0m: cannot reshape array of size 837 into shape (80882,1)"
     ]
    }
   ],
   "source": [
    "# Use the forest's predict method on the test data\n",
    "predictions = rf_rfe.predict(test_features)\n",
    "#reshape predictions to have 1 column to later use to concatenate\n",
    "predictions = predictions.reshape(80882,1)\n",
    "\n",
    "RMSE = sqrt(metrics.mean_squared_error(test_labels, predictions))\n",
    "print(\"[With RFE Features] RMSE when n_estimators = 10 is {}\".format(RMSE))\n",
    "# #RMSE: 0.4315343595981214 with n_estimators = 10\n",
    "\n",
    "LL = sqrt(metrics.log_loss(test_labels, predictions))\n",
    "print(\"[With RFE Features] Log Loss when n_estimators = 10 is {}\".format(LL))\n",
    "\n",
    "\n",
    "#  10 Trees\n",
    "# [With RFE Features] RMSE when n_estimators = 10 is 0.42384480681796866\n",
    "# [With RFE Features] Log Loss when n_estimators = 10 is 2.490928116292876"
   ]
  },
  {
   "cell_type": "markdown",
   "metadata": {},
   "source": [
    "**Summary:** Slightly better with RFE. (2.493498533810002 vs 2.490928116292876)"
   ]
  },
  {
   "cell_type": "code",
   "execution_count": 25,
   "metadata": {},
   "outputs": [
    {
     "name": "stdout",
     "output_type": "stream",
     "text": [
      "Model where n_estimator = 1 completed\n",
      "Model where n_estimator = 10 completed\n",
      "Model where n_estimator = 64 completed\n",
      "Model where n_estimator = 225 completed\n",
      "Model where n_estimator = 500 completed\n"
     ]
    },
    {
     "data": {
      "text/plain": [
       "[0.4372172238559687,\n",
       " 0.4372172238559687,\n",
       " 0.4372172238559687,\n",
       " 0.4372172238559687,\n",
       " 0.4372172238559687]"
      ]
     },
     "execution_count": 25,
     "metadata": {},
     "output_type": "execute_result"
    }
   ],
   "source": [
    "#try different n_estimators to see if we can find an optimal number of trees\n",
    "n_estimators = [1, 10, 64, 225, 500]\n",
    "\n",
    "ll_results = []\n",
    "auc_results = []\n",
    "\n",
    "for estimator in n_estimators:\n",
    "    rf = RandomForestClassifier(n_estimators=estimator, random_state = 42)\n",
    "    rf.fit(train_features, train_labels.ravel())\n",
    "    predictions = (rf.predict(test_features)).reshape(837,1)\n",
    "    fpr, tpr, thresholds = metrics.roc_curve(test_labels, predictions)\n",
    "    \n",
    "    #metrics\n",
    "    roc_auc = metrics.auc(fpr, tpr)\n",
    "    auc_results.append(roc_auc)\n",
    "    LL = sqrt(metrics.log_loss(test_labels, predictions))\n",
    "    ll_results.append(RMSE)\n",
    "    \n",
    "    print((\"Model where n_estimator = {} completed\").format(estimator))\n",
    "    \n",
    "    \n",
    "ll_results\n",
    "# auc_results"
   ]
  },
  {
   "cell_type": "code",
   "execution_count": 26,
   "metadata": {},
   "outputs": [
    {
     "data": {
      "text/plain": [
       "[0.4372172238559687,\n",
       " 0.4372172238559687,\n",
       " 0.4372172238559687,\n",
       " 0.4372172238559687,\n",
       " 0.4372172238559687]"
      ]
     },
     "execution_count": 26,
     "metadata": {},
     "output_type": "execute_result"
    }
   ],
   "source": [
    "ll_results"
   ]
  },
  {
   "cell_type": "code",
   "execution_count": null,
   "metadata": {},
   "outputs": [],
   "source": []
  },
  {
   "cell_type": "code",
   "execution_count": null,
   "metadata": {},
   "outputs": [],
   "source": []
  }
 ],
 "metadata": {
  "kernelspec": {
   "display_name": "Python 3",
   "language": "python",
   "name": "python3"
  },
  "language_info": {
   "codemirror_mode": {
    "name": "ipython",
    "version": 3
   },
   "file_extension": ".py",
   "mimetype": "text/x-python",
   "name": "python",
   "nbconvert_exporter": "python",
   "pygments_lexer": "ipython3",
   "version": "3.7.1"
  }
 },
 "nbformat": 4,
 "nbformat_minor": 2
}
