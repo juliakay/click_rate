{
 "cells": [
  {
   "cell_type": "markdown",
   "metadata": {},
   "source": [
    "# Avazu - Click-Through Rate Prediction"
   ]
  },
  {
   "cell_type": "markdown",
   "metadata": {},
   "source": [
    "Julia Kang - jkang613@gmail.com - AMLI 2019 - Mills College"
   ]
  },
  {
   "cell_type": "markdown",
   "metadata": {},
   "source": [
    "**References:**  \n",
    "Original Source: https://www.kaggle.com/c/avazu-ctr-prediction   \n",
    "Sample Data Preprocessing: https://towardsdatascience.com/mobile-ads-click-through-rate-ctr-prediction-44fdac40c6ff  \n",
    "Wining Solution: https://www.csie.ntu.edu.tw/~r01922136/slides/kaggle-avazu.pdf   \n",
    "Sample Logisitic Reg: https://turi.com/learn/gallery/notebooks/click_through_rate_prediction_intro.html  \n",
    "Another Medium post: https://becominghuman.ai/predicting-click-probabilities-on-a-leading-advertising-platform-7582633e6e78  \n",
    "Logistic Reg: https://towardsdatascience.com/building-a-logistic-regression-in-python-step-by-step-becd4d56c9c8   \n",
    "Random Forests - Tuning: https://medium.com/all-things-ai/in-depth-parameter-tuning-for-random-forest-d67bb7e920d   \n",
    "\n",
    "\n"
   ]
  },
  {
   "cell_type": "markdown",
   "metadata": {},
   "source": [
    "# Import Libraries"
   ]
  },
  {
   "cell_type": "code",
   "execution_count": 1,
   "metadata": {},
   "outputs": [
    {
     "name": "stderr",
     "output_type": "stream",
     "text": [
      "/anaconda3/lib/python3.6/site-packages/sklearn/ensemble/weight_boosting.py:29: DeprecationWarning: numpy.core.umath_tests is an internal NumPy module and should not be imported. It will be removed in a future NumPy release.\n",
      "  from numpy.core.umath_tests import inner1d\n",
      "/anaconda3/lib/python3.6/site-packages/h5py/__init__.py:36: FutureWarning: Conversion of the second argument of issubdtype from `float` to `np.floating` is deprecated. In future, it will be treated as `np.float64 == np.dtype(float).type`.\n",
      "  from ._conv import register_converters as _register_converters\n"
     ]
    }
   ],
   "source": [
    "import pandas as pd\n",
    "import numpy as np\n",
    "import multiprocessing as mp\n",
    "import psutil\n",
    "import random\n",
    "import datetime\n",
    "import matplotlib.pyplot as plt\n",
    "from sklearn.model_selection import train_test_split\n",
    "from sklearn import linear_model\n",
    "# from sklearn import model_selection\n",
    "from sklearn.linear_model import LogisticRegression\n",
    "from sklearn.preprocessing import OneHotEncoder\n",
    "from sklearn.preprocessing import LabelEncoder\n",
    "from sklearn import metrics\n",
    "from sklearn.ensemble import RandomForestClassifier\n",
    "from math import sqrt #for RMSE\n",
    "# from sklearn.metrics import mean_squared_error\n",
    "# from sklearn.metrics import roc_curve, auc\n",
    "\n",
    "\n",
    "# #to visual random forest\n",
    "# import pydotplus\n",
    "# from IPython.display import Image  \n",
    "# from sklearn.externals.six import StringIO  \n",
    "\n",
    "import tensorflow as tf \n",
    "from tensorflow.feature_column import numeric_column,categorical_column_with_hash_bucket,categorical_column_with_vocabulary_list\n",
    "from tensorflow.estimator import LinearClassifier\n",
    "from tensorflow import keras\n",
    "from tensorflow.data import Dataset"
   ]
  },
  {
   "cell_type": "markdown",
   "metadata": {},
   "source": [
    "# Load in Data"
   ]
  },
  {
   "cell_type": "code",
   "execution_count": 6,
   "metadata": {},
   "outputs": [],
   "source": [
    "#read in the original csv file\n",
    "\n",
    "# df = pd.read_csv('../data/train_sample.csv')\n",
    "\n",
    "# df.head()"
   ]
  },
  {
   "cell_type": "code",
   "execution_count": 7,
   "metadata": {},
   "outputs": [],
   "source": [
    "# Check the number of cores and memory usage\n",
    "# num_cores = mp.cpu_count()\n",
    "# print(\"This kernel has \",num_cores,\"cores and you can find the information regarding the memory usage:\",psutil.virtual_memory())"
   ]
  },
  {
   "cell_type": "code",
   "execution_count": 8,
   "metadata": {},
   "outputs": [],
   "source": [
    "# p = 0.01  # 1% of the lines\n",
    "# # keep the header, then take only 1% of lines\n",
    "# # if random from [0,1] interval is greater than 0.01 the row will be skipped\n",
    "# filename = '../data/train_ds.csv'\n",
    "\n",
    "# df_new = pd.read_csv(\n",
    "#          filename,\n",
    "#          header=0, \n",
    "#          skiprows=lambda i: i>0 and random.random() > p\n",
    "# )\n",
    "\n",
    "\n",
    "# IN THE FUTURE: WE CAN STRATIFY/CREATE SUBSETS BASED ON SPECIFIC FEATURES"
   ]
  },
  {
   "cell_type": "code",
   "execution_count": 9,
   "metadata": {},
   "outputs": [],
   "source": [
    "#view the shape of the randomly selected sample we generated\n",
    "# df_new.shape"
   ]
  },
  {
   "cell_type": "code",
   "execution_count": 10,
   "metadata": {},
   "outputs": [],
   "source": [
    "# df_new.head()"
   ]
  },
  {
   "cell_type": "code",
   "execution_count": 11,
   "metadata": {},
   "outputs": [],
   "source": [
    "#create new csv that is randomly sampled from originally training set that has 404,410 rows - it's been moved to the\n",
    "#data folder\n",
    "\n",
    "# df_new.to_csv(\"rand_sample_csv.csv\")"
   ]
  },
  {
   "cell_type": "code",
   "execution_count": 120,
   "metadata": {},
   "outputs": [],
   "source": [
    "# #read the csv file we created and make sure to pass the 'hour' column as the correct dtype\n",
    "\n",
    "# sub_df = pd.read_csv('rand_sample_csv.csv', parse_dates=['hour'])"
   ]
  },
  {
   "cell_type": "code",
   "execution_count": 121,
   "metadata": {},
   "outputs": [
    {
     "data": {
      "text/html": [
       "<div>\n",
       "<style scoped>\n",
       "    .dataframe tbody tr th:only-of-type {\n",
       "        vertical-align: middle;\n",
       "    }\n",
       "\n",
       "    .dataframe tbody tr th {\n",
       "        vertical-align: top;\n",
       "    }\n",
       "\n",
       "    .dataframe thead th {\n",
       "        text-align: right;\n",
       "    }\n",
       "</style>\n",
       "<table border=\"1\" class=\"dataframe\">\n",
       "  <thead>\n",
       "    <tr style=\"text-align: right;\">\n",
       "      <th></th>\n",
       "      <th>Unnamed: 0</th>\n",
       "      <th>id</th>\n",
       "      <th>click</th>\n",
       "      <th>hour</th>\n",
       "      <th>C1</th>\n",
       "      <th>banner_pos</th>\n",
       "      <th>site_id</th>\n",
       "      <th>site_domain</th>\n",
       "      <th>site_category</th>\n",
       "      <th>app_id</th>\n",
       "      <th>...</th>\n",
       "      <th>device_type</th>\n",
       "      <th>device_conn_type</th>\n",
       "      <th>C14</th>\n",
       "      <th>C15</th>\n",
       "      <th>C16</th>\n",
       "      <th>C17</th>\n",
       "      <th>C18</th>\n",
       "      <th>C19</th>\n",
       "      <th>C20</th>\n",
       "      <th>C21</th>\n",
       "    </tr>\n",
       "  </thead>\n",
       "  <tbody>\n",
       "    <tr>\n",
       "      <th>0</th>\n",
       "      <td>0</td>\n",
       "      <td>10004510652136496837</td>\n",
       "      <td>0</td>\n",
       "      <td>14102100</td>\n",
       "      <td>1005</td>\n",
       "      <td>0</td>\n",
       "      <td>543a539e</td>\n",
       "      <td>c7ca3108</td>\n",
       "      <td>3e814130</td>\n",
       "      <td>ecad2386</td>\n",
       "      <td>...</td>\n",
       "      <td>1</td>\n",
       "      <td>0</td>\n",
       "      <td>20352</td>\n",
       "      <td>320</td>\n",
       "      <td>50</td>\n",
       "      <td>2333</td>\n",
       "      <td>0</td>\n",
       "      <td>39</td>\n",
       "      <td>-1</td>\n",
       "      <td>157</td>\n",
       "    </tr>\n",
       "    <tr>\n",
       "      <th>1</th>\n",
       "      <td>1</td>\n",
       "      <td>10007164336863914220</td>\n",
       "      <td>1</td>\n",
       "      <td>14102100</td>\n",
       "      <td>1005</td>\n",
       "      <td>0</td>\n",
       "      <td>1fbe01fe</td>\n",
       "      <td>f3845767</td>\n",
       "      <td>28905ebd</td>\n",
       "      <td>ecad2386</td>\n",
       "      <td>...</td>\n",
       "      <td>1</td>\n",
       "      <td>0</td>\n",
       "      <td>15706</td>\n",
       "      <td>320</td>\n",
       "      <td>50</td>\n",
       "      <td>1722</td>\n",
       "      <td>0</td>\n",
       "      <td>35</td>\n",
       "      <td>-1</td>\n",
       "      <td>79</td>\n",
       "    </tr>\n",
       "    <tr>\n",
       "      <th>2</th>\n",
       "      <td>2</td>\n",
       "      <td>10076859283156800622</td>\n",
       "      <td>0</td>\n",
       "      <td>14102100</td>\n",
       "      <td>1002</td>\n",
       "      <td>0</td>\n",
       "      <td>f17ebd97</td>\n",
       "      <td>c4e18dd6</td>\n",
       "      <td>50e219e0</td>\n",
       "      <td>ecad2386</td>\n",
       "      <td>...</td>\n",
       "      <td>0</td>\n",
       "      <td>0</td>\n",
       "      <td>21692</td>\n",
       "      <td>216</td>\n",
       "      <td>36</td>\n",
       "      <td>2497</td>\n",
       "      <td>3</td>\n",
       "      <td>43</td>\n",
       "      <td>100151</td>\n",
       "      <td>42</td>\n",
       "    </tr>\n",
       "    <tr>\n",
       "      <th>3</th>\n",
       "      <td>3</td>\n",
       "      <td>10078825124049580646</td>\n",
       "      <td>0</td>\n",
       "      <td>14102100</td>\n",
       "      <td>1005</td>\n",
       "      <td>0</td>\n",
       "      <td>1fbe01fe</td>\n",
       "      <td>f3845767</td>\n",
       "      <td>28905ebd</td>\n",
       "      <td>ecad2386</td>\n",
       "      <td>...</td>\n",
       "      <td>1</td>\n",
       "      <td>0</td>\n",
       "      <td>15705</td>\n",
       "      <td>320</td>\n",
       "      <td>50</td>\n",
       "      <td>1722</td>\n",
       "      <td>0</td>\n",
       "      <td>35</td>\n",
       "      <td>-1</td>\n",
       "      <td>79</td>\n",
       "    </tr>\n",
       "    <tr>\n",
       "      <th>4</th>\n",
       "      <td>4</td>\n",
       "      <td>10085233430943183912</td>\n",
       "      <td>0</td>\n",
       "      <td>14102100</td>\n",
       "      <td>1005</td>\n",
       "      <td>0</td>\n",
       "      <td>1fbe01fe</td>\n",
       "      <td>f3845767</td>\n",
       "      <td>28905ebd</td>\n",
       "      <td>ecad2386</td>\n",
       "      <td>...</td>\n",
       "      <td>1</td>\n",
       "      <td>0</td>\n",
       "      <td>15701</td>\n",
       "      <td>320</td>\n",
       "      <td>50</td>\n",
       "      <td>1722</td>\n",
       "      <td>0</td>\n",
       "      <td>35</td>\n",
       "      <td>-1</td>\n",
       "      <td>79</td>\n",
       "    </tr>\n",
       "  </tbody>\n",
       "</table>\n",
       "<p>5 rows × 25 columns</p>\n",
       "</div>"
      ],
      "text/plain": [
       "   Unnamed: 0                    id  click      hour    C1  banner_pos  \\\n",
       "0           0  10004510652136496837      0  14102100  1005           0   \n",
       "1           1  10007164336863914220      1  14102100  1005           0   \n",
       "2           2  10076859283156800622      0  14102100  1002           0   \n",
       "3           3  10078825124049580646      0  14102100  1005           0   \n",
       "4           4  10085233430943183912      0  14102100  1005           0   \n",
       "\n",
       "    site_id site_domain site_category    app_id ...  device_type  \\\n",
       "0  543a539e    c7ca3108      3e814130  ecad2386 ...            1   \n",
       "1  1fbe01fe    f3845767      28905ebd  ecad2386 ...            1   \n",
       "2  f17ebd97    c4e18dd6      50e219e0  ecad2386 ...            0   \n",
       "3  1fbe01fe    f3845767      28905ebd  ecad2386 ...            1   \n",
       "4  1fbe01fe    f3845767      28905ebd  ecad2386 ...            1   \n",
       "\n",
       "  device_conn_type    C14  C15 C16   C17  C18  C19     C20  C21  \n",
       "0                0  20352  320  50  2333    0   39      -1  157  \n",
       "1                0  15706  320  50  1722    0   35      -1   79  \n",
       "2                0  21692  216  36  2497    3   43  100151   42  \n",
       "3                0  15705  320  50  1722    0   35      -1   79  \n",
       "4                0  15701  320  50  1722    0   35      -1   79  \n",
       "\n",
       "[5 rows x 25 columns]"
      ]
     },
     "execution_count": 121,
     "metadata": {},
     "output_type": "execute_result"
    }
   ],
   "source": [
    "# sub_df.head() #preview the data"
   ]
  },
  {
   "cell_type": "code",
   "execution_count": 122,
   "metadata": {},
   "outputs": [],
   "source": [
    "# #Drop the original indexing column known as \"Unnamed: 0\"\n",
    "# sub_df.columns #read through the column names so we can delete the first column since it is useless\n",
    "# sub_df = sub_df.drop('Unnamed: 0', axis = 1) "
   ]
  },
  {
   "cell_type": "code",
   "execution_count": 123,
   "metadata": {},
   "outputs": [
    {
     "data": {
      "text/html": [
       "<div>\n",
       "<style scoped>\n",
       "    .dataframe tbody tr th:only-of-type {\n",
       "        vertical-align: middle;\n",
       "    }\n",
       "\n",
       "    .dataframe tbody tr th {\n",
       "        vertical-align: top;\n",
       "    }\n",
       "\n",
       "    .dataframe thead th {\n",
       "        text-align: right;\n",
       "    }\n",
       "</style>\n",
       "<table border=\"1\" class=\"dataframe\">\n",
       "  <thead>\n",
       "    <tr style=\"text-align: right;\">\n",
       "      <th></th>\n",
       "      <th>id</th>\n",
       "      <th>click</th>\n",
       "      <th>hour</th>\n",
       "      <th>C1</th>\n",
       "      <th>banner_pos</th>\n",
       "      <th>site_id</th>\n",
       "      <th>site_domain</th>\n",
       "      <th>site_category</th>\n",
       "      <th>app_id</th>\n",
       "      <th>app_domain</th>\n",
       "      <th>...</th>\n",
       "      <th>device_type</th>\n",
       "      <th>device_conn_type</th>\n",
       "      <th>C14</th>\n",
       "      <th>C15</th>\n",
       "      <th>C16</th>\n",
       "      <th>C17</th>\n",
       "      <th>C18</th>\n",
       "      <th>C19</th>\n",
       "      <th>C20</th>\n",
       "      <th>C21</th>\n",
       "    </tr>\n",
       "  </thead>\n",
       "  <tbody>\n",
       "    <tr>\n",
       "      <th>0</th>\n",
       "      <td>10004510652136496837</td>\n",
       "      <td>0</td>\n",
       "      <td>14102100</td>\n",
       "      <td>1005</td>\n",
       "      <td>0</td>\n",
       "      <td>543a539e</td>\n",
       "      <td>c7ca3108</td>\n",
       "      <td>3e814130</td>\n",
       "      <td>ecad2386</td>\n",
       "      <td>7801e8d9</td>\n",
       "      <td>...</td>\n",
       "      <td>1</td>\n",
       "      <td>0</td>\n",
       "      <td>20352</td>\n",
       "      <td>320</td>\n",
       "      <td>50</td>\n",
       "      <td>2333</td>\n",
       "      <td>0</td>\n",
       "      <td>39</td>\n",
       "      <td>-1</td>\n",
       "      <td>157</td>\n",
       "    </tr>\n",
       "    <tr>\n",
       "      <th>1</th>\n",
       "      <td>10007164336863914220</td>\n",
       "      <td>1</td>\n",
       "      <td>14102100</td>\n",
       "      <td>1005</td>\n",
       "      <td>0</td>\n",
       "      <td>1fbe01fe</td>\n",
       "      <td>f3845767</td>\n",
       "      <td>28905ebd</td>\n",
       "      <td>ecad2386</td>\n",
       "      <td>7801e8d9</td>\n",
       "      <td>...</td>\n",
       "      <td>1</td>\n",
       "      <td>0</td>\n",
       "      <td>15706</td>\n",
       "      <td>320</td>\n",
       "      <td>50</td>\n",
       "      <td>1722</td>\n",
       "      <td>0</td>\n",
       "      <td>35</td>\n",
       "      <td>-1</td>\n",
       "      <td>79</td>\n",
       "    </tr>\n",
       "    <tr>\n",
       "      <th>2</th>\n",
       "      <td>10076859283156800622</td>\n",
       "      <td>0</td>\n",
       "      <td>14102100</td>\n",
       "      <td>1002</td>\n",
       "      <td>0</td>\n",
       "      <td>f17ebd97</td>\n",
       "      <td>c4e18dd6</td>\n",
       "      <td>50e219e0</td>\n",
       "      <td>ecad2386</td>\n",
       "      <td>7801e8d9</td>\n",
       "      <td>...</td>\n",
       "      <td>0</td>\n",
       "      <td>0</td>\n",
       "      <td>21692</td>\n",
       "      <td>216</td>\n",
       "      <td>36</td>\n",
       "      <td>2497</td>\n",
       "      <td>3</td>\n",
       "      <td>43</td>\n",
       "      <td>100151</td>\n",
       "      <td>42</td>\n",
       "    </tr>\n",
       "    <tr>\n",
       "      <th>3</th>\n",
       "      <td>10078825124049580646</td>\n",
       "      <td>0</td>\n",
       "      <td>14102100</td>\n",
       "      <td>1005</td>\n",
       "      <td>0</td>\n",
       "      <td>1fbe01fe</td>\n",
       "      <td>f3845767</td>\n",
       "      <td>28905ebd</td>\n",
       "      <td>ecad2386</td>\n",
       "      <td>7801e8d9</td>\n",
       "      <td>...</td>\n",
       "      <td>1</td>\n",
       "      <td>0</td>\n",
       "      <td>15705</td>\n",
       "      <td>320</td>\n",
       "      <td>50</td>\n",
       "      <td>1722</td>\n",
       "      <td>0</td>\n",
       "      <td>35</td>\n",
       "      <td>-1</td>\n",
       "      <td>79</td>\n",
       "    </tr>\n",
       "    <tr>\n",
       "      <th>4</th>\n",
       "      <td>10085233430943183912</td>\n",
       "      <td>0</td>\n",
       "      <td>14102100</td>\n",
       "      <td>1005</td>\n",
       "      <td>0</td>\n",
       "      <td>1fbe01fe</td>\n",
       "      <td>f3845767</td>\n",
       "      <td>28905ebd</td>\n",
       "      <td>ecad2386</td>\n",
       "      <td>7801e8d9</td>\n",
       "      <td>...</td>\n",
       "      <td>1</td>\n",
       "      <td>0</td>\n",
       "      <td>15701</td>\n",
       "      <td>320</td>\n",
       "      <td>50</td>\n",
       "      <td>1722</td>\n",
       "      <td>0</td>\n",
       "      <td>35</td>\n",
       "      <td>-1</td>\n",
       "      <td>79</td>\n",
       "    </tr>\n",
       "  </tbody>\n",
       "</table>\n",
       "<p>5 rows × 24 columns</p>\n",
       "</div>"
      ],
      "text/plain": [
       "                     id  click      hour    C1  banner_pos   site_id  \\\n",
       "0  10004510652136496837      0  14102100  1005           0  543a539e   \n",
       "1  10007164336863914220      1  14102100  1005           0  1fbe01fe   \n",
       "2  10076859283156800622      0  14102100  1002           0  f17ebd97   \n",
       "3  10078825124049580646      0  14102100  1005           0  1fbe01fe   \n",
       "4  10085233430943183912      0  14102100  1005           0  1fbe01fe   \n",
       "\n",
       "  site_domain site_category    app_id app_domain ...  device_type  \\\n",
       "0    c7ca3108      3e814130  ecad2386   7801e8d9 ...            1   \n",
       "1    f3845767      28905ebd  ecad2386   7801e8d9 ...            1   \n",
       "2    c4e18dd6      50e219e0  ecad2386   7801e8d9 ...            0   \n",
       "3    f3845767      28905ebd  ecad2386   7801e8d9 ...            1   \n",
       "4    f3845767      28905ebd  ecad2386   7801e8d9 ...            1   \n",
       "\n",
       "  device_conn_type    C14  C15  C16   C17  C18  C19     C20  C21  \n",
       "0                0  20352  320   50  2333    0   39      -1  157  \n",
       "1                0  15706  320   50  1722    0   35      -1   79  \n",
       "2                0  21692  216   36  2497    3   43  100151   42  \n",
       "3                0  15705  320   50  1722    0   35      -1   79  \n",
       "4                0  15701  320   50  1722    0   35      -1   79  \n",
       "\n",
       "[5 rows x 24 columns]"
      ]
     },
     "execution_count": 123,
     "metadata": {},
     "output_type": "execute_result"
    }
   ],
   "source": [
    "# sub_df.head() #check to make sure the column deletion was successful"
   ]
  },
  {
   "cell_type": "markdown",
   "metadata": {},
   "source": [
    "# Feature Engineering"
   ]
  },
  {
   "cell_type": "code",
   "execution_count": 124,
   "metadata": {},
   "outputs": [],
   "source": [
    "# # feature engineering - work on the hour column and separate the hour and time into new columns\n",
    "# parse_date = lambda val : pd.datetime.strptime(val, '%y%m%d%H')\n",
    "# sub_df['new_hour'] = sub_df['hour'].apply(parse_date)\n",
    "# # sub_df['new_hour']"
   ]
  },
  {
   "cell_type": "code",
   "execution_count": 125,
   "metadata": {},
   "outputs": [],
   "source": [
    "# sub_df['new_date'] = [d.date() for d in sub_df['new_hour']]\n",
    "# sub_df['new_time'] = [d.time() for d in sub_df['new_hour']]"
   ]
  },
  {
   "cell_type": "code",
   "execution_count": 126,
   "metadata": {},
   "outputs": [],
   "source": [
    "# day_of_week = lambda val : val.weekday()\n",
    "# sub_df['day_of_week'] = sub_df['new_date'].apply(day_of_week) #Monday is 0 and Sunday is 6\n",
    "\n",
    "#IN THE FUTURE LETS USE ONE HOT ENCODER"
   ]
  },
  {
   "cell_type": "code",
   "execution_count": 127,
   "metadata": {},
   "outputs": [
    {
     "data": {
      "text/html": [
       "<div>\n",
       "<style scoped>\n",
       "    .dataframe tbody tr th:only-of-type {\n",
       "        vertical-align: middle;\n",
       "    }\n",
       "\n",
       "    .dataframe tbody tr th {\n",
       "        vertical-align: top;\n",
       "    }\n",
       "\n",
       "    .dataframe thead th {\n",
       "        text-align: right;\n",
       "    }\n",
       "</style>\n",
       "<table border=\"1\" class=\"dataframe\">\n",
       "  <thead>\n",
       "    <tr style=\"text-align: right;\">\n",
       "      <th></th>\n",
       "      <th>id</th>\n",
       "      <th>click</th>\n",
       "      <th>hour</th>\n",
       "      <th>C1</th>\n",
       "      <th>banner_pos</th>\n",
       "      <th>site_id</th>\n",
       "      <th>site_domain</th>\n",
       "      <th>site_category</th>\n",
       "      <th>app_id</th>\n",
       "      <th>app_domain</th>\n",
       "      <th>...</th>\n",
       "      <th>C16</th>\n",
       "      <th>C17</th>\n",
       "      <th>C18</th>\n",
       "      <th>C19</th>\n",
       "      <th>C20</th>\n",
       "      <th>C21</th>\n",
       "      <th>new_hour</th>\n",
       "      <th>new_date</th>\n",
       "      <th>new_time</th>\n",
       "      <th>day_of_week</th>\n",
       "    </tr>\n",
       "  </thead>\n",
       "  <tbody>\n",
       "    <tr>\n",
       "      <th>0</th>\n",
       "      <td>10004510652136496837</td>\n",
       "      <td>0</td>\n",
       "      <td>14102100</td>\n",
       "      <td>1005</td>\n",
       "      <td>0</td>\n",
       "      <td>543a539e</td>\n",
       "      <td>c7ca3108</td>\n",
       "      <td>3e814130</td>\n",
       "      <td>ecad2386</td>\n",
       "      <td>7801e8d9</td>\n",
       "      <td>...</td>\n",
       "      <td>50</td>\n",
       "      <td>2333</td>\n",
       "      <td>0</td>\n",
       "      <td>39</td>\n",
       "      <td>-1</td>\n",
       "      <td>157</td>\n",
       "      <td>2014-10-21</td>\n",
       "      <td>2014-10-21</td>\n",
       "      <td>00:00:00</td>\n",
       "      <td>1</td>\n",
       "    </tr>\n",
       "    <tr>\n",
       "      <th>1</th>\n",
       "      <td>10007164336863914220</td>\n",
       "      <td>1</td>\n",
       "      <td>14102100</td>\n",
       "      <td>1005</td>\n",
       "      <td>0</td>\n",
       "      <td>1fbe01fe</td>\n",
       "      <td>f3845767</td>\n",
       "      <td>28905ebd</td>\n",
       "      <td>ecad2386</td>\n",
       "      <td>7801e8d9</td>\n",
       "      <td>...</td>\n",
       "      <td>50</td>\n",
       "      <td>1722</td>\n",
       "      <td>0</td>\n",
       "      <td>35</td>\n",
       "      <td>-1</td>\n",
       "      <td>79</td>\n",
       "      <td>2014-10-21</td>\n",
       "      <td>2014-10-21</td>\n",
       "      <td>00:00:00</td>\n",
       "      <td>1</td>\n",
       "    </tr>\n",
       "    <tr>\n",
       "      <th>2</th>\n",
       "      <td>10076859283156800622</td>\n",
       "      <td>0</td>\n",
       "      <td>14102100</td>\n",
       "      <td>1002</td>\n",
       "      <td>0</td>\n",
       "      <td>f17ebd97</td>\n",
       "      <td>c4e18dd6</td>\n",
       "      <td>50e219e0</td>\n",
       "      <td>ecad2386</td>\n",
       "      <td>7801e8d9</td>\n",
       "      <td>...</td>\n",
       "      <td>36</td>\n",
       "      <td>2497</td>\n",
       "      <td>3</td>\n",
       "      <td>43</td>\n",
       "      <td>100151</td>\n",
       "      <td>42</td>\n",
       "      <td>2014-10-21</td>\n",
       "      <td>2014-10-21</td>\n",
       "      <td>00:00:00</td>\n",
       "      <td>1</td>\n",
       "    </tr>\n",
       "    <tr>\n",
       "      <th>3</th>\n",
       "      <td>10078825124049580646</td>\n",
       "      <td>0</td>\n",
       "      <td>14102100</td>\n",
       "      <td>1005</td>\n",
       "      <td>0</td>\n",
       "      <td>1fbe01fe</td>\n",
       "      <td>f3845767</td>\n",
       "      <td>28905ebd</td>\n",
       "      <td>ecad2386</td>\n",
       "      <td>7801e8d9</td>\n",
       "      <td>...</td>\n",
       "      <td>50</td>\n",
       "      <td>1722</td>\n",
       "      <td>0</td>\n",
       "      <td>35</td>\n",
       "      <td>-1</td>\n",
       "      <td>79</td>\n",
       "      <td>2014-10-21</td>\n",
       "      <td>2014-10-21</td>\n",
       "      <td>00:00:00</td>\n",
       "      <td>1</td>\n",
       "    </tr>\n",
       "    <tr>\n",
       "      <th>4</th>\n",
       "      <td>10085233430943183912</td>\n",
       "      <td>0</td>\n",
       "      <td>14102100</td>\n",
       "      <td>1005</td>\n",
       "      <td>0</td>\n",
       "      <td>1fbe01fe</td>\n",
       "      <td>f3845767</td>\n",
       "      <td>28905ebd</td>\n",
       "      <td>ecad2386</td>\n",
       "      <td>7801e8d9</td>\n",
       "      <td>...</td>\n",
       "      <td>50</td>\n",
       "      <td>1722</td>\n",
       "      <td>0</td>\n",
       "      <td>35</td>\n",
       "      <td>-1</td>\n",
       "      <td>79</td>\n",
       "      <td>2014-10-21</td>\n",
       "      <td>2014-10-21</td>\n",
       "      <td>00:00:00</td>\n",
       "      <td>1</td>\n",
       "    </tr>\n",
       "  </tbody>\n",
       "</table>\n",
       "<p>5 rows × 28 columns</p>\n",
       "</div>"
      ],
      "text/plain": [
       "                     id  click      hour    C1  banner_pos   site_id  \\\n",
       "0  10004510652136496837      0  14102100  1005           0  543a539e   \n",
       "1  10007164336863914220      1  14102100  1005           0  1fbe01fe   \n",
       "2  10076859283156800622      0  14102100  1002           0  f17ebd97   \n",
       "3  10078825124049580646      0  14102100  1005           0  1fbe01fe   \n",
       "4  10085233430943183912      0  14102100  1005           0  1fbe01fe   \n",
       "\n",
       "  site_domain site_category    app_id app_domain     ...      C16   C17 C18  \\\n",
       "0    c7ca3108      3e814130  ecad2386   7801e8d9     ...       50  2333   0   \n",
       "1    f3845767      28905ebd  ecad2386   7801e8d9     ...       50  1722   0   \n",
       "2    c4e18dd6      50e219e0  ecad2386   7801e8d9     ...       36  2497   3   \n",
       "3    f3845767      28905ebd  ecad2386   7801e8d9     ...       50  1722   0   \n",
       "4    f3845767      28905ebd  ecad2386   7801e8d9     ...       50  1722   0   \n",
       "\n",
       "  C19     C20  C21   new_hour    new_date  new_time  day_of_week  \n",
       "0  39      -1  157 2014-10-21  2014-10-21  00:00:00            1  \n",
       "1  35      -1   79 2014-10-21  2014-10-21  00:00:00            1  \n",
       "2  43  100151   42 2014-10-21  2014-10-21  00:00:00            1  \n",
       "3  35      -1   79 2014-10-21  2014-10-21  00:00:00            1  \n",
       "4  35      -1   79 2014-10-21  2014-10-21  00:00:00            1  \n",
       "\n",
       "[5 rows x 28 columns]"
      ]
     },
     "execution_count": 127,
     "metadata": {},
     "output_type": "execute_result"
    }
   ],
   "source": [
    "# sub_df.head() #check if column creation was successful"
   ]
  },
  {
   "cell_type": "code",
   "execution_count": 128,
   "metadata": {},
   "outputs": [],
   "source": [
    "# sub_df = sub_df.drop('new_hour', axis = 1) #drop the 'new_hour' column do eliminate redundancy "
   ]
  },
  {
   "cell_type": "code",
   "execution_count": 129,
   "metadata": {},
   "outputs": [
    {
     "data": {
      "text/html": [
       "<div>\n",
       "<style scoped>\n",
       "    .dataframe tbody tr th:only-of-type {\n",
       "        vertical-align: middle;\n",
       "    }\n",
       "\n",
       "    .dataframe tbody tr th {\n",
       "        vertical-align: top;\n",
       "    }\n",
       "\n",
       "    .dataframe thead th {\n",
       "        text-align: right;\n",
       "    }\n",
       "</style>\n",
       "<table border=\"1\" class=\"dataframe\">\n",
       "  <thead>\n",
       "    <tr style=\"text-align: right;\">\n",
       "      <th></th>\n",
       "      <th>id</th>\n",
       "      <th>click</th>\n",
       "      <th>hour</th>\n",
       "      <th>C1</th>\n",
       "      <th>banner_pos</th>\n",
       "      <th>site_id</th>\n",
       "      <th>site_domain</th>\n",
       "      <th>site_category</th>\n",
       "      <th>app_id</th>\n",
       "      <th>app_domain</th>\n",
       "      <th>...</th>\n",
       "      <th>C15</th>\n",
       "      <th>C16</th>\n",
       "      <th>C17</th>\n",
       "      <th>C18</th>\n",
       "      <th>C19</th>\n",
       "      <th>C20</th>\n",
       "      <th>C21</th>\n",
       "      <th>new_date</th>\n",
       "      <th>new_time</th>\n",
       "      <th>day_of_week</th>\n",
       "    </tr>\n",
       "  </thead>\n",
       "  <tbody>\n",
       "    <tr>\n",
       "      <th>0</th>\n",
       "      <td>10004510652136496837</td>\n",
       "      <td>0</td>\n",
       "      <td>14102100</td>\n",
       "      <td>1005</td>\n",
       "      <td>0</td>\n",
       "      <td>543a539e</td>\n",
       "      <td>c7ca3108</td>\n",
       "      <td>3e814130</td>\n",
       "      <td>ecad2386</td>\n",
       "      <td>7801e8d9</td>\n",
       "      <td>...</td>\n",
       "      <td>320</td>\n",
       "      <td>50</td>\n",
       "      <td>2333</td>\n",
       "      <td>0</td>\n",
       "      <td>39</td>\n",
       "      <td>-1</td>\n",
       "      <td>157</td>\n",
       "      <td>2014-10-21</td>\n",
       "      <td>00:00:00</td>\n",
       "      <td>1</td>\n",
       "    </tr>\n",
       "    <tr>\n",
       "      <th>1</th>\n",
       "      <td>10007164336863914220</td>\n",
       "      <td>1</td>\n",
       "      <td>14102100</td>\n",
       "      <td>1005</td>\n",
       "      <td>0</td>\n",
       "      <td>1fbe01fe</td>\n",
       "      <td>f3845767</td>\n",
       "      <td>28905ebd</td>\n",
       "      <td>ecad2386</td>\n",
       "      <td>7801e8d9</td>\n",
       "      <td>...</td>\n",
       "      <td>320</td>\n",
       "      <td>50</td>\n",
       "      <td>1722</td>\n",
       "      <td>0</td>\n",
       "      <td>35</td>\n",
       "      <td>-1</td>\n",
       "      <td>79</td>\n",
       "      <td>2014-10-21</td>\n",
       "      <td>00:00:00</td>\n",
       "      <td>1</td>\n",
       "    </tr>\n",
       "    <tr>\n",
       "      <th>2</th>\n",
       "      <td>10076859283156800622</td>\n",
       "      <td>0</td>\n",
       "      <td>14102100</td>\n",
       "      <td>1002</td>\n",
       "      <td>0</td>\n",
       "      <td>f17ebd97</td>\n",
       "      <td>c4e18dd6</td>\n",
       "      <td>50e219e0</td>\n",
       "      <td>ecad2386</td>\n",
       "      <td>7801e8d9</td>\n",
       "      <td>...</td>\n",
       "      <td>216</td>\n",
       "      <td>36</td>\n",
       "      <td>2497</td>\n",
       "      <td>3</td>\n",
       "      <td>43</td>\n",
       "      <td>100151</td>\n",
       "      <td>42</td>\n",
       "      <td>2014-10-21</td>\n",
       "      <td>00:00:00</td>\n",
       "      <td>1</td>\n",
       "    </tr>\n",
       "    <tr>\n",
       "      <th>3</th>\n",
       "      <td>10078825124049580646</td>\n",
       "      <td>0</td>\n",
       "      <td>14102100</td>\n",
       "      <td>1005</td>\n",
       "      <td>0</td>\n",
       "      <td>1fbe01fe</td>\n",
       "      <td>f3845767</td>\n",
       "      <td>28905ebd</td>\n",
       "      <td>ecad2386</td>\n",
       "      <td>7801e8d9</td>\n",
       "      <td>...</td>\n",
       "      <td>320</td>\n",
       "      <td>50</td>\n",
       "      <td>1722</td>\n",
       "      <td>0</td>\n",
       "      <td>35</td>\n",
       "      <td>-1</td>\n",
       "      <td>79</td>\n",
       "      <td>2014-10-21</td>\n",
       "      <td>00:00:00</td>\n",
       "      <td>1</td>\n",
       "    </tr>\n",
       "    <tr>\n",
       "      <th>4</th>\n",
       "      <td>10085233430943183912</td>\n",
       "      <td>0</td>\n",
       "      <td>14102100</td>\n",
       "      <td>1005</td>\n",
       "      <td>0</td>\n",
       "      <td>1fbe01fe</td>\n",
       "      <td>f3845767</td>\n",
       "      <td>28905ebd</td>\n",
       "      <td>ecad2386</td>\n",
       "      <td>7801e8d9</td>\n",
       "      <td>...</td>\n",
       "      <td>320</td>\n",
       "      <td>50</td>\n",
       "      <td>1722</td>\n",
       "      <td>0</td>\n",
       "      <td>35</td>\n",
       "      <td>-1</td>\n",
       "      <td>79</td>\n",
       "      <td>2014-10-21</td>\n",
       "      <td>00:00:00</td>\n",
       "      <td>1</td>\n",
       "    </tr>\n",
       "  </tbody>\n",
       "</table>\n",
       "<p>5 rows × 27 columns</p>\n",
       "</div>"
      ],
      "text/plain": [
       "                     id  click      hour    C1  banner_pos   site_id  \\\n",
       "0  10004510652136496837      0  14102100  1005           0  543a539e   \n",
       "1  10007164336863914220      1  14102100  1005           0  1fbe01fe   \n",
       "2  10076859283156800622      0  14102100  1002           0  f17ebd97   \n",
       "3  10078825124049580646      0  14102100  1005           0  1fbe01fe   \n",
       "4  10085233430943183912      0  14102100  1005           0  1fbe01fe   \n",
       "\n",
       "  site_domain site_category    app_id app_domain     ...       C15 C16   C17  \\\n",
       "0    c7ca3108      3e814130  ecad2386   7801e8d9     ...       320  50  2333   \n",
       "1    f3845767      28905ebd  ecad2386   7801e8d9     ...       320  50  1722   \n",
       "2    c4e18dd6      50e219e0  ecad2386   7801e8d9     ...       216  36  2497   \n",
       "3    f3845767      28905ebd  ecad2386   7801e8d9     ...       320  50  1722   \n",
       "4    f3845767      28905ebd  ecad2386   7801e8d9     ...       320  50  1722   \n",
       "\n",
       "  C18  C19     C20  C21    new_date  new_time  day_of_week  \n",
       "0   0   39      -1  157  2014-10-21  00:00:00            1  \n",
       "1   0   35      -1   79  2014-10-21  00:00:00            1  \n",
       "2   3   43  100151   42  2014-10-21  00:00:00            1  \n",
       "3   0   35      -1   79  2014-10-21  00:00:00            1  \n",
       "4   0   35      -1   79  2014-10-21  00:00:00            1  \n",
       "\n",
       "[5 rows x 27 columns]"
      ]
     },
     "execution_count": 129,
     "metadata": {},
     "output_type": "execute_result"
    }
   ],
   "source": [
    "# sub_df.head()"
   ]
  },
  {
   "cell_type": "markdown",
   "metadata": {},
   "source": [
    "# ***RUN THE CODE FROM HERE:  ***"
   ]
  },
  {
   "cell_type": "markdown",
   "metadata": {},
   "source": [
    "**Notes from Josh:** (4/1)\n",
    "\n",
    "Create subsets of the data using device id, website, location, etc..and get understanding from that.\n",
    "\n",
    "Outliers - zero/mean - describe the data\n",
    "\n",
    "Normalize/standardize\n",
    "\n",
    "Find the best application of random forest\n",
    "\n",
    "Neural Network - TensorFlow / Linear classifier / Keras - no recurrent/no convolusion - just basic neural network\n",
    "\n",
    "Data discovery/hyper parameters\n",
    "\n",
    "KNN/K-means - find natural clusters of ads - use as discovery and bucketize the column - ads"
   ]
  },
  {
   "cell_type": "code",
   "execution_count": 3,
   "metadata": {},
   "outputs": [],
   "source": [
    "# sub_df.to_csv(\"rand_sample_eng.csv\") #export as a csv so save for future use\n",
    "\n",
    "sub_df = pd.read_csv('rand_sample_eng.csv')"
   ]
  },
  {
   "cell_type": "code",
   "execution_count": 4,
   "metadata": {},
   "outputs": [],
   "source": [
    "# sub_df = sub_df.drop('hour', axis = 1) \n",
    "sub_df = sub_df.drop('Unnamed: 0', axis = 1) "
   ]
  },
  {
   "cell_type": "code",
   "execution_count": 5,
   "metadata": {},
   "outputs": [
    {
     "data": {
      "text/html": [
       "<div>\n",
       "<style scoped>\n",
       "    .dataframe tbody tr th:only-of-type {\n",
       "        vertical-align: middle;\n",
       "    }\n",
       "\n",
       "    .dataframe tbody tr th {\n",
       "        vertical-align: top;\n",
       "    }\n",
       "\n",
       "    .dataframe thead th {\n",
       "        text-align: right;\n",
       "    }\n",
       "</style>\n",
       "<table border=\"1\" class=\"dataframe\">\n",
       "  <thead>\n",
       "    <tr style=\"text-align: right;\">\n",
       "      <th></th>\n",
       "      <th>id</th>\n",
       "      <th>click</th>\n",
       "      <th>hour</th>\n",
       "      <th>C1</th>\n",
       "      <th>banner_pos</th>\n",
       "      <th>site_id</th>\n",
       "      <th>site_domain</th>\n",
       "      <th>site_category</th>\n",
       "      <th>app_id</th>\n",
       "      <th>app_domain</th>\n",
       "      <th>...</th>\n",
       "      <th>C15</th>\n",
       "      <th>C16</th>\n",
       "      <th>C17</th>\n",
       "      <th>C18</th>\n",
       "      <th>C19</th>\n",
       "      <th>C20</th>\n",
       "      <th>C21</th>\n",
       "      <th>new_date</th>\n",
       "      <th>new_time</th>\n",
       "      <th>day_of_week</th>\n",
       "    </tr>\n",
       "  </thead>\n",
       "  <tbody>\n",
       "    <tr>\n",
       "      <th>0</th>\n",
       "      <td>10004510652136496837</td>\n",
       "      <td>0</td>\n",
       "      <td>14102100</td>\n",
       "      <td>1005</td>\n",
       "      <td>0</td>\n",
       "      <td>543a539e</td>\n",
       "      <td>c7ca3108</td>\n",
       "      <td>3e814130</td>\n",
       "      <td>ecad2386</td>\n",
       "      <td>7801e8d9</td>\n",
       "      <td>...</td>\n",
       "      <td>320</td>\n",
       "      <td>50</td>\n",
       "      <td>2333</td>\n",
       "      <td>0</td>\n",
       "      <td>39</td>\n",
       "      <td>-1</td>\n",
       "      <td>157</td>\n",
       "      <td>2014-10-21</td>\n",
       "      <td>00:00:00</td>\n",
       "      <td>1</td>\n",
       "    </tr>\n",
       "    <tr>\n",
       "      <th>1</th>\n",
       "      <td>10007164336863914220</td>\n",
       "      <td>1</td>\n",
       "      <td>14102100</td>\n",
       "      <td>1005</td>\n",
       "      <td>0</td>\n",
       "      <td>1fbe01fe</td>\n",
       "      <td>f3845767</td>\n",
       "      <td>28905ebd</td>\n",
       "      <td>ecad2386</td>\n",
       "      <td>7801e8d9</td>\n",
       "      <td>...</td>\n",
       "      <td>320</td>\n",
       "      <td>50</td>\n",
       "      <td>1722</td>\n",
       "      <td>0</td>\n",
       "      <td>35</td>\n",
       "      <td>-1</td>\n",
       "      <td>79</td>\n",
       "      <td>2014-10-21</td>\n",
       "      <td>00:00:00</td>\n",
       "      <td>1</td>\n",
       "    </tr>\n",
       "    <tr>\n",
       "      <th>2</th>\n",
       "      <td>10076859283156800622</td>\n",
       "      <td>0</td>\n",
       "      <td>14102100</td>\n",
       "      <td>1002</td>\n",
       "      <td>0</td>\n",
       "      <td>f17ebd97</td>\n",
       "      <td>c4e18dd6</td>\n",
       "      <td>50e219e0</td>\n",
       "      <td>ecad2386</td>\n",
       "      <td>7801e8d9</td>\n",
       "      <td>...</td>\n",
       "      <td>216</td>\n",
       "      <td>36</td>\n",
       "      <td>2497</td>\n",
       "      <td>3</td>\n",
       "      <td>43</td>\n",
       "      <td>100151</td>\n",
       "      <td>42</td>\n",
       "      <td>2014-10-21</td>\n",
       "      <td>00:00:00</td>\n",
       "      <td>1</td>\n",
       "    </tr>\n",
       "    <tr>\n",
       "      <th>3</th>\n",
       "      <td>10078825124049580646</td>\n",
       "      <td>0</td>\n",
       "      <td>14102100</td>\n",
       "      <td>1005</td>\n",
       "      <td>0</td>\n",
       "      <td>1fbe01fe</td>\n",
       "      <td>f3845767</td>\n",
       "      <td>28905ebd</td>\n",
       "      <td>ecad2386</td>\n",
       "      <td>7801e8d9</td>\n",
       "      <td>...</td>\n",
       "      <td>320</td>\n",
       "      <td>50</td>\n",
       "      <td>1722</td>\n",
       "      <td>0</td>\n",
       "      <td>35</td>\n",
       "      <td>-1</td>\n",
       "      <td>79</td>\n",
       "      <td>2014-10-21</td>\n",
       "      <td>00:00:00</td>\n",
       "      <td>1</td>\n",
       "    </tr>\n",
       "    <tr>\n",
       "      <th>4</th>\n",
       "      <td>10085233430943183912</td>\n",
       "      <td>0</td>\n",
       "      <td>14102100</td>\n",
       "      <td>1005</td>\n",
       "      <td>0</td>\n",
       "      <td>1fbe01fe</td>\n",
       "      <td>f3845767</td>\n",
       "      <td>28905ebd</td>\n",
       "      <td>ecad2386</td>\n",
       "      <td>7801e8d9</td>\n",
       "      <td>...</td>\n",
       "      <td>320</td>\n",
       "      <td>50</td>\n",
       "      <td>1722</td>\n",
       "      <td>0</td>\n",
       "      <td>35</td>\n",
       "      <td>-1</td>\n",
       "      <td>79</td>\n",
       "      <td>2014-10-21</td>\n",
       "      <td>00:00:00</td>\n",
       "      <td>1</td>\n",
       "    </tr>\n",
       "  </tbody>\n",
       "</table>\n",
       "<p>5 rows × 27 columns</p>\n",
       "</div>"
      ],
      "text/plain": [
       "                     id  click      hour    C1  banner_pos   site_id  \\\n",
       "0  10004510652136496837      0  14102100  1005           0  543a539e   \n",
       "1  10007164336863914220      1  14102100  1005           0  1fbe01fe   \n",
       "2  10076859283156800622      0  14102100  1002           0  f17ebd97   \n",
       "3  10078825124049580646      0  14102100  1005           0  1fbe01fe   \n",
       "4  10085233430943183912      0  14102100  1005           0  1fbe01fe   \n",
       "\n",
       "  site_domain site_category    app_id app_domain     ...       C15 C16   C17  \\\n",
       "0    c7ca3108      3e814130  ecad2386   7801e8d9     ...       320  50  2333   \n",
       "1    f3845767      28905ebd  ecad2386   7801e8d9     ...       320  50  1722   \n",
       "2    c4e18dd6      50e219e0  ecad2386   7801e8d9     ...       216  36  2497   \n",
       "3    f3845767      28905ebd  ecad2386   7801e8d9     ...       320  50  1722   \n",
       "4    f3845767      28905ebd  ecad2386   7801e8d9     ...       320  50  1722   \n",
       "\n",
       "  C18  C19     C20  C21    new_date  new_time  day_of_week  \n",
       "0   0   39      -1  157  2014-10-21  00:00:00            1  \n",
       "1   0   35      -1   79  2014-10-21  00:00:00            1  \n",
       "2   3   43  100151   42  2014-10-21  00:00:00            1  \n",
       "3   0   35      -1   79  2014-10-21  00:00:00            1  \n",
       "4   0   35      -1   79  2014-10-21  00:00:00            1  \n",
       "\n",
       "[5 rows x 27 columns]"
      ]
     },
     "execution_count": 5,
     "metadata": {},
     "output_type": "execute_result"
    }
   ],
   "source": [
    "sub_df.head() #ad id is unique to each row\n",
    "# len(sub_df)"
   ]
  },
  {
   "cell_type": "code",
   "execution_count": 6,
   "metadata": {},
   "outputs": [
    {
     "data": {
      "text/plain": [
       "404410"
      ]
     },
     "execution_count": 6,
     "metadata": {},
     "output_type": "execute_result"
    }
   ],
   "source": [
    "len(sub_df['id'].unique()) "
   ]
  },
  {
   "cell_type": "markdown",
   "metadata": {},
   "source": [
    "**Summary:** We see that ad id is a unique value"
   ]
  },
  {
   "cell_type": "code",
   "execution_count": 7,
   "metadata": {},
   "outputs": [
    {
     "data": {
      "text/plain": [
       "id                  0\n",
       "click               0\n",
       "hour                0\n",
       "C1                  0\n",
       "banner_pos          0\n",
       "site_id             0\n",
       "site_domain         0\n",
       "site_category       0\n",
       "app_id              0\n",
       "app_domain          0\n",
       "app_category        0\n",
       "device_id           0\n",
       "device_ip           0\n",
       "device_model        0\n",
       "device_type         0\n",
       "device_conn_type    0\n",
       "C14                 0\n",
       "C15                 0\n",
       "C16                 0\n",
       "C17                 0\n",
       "C18                 0\n",
       "C19                 0\n",
       "C20                 0\n",
       "C21                 0\n",
       "new_date            0\n",
       "new_time            0\n",
       "day_of_week         0\n",
       "dtype: int64"
      ]
     },
     "execution_count": 7,
     "metadata": {},
     "output_type": "execute_result"
    }
   ],
   "source": [
    "#check for null and empty values - There are none\n",
    "sub_df.isnull().sum()"
   ]
  },
  {
   "cell_type": "markdown",
   "metadata": {},
   "source": [
    "**Summary:** We see that there is no empty, null, na, etc. values "
   ]
  },
  {
   "cell_type": "markdown",
   "metadata": {},
   "source": [
    "# Clicks"
   ]
  },
  {
   "cell_type": "code",
   "execution_count": 8,
   "metadata": {},
   "outputs": [
    {
     "data": {
      "text/plain": [
       "0    0.830009\n",
       "1    0.169991\n",
       "Name: click, dtype: float64"
      ]
     },
     "execution_count": 8,
     "metadata": {},
     "output_type": "execute_result"
    }
   ],
   "source": [
    "#see what percentage of people click and what percentage of people do not click\n",
    "# click = 16.9991% no click = 83.0009%\n",
    "sub_df['click'].value_counts()/404410"
   ]
  },
  {
   "cell_type": "code",
   "execution_count": 9,
   "metadata": {},
   "outputs": [
    {
     "name": "stdout",
     "output_type": "stream",
     "text": [
      "2014-10-21 2014-10-30\n"
     ]
    }
   ],
   "source": [
    "#Find the start and end date of the data\n",
    "print(sub_df['new_date'].min(), sub_df['new_date'].max())"
   ]
  },
  {
   "cell_type": "markdown",
   "metadata": {},
   "source": [
    "**Note:** Our dataset ranges from 10/21/2014 to 10/30/2014. It spans a total of 10 days."
   ]
  },
  {
   "cell_type": "markdown",
   "metadata": {},
   "source": [
    "### Clicks per hour"
   ]
  },
  {
   "cell_type": "code",
   "execution_count": 10,
   "metadata": {},
   "outputs": [],
   "source": [
    "clicks = sub_df.groupby('hour').agg({'click':'sum'})\n",
    "# clicks"
   ]
  },
  {
   "cell_type": "code",
   "execution_count": 11,
   "metadata": {},
   "outputs": [
    {
     "data": {
      "image/png": "[encoded data removed]",
      "text/plain": [
       "<Figure size 432x288 with 1 Axes>"
      ]
     },
     "metadata": {},
     "output_type": "display_data"
    }
   ],
   "source": [
    "plt.plot(clicks)\n",
    "plt.ylabel('Number of clicks')\n",
    "plt.xlabel('Hour of the day')\n",
    "plt.title('Total Click Activity')\n",
    "plt.show()\n",
    "#Change x-axis"
   ]
  },
  {
   "cell_type": "markdown",
   "metadata": {},
   "source": [
    "**Summary:** From our graph we that user activity fluctuated greated throughout the day"
   ]
  },
  {
   "cell_type": "code",
   "execution_count": 12,
   "metadata": {},
   "outputs": [
    {
     "data": {
      "text/html": [
       "<div>\n",
       "<style scoped>\n",
       "    .dataframe tbody tr th:only-of-type {\n",
       "        vertical-align: middle;\n",
       "    }\n",
       "\n",
       "    .dataframe tbody tr th {\n",
       "        vertical-align: top;\n",
       "    }\n",
       "\n",
       "    .dataframe thead th {\n",
       "        text-align: right;\n",
       "    }\n",
       "</style>\n",
       "<table border=\"1\" class=\"dataframe\">\n",
       "  <thead>\n",
       "    <tr style=\"text-align: right;\">\n",
       "      <th>new_time</th>\n",
       "      <th>00:00:00</th>\n",
       "      <th>01:00:00</th>\n",
       "      <th>02:00:00</th>\n",
       "      <th>03:00:00</th>\n",
       "      <th>04:00:00</th>\n",
       "      <th>05:00:00</th>\n",
       "      <th>06:00:00</th>\n",
       "      <th>07:00:00</th>\n",
       "      <th>08:00:00</th>\n",
       "      <th>09:00:00</th>\n",
       "      <th>...</th>\n",
       "      <th>14:00:00</th>\n",
       "      <th>15:00:00</th>\n",
       "      <th>16:00:00</th>\n",
       "      <th>17:00:00</th>\n",
       "      <th>18:00:00</th>\n",
       "      <th>19:00:00</th>\n",
       "      <th>20:00:00</th>\n",
       "      <th>21:00:00</th>\n",
       "      <th>22:00:00</th>\n",
       "      <th>23:00:00</th>\n",
       "    </tr>\n",
       "    <tr>\n",
       "      <th>new_date</th>\n",
       "      <th></th>\n",
       "      <th></th>\n",
       "      <th></th>\n",
       "      <th></th>\n",
       "      <th></th>\n",
       "      <th></th>\n",
       "      <th></th>\n",
       "      <th></th>\n",
       "      <th></th>\n",
       "      <th></th>\n",
       "      <th></th>\n",
       "      <th></th>\n",
       "      <th></th>\n",
       "      <th></th>\n",
       "      <th></th>\n",
       "      <th></th>\n",
       "      <th></th>\n",
       "      <th></th>\n",
       "      <th></th>\n",
       "      <th></th>\n",
       "      <th></th>\n",
       "    </tr>\n",
       "  </thead>\n",
       "  <tbody>\n",
       "    <tr>\n",
       "      <th>2014-10-21</th>\n",
       "      <td>1182</td>\n",
       "      <td>1400</td>\n",
       "      <td>2061</td>\n",
       "      <td>1875</td>\n",
       "      <td>2611</td>\n",
       "      <td>2673</td>\n",
       "      <td>2395</td>\n",
       "      <td>2077</td>\n",
       "      <td>2116</td>\n",
       "      <td>2282</td>\n",
       "      <td>...</td>\n",
       "      <td>1786</td>\n",
       "      <td>1767</td>\n",
       "      <td>1767</td>\n",
       "      <td>1668</td>\n",
       "      <td>1527</td>\n",
       "      <td>1246</td>\n",
       "      <td>1062</td>\n",
       "      <td>922</td>\n",
       "      <td>830</td>\n",
       "      <td>744</td>\n",
       "    </tr>\n",
       "    <tr>\n",
       "      <th>2014-10-22</th>\n",
       "      <td>794</td>\n",
       "      <td>926</td>\n",
       "      <td>1011</td>\n",
       "      <td>1376</td>\n",
       "      <td>2020</td>\n",
       "      <td>2892</td>\n",
       "      <td>2881</td>\n",
       "      <td>2244</td>\n",
       "      <td>3227</td>\n",
       "      <td>4442</td>\n",
       "      <td>...</td>\n",
       "      <td>1798</td>\n",
       "      <td>1823</td>\n",
       "      <td>1886</td>\n",
       "      <td>1984</td>\n",
       "      <td>2113</td>\n",
       "      <td>1772</td>\n",
       "      <td>1491</td>\n",
       "      <td>1215</td>\n",
       "      <td>1078</td>\n",
       "      <td>938</td>\n",
       "    </tr>\n",
       "    <tr>\n",
       "      <th>2014-10-23</th>\n",
       "      <td>879</td>\n",
       "      <td>1052</td>\n",
       "      <td>1533</td>\n",
       "      <td>1777</td>\n",
       "      <td>2777</td>\n",
       "      <td>2257</td>\n",
       "      <td>1400</td>\n",
       "      <td>1563</td>\n",
       "      <td>2381</td>\n",
       "      <td>1811</td>\n",
       "      <td>...</td>\n",
       "      <td>1745</td>\n",
       "      <td>2477</td>\n",
       "      <td>1690</td>\n",
       "      <td>1601</td>\n",
       "      <td>1494</td>\n",
       "      <td>1394</td>\n",
       "      <td>1355</td>\n",
       "      <td>1224</td>\n",
       "      <td>1049</td>\n",
       "      <td>895</td>\n",
       "    </tr>\n",
       "    <tr>\n",
       "      <th>2014-10-24</th>\n",
       "      <td>789</td>\n",
       "      <td>927</td>\n",
       "      <td>1213</td>\n",
       "      <td>1228</td>\n",
       "      <td>1644</td>\n",
       "      <td>1664</td>\n",
       "      <td>1644</td>\n",
       "      <td>1769</td>\n",
       "      <td>1676</td>\n",
       "      <td>1725</td>\n",
       "      <td>...</td>\n",
       "      <td>2160</td>\n",
       "      <td>2029</td>\n",
       "      <td>2624</td>\n",
       "      <td>2513</td>\n",
       "      <td>1636</td>\n",
       "      <td>310</td>\n",
       "      <td>200</td>\n",
       "      <td>238</td>\n",
       "      <td>144</td>\n",
       "      <td>246</td>\n",
       "    </tr>\n",
       "    <tr>\n",
       "      <th>2014-10-25</th>\n",
       "      <td>726</td>\n",
       "      <td>795</td>\n",
       "      <td>402</td>\n",
       "      <td>675</td>\n",
       "      <td>762</td>\n",
       "      <td>1209</td>\n",
       "      <td>514</td>\n",
       "      <td>1374</td>\n",
       "      <td>1546</td>\n",
       "      <td>1795</td>\n",
       "      <td>...</td>\n",
       "      <td>2394</td>\n",
       "      <td>2515</td>\n",
       "      <td>2105</td>\n",
       "      <td>2111</td>\n",
       "      <td>1930</td>\n",
       "      <td>1215</td>\n",
       "      <td>1004</td>\n",
       "      <td>896</td>\n",
       "      <td>863</td>\n",
       "      <td>800</td>\n",
       "    </tr>\n",
       "    <tr>\n",
       "      <th>2014-10-26</th>\n",
       "      <td>720</td>\n",
       "      <td>828</td>\n",
       "      <td>991</td>\n",
       "      <td>1106</td>\n",
       "      <td>1507</td>\n",
       "      <td>1725</td>\n",
       "      <td>1773</td>\n",
       "      <td>1922</td>\n",
       "      <td>1917</td>\n",
       "      <td>2090</td>\n",
       "      <td>...</td>\n",
       "      <td>2323</td>\n",
       "      <td>2013</td>\n",
       "      <td>1980</td>\n",
       "      <td>1873</td>\n",
       "      <td>1530</td>\n",
       "      <td>1185</td>\n",
       "      <td>1014</td>\n",
       "      <td>815</td>\n",
       "      <td>879</td>\n",
       "      <td>809</td>\n",
       "    </tr>\n",
       "    <tr>\n",
       "      <th>2014-10-27</th>\n",
       "      <td>646</td>\n",
       "      <td>738</td>\n",
       "      <td>847</td>\n",
       "      <td>1190</td>\n",
       "      <td>1348</td>\n",
       "      <td>1730</td>\n",
       "      <td>1807</td>\n",
       "      <td>1692</td>\n",
       "      <td>1607</td>\n",
       "      <td>1522</td>\n",
       "      <td>...</td>\n",
       "      <td>1062</td>\n",
       "      <td>1075</td>\n",
       "      <td>1788</td>\n",
       "      <td>2356</td>\n",
       "      <td>2089</td>\n",
       "      <td>1590</td>\n",
       "      <td>1016</td>\n",
       "      <td>963</td>\n",
       "      <td>950</td>\n",
       "      <td>871</td>\n",
       "    </tr>\n",
       "    <tr>\n",
       "      <th>2014-10-28</th>\n",
       "      <td>811</td>\n",
       "      <td>1040</td>\n",
       "      <td>1750</td>\n",
       "      <td>1178</td>\n",
       "      <td>1376</td>\n",
       "      <td>1753</td>\n",
       "      <td>1804</td>\n",
       "      <td>2085</td>\n",
       "      <td>2858</td>\n",
       "      <td>3278</td>\n",
       "      <td>...</td>\n",
       "      <td>3898</td>\n",
       "      <td>2817</td>\n",
       "      <td>2849</td>\n",
       "      <td>2886</td>\n",
       "      <td>2363</td>\n",
       "      <td>1991</td>\n",
       "      <td>1682</td>\n",
       "      <td>1582</td>\n",
       "      <td>1253</td>\n",
       "      <td>1167</td>\n",
       "    </tr>\n",
       "    <tr>\n",
       "      <th>2014-10-29</th>\n",
       "      <td>1000</td>\n",
       "      <td>1176</td>\n",
       "      <td>1404</td>\n",
       "      <td>2305</td>\n",
       "      <td>1588</td>\n",
       "      <td>1299</td>\n",
       "      <td>1397</td>\n",
       "      <td>2317</td>\n",
       "      <td>2034</td>\n",
       "      <td>1921</td>\n",
       "      <td>...</td>\n",
       "      <td>2255</td>\n",
       "      <td>2028</td>\n",
       "      <td>1825</td>\n",
       "      <td>1588</td>\n",
       "      <td>1369</td>\n",
       "      <td>1241</td>\n",
       "      <td>1157</td>\n",
       "      <td>954</td>\n",
       "      <td>942</td>\n",
       "      <td>977</td>\n",
       "    </tr>\n",
       "    <tr>\n",
       "      <th>2014-10-30</th>\n",
       "      <td>888</td>\n",
       "      <td>890</td>\n",
       "      <td>944</td>\n",
       "      <td>1244</td>\n",
       "      <td>3436</td>\n",
       "      <td>2525</td>\n",
       "      <td>1877</td>\n",
       "      <td>1620</td>\n",
       "      <td>1648</td>\n",
       "      <td>1890</td>\n",
       "      <td>...</td>\n",
       "      <td>2607</td>\n",
       "      <td>2396</td>\n",
       "      <td>2071</td>\n",
       "      <td>1849</td>\n",
       "      <td>1674</td>\n",
       "      <td>1259</td>\n",
       "      <td>1140</td>\n",
       "      <td>1076</td>\n",
       "      <td>1053</td>\n",
       "      <td>846</td>\n",
       "    </tr>\n",
       "  </tbody>\n",
       "</table>\n",
       "<p>10 rows × 24 columns</p>\n",
       "</div>"
      ],
      "text/plain": [
       "new_time    00:00:00  01:00:00  02:00:00  03:00:00  04:00:00  05:00:00  \\\n",
       "new_date                                                                 \n",
       "2014-10-21      1182      1400      2061      1875      2611      2673   \n",
       "2014-10-22       794       926      1011      1376      2020      2892   \n",
       "2014-10-23       879      1052      1533      1777      2777      2257   \n",
       "2014-10-24       789       927      1213      1228      1644      1664   \n",
       "2014-10-25       726       795       402       675       762      1209   \n",
       "2014-10-26       720       828       991      1106      1507      1725   \n",
       "2014-10-27       646       738       847      1190      1348      1730   \n",
       "2014-10-28       811      1040      1750      1178      1376      1753   \n",
       "2014-10-29      1000      1176      1404      2305      1588      1299   \n",
       "2014-10-30       888       890       944      1244      3436      2525   \n",
       "\n",
       "new_time    06:00:00  07:00:00  08:00:00  09:00:00    ...     14:00:00  \\\n",
       "new_date                                              ...                \n",
       "2014-10-21      2395      2077      2116      2282    ...         1786   \n",
       "2014-10-22      2881      2244      3227      4442    ...         1798   \n",
       "2014-10-23      1400      1563      2381      1811    ...         1745   \n",
       "2014-10-24      1644      1769      1676      1725    ...         2160   \n",
       "2014-10-25       514      1374      1546      1795    ...         2394   \n",
       "2014-10-26      1773      1922      1917      2090    ...         2323   \n",
       "2014-10-27      1807      1692      1607      1522    ...         1062   \n",
       "2014-10-28      1804      2085      2858      3278    ...         3898   \n",
       "2014-10-29      1397      2317      2034      1921    ...         2255   \n",
       "2014-10-30      1877      1620      1648      1890    ...         2607   \n",
       "\n",
       "new_time    15:00:00  16:00:00  17:00:00  18:00:00  19:00:00  20:00:00  \\\n",
       "new_date                                                                 \n",
       "2014-10-21      1767      1767      1668      1527      1246      1062   \n",
       "2014-10-22      1823      1886      1984      2113      1772      1491   \n",
       "2014-10-23      2477      1690      1601      1494      1394      1355   \n",
       "2014-10-24      2029      2624      2513      1636       310       200   \n",
       "2014-10-25      2515      2105      2111      1930      1215      1004   \n",
       "2014-10-26      2013      1980      1873      1530      1185      1014   \n",
       "2014-10-27      1075      1788      2356      2089      1590      1016   \n",
       "2014-10-28      2817      2849      2886      2363      1991      1682   \n",
       "2014-10-29      2028      1825      1588      1369      1241      1157   \n",
       "2014-10-30      2396      2071      1849      1674      1259      1140   \n",
       "\n",
       "new_time    21:00:00  22:00:00  23:00:00  \n",
       "new_date                                  \n",
       "2014-10-21       922       830       744  \n",
       "2014-10-22      1215      1078       938  \n",
       "2014-10-23      1224      1049       895  \n",
       "2014-10-24       238       144       246  \n",
       "2014-10-25       896       863       800  \n",
       "2014-10-26       815       879       809  \n",
       "2014-10-27       963       950       871  \n",
       "2014-10-28      1582      1253      1167  \n",
       "2014-10-29       954       942       977  \n",
       "2014-10-30      1076      1053       846  \n",
       "\n",
       "[10 rows x 24 columns]"
      ]
     },
     "execution_count": 12,
     "metadata": {},
     "output_type": "execute_result"
    }
   ],
   "source": [
    "clicks_details = sub_df.groupby(['new_date','new_time']).size().unstack()\n",
    "clicks_details"
   ]
  },
  {
   "cell_type": "code",
   "execution_count": 13,
   "metadata": {},
   "outputs": [
    {
     "data": {
      "image/png": "[encoded data removed]",
      "text/plain": [
       "<Figure size 432x288 with 1 Axes>"
      ]
     },
     "metadata": {},
     "output_type": "display_data"
    }
   ],
   "source": [
    "plt.plot(clicks_details)\n",
    "plt.figsize=(24,12)\n",
    "plt.ylabel('Number of clicks')\n",
    "plt.title('Number of clicks trends per hour per day') \n",
    "plt.show()"
   ]
  },
  {
   "cell_type": "code",
   "execution_count": 14,
   "metadata": {},
   "outputs": [],
   "source": [
    "clicks_per_hour = sub_df.groupby('new_time').agg({'click': 'sum'})\n",
    "# clicks_per_hour"
   ]
  },
  {
   "cell_type": "code",
   "execution_count": 15,
   "metadata": {},
   "outputs": [
    {
     "data": {
      "image/png": "[encoded data removed]",
      "text/plain": [
       "<Figure size 432x288 with 1 Axes>"
      ]
     },
     "metadata": {},
     "output_type": "display_data"
    }
   ],
   "source": [
    "plt.plot(clicks_per_hour)\n",
    "plt.ylabel('Number of clicks')\n",
    "plt.xlabel('Hour of the day')\n",
    "plt.title('Number of clicks trends per hour') \n",
    "x = range(0,24)\n",
    "plt.xticks(range(24), x)\n",
    "plt.figsize=(12,6)"
   ]
  },
  {
   "cell_type": "markdown",
   "metadata": {},
   "source": [
    "**Summary:** The greatest click activity occurs mid-day around 12pm."
   ]
  },
  {
   "cell_type": "markdown",
   "metadata": {},
   "source": [
    "### Clicks per Day of the Week"
   ]
  },
  {
   "cell_type": "code",
   "execution_count": 16,
   "metadata": {},
   "outputs": [
    {
     "data": {
      "image/png": "[encoded data removed]",
      "text/plain": [
       "<Figure size 432x288 with 1 Axes>"
      ]
     },
     "metadata": {},
     "output_type": "display_data"
    }
   ],
   "source": [
    "clicks_per_dow = sub_df.groupby('day_of_week').agg({'click':'sum'})\n",
    "plt.plot(clicks_per_dow)\n",
    "x = ['Mon', 'Tue', 'Wed','Thur','Fri','Sat','Sun']\n",
    "plt.xticks(range(7), x)\n",
    "\n",
    "plt.ylabel('Number of clicks')\n",
    "plt.xlabel('Day of Week')\n",
    "plt.title('Clicks trends per Day of Week') \n",
    "plt.figsize=(12,6)\n",
    "plt.show()"
   ]
  },
  {
   "cell_type": "markdown",
   "metadata": {},
   "source": [
    "**Summary:** Ads experience the most activity Tuesday-Thursday and the least amount of activity Monday and Friday. "
   ]
  },
  {
   "cell_type": "markdown",
   "metadata": {},
   "source": [
    "# Impressions"
   ]
  },
  {
   "cell_type": "markdown",
   "metadata": {},
   "source": [
    "### Impressions by Hour"
   ]
  },
  {
   "cell_type": "code",
   "execution_count": 17,
   "metadata": {},
   "outputs": [],
   "source": [
    "# ORDER MATTERS\n",
    "click_per_view_per_hour = sub_df.groupby(['new_time','click']).size().unstack()\n",
    "click_per_view_per_hour['total'] = click_per_view_per_hour.sum(axis=1)\n",
    "# click_per_view_per_hour"
   ]
  },
  {
   "cell_type": "code",
   "execution_count": 18,
   "metadata": {},
   "outputs": [
    {
     "data": {
      "image/png": "[encoded data removed]",
      "text/plain": [
       "<Figure size 432x288 with 1 Axes>"
      ]
     },
     "metadata": {},
     "output_type": "display_data"
    }
   ],
   "source": [
    "# plt.plot(click_per_view_per_hour, figsize = (12,6))\n",
    "plt.plot(click_per_view_per_hour['total'])\n",
    "plt.plot(click_per_view_per_hour[1])\n",
    "plt.ylabel('Impressions')\n",
    "plt.xlabel('Time')\n",
    "x = range(0,24)\n",
    "plt.xticks(range(24), x)\n",
    "plt.title('Hourly Impressions vs. clicks: Hour of day')\n",
    "plt.show()\n",
    "\n",
    "#Can't get it to a bar graph...?"
   ]
  },
  {
   "cell_type": "markdown",
   "metadata": {},
   "source": [
    "**Summary:** From our graph we can see that Impressions and Clicks are generally lower around midnight, and high during noon."
   ]
  },
  {
   "cell_type": "markdown",
   "metadata": {},
   "source": [
    "### Impressions by day of week"
   ]
  },
  {
   "cell_type": "code",
   "execution_count": 19,
   "metadata": {
    "scrolled": true
   },
   "outputs": [
    {
     "data": {
      "text/html": [
       "<div>\n",
       "<style scoped>\n",
       "    .dataframe tbody tr th:only-of-type {\n",
       "        vertical-align: middle;\n",
       "    }\n",
       "\n",
       "    .dataframe tbody tr th {\n",
       "        vertical-align: top;\n",
       "    }\n",
       "\n",
       "    .dataframe thead th {\n",
       "        text-align: right;\n",
       "    }\n",
       "</style>\n",
       "<table border=\"1\" class=\"dataframe\">\n",
       "  <thead>\n",
       "    <tr style=\"text-align: right;\">\n",
       "      <th>click</th>\n",
       "      <th>0</th>\n",
       "      <th>1</th>\n",
       "      <th>total</th>\n",
       "    </tr>\n",
       "    <tr>\n",
       "      <th>day_of_week</th>\n",
       "      <th></th>\n",
       "      <th></th>\n",
       "      <th></th>\n",
       "    </tr>\n",
       "  </thead>\n",
       "  <tbody>\n",
       "    <tr>\n",
       "      <th>0</th>\n",
       "      <td>26597</td>\n",
       "      <td>5816</td>\n",
       "      <td>32413</td>\n",
       "    </tr>\n",
       "    <tr>\n",
       "      <th>1</th>\n",
       "      <td>78575</td>\n",
       "      <td>15161</td>\n",
       "      <td>93736</td>\n",
       "    </tr>\n",
       "    <tr>\n",
       "      <th>2</th>\n",
       "      <td>77396</td>\n",
       "      <td>14548</td>\n",
       "      <td>91944</td>\n",
       "    </tr>\n",
       "    <tr>\n",
       "      <th>3</th>\n",
       "      <td>67107</td>\n",
       "      <td>14127</td>\n",
       "      <td>81234</td>\n",
       "    </tr>\n",
       "    <tr>\n",
       "      <th>4</th>\n",
       "      <td>27110</td>\n",
       "      <td>5820</td>\n",
       "      <td>32930</td>\n",
       "    </tr>\n",
       "    <tr>\n",
       "      <th>5</th>\n",
       "      <td>27675</td>\n",
       "      <td>6314</td>\n",
       "      <td>33989</td>\n",
       "    </tr>\n",
       "    <tr>\n",
       "      <th>6</th>\n",
       "      <td>31204</td>\n",
       "      <td>6960</td>\n",
       "      <td>38164</td>\n",
       "    </tr>\n",
       "  </tbody>\n",
       "</table>\n",
       "</div>"
      ],
      "text/plain": [
       "click            0      1  total\n",
       "day_of_week                     \n",
       "0            26597   5816  32413\n",
       "1            78575  15161  93736\n",
       "2            77396  14548  91944\n",
       "3            67107  14127  81234\n",
       "4            27110   5820  32930\n",
       "5            27675   6314  33989\n",
       "6            31204   6960  38164"
      ]
     },
     "execution_count": 19,
     "metadata": {},
     "output_type": "execute_result"
    }
   ],
   "source": [
    "# ORDER MATTERS\n",
    "click_per_view_per_dow = sub_df.groupby(['day_of_week','click']).size().unstack()\n",
    "click_per_view_per_dow['total'] = click_per_view_per_dow.sum(axis=1)\n",
    "click_per_view_per_dow"
   ]
  },
  {
   "cell_type": "code",
   "execution_count": 20,
   "metadata": {},
   "outputs": [
    {
     "data": {
      "image/png": "[encoded data removed]",
      "text/plain": [
       "<Figure size 432x288 with 1 Axes>"
      ]
     },
     "metadata": {},
     "output_type": "display_data"
    }
   ],
   "source": [
    "# plt.plot(click_per_view_per_hour, figsize = (12,6))\n",
    "plt.plot(click_per_view_per_dow[1])\n",
    "plt.plot(click_per_view_per_dow['total'])\n",
    "x = ['Mon', 'Tue', 'Wed','Thur','Fri','Sat','Sun']\n",
    "plt.xticks(range(7), x)\n",
    "plt.ylabel('Impressions')\n",
    "plt.xlabel('Time')\n",
    "plt.title('Hourly Impressions vs. clicks: Day of Week')\n",
    "plt.show()\n"
   ]
  },
  {
   "cell_type": "markdown",
   "metadata": {},
   "source": [
    "# CTR"
   ]
  },
  {
   "cell_type": "markdown",
   "metadata": {},
   "source": [
    "### CTR by Hour"
   ]
  },
  {
   "cell_type": "markdown",
   "metadata": {},
   "source": [
    "**Formula** CTR = Clicks : Impressions"
   ]
  },
  {
   "cell_type": "code",
   "execution_count": 21,
   "metadata": {},
   "outputs": [
    {
     "data": {
      "text/plain": [
       "new_time\n",
       "00:00:00    0.181624\n",
       "01:00:00    0.187679\n",
       "02:00:00    0.176045\n",
       "03:00:00    0.181095\n",
       "04:00:00    0.158634\n",
       "05:00:00    0.161251\n",
       "06:00:00    0.163961\n",
       "07:00:00    0.178106\n",
       "08:00:00    0.164779\n",
       "09:00:00    0.157057\n",
       "10:00:00    0.159067\n",
       "11:00:00    0.175345\n",
       "12:00:00    0.174858\n",
       "13:00:00    0.167860\n",
       "14:00:00    0.175277\n",
       "15:00:00    0.181423\n",
       "16:00:00    0.181054\n",
       "17:00:00    0.174066\n",
       "18:00:00    0.169986\n",
       "19:00:00    0.163978\n",
       "20:00:00    0.160237\n",
       "21:00:00    0.159231\n",
       "22:00:00    0.165800\n",
       "23:00:00    0.167852\n",
       "dtype: float64"
      ]
     },
     "execution_count": 21,
     "metadata": {},
     "output_type": "execute_result"
    }
   ],
   "source": [
    "CTR_per_hourofday = click_per_view_per_hour[1]/click_per_view_per_hour['total']\n",
    "CTR_per_hourofday"
   ]
  },
  {
   "cell_type": "code",
   "execution_count": 22,
   "metadata": {
    "scrolled": true
   },
   "outputs": [
    {
     "data": {
      "text/plain": [
       "Text(0.5,1,'CTR per Hour of Day')"
      ]
     },
     "execution_count": 22,
     "metadata": {},
     "output_type": "execute_result"
    },
    {
     "data": {
      "image/png": "[encoded data removed]",
      "text/plain": [
       "<Figure size 432x288 with 1 Axes>"
      ]
     },
     "metadata": {},
     "output_type": "display_data"
    }
   ],
   "source": [
    "plt.plot(CTR_per_hourofday)\n",
    "plt.ylabel('CTR (%)')\n",
    "plt.xlabel('Hour of Day')\n",
    "x = range(0,24)\n",
    "plt.xticks(range(24), x)\n",
    "plt.title('CTR per Hour of Day')"
   ]
  },
  {
   "cell_type": "markdown",
   "metadata": {},
   "source": [
    "**Summary:** From our graph we can see that CTR is highest at 12-3am, 11-12am, 3-4pm."
   ]
  },
  {
   "cell_type": "markdown",
   "metadata": {},
   "source": [
    "### CTR by Day of Week"
   ]
  },
  {
   "cell_type": "code",
   "execution_count": 23,
   "metadata": {},
   "outputs": [
    {
     "data": {
      "text/plain": [
       "day_of_week\n",
       "0    0.179434\n",
       "1    0.161741\n",
       "2    0.158227\n",
       "3    0.173905\n",
       "4    0.176739\n",
       "5    0.185766\n",
       "6    0.182371\n",
       "dtype: float64"
      ]
     },
     "execution_count": 23,
     "metadata": {},
     "output_type": "execute_result"
    }
   ],
   "source": [
    "CTR_per_dow = click_per_view_per_dow[1]/click_per_view_per_dow['total']\n",
    "CTR_per_dow"
   ]
  },
  {
   "cell_type": "code",
   "execution_count": 24,
   "metadata": {},
   "outputs": [
    {
     "data": {
      "image/png": "[encoded data removed]",
      "text/plain": [
       "<Figure size 432x288 with 1 Axes>"
      ]
     },
     "metadata": {},
     "output_type": "display_data"
    }
   ],
   "source": [
    "plt.plot(CTR_per_dow)\n",
    "plt.ylabel('CTR (%)')\n",
    "plt.xlabel('Day of Week')\n",
    "plt.title('CTR per Day of Week')\n",
    "x = ['Mon', 'Tue', 'Wed','Thur','Fri','Sat','Sun']\n",
    "plt.xticks(range(7), x)\n",
    "plt.show()"
   ]
  },
  {
   "cell_type": "markdown",
   "metadata": {},
   "source": [
    "**Summary:** We can see very low CTR on Wednesdays and high CTR on Saturdays and Sunday. \"Apparently, people have more time to click over the weekend.\""
   ]
  },
  {
   "cell_type": "markdown",
   "metadata": {},
   "source": [
    "# Exploring the Other Features"
   ]
  },
  {
   "cell_type": "code",
   "execution_count": 25,
   "metadata": {},
   "outputs": [],
   "source": [
    "# Still need to explore banner position, device type, and C# and their relationship to CTR/"
   ]
  },
  {
   "cell_type": "markdown",
   "metadata": {},
   "source": [
    "## Feature: C1, C14 - C21"
   ]
  },
  {
   "cell_type": "code",
   "execution_count": 26,
   "metadata": {},
   "outputs": [
    {
     "name": "stdout",
     "output_type": "stream",
     "text": [
      "1005    0.919290\n",
      "1002    0.054583\n",
      "1010    0.022064\n",
      "1012    0.002816\n",
      "1007    0.000853\n",
      "1001    0.000257\n",
      "1008    0.000136\n",
      "Name: C1, dtype: float64\n",
      "320     0.932484\n",
      "300     0.057996\n",
      "216     0.007586\n",
      "728     0.001728\n",
      "120     0.000082\n",
      "1024    0.000052\n",
      "480     0.000045\n",
      "768     0.000027\n",
      "Name: C15, dtype: float64\n",
      "50      0.943122\n",
      "250     0.044885\n",
      "36      0.007586\n",
      "480     0.002473\n",
      "90      0.001728\n",
      "20      0.000082\n",
      "768     0.000052\n",
      "320     0.000045\n",
      "1024    0.000027\n",
      "Name: C16, dtype: float64\n",
      "0    0.418954\n",
      "3    0.336683\n",
      "2    0.177013\n",
      "1    0.067350\n",
      "Name: C18, dtype: float64\n"
     ]
    }
   ],
   "source": [
    "# print(len(sub_df['device_ip'].unique()))\n",
    "# print(sub_df['new_time'].value_counts()/len(sub_df['new_time']))\n",
    "\n",
    "#explore distribution of categorical features\n",
    "print(sub_df['C1'].value_counts()/len(sub_df['C1']))\n",
    "# replace device_ip values occurring less than 5 times with a dummy\n",
    "test = sub_df['device_ip'].value_counts() #LARGE VARIETY\n",
    "# print(sub_df['C14'].value_counts()/len(sub_df['C14'])) #LARGE VARIETY\n",
    "print(sub_df['C15'].value_counts()/len(sub_df['C15']))\n",
    "print(sub_df['C16'].value_counts()/len(sub_df['C16']))\n",
    "# print(sub_df['C17'].value_counts()/len(sub_df['C17'])) #LARGE VARIETY\n",
    "print(sub_df['C18'].value_counts()/len(sub_df['C18']))\n",
    "# print(sub_df['C19'].value_counts()/len(sub_df['C19'])) #LARGE VARIETY\n",
    "# print(sub_df['C20'].value_counts()/len(sub_df['C20'])) #LARGE VARIETY\n",
    "# print(sub_df['C21'].value_counts()/len(sub_df['C21'])) #MEDIUM-LARGE VARIETY\n",
    "# print(sub_df['banner_pos'].value_counts()/len(sub_df['banner_pos']))\n",
    "# print(sub_df['site_domain'].value_counts()/len(sub_df['site_domain']))\n"
   ]
  },
  {
   "cell_type": "code",
   "execution_count": 27,
   "metadata": {},
   "outputs": [],
   "source": [
    "test = sub_df['device_ip'].value_counts()\n",
    "test = pd.DataFrame(test)\n",
    "\n",
    "# temp_sub_df['test'] = test\n",
    "# temp_sub_df.head()"
   ]
  },
  {
   "cell_type": "markdown",
   "metadata": {},
   "source": [
    "**Summary:** Most ads are C1 = 1005 (91.9290%), C15 = 320 (93.2484%), C16 = 50 (94.3122%), C18 = 0 (41.8954%), C20=-1 (46.8198%), C21 = 23 (22.0373%)."
   ]
  },
  {
   "cell_type": "code",
   "execution_count": 28,
   "metadata": {},
   "outputs": [],
   "source": [
    "#Lets remove C14, C17, and C19 - These features do not seem to reveal much about the dataset.\n",
    "\n",
    "# sub_df = sub_df.drop('C14', axis = 1) \n",
    "# sub_df = sub_df.drop('C17', axis = 1) \n",
    "# sub_df = sub_df.drop('C19', axis = 1) \n"
   ]
  },
  {
   "cell_type": "code",
   "execution_count": 29,
   "metadata": {},
   "outputs": [
    {
     "name": "stdout",
     "output_type": "stream",
     "text": [
      "1    0.923350\n",
      "0    0.054583\n",
      "4    0.018981\n",
      "5    0.003084\n",
      "2    0.000002\n",
      "Name: device_type, dtype: float64\n"
     ]
    }
   ],
   "source": [
    "print(sub_df['device_type'].value_counts()/len(sub_df['device_type']))"
   ]
  },
  {
   "cell_type": "code",
   "execution_count": 30,
   "metadata": {},
   "outputs": [
    {
     "name": "stdout",
     "output_type": "stream",
     "text": [
      "64913\n"
     ]
    }
   ],
   "source": [
    "print(len(sub_df['device_id'].value_counts()))"
   ]
  },
  {
   "cell_type": "markdown",
   "metadata": {},
   "source": [
    "**Summary:** Most of the user activity is through using device type 1 (92.335%)."
   ]
  },
  {
   "cell_type": "markdown",
   "metadata": {},
   "source": [
    "# Modeling!!!"
   ]
  },
  {
   "cell_type": "markdown",
   "metadata": {},
   "source": [
    "### Encoding and Selecting Key Features"
   ]
  },
  {
   "cell_type": "code",
   "execution_count": 31,
   "metadata": {},
   "outputs": [
    {
     "data": {
      "text/html": [
       "<div>\n",
       "<style scoped>\n",
       "    .dataframe tbody tr th:only-of-type {\n",
       "        vertical-align: middle;\n",
       "    }\n",
       "\n",
       "    .dataframe tbody tr th {\n",
       "        vertical-align: top;\n",
       "    }\n",
       "\n",
       "    .dataframe thead th {\n",
       "        text-align: right;\n",
       "    }\n",
       "</style>\n",
       "<table border=\"1\" class=\"dataframe\">\n",
       "  <thead>\n",
       "    <tr style=\"text-align: right;\">\n",
       "      <th></th>\n",
       "      <th>id</th>\n",
       "      <th>click</th>\n",
       "      <th>hour</th>\n",
       "      <th>C1</th>\n",
       "      <th>banner_pos</th>\n",
       "      <th>site_id</th>\n",
       "      <th>site_domain</th>\n",
       "      <th>site_category</th>\n",
       "      <th>app_id</th>\n",
       "      <th>app_domain</th>\n",
       "      <th>...</th>\n",
       "      <th>C15</th>\n",
       "      <th>C16</th>\n",
       "      <th>C17</th>\n",
       "      <th>C18</th>\n",
       "      <th>C19</th>\n",
       "      <th>C20</th>\n",
       "      <th>C21</th>\n",
       "      <th>new_date</th>\n",
       "      <th>new_time</th>\n",
       "      <th>day_of_week</th>\n",
       "    </tr>\n",
       "  </thead>\n",
       "  <tbody>\n",
       "    <tr>\n",
       "      <th>0</th>\n",
       "      <td>10004510652136496837</td>\n",
       "      <td>0</td>\n",
       "      <td>14102100</td>\n",
       "      <td>1005</td>\n",
       "      <td>0</td>\n",
       "      <td>543a539e</td>\n",
       "      <td>c7ca3108</td>\n",
       "      <td>3e814130</td>\n",
       "      <td>ecad2386</td>\n",
       "      <td>7801e8d9</td>\n",
       "      <td>...</td>\n",
       "      <td>320</td>\n",
       "      <td>50</td>\n",
       "      <td>2333</td>\n",
       "      <td>0</td>\n",
       "      <td>39</td>\n",
       "      <td>-1</td>\n",
       "      <td>157</td>\n",
       "      <td>2014-10-21</td>\n",
       "      <td>00:00:00</td>\n",
       "      <td>1</td>\n",
       "    </tr>\n",
       "    <tr>\n",
       "      <th>1</th>\n",
       "      <td>10007164336863914220</td>\n",
       "      <td>1</td>\n",
       "      <td>14102100</td>\n",
       "      <td>1005</td>\n",
       "      <td>0</td>\n",
       "      <td>1fbe01fe</td>\n",
       "      <td>f3845767</td>\n",
       "      <td>28905ebd</td>\n",
       "      <td>ecad2386</td>\n",
       "      <td>7801e8d9</td>\n",
       "      <td>...</td>\n",
       "      <td>320</td>\n",
       "      <td>50</td>\n",
       "      <td>1722</td>\n",
       "      <td>0</td>\n",
       "      <td>35</td>\n",
       "      <td>-1</td>\n",
       "      <td>79</td>\n",
       "      <td>2014-10-21</td>\n",
       "      <td>00:00:00</td>\n",
       "      <td>1</td>\n",
       "    </tr>\n",
       "    <tr>\n",
       "      <th>2</th>\n",
       "      <td>10076859283156800622</td>\n",
       "      <td>0</td>\n",
       "      <td>14102100</td>\n",
       "      <td>1002</td>\n",
       "      <td>0</td>\n",
       "      <td>f17ebd97</td>\n",
       "      <td>c4e18dd6</td>\n",
       "      <td>50e219e0</td>\n",
       "      <td>ecad2386</td>\n",
       "      <td>7801e8d9</td>\n",
       "      <td>...</td>\n",
       "      <td>216</td>\n",
       "      <td>36</td>\n",
       "      <td>2497</td>\n",
       "      <td>3</td>\n",
       "      <td>43</td>\n",
       "      <td>100151</td>\n",
       "      <td>42</td>\n",
       "      <td>2014-10-21</td>\n",
       "      <td>00:00:00</td>\n",
       "      <td>1</td>\n",
       "    </tr>\n",
       "    <tr>\n",
       "      <th>3</th>\n",
       "      <td>10078825124049580646</td>\n",
       "      <td>0</td>\n",
       "      <td>14102100</td>\n",
       "      <td>1005</td>\n",
       "      <td>0</td>\n",
       "      <td>1fbe01fe</td>\n",
       "      <td>f3845767</td>\n",
       "      <td>28905ebd</td>\n",
       "      <td>ecad2386</td>\n",
       "      <td>7801e8d9</td>\n",
       "      <td>...</td>\n",
       "      <td>320</td>\n",
       "      <td>50</td>\n",
       "      <td>1722</td>\n",
       "      <td>0</td>\n",
       "      <td>35</td>\n",
       "      <td>-1</td>\n",
       "      <td>79</td>\n",
       "      <td>2014-10-21</td>\n",
       "      <td>00:00:00</td>\n",
       "      <td>1</td>\n",
       "    </tr>\n",
       "    <tr>\n",
       "      <th>4</th>\n",
       "      <td>10085233430943183912</td>\n",
       "      <td>0</td>\n",
       "      <td>14102100</td>\n",
       "      <td>1005</td>\n",
       "      <td>0</td>\n",
       "      <td>1fbe01fe</td>\n",
       "      <td>f3845767</td>\n",
       "      <td>28905ebd</td>\n",
       "      <td>ecad2386</td>\n",
       "      <td>7801e8d9</td>\n",
       "      <td>...</td>\n",
       "      <td>320</td>\n",
       "      <td>50</td>\n",
       "      <td>1722</td>\n",
       "      <td>0</td>\n",
       "      <td>35</td>\n",
       "      <td>-1</td>\n",
       "      <td>79</td>\n",
       "      <td>2014-10-21</td>\n",
       "      <td>00:00:00</td>\n",
       "      <td>1</td>\n",
       "    </tr>\n",
       "  </tbody>\n",
       "</table>\n",
       "<p>5 rows × 27 columns</p>\n",
       "</div>"
      ],
      "text/plain": [
       "                     id  click      hour    C1  banner_pos   site_id  \\\n",
       "0  10004510652136496837      0  14102100  1005           0  543a539e   \n",
       "1  10007164336863914220      1  14102100  1005           0  1fbe01fe   \n",
       "2  10076859283156800622      0  14102100  1002           0  f17ebd97   \n",
       "3  10078825124049580646      0  14102100  1005           0  1fbe01fe   \n",
       "4  10085233430943183912      0  14102100  1005           0  1fbe01fe   \n",
       "\n",
       "  site_domain site_category    app_id app_domain     ...       C15 C16   C17  \\\n",
       "0    c7ca3108      3e814130  ecad2386   7801e8d9     ...       320  50  2333   \n",
       "1    f3845767      28905ebd  ecad2386   7801e8d9     ...       320  50  1722   \n",
       "2    c4e18dd6      50e219e0  ecad2386   7801e8d9     ...       216  36  2497   \n",
       "3    f3845767      28905ebd  ecad2386   7801e8d9     ...       320  50  1722   \n",
       "4    f3845767      28905ebd  ecad2386   7801e8d9     ...       320  50  1722   \n",
       "\n",
       "  C18  C19     C20  C21    new_date  new_time  day_of_week  \n",
       "0   0   39      -1  157  2014-10-21  00:00:00            1  \n",
       "1   0   35      -1   79  2014-10-21  00:00:00            1  \n",
       "2   3   43  100151   42  2014-10-21  00:00:00            1  \n",
       "3   0   35      -1   79  2014-10-21  00:00:00            1  \n",
       "4   0   35      -1   79  2014-10-21  00:00:00            1  \n",
       "\n",
       "[5 rows x 27 columns]"
      ]
     },
     "execution_count": 31,
     "metadata": {},
     "output_type": "execute_result"
    }
   ],
   "source": [
    "sub_df.head()"
   ]
  },
  {
   "cell_type": "code",
   "execution_count": 32,
   "metadata": {},
   "outputs": [
    {
     "data": {
      "text/html": [
       "<div>\n",
       "<style scoped>\n",
       "    .dataframe tbody tr th:only-of-type {\n",
       "        vertical-align: middle;\n",
       "    }\n",
       "\n",
       "    .dataframe tbody tr th {\n",
       "        vertical-align: top;\n",
       "    }\n",
       "\n",
       "    .dataframe thead th {\n",
       "        text-align: right;\n",
       "    }\n",
       "</style>\n",
       "<table border=\"1\" class=\"dataframe\">\n",
       "  <thead>\n",
       "    <tr style=\"text-align: right;\">\n",
       "      <th></th>\n",
       "      <th>id</th>\n",
       "      <th>click</th>\n",
       "      <th>hour</th>\n",
       "      <th>C1</th>\n",
       "      <th>banner_pos</th>\n",
       "      <th>site_id</th>\n",
       "      <th>site_domain</th>\n",
       "      <th>site_category</th>\n",
       "      <th>app_id</th>\n",
       "      <th>app_domain</th>\n",
       "      <th>...</th>\n",
       "      <th>C15</th>\n",
       "      <th>C16</th>\n",
       "      <th>C17</th>\n",
       "      <th>C18</th>\n",
       "      <th>C19</th>\n",
       "      <th>C20</th>\n",
       "      <th>C21</th>\n",
       "      <th>new_date</th>\n",
       "      <th>new_time</th>\n",
       "      <th>day_of_week</th>\n",
       "    </tr>\n",
       "  </thead>\n",
       "  <tbody>\n",
       "    <tr>\n",
       "      <th>0</th>\n",
       "      <td>10004510652136496837</td>\n",
       "      <td>0</td>\n",
       "      <td>14102100</td>\n",
       "      <td>1005</td>\n",
       "      <td>0</td>\n",
       "      <td>543a539e</td>\n",
       "      <td>c7ca3108</td>\n",
       "      <td>3e814130</td>\n",
       "      <td>ecad2386</td>\n",
       "      <td>7801e8d9</td>\n",
       "      <td>...</td>\n",
       "      <td>320</td>\n",
       "      <td>50</td>\n",
       "      <td>2333</td>\n",
       "      <td>0</td>\n",
       "      <td>39</td>\n",
       "      <td>-1</td>\n",
       "      <td>157</td>\n",
       "      <td>2014-10-21</td>\n",
       "      <td>00:00:00</td>\n",
       "      <td>1</td>\n",
       "    </tr>\n",
       "    <tr>\n",
       "      <th>1</th>\n",
       "      <td>10007164336863914220</td>\n",
       "      <td>1</td>\n",
       "      <td>14102100</td>\n",
       "      <td>1005</td>\n",
       "      <td>0</td>\n",
       "      <td>1fbe01fe</td>\n",
       "      <td>f3845767</td>\n",
       "      <td>28905ebd</td>\n",
       "      <td>ecad2386</td>\n",
       "      <td>7801e8d9</td>\n",
       "      <td>...</td>\n",
       "      <td>320</td>\n",
       "      <td>50</td>\n",
       "      <td>1722</td>\n",
       "      <td>0</td>\n",
       "      <td>35</td>\n",
       "      <td>-1</td>\n",
       "      <td>79</td>\n",
       "      <td>2014-10-21</td>\n",
       "      <td>00:00:00</td>\n",
       "      <td>1</td>\n",
       "    </tr>\n",
       "    <tr>\n",
       "      <th>2</th>\n",
       "      <td>10076859283156800622</td>\n",
       "      <td>0</td>\n",
       "      <td>14102100</td>\n",
       "      <td>1002</td>\n",
       "      <td>0</td>\n",
       "      <td>f17ebd97</td>\n",
       "      <td>c4e18dd6</td>\n",
       "      <td>50e219e0</td>\n",
       "      <td>ecad2386</td>\n",
       "      <td>7801e8d9</td>\n",
       "      <td>...</td>\n",
       "      <td>216</td>\n",
       "      <td>36</td>\n",
       "      <td>2497</td>\n",
       "      <td>3</td>\n",
       "      <td>43</td>\n",
       "      <td>100151</td>\n",
       "      <td>42</td>\n",
       "      <td>2014-10-21</td>\n",
       "      <td>00:00:00</td>\n",
       "      <td>1</td>\n",
       "    </tr>\n",
       "    <tr>\n",
       "      <th>3</th>\n",
       "      <td>10078825124049580646</td>\n",
       "      <td>0</td>\n",
       "      <td>14102100</td>\n",
       "      <td>1005</td>\n",
       "      <td>0</td>\n",
       "      <td>1fbe01fe</td>\n",
       "      <td>f3845767</td>\n",
       "      <td>28905ebd</td>\n",
       "      <td>ecad2386</td>\n",
       "      <td>7801e8d9</td>\n",
       "      <td>...</td>\n",
       "      <td>320</td>\n",
       "      <td>50</td>\n",
       "      <td>1722</td>\n",
       "      <td>0</td>\n",
       "      <td>35</td>\n",
       "      <td>-1</td>\n",
       "      <td>79</td>\n",
       "      <td>2014-10-21</td>\n",
       "      <td>00:00:00</td>\n",
       "      <td>1</td>\n",
       "    </tr>\n",
       "    <tr>\n",
       "      <th>4</th>\n",
       "      <td>10085233430943183912</td>\n",
       "      <td>0</td>\n",
       "      <td>14102100</td>\n",
       "      <td>1005</td>\n",
       "      <td>0</td>\n",
       "      <td>1fbe01fe</td>\n",
       "      <td>f3845767</td>\n",
       "      <td>28905ebd</td>\n",
       "      <td>ecad2386</td>\n",
       "      <td>7801e8d9</td>\n",
       "      <td>...</td>\n",
       "      <td>320</td>\n",
       "      <td>50</td>\n",
       "      <td>1722</td>\n",
       "      <td>0</td>\n",
       "      <td>35</td>\n",
       "      <td>-1</td>\n",
       "      <td>79</td>\n",
       "      <td>2014-10-21</td>\n",
       "      <td>00:00:00</td>\n",
       "      <td>1</td>\n",
       "    </tr>\n",
       "  </tbody>\n",
       "</table>\n",
       "<p>5 rows × 27 columns</p>\n",
       "</div>"
      ],
      "text/plain": [
       "                     id  click      hour    C1  banner_pos   site_id  \\\n",
       "0  10004510652136496837      0  14102100  1005           0  543a539e   \n",
       "1  10007164336863914220      1  14102100  1005           0  1fbe01fe   \n",
       "2  10076859283156800622      0  14102100  1002           0  f17ebd97   \n",
       "3  10078825124049580646      0  14102100  1005           0  1fbe01fe   \n",
       "4  10085233430943183912      0  14102100  1005           0  1fbe01fe   \n",
       "\n",
       "  site_domain site_category    app_id app_domain     ...       C15 C16   C17  \\\n",
       "0    c7ca3108      3e814130  ecad2386   7801e8d9     ...       320  50  2333   \n",
       "1    f3845767      28905ebd  ecad2386   7801e8d9     ...       320  50  1722   \n",
       "2    c4e18dd6      50e219e0  ecad2386   7801e8d9     ...       216  36  2497   \n",
       "3    f3845767      28905ebd  ecad2386   7801e8d9     ...       320  50  1722   \n",
       "4    f3845767      28905ebd  ecad2386   7801e8d9     ...       320  50  1722   \n",
       "\n",
       "  C18  C19     C20  C21    new_date  new_time  day_of_week  \n",
       "0   0   39      -1  157  2014-10-21  00:00:00            1  \n",
       "1   0   35      -1   79  2014-10-21  00:00:00            1  \n",
       "2   3   43  100151   42  2014-10-21  00:00:00            1  \n",
       "3   0   35      -1   79  2014-10-21  00:00:00            1  \n",
       "4   0   35      -1   79  2014-10-21  00:00:00            1  \n",
       "\n",
       "[5 rows x 27 columns]"
      ]
     },
     "execution_count": 32,
     "metadata": {},
     "output_type": "execute_result"
    }
   ],
   "source": [
    "# drop the columns with unqiue values or large volume of category types\n",
    "# temp_sub_df = sub_df.drop(['id','hour','C14','C17','C19','site_id','site_domain','app_id','device_id'], axis =1)\n",
    "\n",
    "temp_sub_df = sub_df\n",
    "temp_sub_df.head()"
   ]
  },
  {
   "cell_type": "code",
   "execution_count": 33,
   "metadata": {},
   "outputs": [
    {
     "data": {
      "text/plain": [
       "id                  uint64\n",
       "click                int64\n",
       "hour                 int64\n",
       "C1                   int64\n",
       "banner_pos           int64\n",
       "site_id             object\n",
       "site_domain         object\n",
       "site_category       object\n",
       "app_id              object\n",
       "app_domain          object\n",
       "app_category        object\n",
       "device_id           object\n",
       "device_ip           object\n",
       "device_model        object\n",
       "device_type          int64\n",
       "device_conn_type     int64\n",
       "C14                  int64\n",
       "C15                  int64\n",
       "C16                  int64\n",
       "C17                  int64\n",
       "C18                  int64\n",
       "C19                  int64\n",
       "C20                  int64\n",
       "C21                  int64\n",
       "new_date            object\n",
       "new_time            object\n",
       "day_of_week          int64\n",
       "dtype: object"
      ]
     },
     "execution_count": 33,
     "metadata": {},
     "output_type": "execute_result"
    }
   ],
   "source": [
    "temp_sub_df.dtypes"
   ]
  },
  {
   "cell_type": "code",
   "execution_count": 34,
   "metadata": {},
   "outputs": [],
   "source": [
    "# func = lambda val : val.hour\n",
    "# train['hour'] = train['new_time'].apply(func)\n",
    "\n",
    "# convert new_time column of type datetime to float and create new column called 'hour'\n",
    "func = lambda val : (pd.datetime.strptime(val, '%H:%M:%S')).hour\n",
    "\n",
    "temp_sub_df['hour'] = temp_sub_df['new_time'].apply(func)"
   ]
  },
  {
   "cell_type": "code",
   "execution_count": 35,
   "metadata": {},
   "outputs": [
    {
     "data": {
      "text/html": [
       "<div>\n",
       "<style scoped>\n",
       "    .dataframe tbody tr th:only-of-type {\n",
       "        vertical-align: middle;\n",
       "    }\n",
       "\n",
       "    .dataframe tbody tr th {\n",
       "        vertical-align: top;\n",
       "    }\n",
       "\n",
       "    .dataframe thead th {\n",
       "        text-align: right;\n",
       "    }\n",
       "</style>\n",
       "<table border=\"1\" class=\"dataframe\">\n",
       "  <thead>\n",
       "    <tr style=\"text-align: right;\">\n",
       "      <th></th>\n",
       "      <th>id</th>\n",
       "      <th>click</th>\n",
       "      <th>hour</th>\n",
       "      <th>C1</th>\n",
       "      <th>banner_pos</th>\n",
       "      <th>site_id</th>\n",
       "      <th>site_domain</th>\n",
       "      <th>site_category</th>\n",
       "      <th>app_id</th>\n",
       "      <th>app_domain</th>\n",
       "      <th>...</th>\n",
       "      <th>C15</th>\n",
       "      <th>C16</th>\n",
       "      <th>C17</th>\n",
       "      <th>C18</th>\n",
       "      <th>C19</th>\n",
       "      <th>C20</th>\n",
       "      <th>C21</th>\n",
       "      <th>new_date</th>\n",
       "      <th>new_time</th>\n",
       "      <th>day_of_week</th>\n",
       "    </tr>\n",
       "  </thead>\n",
       "  <tbody>\n",
       "    <tr>\n",
       "      <th>0</th>\n",
       "      <td>10004510652136496837</td>\n",
       "      <td>0</td>\n",
       "      <td>0</td>\n",
       "      <td>1005</td>\n",
       "      <td>0</td>\n",
       "      <td>543a539e</td>\n",
       "      <td>c7ca3108</td>\n",
       "      <td>3e814130</td>\n",
       "      <td>ecad2386</td>\n",
       "      <td>7801e8d9</td>\n",
       "      <td>...</td>\n",
       "      <td>320</td>\n",
       "      <td>50</td>\n",
       "      <td>2333</td>\n",
       "      <td>0</td>\n",
       "      <td>39</td>\n",
       "      <td>-1</td>\n",
       "      <td>157</td>\n",
       "      <td>2014-10-21</td>\n",
       "      <td>00:00:00</td>\n",
       "      <td>1</td>\n",
       "    </tr>\n",
       "    <tr>\n",
       "      <th>1</th>\n",
       "      <td>10007164336863914220</td>\n",
       "      <td>1</td>\n",
       "      <td>0</td>\n",
       "      <td>1005</td>\n",
       "      <td>0</td>\n",
       "      <td>1fbe01fe</td>\n",
       "      <td>f3845767</td>\n",
       "      <td>28905ebd</td>\n",
       "      <td>ecad2386</td>\n",
       "      <td>7801e8d9</td>\n",
       "      <td>...</td>\n",
       "      <td>320</td>\n",
       "      <td>50</td>\n",
       "      <td>1722</td>\n",
       "      <td>0</td>\n",
       "      <td>35</td>\n",
       "      <td>-1</td>\n",
       "      <td>79</td>\n",
       "      <td>2014-10-21</td>\n",
       "      <td>00:00:00</td>\n",
       "      <td>1</td>\n",
       "    </tr>\n",
       "    <tr>\n",
       "      <th>2</th>\n",
       "      <td>10076859283156800622</td>\n",
       "      <td>0</td>\n",
       "      <td>0</td>\n",
       "      <td>1002</td>\n",
       "      <td>0</td>\n",
       "      <td>f17ebd97</td>\n",
       "      <td>c4e18dd6</td>\n",
       "      <td>50e219e0</td>\n",
       "      <td>ecad2386</td>\n",
       "      <td>7801e8d9</td>\n",
       "      <td>...</td>\n",
       "      <td>216</td>\n",
       "      <td>36</td>\n",
       "      <td>2497</td>\n",
       "      <td>3</td>\n",
       "      <td>43</td>\n",
       "      <td>100151</td>\n",
       "      <td>42</td>\n",
       "      <td>2014-10-21</td>\n",
       "      <td>00:00:00</td>\n",
       "      <td>1</td>\n",
       "    </tr>\n",
       "    <tr>\n",
       "      <th>3</th>\n",
       "      <td>10078825124049580646</td>\n",
       "      <td>0</td>\n",
       "      <td>0</td>\n",
       "      <td>1005</td>\n",
       "      <td>0</td>\n",
       "      <td>1fbe01fe</td>\n",
       "      <td>f3845767</td>\n",
       "      <td>28905ebd</td>\n",
       "      <td>ecad2386</td>\n",
       "      <td>7801e8d9</td>\n",
       "      <td>...</td>\n",
       "      <td>320</td>\n",
       "      <td>50</td>\n",
       "      <td>1722</td>\n",
       "      <td>0</td>\n",
       "      <td>35</td>\n",
       "      <td>-1</td>\n",
       "      <td>79</td>\n",
       "      <td>2014-10-21</td>\n",
       "      <td>00:00:00</td>\n",
       "      <td>1</td>\n",
       "    </tr>\n",
       "    <tr>\n",
       "      <th>4</th>\n",
       "      <td>10085233430943183912</td>\n",
       "      <td>0</td>\n",
       "      <td>0</td>\n",
       "      <td>1005</td>\n",
       "      <td>0</td>\n",
       "      <td>1fbe01fe</td>\n",
       "      <td>f3845767</td>\n",
       "      <td>28905ebd</td>\n",
       "      <td>ecad2386</td>\n",
       "      <td>7801e8d9</td>\n",
       "      <td>...</td>\n",
       "      <td>320</td>\n",
       "      <td>50</td>\n",
       "      <td>1722</td>\n",
       "      <td>0</td>\n",
       "      <td>35</td>\n",
       "      <td>-1</td>\n",
       "      <td>79</td>\n",
       "      <td>2014-10-21</td>\n",
       "      <td>00:00:00</td>\n",
       "      <td>1</td>\n",
       "    </tr>\n",
       "  </tbody>\n",
       "</table>\n",
       "<p>5 rows × 27 columns</p>\n",
       "</div>"
      ],
      "text/plain": [
       "                     id  click  hour    C1  banner_pos   site_id site_domain  \\\n",
       "0  10004510652136496837      0     0  1005           0  543a539e    c7ca3108   \n",
       "1  10007164336863914220      1     0  1005           0  1fbe01fe    f3845767   \n",
       "2  10076859283156800622      0     0  1002           0  f17ebd97    c4e18dd6   \n",
       "3  10078825124049580646      0     0  1005           0  1fbe01fe    f3845767   \n",
       "4  10085233430943183912      0     0  1005           0  1fbe01fe    f3845767   \n",
       "\n",
       "  site_category    app_id app_domain     ...       C15 C16   C17 C18  C19  \\\n",
       "0      3e814130  ecad2386   7801e8d9     ...       320  50  2333   0   39   \n",
       "1      28905ebd  ecad2386   7801e8d9     ...       320  50  1722   0   35   \n",
       "2      50e219e0  ecad2386   7801e8d9     ...       216  36  2497   3   43   \n",
       "3      28905ebd  ecad2386   7801e8d9     ...       320  50  1722   0   35   \n",
       "4      28905ebd  ecad2386   7801e8d9     ...       320  50  1722   0   35   \n",
       "\n",
       "      C20  C21    new_date  new_time  day_of_week  \n",
       "0      -1  157  2014-10-21  00:00:00            1  \n",
       "1      -1   79  2014-10-21  00:00:00            1  \n",
       "2  100151   42  2014-10-21  00:00:00            1  \n",
       "3      -1   79  2014-10-21  00:00:00            1  \n",
       "4      -1   79  2014-10-21  00:00:00            1  \n",
       "\n",
       "[5 rows x 27 columns]"
      ]
     },
     "execution_count": 35,
     "metadata": {},
     "output_type": "execute_result"
    }
   ],
   "source": [
    "temp_sub_df.head()\n",
    "# train = train.drop(['hours'],axis=1)\n",
    "# train.dtypes"
   ]
  },
  {
   "cell_type": "code",
   "execution_count": 36,
   "metadata": {},
   "outputs": [],
   "source": [
    "# binary_classifier = linear_model.SGDClassifier(\n",
    "#   random_state=2, # Specifying random state allow us to get repeatable outcomes\n",
    "#   tol=1e-3, \n",
    "#   max_iter=500) \n",
    "\n",
    "# binary_classifier.fit(train[FEATURES], train['click'])"
   ]
  },
  {
   "cell_type": "code",
   "execution_count": 37,
   "metadata": {},
   "outputs": [
    {
     "data": {
      "text/plain": [
       "7"
      ]
     },
     "execution_count": 37,
     "metadata": {},
     "output_type": "execute_result"
    }
   ],
   "source": [
    "#Explore how many categories we have for each feature\n",
    "\n",
    "len(temp_sub_df['banner_pos'].unique())\n",
    "\n",
    "#141 app_domains\n",
    "#21 site_categories\n",
    "#25 app_categories\n",
    "#217066 device_ips\n",
    "#4170 device_models\n",
    "#5 device_types\n"
   ]
  },
  {
   "cell_type": "code",
   "execution_count": 38,
   "metadata": {},
   "outputs": [],
   "source": [
    "#Tried ONE HOT ENCODER - failed. Does not seem to like string inputs. Might have to use LabelEncoder first and then \n",
    "# ONE HOT ENCODER?? will revisit..\n",
    "\n",
    "#Look into pandas.get_dummies\n",
    "\n",
    "## When it comes to label encoding if you see trends with data then try shuffling the data and relabeling\n",
    "\n",
    "\n",
    "# ohe_site_category = OneHotEncoder(categorical_features=[21])\n",
    "# test = ohe_site_category.fit_transform(new_train['site_category']).toarray()"
   ]
  },
  {
   "cell_type": "code",
   "execution_count": 39,
   "metadata": {},
   "outputs": [],
   "source": [
    "# #create a new training dataset with the features we have selected - avoid overwriting the original training data\n",
    "\n",
    "# new_temp_sub_df = temp_sub_df[FEATURES]\n",
    "# new_temp_sub_df['click'] = temp_sub_df[TARGET]\n",
    "# new_temp_sub_df.dtypes"
   ]
  },
  {
   "cell_type": "code",
   "execution_count": 40,
   "metadata": {},
   "outputs": [
    {
     "data": {
      "text/html": [
       "<div>\n",
       "<style scoped>\n",
       "    .dataframe tbody tr th:only-of-type {\n",
       "        vertical-align: middle;\n",
       "    }\n",
       "\n",
       "    .dataframe tbody tr th {\n",
       "        vertical-align: top;\n",
       "    }\n",
       "\n",
       "    .dataframe thead th {\n",
       "        text-align: right;\n",
       "    }\n",
       "</style>\n",
       "<table border=\"1\" class=\"dataframe\">\n",
       "  <thead>\n",
       "    <tr style=\"text-align: right;\">\n",
       "      <th></th>\n",
       "      <th>id</th>\n",
       "      <th>click</th>\n",
       "      <th>hour</th>\n",
       "      <th>C1</th>\n",
       "      <th>banner_pos</th>\n",
       "      <th>site_id</th>\n",
       "      <th>site_domain</th>\n",
       "      <th>site_category</th>\n",
       "      <th>app_id</th>\n",
       "      <th>app_domain</th>\n",
       "      <th>...</th>\n",
       "      <th>C18</th>\n",
       "      <th>C19</th>\n",
       "      <th>C20</th>\n",
       "      <th>C21</th>\n",
       "      <th>new_date</th>\n",
       "      <th>new_time</th>\n",
       "      <th>day_of_week</th>\n",
       "      <th>enc_app_domain</th>\n",
       "      <th>enc_site_category</th>\n",
       "      <th>enc_app_category</th>\n",
       "    </tr>\n",
       "  </thead>\n",
       "  <tbody>\n",
       "    <tr>\n",
       "      <th>0</th>\n",
       "      <td>10004510652136496837</td>\n",
       "      <td>0</td>\n",
       "      <td>0</td>\n",
       "      <td>1005</td>\n",
       "      <td>0</td>\n",
       "      <td>543a539e</td>\n",
       "      <td>c7ca3108</td>\n",
       "      <td>3e814130</td>\n",
       "      <td>ecad2386</td>\n",
       "      <td>7801e8d9</td>\n",
       "      <td>...</td>\n",
       "      <td>0</td>\n",
       "      <td>39</td>\n",
       "      <td>-1</td>\n",
       "      <td>157</td>\n",
       "      <td>2014-10-21</td>\n",
       "      <td>00:00:00</td>\n",
       "      <td>1</td>\n",
       "      <td>65</td>\n",
       "      <td>3</td>\n",
       "      <td>0</td>\n",
       "    </tr>\n",
       "    <tr>\n",
       "      <th>1</th>\n",
       "      <td>10007164336863914220</td>\n",
       "      <td>1</td>\n",
       "      <td>0</td>\n",
       "      <td>1005</td>\n",
       "      <td>0</td>\n",
       "      <td>1fbe01fe</td>\n",
       "      <td>f3845767</td>\n",
       "      <td>28905ebd</td>\n",
       "      <td>ecad2386</td>\n",
       "      <td>7801e8d9</td>\n",
       "      <td>...</td>\n",
       "      <td>0</td>\n",
       "      <td>35</td>\n",
       "      <td>-1</td>\n",
       "      <td>79</td>\n",
       "      <td>2014-10-21</td>\n",
       "      <td>00:00:00</td>\n",
       "      <td>1</td>\n",
       "      <td>65</td>\n",
       "      <td>1</td>\n",
       "      <td>0</td>\n",
       "    </tr>\n",
       "    <tr>\n",
       "      <th>2</th>\n",
       "      <td>10076859283156800622</td>\n",
       "      <td>0</td>\n",
       "      <td>0</td>\n",
       "      <td>1002</td>\n",
       "      <td>0</td>\n",
       "      <td>f17ebd97</td>\n",
       "      <td>c4e18dd6</td>\n",
       "      <td>50e219e0</td>\n",
       "      <td>ecad2386</td>\n",
       "      <td>7801e8d9</td>\n",
       "      <td>...</td>\n",
       "      <td>3</td>\n",
       "      <td>43</td>\n",
       "      <td>100151</td>\n",
       "      <td>42</td>\n",
       "      <td>2014-10-21</td>\n",
       "      <td>00:00:00</td>\n",
       "      <td>1</td>\n",
       "      <td>65</td>\n",
       "      <td>5</td>\n",
       "      <td>0</td>\n",
       "    </tr>\n",
       "    <tr>\n",
       "      <th>3</th>\n",
       "      <td>10078825124049580646</td>\n",
       "      <td>0</td>\n",
       "      <td>0</td>\n",
       "      <td>1005</td>\n",
       "      <td>0</td>\n",
       "      <td>1fbe01fe</td>\n",
       "      <td>f3845767</td>\n",
       "      <td>28905ebd</td>\n",
       "      <td>ecad2386</td>\n",
       "      <td>7801e8d9</td>\n",
       "      <td>...</td>\n",
       "      <td>0</td>\n",
       "      <td>35</td>\n",
       "      <td>-1</td>\n",
       "      <td>79</td>\n",
       "      <td>2014-10-21</td>\n",
       "      <td>00:00:00</td>\n",
       "      <td>1</td>\n",
       "      <td>65</td>\n",
       "      <td>1</td>\n",
       "      <td>0</td>\n",
       "    </tr>\n",
       "    <tr>\n",
       "      <th>4</th>\n",
       "      <td>10085233430943183912</td>\n",
       "      <td>0</td>\n",
       "      <td>0</td>\n",
       "      <td>1005</td>\n",
       "      <td>0</td>\n",
       "      <td>1fbe01fe</td>\n",
       "      <td>f3845767</td>\n",
       "      <td>28905ebd</td>\n",
       "      <td>ecad2386</td>\n",
       "      <td>7801e8d9</td>\n",
       "      <td>...</td>\n",
       "      <td>0</td>\n",
       "      <td>35</td>\n",
       "      <td>-1</td>\n",
       "      <td>79</td>\n",
       "      <td>2014-10-21</td>\n",
       "      <td>00:00:00</td>\n",
       "      <td>1</td>\n",
       "      <td>65</td>\n",
       "      <td>1</td>\n",
       "      <td>0</td>\n",
       "    </tr>\n",
       "  </tbody>\n",
       "</table>\n",
       "<p>5 rows × 30 columns</p>\n",
       "</div>"
      ],
      "text/plain": [
       "                     id  click  hour    C1  banner_pos   site_id site_domain  \\\n",
       "0  10004510652136496837      0     0  1005           0  543a539e    c7ca3108   \n",
       "1  10007164336863914220      1     0  1005           0  1fbe01fe    f3845767   \n",
       "2  10076859283156800622      0     0  1002           0  f17ebd97    c4e18dd6   \n",
       "3  10078825124049580646      0     0  1005           0  1fbe01fe    f3845767   \n",
       "4  10085233430943183912      0     0  1005           0  1fbe01fe    f3845767   \n",
       "\n",
       "  site_category    app_id app_domain        ...        C18 C19     C20  C21  \\\n",
       "0      3e814130  ecad2386   7801e8d9        ...          0  39      -1  157   \n",
       "1      28905ebd  ecad2386   7801e8d9        ...          0  35      -1   79   \n",
       "2      50e219e0  ecad2386   7801e8d9        ...          3  43  100151   42   \n",
       "3      28905ebd  ecad2386   7801e8d9        ...          0  35      -1   79   \n",
       "4      28905ebd  ecad2386   7801e8d9        ...          0  35      -1   79   \n",
       "\n",
       "     new_date  new_time  day_of_week  enc_app_domain  enc_site_category  \\\n",
       "0  2014-10-21  00:00:00            1              65                  3   \n",
       "1  2014-10-21  00:00:00            1              65                  1   \n",
       "2  2014-10-21  00:00:00            1              65                  5   \n",
       "3  2014-10-21  00:00:00            1              65                  1   \n",
       "4  2014-10-21  00:00:00            1              65                  1   \n",
       "\n",
       "   enc_app_category  \n",
       "0                 0  \n",
       "1                 0  \n",
       "2                 0  \n",
       "3                 0  \n",
       "4                 0  \n",
       "\n",
       "[5 rows x 30 columns]"
      ]
     },
     "execution_count": 40,
     "metadata": {},
     "output_type": "execute_result"
    }
   ],
   "source": [
    "# Encoding for only 3 of the columns for the sake of time - using LabelEncoder()\n",
    "# Create new columns for the encoded values so have the original values for reference\n",
    "\n",
    "le_site_category = LabelEncoder()\n",
    "temp_sub_df['enc_app_domain'] = le_site_category.fit_transform(temp_sub_df['app_domain'])\n",
    "temp_sub_df['enc_site_category'] = le_site_category.fit_transform(temp_sub_df['site_category'])\n",
    "temp_sub_df['enc_app_category'] = le_site_category.fit_transform(temp_sub_df['app_category'])\n",
    "\n",
    "temp_sub_df.head()"
   ]
  },
  {
   "cell_type": "code",
   "execution_count": 41,
   "metadata": {},
   "outputs": [],
   "source": [
    "# Features with the appropriate encoded column names to use to train our model\n",
    "\n",
    "FEATURES = ['C1', 'banner_pos', 'enc_site_category', 'enc_app_domain',\n",
    "       'enc_app_category', 'device_type',\n",
    "       'device_conn_type', 'C15', 'C16', 'C18', 'C20', 'C21', 'day_of_week',\n",
    "           'hour']\n",
    "TARGET = ['click']"
   ]
  },
  {
   "cell_type": "code",
   "execution_count": 42,
   "metadata": {},
   "outputs": [
    {
     "data": {
      "text/html": [
       "<div>\n",
       "<style scoped>\n",
       "    .dataframe tbody tr th:only-of-type {\n",
       "        vertical-align: middle;\n",
       "    }\n",
       "\n",
       "    .dataframe tbody tr th {\n",
       "        vertical-align: top;\n",
       "    }\n",
       "\n",
       "    .dataframe thead th {\n",
       "        text-align: right;\n",
       "    }\n",
       "</style>\n",
       "<table border=\"1\" class=\"dataframe\">\n",
       "  <thead>\n",
       "    <tr style=\"text-align: right;\">\n",
       "      <th></th>\n",
       "      <th>id</th>\n",
       "      <th>click</th>\n",
       "      <th>hour</th>\n",
       "      <th>C1</th>\n",
       "      <th>banner_pos</th>\n",
       "      <th>site_id</th>\n",
       "      <th>site_domain</th>\n",
       "      <th>site_category</th>\n",
       "      <th>app_id</th>\n",
       "      <th>app_domain</th>\n",
       "      <th>...</th>\n",
       "      <th>C18</th>\n",
       "      <th>C19</th>\n",
       "      <th>C20</th>\n",
       "      <th>C21</th>\n",
       "      <th>new_date</th>\n",
       "      <th>new_time</th>\n",
       "      <th>day_of_week</th>\n",
       "      <th>enc_app_domain</th>\n",
       "      <th>enc_site_category</th>\n",
       "      <th>enc_app_category</th>\n",
       "    </tr>\n",
       "  </thead>\n",
       "  <tbody>\n",
       "    <tr>\n",
       "      <th>242327</th>\n",
       "      <td>17016179924101047753</td>\n",
       "      <td>0</td>\n",
       "      <td>4</td>\n",
       "      <td>1005</td>\n",
       "      <td>0</td>\n",
       "      <td>85f751fd</td>\n",
       "      <td>c4e18dd6</td>\n",
       "      <td>50e219e0</td>\n",
       "      <td>febd1138</td>\n",
       "      <td>82e27996</td>\n",
       "      <td>...</td>\n",
       "      <td>3</td>\n",
       "      <td>297</td>\n",
       "      <td>100111</td>\n",
       "      <td>61</td>\n",
       "      <td>2014-10-27</td>\n",
       "      <td>04:00:00</td>\n",
       "      <td>0</td>\n",
       "      <td>75</td>\n",
       "      <td>5</td>\n",
       "      <td>3</td>\n",
       "    </tr>\n",
       "    <tr>\n",
       "      <th>274613</th>\n",
       "      <td>13362092218668200074</td>\n",
       "      <td>1</td>\n",
       "      <td>3</td>\n",
       "      <td>1005</td>\n",
       "      <td>1</td>\n",
       "      <td>d9750ee7</td>\n",
       "      <td>98572c79</td>\n",
       "      <td>f028772b</td>\n",
       "      <td>ecad2386</td>\n",
       "      <td>7801e8d9</td>\n",
       "      <td>...</td>\n",
       "      <td>2</td>\n",
       "      <td>1063</td>\n",
       "      <td>-1</td>\n",
       "      <td>33</td>\n",
       "      <td>2014-10-28</td>\n",
       "      <td>03:00:00</td>\n",
       "      <td>1</td>\n",
       "      <td>65</td>\n",
       "      <td>19</td>\n",
       "      <td>0</td>\n",
       "    </tr>\n",
       "    <tr>\n",
       "      <th>323457</th>\n",
       "      <td>11914295786743937713</td>\n",
       "      <td>0</td>\n",
       "      <td>0</td>\n",
       "      <td>1005</td>\n",
       "      <td>0</td>\n",
       "      <td>1fbe01fe</td>\n",
       "      <td>f3845767</td>\n",
       "      <td>28905ebd</td>\n",
       "      <td>ecad2386</td>\n",
       "      <td>7801e8d9</td>\n",
       "      <td>...</td>\n",
       "      <td>0</td>\n",
       "      <td>35</td>\n",
       "      <td>-1</td>\n",
       "      <td>51</td>\n",
       "      <td>2014-10-29</td>\n",
       "      <td>00:00:00</td>\n",
       "      <td>2</td>\n",
       "      <td>65</td>\n",
       "      <td>1</td>\n",
       "      <td>0</td>\n",
       "    </tr>\n",
       "    <tr>\n",
       "      <th>275743</th>\n",
       "      <td>12379328275205309290</td>\n",
       "      <td>0</td>\n",
       "      <td>4</td>\n",
       "      <td>1005</td>\n",
       "      <td>1</td>\n",
       "      <td>5ee41ff2</td>\n",
       "      <td>17d996e6</td>\n",
       "      <td>f028772b</td>\n",
       "      <td>ecad2386</td>\n",
       "      <td>7801e8d9</td>\n",
       "      <td>...</td>\n",
       "      <td>0</td>\n",
       "      <td>39</td>\n",
       "      <td>100081</td>\n",
       "      <td>221</td>\n",
       "      <td>2014-10-28</td>\n",
       "      <td>04:00:00</td>\n",
       "      <td>1</td>\n",
       "      <td>65</td>\n",
       "      <td>19</td>\n",
       "      <td>0</td>\n",
       "    </tr>\n",
       "    <tr>\n",
       "      <th>394154</th>\n",
       "      <td>15603282462457099589</td>\n",
       "      <td>0</td>\n",
       "      <td>16</td>\n",
       "      <td>1005</td>\n",
       "      <td>1</td>\n",
       "      <td>222acd54</td>\n",
       "      <td>de0f0f82</td>\n",
       "      <td>f028772b</td>\n",
       "      <td>ecad2386</td>\n",
       "      <td>7801e8d9</td>\n",
       "      <td>...</td>\n",
       "      <td>0</td>\n",
       "      <td>935</td>\n",
       "      <td>100075</td>\n",
       "      <td>48</td>\n",
       "      <td>2014-10-30</td>\n",
       "      <td>16:00:00</td>\n",
       "      <td>3</td>\n",
       "      <td>65</td>\n",
       "      <td>19</td>\n",
       "      <td>0</td>\n",
       "    </tr>\n",
       "  </tbody>\n",
       "</table>\n",
       "<p>5 rows × 30 columns</p>\n",
       "</div>"
      ],
      "text/plain": [
       "                          id  click  hour    C1  banner_pos   site_id  \\\n",
       "242327  17016179924101047753      0     4  1005           0  85f751fd   \n",
       "274613  13362092218668200074      1     3  1005           1  d9750ee7   \n",
       "323457  11914295786743937713      0     0  1005           0  1fbe01fe   \n",
       "275743  12379328275205309290      0     4  1005           1  5ee41ff2   \n",
       "394154  15603282462457099589      0    16  1005           1  222acd54   \n",
       "\n",
       "       site_domain site_category    app_id app_domain        ...        C18  \\\n",
       "242327    c4e18dd6      50e219e0  febd1138   82e27996        ...          3   \n",
       "274613    98572c79      f028772b  ecad2386   7801e8d9        ...          2   \n",
       "323457    f3845767      28905ebd  ecad2386   7801e8d9        ...          0   \n",
       "275743    17d996e6      f028772b  ecad2386   7801e8d9        ...          0   \n",
       "394154    de0f0f82      f028772b  ecad2386   7801e8d9        ...          0   \n",
       "\n",
       "         C19     C20  C21    new_date  new_time  day_of_week  enc_app_domain  \\\n",
       "242327   297  100111   61  2014-10-27  04:00:00            0              75   \n",
       "274613  1063      -1   33  2014-10-28  03:00:00            1              65   \n",
       "323457    35      -1   51  2014-10-29  00:00:00            2              65   \n",
       "275743    39  100081  221  2014-10-28  04:00:00            1              65   \n",
       "394154   935  100075   48  2014-10-30  16:00:00            3              65   \n",
       "\n",
       "        enc_site_category  enc_app_category  \n",
       "242327                  5                 3  \n",
       "274613                 19                 0  \n",
       "323457                  1                 0  \n",
       "275743                 19                 0  \n",
       "394154                 19                 0  \n",
       "\n",
       "[5 rows x 30 columns]"
      ]
     },
     "execution_count": 42,
     "metadata": {},
     "output_type": "execute_result"
    }
   ],
   "source": [
    "# split the data into test and train\n",
    "train, test  = train_test_split(\n",
    "  temp_sub_df,                        # split our digits dataframe\n",
    "  stratify=temp_sub_df[TARGET],       # stratify by the 'click' column   \n",
    "  test_size=0.2,                # 20% of the data should be held for testing\n",
    "  random_state=42               # hard-coded random state for repeatability in the example\n",
    ")\n",
    "\n",
    "train.head()"
   ]
  },
  {
   "cell_type": "markdown",
   "metadata": {},
   "source": [
    "### Logisitic Regression -  Classification using ScikitLearn"
   ]
  },
  {
   "cell_type": "code",
   "execution_count": 43,
   "metadata": {},
   "outputs": [
    {
     "name": "stderr",
     "output_type": "stream",
     "text": [
      "/anaconda3/lib/python3.6/site-packages/sklearn/utils/validation.py:578: DataConversionWarning: A column-vector y was passed when a 1d array was expected. Please change the shape of y to (n_samples, ), for example using ravel().\n",
      "  y = column_or_1d(y, warn=True)\n"
     ]
    },
    {
     "data": {
      "text/plain": [
       "LogisticRegression(C=1.0, class_weight=None, dual=False, fit_intercept=True,\n",
       "          intercept_scaling=1, max_iter=100, multi_class='ovr', n_jobs=1,\n",
       "          penalty='l2', random_state=None, solver='liblinear', tol=0.0001,\n",
       "          verbose=0, warm_start=False)"
      ]
     },
     "execution_count": 43,
     "metadata": {},
     "output_type": "execute_result"
    }
   ],
   "source": [
    "# Start of LogisticRegression Model!!\n",
    "\n",
    "model = LogisticRegression()\n",
    "model.fit(train[FEATURES], train[TARGET]) #**** Make sure we are using the properly encoded features ***"
   ]
  },
  {
   "cell_type": "code",
   "execution_count": 44,
   "metadata": {},
   "outputs": [],
   "source": [
    "# Seeing how our model performs on the SAME TRAINING DATA\n",
    "predictions = model.predict(test[FEATURES])"
   ]
  },
  {
   "cell_type": "code",
   "execution_count": 45,
   "metadata": {},
   "outputs": [
    {
     "name": "stdout",
     "output_type": "stream",
     "text": [
      "[[66983   150]\n",
      " [13677    72]]\n",
      "\n",
      "Accuracy: 0.8290472540243812\n",
      "Precision: 0.32432432432432434\n",
      "Recall: 0.005236744490508401\n"
     ]
    }
   ],
   "source": [
    "#*******metrics******\n",
    "\n",
    "cnf_matrix = metrics.confusion_matrix(test[TARGET], predictions)\n",
    "print(cnf_matrix)\n",
    "print()\n",
    "print(\"Accuracy:\",metrics.accuracy_score(test[TARGET], predictions))\n",
    "print(\"Precision:\",metrics.precision_score(test[TARGET], predictions))\n",
    "print(\"Recall:\",metrics.recall_score(test[TARGET], predictions))"
   ]
  },
  {
   "cell_type": "markdown",
   "metadata": {},
   "source": [
    "**Summary:** Looks like we have a pretty high number of incorrect predictions :("
   ]
  },
  {
   "cell_type": "code",
   "execution_count": 46,
   "metadata": {},
   "outputs": [
    {
     "data": {
      "image/png": "[encoded data removed]",
      "text/plain": [
       "<Figure size 432x288 with 1 Axes>"
      ]
     },
     "metadata": {},
     "output_type": "display_data"
    }
   ],
   "source": [
    "#ROC Curve\n",
    "\n",
    "y_pred_proba = model.predict_proba(test[FEATURES])[::,1]\n",
    "fpr, tpr, _ = metrics.roc_curve(test[TARGET],  y_pred_proba)\n",
    "auc = metrics.roc_auc_score(test[TARGET], y_pred_proba)\n",
    "plt.plot(fpr,tpr,label=\"data 1, auc=\"+str(auc))\n",
    "plt.legend(loc=4)\n",
    "plt.show()"
   ]
  },
  {
   "cell_type": "markdown",
   "metadata": {},
   "source": [
    "**Summary:** Yikes..."
   ]
  },
  {
   "cell_type": "markdown",
   "metadata": {},
   "source": [
    "## Random Forests  - Classification using sklearn"
   ]
  },
  {
   "cell_type": "code",
   "execution_count": 47,
   "metadata": {},
   "outputs": [
    {
     "name": "stdout",
     "output_type": "stream",
     "text": [
      "Training Features Shape: (323528, 14)\n",
      "Training Labels Shape: (323528, 1)\n",
      "Testing Features Shape: (80882, 14)\n",
      "Testing Labels Shape: (80882, 1)\n"
     ]
    }
   ],
   "source": [
    "#take preprocessed data from above for train and test set\n",
    "train_features = np.array(train[FEATURES])\n",
    "train_labels = np.array(train[TARGET])\n",
    "test_features = np.array(test[FEATURES])\n",
    "test_labels = np.array(test[TARGET])\n",
    "\n",
    "print('Training Features Shape:', train_features.shape)\n",
    "print('Training Labels Shape:', train_labels.shape)\n",
    "print('Testing Features Shape:', test_features.shape)\n",
    "print('Testing Labels Shape:', test_labels.shape)"
   ]
  },
  {
   "cell_type": "code",
   "execution_count": 48,
   "metadata": {},
   "outputs": [
    {
     "data": {
      "text/plain": [
       "RandomForestClassifier(bootstrap=True, class_weight=None, criterion='gini',\n",
       "            max_depth=None, max_features='auto', max_leaf_nodes=None,\n",
       "            min_impurity_decrease=0.0, min_impurity_split=None,\n",
       "            min_samples_leaf=1, min_samples_split=2,\n",
       "            min_weight_fraction_leaf=0.0, n_estimators=10, n_jobs=1,\n",
       "            oob_score=False, random_state=42, verbose=0, warm_start=False)"
      ]
     },
     "execution_count": 48,
     "metadata": {},
     "output_type": "execute_result"
    }
   ],
   "source": [
    "# Instantiate model with 10 decision trees - this will be our baseline model\n",
    "rf = RandomForestClassifier(n_estimators = 10, random_state = 42)\n",
    "# Train the model on training data\n",
    "rf.fit(train_features, train_labels.ravel()) #use ravel() - it flattens the array"
   ]
  },
  {
   "cell_type": "code",
   "execution_count": 49,
   "metadata": {},
   "outputs": [],
   "source": [
    "# Use the forest's predict method on the test data\n",
    "predictions = rf.predict(test_features)"
   ]
  },
  {
   "cell_type": "code",
   "execution_count": 50,
   "metadata": {},
   "outputs": [
    {
     "name": "stdout",
     "output_type": "stream",
     "text": [
      "(80882, 1)\n"
     ]
    }
   ],
   "source": [
    "#reshape predictions to have 1 column to later use to concatenate\n",
    "predictions = predictions.reshape(80882,1)\n",
    "print(predictions.shape)"
   ]
  },
  {
   "cell_type": "code",
   "execution_count": 51,
   "metadata": {},
   "outputs": [],
   "source": [
    "#create dataframe that compares the actual vs predicted\n",
    "results = pd.DataFrame(np.column_stack((test_labels, predictions)))\n",
    "\n",
    "# results"
   ]
  },
  {
   "cell_type": "code",
   "execution_count": 52,
   "metadata": {},
   "outputs": [
    {
     "name": "stdout",
     "output_type": "stream",
     "text": [
      "RMSE when n_estimators = 10 is 0.4315343595981214\n"
     ]
    }
   ],
   "source": [
    "RMSE = sqrt(metrics.mean_squared_error(test_labels, predictions))\n",
    "print(\"RMSE when n_estimators = 10 is {}\".format(RMSE))\n",
    "# #RMSE: 0.4315343595981214 with n_estimators = 10"
   ]
  },
  {
   "cell_type": "markdown",
   "metadata": {},
   "source": [
    "**Summary:** Baseline error is still not great"
   ]
  },
  {
   "cell_type": "markdown",
   "metadata": {},
   "source": [
    "We will use AUC (Area Under Curve) as the evaluation metric. Our target value is binary so it’s a binary classification problem. AUC is a good way for evaluation for this type of problems."
   ]
  },
  {
   "cell_type": "code",
   "execution_count": 53,
   "metadata": {},
   "outputs": [
    {
     "data": {
      "image/png": "[encoded data removed]",
      "text/plain": [
       "<Figure size 432x288 with 1 Axes>"
      ]
     },
     "metadata": {},
     "output_type": "display_data"
    },
    {
     "name": "stdout",
     "output_type": "stream",
     "text": [
      "AUC when n_estimators = 10 is 0.5331646979693431\n"
     ]
    }
   ],
   "source": [
    "fpr, tpr, thresholds = metrics.roc_curve(test_labels, predictions)\n",
    "roc_auc = metrics.auc(fpr, tpr)\n",
    "plt.plot(fpr,tpr)\n",
    "plt.title('ROC curve')\n",
    "plt.show()\n",
    "\n",
    "print(\"AUC when n_estimators = 10 is {}\".format(roc_auc))\n",
    "\n"
   ]
  },
  {
   "cell_type": "markdown",
   "metadata": {},
   "source": [
    "### Random Forest - Parameter Tuning"
   ]
  },
  {
   "cell_type": "code",
   "execution_count": 54,
   "metadata": {},
   "outputs": [
    {
     "name": "stdout",
     "output_type": "stream",
     "text": [
      "Model where n_estimator = 1 completed\n",
      "Model where n_estimator = 10 completed\n",
      "Model where n_estimator = 64 completed\n",
      "Model where n_estimator = 225 completed\n",
      "Model where n_estimator = 500 completed\n"
     ]
    }
   ],
   "source": [
    "#try different n_estimators to see if we can find an optimal number of trees\n",
    "n_estimators = [1, 10, 64, 225, 500]\n",
    "\n",
    "rmse_results = []\n",
    "auc_results = []\n",
    "\n",
    "for estimator in n_estimators:\n",
    "    rf = RandomForestClassifier(n_estimators=estimator, random_state = 42)\n",
    "    rf.fit(train_features, train_labels.ravel())\n",
    "    predictions = (rf.predict(test_features)).reshape(80882,1)\n",
    "    fpr, tpr, thresholds = metrics.roc_curve(test_labels, predictions)\n",
    "    \n",
    "    #metrics\n",
    "    roc_auc = metrics.auc(fpr, tpr)\n",
    "    auc_results.append(roc_auc)\n",
    "    RMSE = sqrt(metrics.mean_squared_error(test_labels, predictions))\n",
    "    rmse_results.append(RMSE)\n",
    "    \n",
    "    print((\"Model where n_estimator = {} completed\").format(estimator))"
   ]
  },
  {
   "cell_type": "code",
   "execution_count": 55,
   "metadata": {},
   "outputs": [
    {
     "data": {
      "text/plain": [
       "[0.44603154691922864,\n",
       " 0.4315343595981214,\n",
       " 0.4303006229913365,\n",
       " 0.4298406542623384,\n",
       " 0.42935139755914326]"
      ]
     },
     "execution_count": 55,
     "metadata": {},
     "output_type": "execute_result"
    }
   ],
   "source": [
    "rmse_results\n",
    "# auc_results"
   ]
  },
  {
   "cell_type": "markdown",
   "metadata": {},
   "source": [
    "**Summary:** YIKESSS....RMSE IS SO BAD"
   ]
  },
  {
   "cell_type": "markdown",
   "metadata": {},
   "source": [
    "### SGDClassifer - scikit learn"
   ]
  },
  {
   "cell_type": "markdown",
   "metadata": {},
   "source": [
    "**Logistic vs SGDClassifier:** Logistic Regression by default uses Gradient Descent and as such it would be better to use SGD Classifier on larger data sets. One another reason you might want to use SGD Classifier is, logistic regression, in its vanilla sklearn form, won’t work if you can’t hold the dataset in RAM but SGD will still work.\n",
    "\n",
    "For sufficiently large datasets, it is best to implement SGD Classifier instead of Logistic Classifier to produce similar results in much less time."
   ]
  },
  {
   "cell_type": "code",
   "execution_count": 56,
   "metadata": {},
   "outputs": [
    {
     "data": {
      "text/plain": [
       "SGDClassifier(alpha=0.0001, average=False, class_weight=None, epsilon=0.1,\n",
       "       eta0=0.0, fit_intercept=True, l1_ratio=0.15,\n",
       "       learning_rate='optimal', loss='log', max_iter=500, n_iter=None,\n",
       "       n_jobs=1, penalty='l2', power_t=0.5, random_state=2, shuffle=True,\n",
       "       tol=0.001, verbose=0, warm_start=False)"
      ]
     },
     "execution_count": 56,
     "metadata": {},
     "output_type": "execute_result"
    }
   ],
   "source": [
    "sgd_classifier = linear_model.SGDClassifier(\n",
    "    loss='log',\n",
    "    random_state=2, # Specifying random state allow us to get repeatable outcomes\n",
    "    tol=1e-3, \n",
    "    max_iter=500\n",
    ") \n",
    " \n",
    "sgd_classifier.fit(train_features, train_labels.ravel())\n",
    "\n",
    "# sgd_classifier.partial_fit(train_features, train_labels.ravel(), classes = [0,1]) #partial_fit SUCKED"
   ]
  },
  {
   "cell_type": "code",
   "execution_count": 57,
   "metadata": {},
   "outputs": [
    {
     "name": "stdout",
     "output_type": "stream",
     "text": [
      "Model using SGDClassifier has an RMSE of 0.41513549509867104 \n"
     ]
    }
   ],
   "source": [
    "# get the predictions using our model\n",
    "sgd_predictions = sgd_classifier.predict(test_features)\n",
    "\n",
    "# we can use the scores to set thresholds on the predictions made\n",
    "sgd_scores = sgd_classifier.decision_function(test_features)\n",
    "RMSE = sqrt(metrics.mean_squared_error(test_labels, sgd_predictions))\n",
    "print((\"Model using SGDClassifier has an RMSE of {} \").format(RMSE))\n",
    "# 0.4158645213482616 - base\n",
    "# 0.41513549509867104 - loss = log"
   ]
  },
  {
   "cell_type": "code",
   "execution_count": 58,
   "metadata": {},
   "outputs": [
    {
     "data": {
      "text/plain": [
       "0.5226449901767597"
      ]
     },
     "execution_count": 58,
     "metadata": {},
     "output_type": "execute_result"
    }
   ],
   "source": [
    "# metrics - calculate the area under the ROC curve\n",
    "sgd_fpr, sgd_tpr, sgd_thresholds = metrics.roc_curve(test_labels, sgd_predictions)\n",
    "sgd_roc_auc = metrics.auc(sgd_fpr, sgd_tpr)\n",
    "sgd_roc_auc\n",
    "\n",
    "# 0.5205449402269007 - base\n",
    "# 0.5226449901767597 - loss = log"
   ]
  },
  {
   "cell_type": "code",
   "execution_count": 59,
   "metadata": {},
   "outputs": [
    {
     "name": "stdout",
     "output_type": "stream",
     "text": [
      "Model where alpha is 0.0001 is completed\n",
      "Model where alpha is 0.001 is completed\n",
      "Model where alpha is 0.01 is completed\n",
      "Model where alpha is 0.1 is completed\n",
      "Model where alpha is 1.0 is completed\n",
      "Model where alpha is 10.0 is completed\n"
     ]
    }
   ],
   "source": [
    "# loop through different C (alpha) values to see which gives us the largest AUC value\n",
    "alphas = [1e-4, 1e-3, 1e-2, 1e-1, 1e0, 1e1]\n",
    "\n",
    "RMSES = []\n",
    "AUCS = []\n",
    "\n",
    "for a in alphas:\n",
    "    sgd_classifier = linear_model.SGDClassifier(\n",
    "        alpha = a,\n",
    "        loss='log',\n",
    "        random_state=2, # Specifying random state allow us to get repeatable outcomes\n",
    "        tol=1e-3, \n",
    "        max_iter=500\n",
    "    ) \n",
    "\n",
    "    sgd_classifier.fit(train_features, train_labels.ravel())\n",
    "    sgd_predictions = sgd_classifier.predict(test_features)\n",
    "    sgd_rmse = sqrt(metrics.mean_squared_error(test_labels, sgd_predictions))\n",
    "    RMSES.append(sgd_rmse)\n",
    "    sgd_fpr, sgd_tpr, sgd_thresholds = metrics.roc_curve(test_labels, sgd_predictions)\n",
    "    sgd_roc_auc = metrics.auc(sgd_fpr, sgd_tpr)\n",
    "    AUCS.append(sgd_roc_auc)\n",
    "    \n",
    "    print((\"Model where alpha is {} is completed\").format(a))"
   ]
  },
  {
   "cell_type": "code",
   "execution_count": 60,
   "metadata": {},
   "outputs": [
    {
     "data": {
      "image/png": "[encoded data removed]",
      "text/plain": [
       "<Figure size 432x288 with 1 Axes>"
      ]
     },
     "metadata": {},
     "output_type": "display_data"
    }
   ],
   "source": [
    "# plot to visiual the different AUC in relation to alpha \n",
    "plt.plot(AUCS)\n",
    "plt.xticks(range(len(alphas)), alphas)\n",
    "plt.ylabel('AUC')\n",
    "plt.xlabel('alpha')\n",
    "plt.show()"
   ]
  },
  {
   "cell_type": "markdown",
   "metadata": {},
   "source": [
    "## Tensor Flow - LinearClassifier"
   ]
  },
  {
   "cell_type": "code",
   "execution_count": 236,
   "metadata": {},
   "outputs": [],
   "source": [
    "# split the data\n",
    "train_tf, test_tf = train_test_split(\n",
    "  sub_df,\n",
    "#   stratify=sub_df['click'],  \n",
    "  test_size=0.2,\n",
    ")\n"
   ]
  },
  {
   "cell_type": "code",
   "execution_count": 62,
   "metadata": {},
   "outputs": [
    {
     "data": {
      "text/plain": [
       "'site_id'"
      ]
     },
     "execution_count": 62,
     "metadata": {},
     "output_type": "execute_result"
    }
   ],
   "source": [
    "column_names = sub_df.columns\n",
    "# sub_df.dtypes\n",
    "column_names[5]"
   ]
  },
  {
   "cell_type": "code",
   "execution_count": 63,
   "metadata": {},
   "outputs": [
    {
     "data": {
      "text/plain": [
       "[0, 1, 2, 3, 4, 14, 15, 16, 17, 18, 19, 20, 21, 22, 23, 26, 27, 28, 29]"
      ]
     },
     "execution_count": 63,
     "metadata": {},
     "output_type": "execute_result"
    }
   ],
   "source": [
    "# get the index of each column and specify which ones will be created as numeric, vocab_list, or hash_bucket\n",
    "\n",
    "numeric = []\n",
    "for i in range(0,len(column_names)):\n",
    "#     print(sub_df[column_names[i]].dtypes)\n",
    "    if np.issubdtype(sub_df[column_names[i]].dtypes , np.number):\n",
    "        numeric.append(i)\n",
    "        \n",
    "# vocab = []\n",
    "# for i in range(0,len(column_names)):\n",
    "# #     print(sub_df[column_names[i]].dtypes)\n",
    "#     if np.issubdtype(sub_df[column_names[i]].dtypes , np.object_):\n",
    "#         vocab.append(i)\n",
    "# vocab.remove(12)\n",
    "\n",
    "# hash_bucket = [12]\n",
    "numeric"
   ]
  },
  {
   "cell_type": "code",
   "execution_count": 72,
   "metadata": {},
   "outputs": [
    {
     "data": {
      "text/plain": [
       "'click'"
      ]
     },
     "execution_count": 72,
     "metadata": {},
     "output_type": "execute_result"
    }
   ],
   "source": [
    "column_names[1]"
   ]
  },
  {
   "cell_type": "code",
   "execution_count": 133,
   "metadata": {},
   "outputs": [],
   "source": [
    "# declare the feature columns accordingly\n",
    "\n",
    "feature_columns = []\n",
    "\n",
    "for num_col in numeric:\n",
    "    if column_names[num_col] != \"click\":\n",
    "        feature_columns.append(numeric_column(column_names[num_col], dtype=tf.dtypes.int64))\n",
    "\n",
    "# for num_col in vocab:\n",
    "#   feature_columns.append(categorical_column_with_vocabulary_list(\n",
    "#       column_names[num_col],\n",
    "#         sub_df[column_names[num_col]].unique()\n",
    "#          ))\n",
    "\n",
    "# for num_col in hash_bucket:\n",
    "#   feature_columns.append(categorical_column_with_hash_bucket(\n",
    "#       column_names[num_col],\n",
    "#       len(sub_df[column_names[num_col]].unique())\n",
    "#          ))"
   ]
  },
  {
   "cell_type": "code",
   "execution_count": 92,
   "metadata": {
    "collapsed": true
   },
   "outputs": [
    {
     "data": {
      "text/plain": [
       "[NumericColumn(key='id', shape=(1,), default_value=None, dtype=tf.int64, normalizer_fn=None),\n",
       " NumericColumn(key='hour', shape=(1,), default_value=None, dtype=tf.int64, normalizer_fn=None),\n",
       " NumericColumn(key='C1', shape=(1,), default_value=None, dtype=tf.int64, normalizer_fn=None),\n",
       " NumericColumn(key='banner_pos', shape=(1,), default_value=None, dtype=tf.int64, normalizer_fn=None),\n",
       " NumericColumn(key='device_type', shape=(1,), default_value=None, dtype=tf.int64, normalizer_fn=None),\n",
       " NumericColumn(key='device_conn_type', shape=(1,), default_value=None, dtype=tf.int64, normalizer_fn=None),\n",
       " NumericColumn(key='C14', shape=(1,), default_value=None, dtype=tf.int64, normalizer_fn=None),\n",
       " NumericColumn(key='C15', shape=(1,), default_value=None, dtype=tf.int64, normalizer_fn=None),\n",
       " NumericColumn(key='C16', shape=(1,), default_value=None, dtype=tf.int64, normalizer_fn=None),\n",
       " NumericColumn(key='C17', shape=(1,), default_value=None, dtype=tf.int64, normalizer_fn=None),\n",
       " NumericColumn(key='C18', shape=(1,), default_value=None, dtype=tf.int64, normalizer_fn=None),\n",
       " NumericColumn(key='C19', shape=(1,), default_value=None, dtype=tf.int64, normalizer_fn=None),\n",
       " NumericColumn(key='C20', shape=(1,), default_value=None, dtype=tf.int64, normalizer_fn=None),\n",
       " NumericColumn(key='C21', shape=(1,), default_value=None, dtype=tf.int64, normalizer_fn=None),\n",
       " NumericColumn(key='day_of_week', shape=(1,), default_value=None, dtype=tf.int64, normalizer_fn=None),\n",
       " NumericColumn(key='enc_app_domain', shape=(1,), default_value=None, dtype=tf.int64, normalizer_fn=None),\n",
       " NumericColumn(key='enc_site_category', shape=(1,), default_value=None, dtype=tf.int64, normalizer_fn=None),\n",
       " NumericColumn(key='enc_app_category', shape=(1,), default_value=None, dtype=tf.int64, normalizer_fn=None)]"
      ]
     },
     "execution_count": 92,
     "metadata": {},
     "output_type": "execute_result"
    }
   ],
   "source": [
    "feature_columns "
   ]
  },
  {
   "cell_type": "code",
   "execution_count": 93,
   "metadata": {
    "collapsed": true
   },
   "outputs": [
    {
     "name": "stdout",
     "output_type": "stream",
     "text": [
      "INFO:tensorflow:Using default config.\n"
     ]
    },
    {
     "name": "stderr",
     "output_type": "stream",
     "text": [
      "INFO:tensorflow:Using default config.\n"
     ]
    },
    {
     "name": "stdout",
     "output_type": "stream",
     "text": [
      "WARNING:tensorflow:Using temporary folder as model directory: /var/folders/9h/j8xlvbk14vx9yqsgthf07z7h0000gn/T/tmp7gl0vlkp\n"
     ]
    },
    {
     "name": "stderr",
     "output_type": "stream",
     "text": [
      "WARNING:tensorflow:Using temporary folder as model directory: /var/folders/9h/j8xlvbk14vx9yqsgthf07z7h0000gn/T/tmp7gl0vlkp\n"
     ]
    },
    {
     "name": "stdout",
     "output_type": "stream",
     "text": [
      "INFO:tensorflow:Using config: {'_model_dir': '/var/folders/9h/j8xlvbk14vx9yqsgthf07z7h0000gn/T/tmp7gl0vlkp', '_tf_random_seed': None, '_save_summary_steps': 100, '_save_checkpoints_steps': None, '_save_checkpoints_secs': 600, '_session_config': allow_soft_placement: true\n",
      "graph_options {\n",
      "  rewrite_options {\n",
      "    meta_optimizer_iterations: ONE\n",
      "  }\n",
      "}\n",
      ", '_keep_checkpoint_max': 5, '_keep_checkpoint_every_n_hours': 10000, '_log_step_count_steps': 100, '_train_distribute': None, '_device_fn': None, '_protocol': None, '_eval_distribute': None, '_experimental_distribute': None, '_service': None, '_cluster_spec': <tensorflow.python.training.server_lib.ClusterSpec object at 0x1ae61e1550>, '_task_type': 'worker', '_task_id': 0, '_global_id_in_cluster': 0, '_master': '', '_evaluation_master': '', '_is_chief': True, '_num_ps_replicas': 0, '_num_worker_replicas': 1}\n"
     ]
    },
    {
     "name": "stderr",
     "output_type": "stream",
     "text": [
      "INFO:tensorflow:Using config: {'_model_dir': '/var/folders/9h/j8xlvbk14vx9yqsgthf07z7h0000gn/T/tmp7gl0vlkp', '_tf_random_seed': None, '_save_summary_steps': 100, '_save_checkpoints_steps': None, '_save_checkpoints_secs': 600, '_session_config': allow_soft_placement: true\n",
      "graph_options {\n",
      "  rewrite_options {\n",
      "    meta_optimizer_iterations: ONE\n",
      "  }\n",
      "}\n",
      ", '_keep_checkpoint_max': 5, '_keep_checkpoint_every_n_hours': 10000, '_log_step_count_steps': 100, '_train_distribute': None, '_device_fn': None, '_protocol': None, '_eval_distribute': None, '_experimental_distribute': None, '_service': None, '_cluster_spec': <tensorflow.python.training.server_lib.ClusterSpec object at 0x1ae61e1550>, '_task_type': 'worker', '_task_id': 0, '_global_id_in_cluster': 0, '_master': '', '_evaluation_master': '', '_is_chief': True, '_num_ps_replicas': 0, '_num_worker_replicas': 1}\n"
     ]
    }
   ],
   "source": [
    "# We now know our feature columns. We also know how many classes we need to identify.\n",
    "# To build the classifier we simply feed that data into the object constructor.\n",
    "\n",
    "classifier = LinearClassifier(feature_columns=feature_columns, n_classes=2)"
   ]
  },
  {
   "cell_type": "code",
   "execution_count": 94,
   "metadata": {
    "collapsed": true
   },
   "outputs": [
    {
     "name": "stdout",
     "output_type": "stream",
     "text": [
      "dict_keys(['id', 'hour', 'C1', 'banner_pos', 'device_type', 'device_conn_type', 'C14', 'C15', 'C16', 'C17', 'C18', 'C19', 'C20', 'C21', 'day_of_week', 'enc_app_domain', 'enc_site_category', 'enc_app_category'])\n",
      "INFO:tensorflow:Calling model_fn.\n"
     ]
    },
    {
     "name": "stderr",
     "output_type": "stream",
     "text": [
      "INFO:tensorflow:Calling model_fn.\n"
     ]
    },
    {
     "name": "stdout",
     "output_type": "stream",
     "text": [
      "INFO:tensorflow:Done calling model_fn.\n"
     ]
    },
    {
     "name": "stderr",
     "output_type": "stream",
     "text": [
      "INFO:tensorflow:Done calling model_fn.\n"
     ]
    },
    {
     "name": "stdout",
     "output_type": "stream",
     "text": [
      "INFO:tensorflow:Create CheckpointSaverHook.\n"
     ]
    },
    {
     "name": "stderr",
     "output_type": "stream",
     "text": [
      "INFO:tensorflow:Create CheckpointSaverHook.\n"
     ]
    },
    {
     "name": "stdout",
     "output_type": "stream",
     "text": [
      "INFO:tensorflow:Graph was finalized.\n"
     ]
    },
    {
     "name": "stderr",
     "output_type": "stream",
     "text": [
      "INFO:tensorflow:Graph was finalized.\n"
     ]
    },
    {
     "name": "stdout",
     "output_type": "stream",
     "text": [
      "INFO:tensorflow:Running local_init_op.\n"
     ]
    },
    {
     "name": "stderr",
     "output_type": "stream",
     "text": [
      "INFO:tensorflow:Running local_init_op.\n"
     ]
    },
    {
     "name": "stdout",
     "output_type": "stream",
     "text": [
      "INFO:tensorflow:Done running local_init_op.\n"
     ]
    },
    {
     "name": "stderr",
     "output_type": "stream",
     "text": [
      "INFO:tensorflow:Done running local_init_op.\n"
     ]
    },
    {
     "name": "stdout",
     "output_type": "stream",
     "text": [
      "INFO:tensorflow:Saving checkpoints for 0 into /var/folders/9h/j8xlvbk14vx9yqsgthf07z7h0000gn/T/tmp7gl0vlkp/model.ckpt.\n"
     ]
    },
    {
     "name": "stderr",
     "output_type": "stream",
     "text": [
      "INFO:tensorflow:Saving checkpoints for 0 into /var/folders/9h/j8xlvbk14vx9yqsgthf07z7h0000gn/T/tmp7gl0vlkp/model.ckpt.\n"
     ]
    },
    {
     "ename": "UnimplementedError",
     "evalue": "CopySliceToElement Unhandled data type: 23\n\t [[node IteratorGetNext (defined at /anaconda3/lib/python3.6/site-packages/tensorflow_estimator/python/estimator/util.py:110) ]]\n\nCaused by op 'IteratorGetNext', defined at:\n  File \"/anaconda3/lib/python3.6/runpy.py\", line 193, in _run_module_as_main\n    \"__main__\", mod_spec)\n  File \"/anaconda3/lib/python3.6/runpy.py\", line 85, in _run_code\n    exec(code, run_globals)\n  File \"/anaconda3/lib/python3.6/site-packages/ipykernel_launcher.py\", line 16, in <module>\n    app.launch_new_instance()\n  File \"/anaconda3/lib/python3.6/site-packages/traitlets/config/application.py\", line 658, in launch_instance\n    app.start()\n  File \"/anaconda3/lib/python3.6/site-packages/ipykernel/kernelapp.py\", line 486, in start\n    self.io_loop.start()\n  File \"/anaconda3/lib/python3.6/site-packages/tornado/platform/asyncio.py\", line 127, in start\n    self.asyncio_loop.run_forever()\n  File \"/anaconda3/lib/python3.6/asyncio/base_events.py\", line 422, in run_forever\n    self._run_once()\n  File \"/anaconda3/lib/python3.6/asyncio/base_events.py\", line 1432, in _run_once\n    handle._run()\n  File \"/anaconda3/lib/python3.6/asyncio/events.py\", line 145, in _run\n    self._callback(*self._args)\n  File \"/anaconda3/lib/python3.6/site-packages/tornado/platform/asyncio.py\", line 117, in _handle_events\n    handler_func(fileobj, events)\n  File \"/anaconda3/lib/python3.6/site-packages/tornado/stack_context.py\", line 276, in null_wrapper\n    return fn(*args, **kwargs)\n  File \"/anaconda3/lib/python3.6/site-packages/zmq/eventloop/zmqstream.py\", line 450, in _handle_events\n    self._handle_recv()\n  File \"/anaconda3/lib/python3.6/site-packages/zmq/eventloop/zmqstream.py\", line 480, in _handle_recv\n    self._run_callback(callback, msg)\n  File \"/anaconda3/lib/python3.6/site-packages/zmq/eventloop/zmqstream.py\", line 432, in _run_callback\n    callback(*args, **kwargs)\n  File \"/anaconda3/lib/python3.6/site-packages/tornado/stack_context.py\", line 276, in null_wrapper\n    return fn(*args, **kwargs)\n  File \"/anaconda3/lib/python3.6/site-packages/ipykernel/kernelbase.py\", line 283, in dispatcher\n    return self.dispatch_shell(stream, msg)\n  File \"/anaconda3/lib/python3.6/site-packages/ipykernel/kernelbase.py\", line 233, in dispatch_shell\n    handler(stream, idents, msg)\n  File \"/anaconda3/lib/python3.6/site-packages/ipykernel/kernelbase.py\", line 399, in execute_request\n    user_expressions, allow_stdin)\n  File \"/anaconda3/lib/python3.6/site-packages/ipykernel/ipkernel.py\", line 208, in do_execute\n    res = shell.run_cell(code, store_history=store_history, silent=silent)\n  File \"/anaconda3/lib/python3.6/site-packages/ipykernel/zmqshell.py\", line 537, in run_cell\n    return super(ZMQInteractiveShell, self).run_cell(*args, **kwargs)\n  File \"/anaconda3/lib/python3.6/site-packages/IPython/core/interactiveshell.py\", line 2662, in run_cell\n    raw_cell, store_history, silent, shell_futures)\n  File \"/anaconda3/lib/python3.6/site-packages/IPython/core/interactiveshell.py\", line 2785, in _run_cell\n    interactivity=interactivity, compiler=compiler, result=result)\n  File \"/anaconda3/lib/python3.6/site-packages/IPython/core/interactiveshell.py\", line 2909, in run_ast_nodes\n    if self.run_code(code, result):\n  File \"/anaconda3/lib/python3.6/site-packages/IPython/core/interactiveshell.py\", line 2963, in run_code\n    exec(code_obj, self.user_global_ns, self.user_ns)\n  File \"<ipython-input-94-00b3e6b5f9b3>\", line 19, in <module>\n    classifier.train(training_input)\n  File \"/anaconda3/lib/python3.6/site-packages/tensorflow_estimator/python/estimator/estimator.py\", line 358, in train\n    loss = self._train_model(input_fn, hooks, saving_listeners)\n  File \"/anaconda3/lib/python3.6/site-packages/tensorflow_estimator/python/estimator/estimator.py\", line 1124, in _train_model\n    return self._train_model_default(input_fn, hooks, saving_listeners)\n  File \"/anaconda3/lib/python3.6/site-packages/tensorflow_estimator/python/estimator/estimator.py\", line 1151, in _train_model_default\n    input_fn, model_fn_lib.ModeKeys.TRAIN))\n  File \"/anaconda3/lib/python3.6/site-packages/tensorflow_estimator/python/estimator/estimator.py\", line 992, in _get_features_and_labels_from_input_fn\n    self._call_input_fn(input_fn, mode))\n  File \"/anaconda3/lib/python3.6/site-packages/tensorflow_estimator/python/estimator/util.py\", line 110, in parse_input_fn_result\n    result = iterator.get_next()\n  File \"/anaconda3/lib/python3.6/site-packages/tensorflow/python/data/ops/iterator_ops.py\", line 414, in get_next\n    output_shapes=self._structure._flat_shapes, name=name)\n  File \"/anaconda3/lib/python3.6/site-packages/tensorflow/python/ops/gen_dataset_ops.py\", line 1685, in iterator_get_next\n    output_shapes=output_shapes, name=name)\n  File \"/anaconda3/lib/python3.6/site-packages/tensorflow/python/framework/op_def_library.py\", line 788, in _apply_op_helper\n    op_def=op_def)\n  File \"/anaconda3/lib/python3.6/site-packages/tensorflow/python/util/deprecation.py\", line 507, in new_func\n    return func(*args, **kwargs)\n  File \"/anaconda3/lib/python3.6/site-packages/tensorflow/python/framework/ops.py\", line 3300, in create_op\n    op_def=op_def)\n  File \"/anaconda3/lib/python3.6/site-packages/tensorflow/python/framework/ops.py\", line 1801, in __init__\n    self._traceback = tf_stack.extract_stack()\n\nUnimplementedError (see above for traceback): CopySliceToElement Unhandled data type: 23\n\t [[node IteratorGetNext (defined at /anaconda3/lib/python3.6/site-packages/tensorflow_estimator/python/estimator/util.py:110) ]]\n",
     "output_type": "error",
     "traceback": [
      "\u001b[0;31m---------------------------------------------------------------------------\u001b[0m",
      "\u001b[0;31mUnimplementedError\u001b[0m                        Traceback (most recent call last)",
      "\u001b[0;32m/anaconda3/lib/python3.6/site-packages/tensorflow/python/client/session.py\u001b[0m in \u001b[0;36m_do_call\u001b[0;34m(self, fn, *args)\u001b[0m\n\u001b[1;32m   1333\u001b[0m     \u001b[0;32mtry\u001b[0m\u001b[0;34m:\u001b[0m\u001b[0;34m\u001b[0m\u001b[0m\n\u001b[0;32m-> 1334\u001b[0;31m       \u001b[0;32mreturn\u001b[0m \u001b[0mfn\u001b[0m\u001b[0;34m(\u001b[0m\u001b[0;34m*\u001b[0m\u001b[0margs\u001b[0m\u001b[0;34m)\u001b[0m\u001b[0;34m\u001b[0m\u001b[0m\n\u001b[0m\u001b[1;32m   1335\u001b[0m     \u001b[0;32mexcept\u001b[0m \u001b[0merrors\u001b[0m\u001b[0;34m.\u001b[0m\u001b[0mOpError\u001b[0m \u001b[0;32mas\u001b[0m \u001b[0me\u001b[0m\u001b[0;34m:\u001b[0m\u001b[0;34m\u001b[0m\u001b[0m\n",
      "\u001b[0;32m/anaconda3/lib/python3.6/site-packages/tensorflow/python/client/session.py\u001b[0m in \u001b[0;36m_run_fn\u001b[0;34m(feed_dict, fetch_list, target_list, options, run_metadata)\u001b[0m\n\u001b[1;32m   1318\u001b[0m       return self._call_tf_sessionrun(\n\u001b[0;32m-> 1319\u001b[0;31m           options, feed_dict, fetch_list, target_list, run_metadata)\n\u001b[0m\u001b[1;32m   1320\u001b[0m \u001b[0;34m\u001b[0m\u001b[0m\n",
      "\u001b[0;32m/anaconda3/lib/python3.6/site-packages/tensorflow/python/client/session.py\u001b[0m in \u001b[0;36m_call_tf_sessionrun\u001b[0;34m(self, options, feed_dict, fetch_list, target_list, run_metadata)\u001b[0m\n\u001b[1;32m   1406\u001b[0m         \u001b[0mself\u001b[0m\u001b[0;34m.\u001b[0m\u001b[0m_session\u001b[0m\u001b[0;34m,\u001b[0m \u001b[0moptions\u001b[0m\u001b[0;34m,\u001b[0m \u001b[0mfeed_dict\u001b[0m\u001b[0;34m,\u001b[0m \u001b[0mfetch_list\u001b[0m\u001b[0;34m,\u001b[0m \u001b[0mtarget_list\u001b[0m\u001b[0;34m,\u001b[0m\u001b[0;34m\u001b[0m\u001b[0m\n\u001b[0;32m-> 1407\u001b[0;31m         run_metadata)\n\u001b[0m\u001b[1;32m   1408\u001b[0m \u001b[0;34m\u001b[0m\u001b[0m\n",
      "\u001b[0;31mUnimplementedError\u001b[0m: CopySliceToElement Unhandled data type: 23\n\t [[{{node IteratorGetNext}}]]",
      "\nDuring handling of the above exception, another exception occurred:\n",
      "\u001b[0;31mUnimplementedError\u001b[0m                        Traceback (most recent call last)",
      "\u001b[0;32m<ipython-input-94-00b3e6b5f9b3>\u001b[0m in \u001b[0;36m<module>\u001b[0;34m()\u001b[0m\n\u001b[1;32m     17\u001b[0m     \u001b[0;32mreturn\u001b[0m \u001b[0mtraining_ds\u001b[0m\u001b[0;34m\u001b[0m\u001b[0m\n\u001b[1;32m     18\u001b[0m \u001b[0;34m\u001b[0m\u001b[0m\n\u001b[0;32m---> 19\u001b[0;31m \u001b[0mclassifier\u001b[0m\u001b[0;34m.\u001b[0m\u001b[0mtrain\u001b[0m\u001b[0;34m(\u001b[0m\u001b[0mtraining_input\u001b[0m\u001b[0;34m)\u001b[0m\u001b[0;34m\u001b[0m\u001b[0m\n\u001b[0m",
      "\u001b[0;32m/anaconda3/lib/python3.6/site-packages/tensorflow_estimator/python/estimator/estimator.py\u001b[0m in \u001b[0;36mtrain\u001b[0;34m(self, input_fn, hooks, steps, max_steps, saving_listeners)\u001b[0m\n\u001b[1;32m    356\u001b[0m \u001b[0;34m\u001b[0m\u001b[0m\n\u001b[1;32m    357\u001b[0m       \u001b[0msaving_listeners\u001b[0m \u001b[0;34m=\u001b[0m \u001b[0m_check_listeners_type\u001b[0m\u001b[0;34m(\u001b[0m\u001b[0msaving_listeners\u001b[0m\u001b[0;34m)\u001b[0m\u001b[0;34m\u001b[0m\u001b[0m\n\u001b[0;32m--> 358\u001b[0;31m       \u001b[0mloss\u001b[0m \u001b[0;34m=\u001b[0m \u001b[0mself\u001b[0m\u001b[0;34m.\u001b[0m\u001b[0m_train_model\u001b[0m\u001b[0;34m(\u001b[0m\u001b[0minput_fn\u001b[0m\u001b[0;34m,\u001b[0m \u001b[0mhooks\u001b[0m\u001b[0;34m,\u001b[0m \u001b[0msaving_listeners\u001b[0m\u001b[0;34m)\u001b[0m\u001b[0;34m\u001b[0m\u001b[0m\n\u001b[0m\u001b[1;32m    359\u001b[0m       \u001b[0mlogging\u001b[0m\u001b[0;34m.\u001b[0m\u001b[0minfo\u001b[0m\u001b[0;34m(\u001b[0m\u001b[0;34m'Loss for final step: %s.'\u001b[0m\u001b[0;34m,\u001b[0m \u001b[0mloss\u001b[0m\u001b[0;34m)\u001b[0m\u001b[0;34m\u001b[0m\u001b[0m\n\u001b[1;32m    360\u001b[0m       \u001b[0;32mreturn\u001b[0m \u001b[0mself\u001b[0m\u001b[0;34m\u001b[0m\u001b[0m\n",
      "\u001b[0;32m/anaconda3/lib/python3.6/site-packages/tensorflow_estimator/python/estimator/estimator.py\u001b[0m in \u001b[0;36m_train_model\u001b[0;34m(self, input_fn, hooks, saving_listeners)\u001b[0m\n\u001b[1;32m   1122\u001b[0m       \u001b[0;32mreturn\u001b[0m \u001b[0mself\u001b[0m\u001b[0;34m.\u001b[0m\u001b[0m_train_model_distributed\u001b[0m\u001b[0;34m(\u001b[0m\u001b[0minput_fn\u001b[0m\u001b[0;34m,\u001b[0m \u001b[0mhooks\u001b[0m\u001b[0;34m,\u001b[0m \u001b[0msaving_listeners\u001b[0m\u001b[0;34m)\u001b[0m\u001b[0;34m\u001b[0m\u001b[0m\n\u001b[1;32m   1123\u001b[0m     \u001b[0;32melse\u001b[0m\u001b[0;34m:\u001b[0m\u001b[0;34m\u001b[0m\u001b[0m\n\u001b[0;32m-> 1124\u001b[0;31m       \u001b[0;32mreturn\u001b[0m \u001b[0mself\u001b[0m\u001b[0;34m.\u001b[0m\u001b[0m_train_model_default\u001b[0m\u001b[0;34m(\u001b[0m\u001b[0minput_fn\u001b[0m\u001b[0;34m,\u001b[0m \u001b[0mhooks\u001b[0m\u001b[0;34m,\u001b[0m \u001b[0msaving_listeners\u001b[0m\u001b[0;34m)\u001b[0m\u001b[0;34m\u001b[0m\u001b[0m\n\u001b[0m\u001b[1;32m   1125\u001b[0m \u001b[0;34m\u001b[0m\u001b[0m\n\u001b[1;32m   1126\u001b[0m   \u001b[0;32mdef\u001b[0m \u001b[0m_train_model_default\u001b[0m\u001b[0;34m(\u001b[0m\u001b[0mself\u001b[0m\u001b[0;34m,\u001b[0m \u001b[0minput_fn\u001b[0m\u001b[0;34m,\u001b[0m \u001b[0mhooks\u001b[0m\u001b[0;34m,\u001b[0m \u001b[0msaving_listeners\u001b[0m\u001b[0;34m)\u001b[0m\u001b[0;34m:\u001b[0m\u001b[0;34m\u001b[0m\u001b[0m\n",
      "\u001b[0;32m/anaconda3/lib/python3.6/site-packages/tensorflow_estimator/python/estimator/estimator.py\u001b[0m in \u001b[0;36m_train_model_default\u001b[0;34m(self, input_fn, hooks, saving_listeners)\u001b[0m\n\u001b[1;32m   1156\u001b[0m       return self._train_with_estimator_spec(estimator_spec, worker_hooks,\n\u001b[1;32m   1157\u001b[0m                                              \u001b[0mhooks\u001b[0m\u001b[0;34m,\u001b[0m \u001b[0mglobal_step_tensor\u001b[0m\u001b[0;34m,\u001b[0m\u001b[0;34m\u001b[0m\u001b[0m\n\u001b[0;32m-> 1158\u001b[0;31m                                              saving_listeners)\n\u001b[0m\u001b[1;32m   1159\u001b[0m \u001b[0;34m\u001b[0m\u001b[0m\n\u001b[1;32m   1160\u001b[0m   \u001b[0;32mdef\u001b[0m \u001b[0m_train_model_distributed\u001b[0m\u001b[0;34m(\u001b[0m\u001b[0mself\u001b[0m\u001b[0;34m,\u001b[0m \u001b[0minput_fn\u001b[0m\u001b[0;34m,\u001b[0m \u001b[0mhooks\u001b[0m\u001b[0;34m,\u001b[0m \u001b[0msaving_listeners\u001b[0m\u001b[0;34m)\u001b[0m\u001b[0;34m:\u001b[0m\u001b[0;34m\u001b[0m\u001b[0m\n",
      "\u001b[0;32m/anaconda3/lib/python3.6/site-packages/tensorflow_estimator/python/estimator/estimator.py\u001b[0m in \u001b[0;36m_train_with_estimator_spec\u001b[0;34m(self, estimator_spec, worker_hooks, hooks, global_step_tensor, saving_listeners)\u001b[0m\n\u001b[1;32m   1405\u001b[0m       \u001b[0many_step_done\u001b[0m \u001b[0;34m=\u001b[0m \u001b[0;32mFalse\u001b[0m\u001b[0;34m\u001b[0m\u001b[0m\n\u001b[1;32m   1406\u001b[0m       \u001b[0;32mwhile\u001b[0m \u001b[0;32mnot\u001b[0m \u001b[0mmon_sess\u001b[0m\u001b[0;34m.\u001b[0m\u001b[0mshould_stop\u001b[0m\u001b[0;34m(\u001b[0m\u001b[0;34m)\u001b[0m\u001b[0;34m:\u001b[0m\u001b[0;34m\u001b[0m\u001b[0m\n\u001b[0;32m-> 1407\u001b[0;31m         \u001b[0m_\u001b[0m\u001b[0;34m,\u001b[0m \u001b[0mloss\u001b[0m \u001b[0;34m=\u001b[0m \u001b[0mmon_sess\u001b[0m\u001b[0;34m.\u001b[0m\u001b[0mrun\u001b[0m\u001b[0;34m(\u001b[0m\u001b[0;34m[\u001b[0m\u001b[0mestimator_spec\u001b[0m\u001b[0;34m.\u001b[0m\u001b[0mtrain_op\u001b[0m\u001b[0;34m,\u001b[0m \u001b[0mestimator_spec\u001b[0m\u001b[0;34m.\u001b[0m\u001b[0mloss\u001b[0m\u001b[0;34m]\u001b[0m\u001b[0;34m)\u001b[0m\u001b[0;34m\u001b[0m\u001b[0m\n\u001b[0m\u001b[1;32m   1408\u001b[0m         \u001b[0many_step_done\u001b[0m \u001b[0;34m=\u001b[0m \u001b[0;32mTrue\u001b[0m\u001b[0;34m\u001b[0m\u001b[0m\n\u001b[1;32m   1409\u001b[0m     \u001b[0;32mif\u001b[0m \u001b[0;32mnot\u001b[0m \u001b[0many_step_done\u001b[0m\u001b[0;34m:\u001b[0m\u001b[0;34m\u001b[0m\u001b[0m\n",
      "\u001b[0;32m/anaconda3/lib/python3.6/site-packages/tensorflow/python/training/monitored_session.py\u001b[0m in \u001b[0;36mrun\u001b[0;34m(self, fetches, feed_dict, options, run_metadata)\u001b[0m\n\u001b[1;32m    674\u001b[0m                           \u001b[0mfeed_dict\u001b[0m\u001b[0;34m=\u001b[0m\u001b[0mfeed_dict\u001b[0m\u001b[0;34m,\u001b[0m\u001b[0;34m\u001b[0m\u001b[0m\n\u001b[1;32m    675\u001b[0m                           \u001b[0moptions\u001b[0m\u001b[0;34m=\u001b[0m\u001b[0moptions\u001b[0m\u001b[0;34m,\u001b[0m\u001b[0;34m\u001b[0m\u001b[0m\n\u001b[0;32m--> 676\u001b[0;31m                           run_metadata=run_metadata)\n\u001b[0m\u001b[1;32m    677\u001b[0m \u001b[0;34m\u001b[0m\u001b[0m\n\u001b[1;32m    678\u001b[0m   \u001b[0;32mdef\u001b[0m \u001b[0mrun_step_fn\u001b[0m\u001b[0;34m(\u001b[0m\u001b[0mself\u001b[0m\u001b[0;34m,\u001b[0m \u001b[0mstep_fn\u001b[0m\u001b[0;34m)\u001b[0m\u001b[0;34m:\u001b[0m\u001b[0;34m\u001b[0m\u001b[0m\n",
      "\u001b[0;32m/anaconda3/lib/python3.6/site-packages/tensorflow/python/training/monitored_session.py\u001b[0m in \u001b[0;36mrun\u001b[0;34m(self, fetches, feed_dict, options, run_metadata)\u001b[0m\n\u001b[1;32m   1169\u001b[0m                               \u001b[0mfeed_dict\u001b[0m\u001b[0;34m=\u001b[0m\u001b[0mfeed_dict\u001b[0m\u001b[0;34m,\u001b[0m\u001b[0;34m\u001b[0m\u001b[0m\n\u001b[1;32m   1170\u001b[0m                               \u001b[0moptions\u001b[0m\u001b[0;34m=\u001b[0m\u001b[0moptions\u001b[0m\u001b[0;34m,\u001b[0m\u001b[0;34m\u001b[0m\u001b[0m\n\u001b[0;32m-> 1171\u001b[0;31m                               run_metadata=run_metadata)\n\u001b[0m\u001b[1;32m   1172\u001b[0m       \u001b[0;32mexcept\u001b[0m \u001b[0m_PREEMPTION_ERRORS\u001b[0m \u001b[0;32mas\u001b[0m \u001b[0me\u001b[0m\u001b[0;34m:\u001b[0m\u001b[0;34m\u001b[0m\u001b[0m\n\u001b[1;32m   1173\u001b[0m         logging.info('An error was raised. This may be due to a preemption in '\n",
      "\u001b[0;32m/anaconda3/lib/python3.6/site-packages/tensorflow/python/training/monitored_session.py\u001b[0m in \u001b[0;36mrun\u001b[0;34m(self, *args, **kwargs)\u001b[0m\n\u001b[1;32m   1268\u001b[0m         \u001b[0;32mraise\u001b[0m \u001b[0msix\u001b[0m\u001b[0;34m.\u001b[0m\u001b[0mreraise\u001b[0m\u001b[0;34m(\u001b[0m\u001b[0;34m*\u001b[0m\u001b[0moriginal_exc_info\u001b[0m\u001b[0;34m)\u001b[0m\u001b[0;34m\u001b[0m\u001b[0m\n\u001b[1;32m   1269\u001b[0m       \u001b[0;32melse\u001b[0m\u001b[0;34m:\u001b[0m\u001b[0;34m\u001b[0m\u001b[0m\n\u001b[0;32m-> 1270\u001b[0;31m         \u001b[0;32mraise\u001b[0m \u001b[0msix\u001b[0m\u001b[0;34m.\u001b[0m\u001b[0mreraise\u001b[0m\u001b[0;34m(\u001b[0m\u001b[0;34m*\u001b[0m\u001b[0moriginal_exc_info\u001b[0m\u001b[0;34m)\u001b[0m\u001b[0;34m\u001b[0m\u001b[0m\n\u001b[0m\u001b[1;32m   1271\u001b[0m \u001b[0;34m\u001b[0m\u001b[0m\n\u001b[1;32m   1272\u001b[0m \u001b[0;34m\u001b[0m\u001b[0m\n",
      "\u001b[0;32m/anaconda3/lib/python3.6/site-packages/six.py\u001b[0m in \u001b[0;36mreraise\u001b[0;34m(tp, value, tb)\u001b[0m\n\u001b[1;32m    691\u001b[0m             \u001b[0;32mif\u001b[0m \u001b[0mvalue\u001b[0m\u001b[0;34m.\u001b[0m\u001b[0m__traceback__\u001b[0m \u001b[0;32mis\u001b[0m \u001b[0;32mnot\u001b[0m \u001b[0mtb\u001b[0m\u001b[0;34m:\u001b[0m\u001b[0;34m\u001b[0m\u001b[0m\n\u001b[1;32m    692\u001b[0m                 \u001b[0;32mraise\u001b[0m \u001b[0mvalue\u001b[0m\u001b[0;34m.\u001b[0m\u001b[0mwith_traceback\u001b[0m\u001b[0;34m(\u001b[0m\u001b[0mtb\u001b[0m\u001b[0;34m)\u001b[0m\u001b[0;34m\u001b[0m\u001b[0m\n\u001b[0;32m--> 693\u001b[0;31m             \u001b[0;32mraise\u001b[0m \u001b[0mvalue\u001b[0m\u001b[0;34m\u001b[0m\u001b[0m\n\u001b[0m\u001b[1;32m    694\u001b[0m         \u001b[0;32mfinally\u001b[0m\u001b[0;34m:\u001b[0m\u001b[0;34m\u001b[0m\u001b[0m\n\u001b[1;32m    695\u001b[0m             \u001b[0mvalue\u001b[0m \u001b[0;34m=\u001b[0m \u001b[0;32mNone\u001b[0m\u001b[0;34m\u001b[0m\u001b[0m\n",
      "\u001b[0;32m/anaconda3/lib/python3.6/site-packages/tensorflow/python/training/monitored_session.py\u001b[0m in \u001b[0;36mrun\u001b[0;34m(self, *args, **kwargs)\u001b[0m\n\u001b[1;32m   1253\u001b[0m   \u001b[0;32mdef\u001b[0m \u001b[0mrun\u001b[0m\u001b[0;34m(\u001b[0m\u001b[0mself\u001b[0m\u001b[0;34m,\u001b[0m \u001b[0;34m*\u001b[0m\u001b[0margs\u001b[0m\u001b[0;34m,\u001b[0m \u001b[0;34m**\u001b[0m\u001b[0mkwargs\u001b[0m\u001b[0;34m)\u001b[0m\u001b[0;34m:\u001b[0m\u001b[0;34m\u001b[0m\u001b[0m\n\u001b[1;32m   1254\u001b[0m     \u001b[0;32mtry\u001b[0m\u001b[0;34m:\u001b[0m\u001b[0;34m\u001b[0m\u001b[0m\n\u001b[0;32m-> 1255\u001b[0;31m       \u001b[0;32mreturn\u001b[0m \u001b[0mself\u001b[0m\u001b[0;34m.\u001b[0m\u001b[0m_sess\u001b[0m\u001b[0;34m.\u001b[0m\u001b[0mrun\u001b[0m\u001b[0;34m(\u001b[0m\u001b[0;34m*\u001b[0m\u001b[0margs\u001b[0m\u001b[0;34m,\u001b[0m \u001b[0;34m**\u001b[0m\u001b[0mkwargs\u001b[0m\u001b[0;34m)\u001b[0m\u001b[0;34m\u001b[0m\u001b[0m\n\u001b[0m\u001b[1;32m   1256\u001b[0m     \u001b[0;32mexcept\u001b[0m \u001b[0m_PREEMPTION_ERRORS\u001b[0m\u001b[0;34m:\u001b[0m\u001b[0;34m\u001b[0m\u001b[0m\n\u001b[1;32m   1257\u001b[0m       \u001b[0;32mraise\u001b[0m\u001b[0;34m\u001b[0m\u001b[0m\n",
      "\u001b[0;32m/anaconda3/lib/python3.6/site-packages/tensorflow/python/training/monitored_session.py\u001b[0m in \u001b[0;36mrun\u001b[0;34m(self, fetches, feed_dict, options, run_metadata)\u001b[0m\n\u001b[1;32m   1325\u001b[0m                                   \u001b[0mfeed_dict\u001b[0m\u001b[0;34m=\u001b[0m\u001b[0mfeed_dict\u001b[0m\u001b[0;34m,\u001b[0m\u001b[0;34m\u001b[0m\u001b[0m\n\u001b[1;32m   1326\u001b[0m                                   \u001b[0moptions\u001b[0m\u001b[0;34m=\u001b[0m\u001b[0moptions\u001b[0m\u001b[0;34m,\u001b[0m\u001b[0;34m\u001b[0m\u001b[0m\n\u001b[0;32m-> 1327\u001b[0;31m                                   run_metadata=run_metadata)\n\u001b[0m\u001b[1;32m   1328\u001b[0m \u001b[0;34m\u001b[0m\u001b[0m\n\u001b[1;32m   1329\u001b[0m     \u001b[0;32mfor\u001b[0m \u001b[0mhook\u001b[0m \u001b[0;32min\u001b[0m \u001b[0mself\u001b[0m\u001b[0;34m.\u001b[0m\u001b[0m_hooks\u001b[0m\u001b[0;34m:\u001b[0m\u001b[0;34m\u001b[0m\u001b[0m\n",
      "\u001b[0;32m/anaconda3/lib/python3.6/site-packages/tensorflow/python/training/monitored_session.py\u001b[0m in \u001b[0;36mrun\u001b[0;34m(self, *args, **kwargs)\u001b[0m\n\u001b[1;32m   1089\u001b[0m \u001b[0;34m\u001b[0m\u001b[0m\n\u001b[1;32m   1090\u001b[0m   \u001b[0;32mdef\u001b[0m \u001b[0mrun\u001b[0m\u001b[0;34m(\u001b[0m\u001b[0mself\u001b[0m\u001b[0;34m,\u001b[0m \u001b[0;34m*\u001b[0m\u001b[0margs\u001b[0m\u001b[0;34m,\u001b[0m \u001b[0;34m**\u001b[0m\u001b[0mkwargs\u001b[0m\u001b[0;34m)\u001b[0m\u001b[0;34m:\u001b[0m\u001b[0;34m\u001b[0m\u001b[0m\n\u001b[0;32m-> 1091\u001b[0;31m     \u001b[0;32mreturn\u001b[0m \u001b[0mself\u001b[0m\u001b[0;34m.\u001b[0m\u001b[0m_sess\u001b[0m\u001b[0;34m.\u001b[0m\u001b[0mrun\u001b[0m\u001b[0;34m(\u001b[0m\u001b[0;34m*\u001b[0m\u001b[0margs\u001b[0m\u001b[0;34m,\u001b[0m \u001b[0;34m**\u001b[0m\u001b[0mkwargs\u001b[0m\u001b[0;34m)\u001b[0m\u001b[0;34m\u001b[0m\u001b[0m\n\u001b[0m\u001b[1;32m   1092\u001b[0m \u001b[0;34m\u001b[0m\u001b[0m\n\u001b[1;32m   1093\u001b[0m   \u001b[0;32mdef\u001b[0m \u001b[0mrun_step_fn\u001b[0m\u001b[0;34m(\u001b[0m\u001b[0mself\u001b[0m\u001b[0;34m,\u001b[0m \u001b[0mstep_fn\u001b[0m\u001b[0;34m,\u001b[0m \u001b[0mraw_session\u001b[0m\u001b[0;34m,\u001b[0m \u001b[0mrun_with_hooks\u001b[0m\u001b[0;34m)\u001b[0m\u001b[0;34m:\u001b[0m\u001b[0;34m\u001b[0m\u001b[0m\n",
      "\u001b[0;32m/anaconda3/lib/python3.6/site-packages/tensorflow/python/client/session.py\u001b[0m in \u001b[0;36mrun\u001b[0;34m(self, fetches, feed_dict, options, run_metadata)\u001b[0m\n\u001b[1;32m    927\u001b[0m     \u001b[0;32mtry\u001b[0m\u001b[0;34m:\u001b[0m\u001b[0;34m\u001b[0m\u001b[0m\n\u001b[1;32m    928\u001b[0m       result = self._run(None, fetches, feed_dict, options_ptr,\n\u001b[0;32m--> 929\u001b[0;31m                          run_metadata_ptr)\n\u001b[0m\u001b[1;32m    930\u001b[0m       \u001b[0;32mif\u001b[0m \u001b[0mrun_metadata\u001b[0m\u001b[0;34m:\u001b[0m\u001b[0;34m\u001b[0m\u001b[0m\n\u001b[1;32m    931\u001b[0m         \u001b[0mproto_data\u001b[0m \u001b[0;34m=\u001b[0m \u001b[0mtf_session\u001b[0m\u001b[0;34m.\u001b[0m\u001b[0mTF_GetBuffer\u001b[0m\u001b[0;34m(\u001b[0m\u001b[0mrun_metadata_ptr\u001b[0m\u001b[0;34m)\u001b[0m\u001b[0;34m\u001b[0m\u001b[0m\n",
      "\u001b[0;32m/anaconda3/lib/python3.6/site-packages/tensorflow/python/client/session.py\u001b[0m in \u001b[0;36m_run\u001b[0;34m(self, handle, fetches, feed_dict, options, run_metadata)\u001b[0m\n\u001b[1;32m   1150\u001b[0m     \u001b[0;32mif\u001b[0m \u001b[0mfinal_fetches\u001b[0m \u001b[0;32mor\u001b[0m \u001b[0mfinal_targets\u001b[0m \u001b[0;32mor\u001b[0m \u001b[0;34m(\u001b[0m\u001b[0mhandle\u001b[0m \u001b[0;32mand\u001b[0m \u001b[0mfeed_dict_tensor\u001b[0m\u001b[0;34m)\u001b[0m\u001b[0;34m:\u001b[0m\u001b[0;34m\u001b[0m\u001b[0m\n\u001b[1;32m   1151\u001b[0m       results = self._do_run(handle, final_targets, final_fetches,\n\u001b[0;32m-> 1152\u001b[0;31m                              feed_dict_tensor, options, run_metadata)\n\u001b[0m\u001b[1;32m   1153\u001b[0m     \u001b[0;32melse\u001b[0m\u001b[0;34m:\u001b[0m\u001b[0;34m\u001b[0m\u001b[0m\n\u001b[1;32m   1154\u001b[0m       \u001b[0mresults\u001b[0m \u001b[0;34m=\u001b[0m \u001b[0;34m[\u001b[0m\u001b[0;34m]\u001b[0m\u001b[0;34m\u001b[0m\u001b[0m\n",
      "\u001b[0;32m/anaconda3/lib/python3.6/site-packages/tensorflow/python/client/session.py\u001b[0m in \u001b[0;36m_do_run\u001b[0;34m(self, handle, target_list, fetch_list, feed_dict, options, run_metadata)\u001b[0m\n\u001b[1;32m   1326\u001b[0m     \u001b[0;32mif\u001b[0m \u001b[0mhandle\u001b[0m \u001b[0;32mis\u001b[0m \u001b[0;32mNone\u001b[0m\u001b[0;34m:\u001b[0m\u001b[0;34m\u001b[0m\u001b[0m\n\u001b[1;32m   1327\u001b[0m       return self._do_call(_run_fn, feeds, fetches, targets, options,\n\u001b[0;32m-> 1328\u001b[0;31m                            run_metadata)\n\u001b[0m\u001b[1;32m   1329\u001b[0m     \u001b[0;32melse\u001b[0m\u001b[0;34m:\u001b[0m\u001b[0;34m\u001b[0m\u001b[0m\n\u001b[1;32m   1330\u001b[0m       \u001b[0;32mreturn\u001b[0m \u001b[0mself\u001b[0m\u001b[0;34m.\u001b[0m\u001b[0m_do_call\u001b[0m\u001b[0;34m(\u001b[0m\u001b[0m_prun_fn\u001b[0m\u001b[0;34m,\u001b[0m \u001b[0mhandle\u001b[0m\u001b[0;34m,\u001b[0m \u001b[0mfeeds\u001b[0m\u001b[0;34m,\u001b[0m \u001b[0mfetches\u001b[0m\u001b[0;34m)\u001b[0m\u001b[0;34m\u001b[0m\u001b[0m\n",
      "\u001b[0;32m/anaconda3/lib/python3.6/site-packages/tensorflow/python/client/session.py\u001b[0m in \u001b[0;36m_do_call\u001b[0;34m(self, fn, *args)\u001b[0m\n\u001b[1;32m   1346\u001b[0m           \u001b[0;32mpass\u001b[0m\u001b[0;34m\u001b[0m\u001b[0m\n\u001b[1;32m   1347\u001b[0m       \u001b[0mmessage\u001b[0m \u001b[0;34m=\u001b[0m \u001b[0merror_interpolation\u001b[0m\u001b[0;34m.\u001b[0m\u001b[0minterpolate\u001b[0m\u001b[0;34m(\u001b[0m\u001b[0mmessage\u001b[0m\u001b[0;34m,\u001b[0m \u001b[0mself\u001b[0m\u001b[0;34m.\u001b[0m\u001b[0m_graph\u001b[0m\u001b[0;34m)\u001b[0m\u001b[0;34m\u001b[0m\u001b[0m\n\u001b[0;32m-> 1348\u001b[0;31m       \u001b[0;32mraise\u001b[0m \u001b[0mtype\u001b[0m\u001b[0;34m(\u001b[0m\u001b[0me\u001b[0m\u001b[0;34m)\u001b[0m\u001b[0;34m(\u001b[0m\u001b[0mnode_def\u001b[0m\u001b[0;34m,\u001b[0m \u001b[0mop\u001b[0m\u001b[0;34m,\u001b[0m \u001b[0mmessage\u001b[0m\u001b[0;34m)\u001b[0m\u001b[0;34m\u001b[0m\u001b[0m\n\u001b[0m\u001b[1;32m   1349\u001b[0m \u001b[0;34m\u001b[0m\u001b[0m\n\u001b[1;32m   1350\u001b[0m   \u001b[0;32mdef\u001b[0m \u001b[0m_extend_graph\u001b[0m\u001b[0;34m(\u001b[0m\u001b[0mself\u001b[0m\u001b[0;34m)\u001b[0m\u001b[0;34m:\u001b[0m\u001b[0;34m\u001b[0m\u001b[0m\n",
      "\u001b[0;31mUnimplementedError\u001b[0m: CopySliceToElement Unhandled data type: 23\n\t [[node IteratorGetNext (defined at /anaconda3/lib/python3.6/site-packages/tensorflow_estimator/python/estimator/util.py:110) ]]\n\nCaused by op 'IteratorGetNext', defined at:\n  File \"/anaconda3/lib/python3.6/runpy.py\", line 193, in _run_module_as_main\n    \"__main__\", mod_spec)\n  File \"/anaconda3/lib/python3.6/runpy.py\", line 85, in _run_code\n    exec(code, run_globals)\n  File \"/anaconda3/lib/python3.6/site-packages/ipykernel_launcher.py\", line 16, in <module>\n    app.launch_new_instance()\n  File \"/anaconda3/lib/python3.6/site-packages/traitlets/config/application.py\", line 658, in launch_instance\n    app.start()\n  File \"/anaconda3/lib/python3.6/site-packages/ipykernel/kernelapp.py\", line 486, in start\n    self.io_loop.start()\n  File \"/anaconda3/lib/python3.6/site-packages/tornado/platform/asyncio.py\", line 127, in start\n    self.asyncio_loop.run_forever()\n  File \"/anaconda3/lib/python3.6/asyncio/base_events.py\", line 422, in run_forever\n    self._run_once()\n  File \"/anaconda3/lib/python3.6/asyncio/base_events.py\", line 1432, in _run_once\n    handle._run()\n  File \"/anaconda3/lib/python3.6/asyncio/events.py\", line 145, in _run\n    self._callback(*self._args)\n  File \"/anaconda3/lib/python3.6/site-packages/tornado/platform/asyncio.py\", line 117, in _handle_events\n    handler_func(fileobj, events)\n  File \"/anaconda3/lib/python3.6/site-packages/tornado/stack_context.py\", line 276, in null_wrapper\n    return fn(*args, **kwargs)\n  File \"/anaconda3/lib/python3.6/site-packages/zmq/eventloop/zmqstream.py\", line 450, in _handle_events\n    self._handle_recv()\n  File \"/anaconda3/lib/python3.6/site-packages/zmq/eventloop/zmqstream.py\", line 480, in _handle_recv\n    self._run_callback(callback, msg)\n  File \"/anaconda3/lib/python3.6/site-packages/zmq/eventloop/zmqstream.py\", line 432, in _run_callback\n    callback(*args, **kwargs)\n  File \"/anaconda3/lib/python3.6/site-packages/tornado/stack_context.py\", line 276, in null_wrapper\n    return fn(*args, **kwargs)\n  File \"/anaconda3/lib/python3.6/site-packages/ipykernel/kernelbase.py\", line 283, in dispatcher\n    return self.dispatch_shell(stream, msg)\n  File \"/anaconda3/lib/python3.6/site-packages/ipykernel/kernelbase.py\", line 233, in dispatch_shell\n    handler(stream, idents, msg)\n  File \"/anaconda3/lib/python3.6/site-packages/ipykernel/kernelbase.py\", line 399, in execute_request\n    user_expressions, allow_stdin)\n  File \"/anaconda3/lib/python3.6/site-packages/ipykernel/ipkernel.py\", line 208, in do_execute\n    res = shell.run_cell(code, store_history=store_history, silent=silent)\n  File \"/anaconda3/lib/python3.6/site-packages/ipykernel/zmqshell.py\", line 537, in run_cell\n    return super(ZMQInteractiveShell, self).run_cell(*args, **kwargs)\n  File \"/anaconda3/lib/python3.6/site-packages/IPython/core/interactiveshell.py\", line 2662, in run_cell\n    raw_cell, store_history, silent, shell_futures)\n  File \"/anaconda3/lib/python3.6/site-packages/IPython/core/interactiveshell.py\", line 2785, in _run_cell\n    interactivity=interactivity, compiler=compiler, result=result)\n  File \"/anaconda3/lib/python3.6/site-packages/IPython/core/interactiveshell.py\", line 2909, in run_ast_nodes\n    if self.run_code(code, result):\n  File \"/anaconda3/lib/python3.6/site-packages/IPython/core/interactiveshell.py\", line 2963, in run_code\n    exec(code_obj, self.user_global_ns, self.user_ns)\n  File \"<ipython-input-94-00b3e6b5f9b3>\", line 19, in <module>\n    classifier.train(training_input)\n  File \"/anaconda3/lib/python3.6/site-packages/tensorflow_estimator/python/estimator/estimator.py\", line 358, in train\n    loss = self._train_model(input_fn, hooks, saving_listeners)\n  File \"/anaconda3/lib/python3.6/site-packages/tensorflow_estimator/python/estimator/estimator.py\", line 1124, in _train_model\n    return self._train_model_default(input_fn, hooks, saving_listeners)\n  File \"/anaconda3/lib/python3.6/site-packages/tensorflow_estimator/python/estimator/estimator.py\", line 1151, in _train_model_default\n    input_fn, model_fn_lib.ModeKeys.TRAIN))\n  File \"/anaconda3/lib/python3.6/site-packages/tensorflow_estimator/python/estimator/estimator.py\", line 992, in _get_features_and_labels_from_input_fn\n    self._call_input_fn(input_fn, mode))\n  File \"/anaconda3/lib/python3.6/site-packages/tensorflow_estimator/python/estimator/util.py\", line 110, in parse_input_fn_result\n    result = iterator.get_next()\n  File \"/anaconda3/lib/python3.6/site-packages/tensorflow/python/data/ops/iterator_ops.py\", line 414, in get_next\n    output_shapes=self._structure._flat_shapes, name=name)\n  File \"/anaconda3/lib/python3.6/site-packages/tensorflow/python/ops/gen_dataset_ops.py\", line 1685, in iterator_get_next\n    output_shapes=output_shapes, name=name)\n  File \"/anaconda3/lib/python3.6/site-packages/tensorflow/python/framework/op_def_library.py\", line 788, in _apply_op_helper\n    op_def=op_def)\n  File \"/anaconda3/lib/python3.6/site-packages/tensorflow/python/util/deprecation.py\", line 507, in new_func\n    return func(*args, **kwargs)\n  File \"/anaconda3/lib/python3.6/site-packages/tensorflow/python/framework/ops.py\", line 3300, in create_op\n    op_def=op_def)\n  File \"/anaconda3/lib/python3.6/site-packages/tensorflow/python/framework/ops.py\", line 1801, in __init__\n    self._traceback = tf_stack.extract_stack()\n\nUnimplementedError (see above for traceback): CopySliceToElement Unhandled data type: 23\n\t [[node IteratorGetNext (defined at /anaconda3/lib/python3.6/site-packages/tensorflow_estimator/python/estimator/util.py:110) ]]\n"
     ]
    }
   ],
   "source": [
    "def training_input():\n",
    "    \n",
    "    features0 = {}\n",
    "    for col in numeric:\n",
    " #         print(column_names[num_col])\n",
    "        if column_names[col] != \"click\":\n",
    "            features0[column_names[col]] = train_tf[column_names[col]]\n",
    "    \n",
    "    print(features0.keys())\n",
    "    labels = train_tf['click']\n",
    "\n",
    "    training_ds = Dataset.from_tensor_slices((features0, labels))\n",
    "#     training_ds = training_ds.shuffle(buffer_size=10000)\n",
    "    training_ds = training_ds.batch(100)\n",
    "#     training_ds = training_ds.repeat(5)\n",
    "\n",
    "    return training_ds\n",
    "\n",
    "classifier.train(training_input)"
   ]
  },
  {
   "cell_type": "code",
   "execution_count": 88,
   "metadata": {},
   "outputs": [
    {
     "data": {
      "text/plain": [
       "dtype('int64')"
      ]
     },
     "execution_count": 88,
     "metadata": {},
     "output_type": "execute_result"
    }
   ],
   "source": [
    "train_tf['click'].dtypes"
   ]
  },
  {
   "cell_type": "code",
   "execution_count": 90,
   "metadata": {
    "collapsed": true
   },
   "outputs": [
    {
     "data": {
      "text/plain": [
       "id                   uint64\n",
       "click                 int64\n",
       "hour                  int64\n",
       "C1                    int64\n",
       "banner_pos            int64\n",
       "site_id              object\n",
       "site_domain          object\n",
       "site_category        object\n",
       "app_id               object\n",
       "app_domain           object\n",
       "app_category         object\n",
       "device_id            object\n",
       "device_ip            object\n",
       "device_model         object\n",
       "device_type           int64\n",
       "device_conn_type      int64\n",
       "C14                   int64\n",
       "C15                   int64\n",
       "C16                   int64\n",
       "C17                   int64\n",
       "C18                   int64\n",
       "C19                   int64\n",
       "C20                   int64\n",
       "C21                   int64\n",
       "new_date             object\n",
       "new_time             object\n",
       "day_of_week           int64\n",
       "enc_app_domain        int64\n",
       "enc_site_category     int64\n",
       "enc_app_category      int64\n",
       "dtype: object"
      ]
     },
     "execution_count": 90,
     "metadata": {},
     "output_type": "execute_result"
    }
   ],
   "source": [
    "train_tf.dtypes"
   ]
  },
  {
   "cell_type": "code",
   "execution_count": null,
   "metadata": {
    "scrolled": false
   },
   "outputs": [],
   "source": [
    "input_func = tf.estimator.inputs.pandas_input_fn(\n",
    "    x=train_tf[column_names[numeric]],\n",
    "    y=train_tf['click'],\n",
    "    batch_size=10,\n",
    "    num_epochs=100,\n",
    "    shuffle=True)\n",
    "\n",
    "classifier.train(input_fn=input_func)"
   ]
  },
  {
   "cell_type": "markdown",
   "metadata": {},
   "source": [
    "## TensorFlow - Basic Neural Network"
   ]
  },
  {
   "cell_type": "code",
   "execution_count": 95,
   "metadata": {},
   "outputs": [],
   "source": [
    "from tensorflow import keras\n"
   ]
  },
  {
   "cell_type": "code",
   "execution_count": 237,
   "metadata": {},
   "outputs": [],
   "source": [
    "#train\n",
    "train_tf_x = []\n",
    "for col_num in numeric:\n",
    "    if column_names[col_num] != 'click':\n",
    "        train_tf_x.append(train_tf[column_names[col_num]])\n",
    "    \n",
    "train_x = np.asarray(train_tf_x)\n",
    "train_x = np.transpose(train_x)\n",
    "\n",
    "train_y = np.asarray(train_tf['click'])\n",
    "\n",
    "#test\n",
    "test_tf_x = []\n",
    "for col_num in numeric:\n",
    "    if column_names[col_num] != 'click':\n",
    "        test_tf_x.append(test_tf[column_names[col_num]])\n",
    "    \n",
    "test_x = np.asarray(test_tf_x)\n",
    "test_x = np.transpose(test_x)\n",
    "\n",
    "test_y = np.asarray(test_tf['click'])\n",
    "\n"
   ]
  },
  {
   "cell_type": "code",
   "execution_count": 238,
   "metadata": {},
   "outputs": [
    {
     "name": "stdout",
     "output_type": "stream",
     "text": [
      "Training features: (323528, 18)\n",
      "Training labels: (323528,)\n",
      "Test features: (80882, 18)\n",
      "Test labels: (80882,)\n"
     ]
    }
   ],
   "source": [
    "print('Training features:', train_x.shape)\n",
    "print('Training labels:', train_y.shape)\n",
    "print('Test features:', test_x.shape)\n",
    "print('Test labels:', test_y.shape)"
   ]
  },
  {
   "cell_type": "code",
   "execution_count": 239,
   "metadata": {},
   "outputs": [],
   "source": [
    "# Define the model by specifying a neural network layers\n",
    "\n",
    "# LOOK INTO CLASS WEIGHTS\n",
    "\n",
    "model = tf.keras.Sequential([\n",
    "    \n",
    "    #input layer 1\n",
    "    tf.keras.layers.Dense(19,input_shape=(18,),activation=tf.nn.tanh),\n",
    "    \n",
    "    # Layer 2\n",
    "#     tf.keras.layers.Dense(16, activation=tf.nn.sigmoid),\n",
    "    \n",
    "    # Layer 2\n",
    "    tf.keras.layers.Dense(12, activation=tf.nn.tanh),\n",
    "    \n",
    "    # output\n",
    "    tf.keras.layers.Dense(1, activation=tf.nn.sigmoid) \n",
    "])\n"
   ]
  },
  {
   "cell_type": "markdown",
   "metadata": {},
   "source": [
    "Output layer softmax or . Softmax when there is a multiclass problem, but the problem is not mlultilabel. classes are exclusive. (bear and cat image vs bear or cat - hence multiclass)\n",
    "\n",
    "binary easier to use 1 node. sigmoid/logistic. loss function = binary cross entropy. 1 node\n",
    "\n",
    "Relu used for hidden layers. others can work but usually relu\n",
    "\n",
    "sigmoid and negative values. tanh with negative values\n"
   ]
  },
  {
   "cell_type": "code",
   "execution_count": 240,
   "metadata": {},
   "outputs": [],
   "source": [
    "# Set model's settings, including loss function, optimizer, and metrics\n",
    "\n",
    "model.compile(\n",
    "    optimizer = 'adam',\n",
    "    loss='binary_crossentropy',\n",
    "    metrics=['accuracy']\n",
    ")\n"
   ]
  },
  {
   "cell_type": "code",
   "execution_count": 241,
   "metadata": {},
   "outputs": [
    {
     "name": "stdout",
     "output_type": "stream",
     "text": [
      "Epoch 1/6\n",
      "323528/323528 [==============================] - 1s 3us/sample - loss: 0.6823 - acc: 0.5440\n",
      "Epoch 2/6\n",
      "323528/323528 [==============================] - 1s 2us/sample - loss: 0.4681 - acc: 0.8300\n",
      "Epoch 3/6\n",
      "323528/323528 [==============================] - 1s 2us/sample - loss: 0.4561 - acc: 0.8300\n",
      "Epoch 4/6\n",
      "323528/323528 [==============================] - 1s 2us/sample - loss: 0.4559 - acc: 0.8300\n",
      "Epoch 5/6\n",
      "323528/323528 [==============================] - 1s 2us/sample - loss: 0.4559 - acc: 0.8300\n",
      "Epoch 6/6\n",
      "323528/323528 [==============================] - 1s 2us/sample - loss: 0.4559 - acc: 0.8300\n"
     ]
    },
    {
     "data": {
      "text/plain": [
       "<tensorflow.python.keras.callbacks.History at 0x1adacf7f98>"
      ]
     },
     "execution_count": 241,
     "metadata": {},
     "output_type": "execute_result"
    }
   ],
   "source": [
    "model.fit(train_x, train_y,epochs=6, batch_size=10000, shuffle=True)\n",
    "\n",
    "# loss: 0.4559 - acc: 0.8300 - when using all sigmoids and 4 layers\n",
    "# loss: 0.4698 - acc: 0.8300 - when using all sigmoid and decreasing number of nodes\n",
    "# loss: 0.4584 - acc: 0.8300 - when using all sigmoid and there is only 3 layers "
   ]
  },
  {
   "cell_type": "code",
   "execution_count": 242,
   "metadata": {},
   "outputs": [
    {
     "name": "stdout",
     "output_type": "stream",
     "text": [
      "80882/80882 [==============================] - 4s 52us/sample - loss: 0.4559 - acc: 0.8300\n",
      "Test accuracy: 0.82999927\n",
      "Test loss: 0.4558875478165006\n"
     ]
    }
   ],
   "source": [
    "(test_loss, test_acc) = model.evaluate(test_x, test_y)\n",
    "\n",
    "print('Test accuracy:', test_acc)\n",
    "print('Test loss:', test_loss)\n",
    "\n"
   ]
  },
  {
   "cell_type": "code",
   "execution_count": null,
   "metadata": {},
   "outputs": [],
   "source": []
  }
 ],
 "metadata": {
  "kernelspec": {
   "display_name": "Python 3",
   "language": "python",
   "name": "python3"
  },
  "language_info": {
   "codemirror_mode": {
    "name": "ipython",
    "version": 3
   },
   "file_extension": ".py",
   "mimetype": "text/x-python",
   "name": "python",
   "nbconvert_exporter": "python",
   "pygments_lexer": "ipython3",
   "version": "3.6.5"
  }
 },
 "nbformat": 4,
 "nbformat_minor": 2
}
