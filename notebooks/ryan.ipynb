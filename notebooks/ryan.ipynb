{
 "cells": [
  {
   "cell_type": "markdown",
   "metadata": {},
   "source": [
    "# Data Analysis"
   ]
  },
  {
   "cell_type": "markdown",
   "metadata": {},
   "source": [
    "Ryry :)"
   ]
  },
  {
   "cell_type": "markdown",
   "metadata": {},
   "source": [
    "### Data analysis\n",
    "1. Look at columns, graph out variance of columns (min/max) .describe\n",
    "    * Document output of .describe on each column\n",
    "#### -> 2. Find which column is a finite value vs. continuous values — get to know data better\n",
    " - encode subcategories of categorical columns\n",
    " - barchart of frequency when given hashed value appears\n",
    " \n",
    "2. Scatter plot to find outliers\n",
    "- hypothesize about what I can feed a model \n",
    "3. Find best application of random forest on raw data \n",
    "4. Then run a neural net on cleaned data \n",
    "\n",
    "\n",
    "### Experiment with different models on cleaned data\n",
    "1. Start small — try one model with one feature to predict click\n",
    "    * Run a NN on one feature to predict click\n",
    "    * Then try another feature, and so on\n",
    "2. Try 10 different models\n",
    "    * SGD descent classifier — look up different tensorflow models, etc. \n",
    "    * Document the value of each model\n",
    "        * Might not find perfect model but we will know. Make a graph (the width of the network vs. depth network vs. loss of network) \n",
    "        * Describe a line through time that shows how tweaking different hyper parameters effects the model —doing data discovery by letting the computer do data discovery for us, while we tweak the hyper parameter)\n",
    "        * Document everything — ask questions like:\n",
    "            * When does the model start overfitting?\n",
    "            * What happens if my neural net is 100? 10 neurons wide? compare\n",
    "            * Try five layers deep vs. One\n",
    "            * In each comparison, was there any value? Is there a point of diminishing return?\n",
    "            * Try different GPUs, etc.\n",
    "\n",
    "### Informed feature engineering (when we know something about the ad-space): \n",
    "(avoid feature engineering unless we have domain knowledge of the features — let the models do the work, emphasize normalizing/standardizing data and controlling/understanding column variance to get better model performance — before feature engineering)\n",
    "\n",
    "We can feature engineer things like banners, we see ad banners every day, try this:\n",
    "1. Use K-Means on ads — find natural divisions in banners \n",
    "2. Try to find clusters of information around ads\n",
    "3. Make classes for clusters of ads (i.e., square ads, long rectangular banners, etc.)\n",
    "    * Make scatterplots of the heights, widths of ad banners/size\n",
    "    * Turn those into one column — make ordinal ’types’ of banners\n",
    "\n",
    "Subdivide by website — see if we can be more predictive based on the destination site_id, etc.\n",
    "* Encode unique groups of hashed values of site_id column (one hot encoder)\n",
    "* Then test, we can discover that maybe “site_a” provides a higher accuracy and so on. \n",
    "\n",
    "*Don’t need recurrent neural net or a convolutional neural net — Josh recommends a basic neural net"
   ]
  },
  {
   "cell_type": "markdown",
   "metadata": {},
   "source": [
    "### References\n",
    " - CTR: https://towardsdatascience.com/mobile-ads-click-through-rate-ctr-prediction-44fdac40c6ff\n",
    " - the sage wisdom of AMLI instructors & TAs"
   ]
  },
  {
   "cell_type": "markdown",
   "metadata": {},
   "source": [
    "## Import Libraries and Data"
   ]
  },
  {
   "cell_type": "code",
   "execution_count": 2,
   "metadata": {},
   "outputs": [],
   "source": [
    "import pandas as pd\n",
    "import numpy as np\n",
    "import multiprocessing as mp\n",
    "import psutil\n",
    "import random\n",
    "import datetime as datetime\n",
    "import matplotlib.pyplot as plt\n",
    "from sklearn.model_selection import train_test_split"
   ]
  },
  {
   "cell_type": "code",
   "execution_count": 3,
   "metadata": {},
   "outputs": [],
   "source": [
    "# read in the Avazu - criteo labs - csv file\n",
    "# rand_sample_csv is a randomized subset (1% the size) of the sample_csv which is ~400k instances \n",
    "\n",
    "df = pd.read_csv('rand_sample_eng.csv')\n"
   ]
  },
  {
   "cell_type": "markdown",
   "metadata": {},
   "source": [
    "# Data Exploration"
   ]
  },
  {
   "cell_type": "code",
   "execution_count": 4,
   "metadata": {},
   "outputs": [
    {
     "data": {
      "text/html": [
       "<div>\n",
       "<style scoped>\n",
       "    .dataframe tbody tr th:only-of-type {\n",
       "        vertical-align: middle;\n",
       "    }\n",
       "\n",
       "    .dataframe tbody tr th {\n",
       "        vertical-align: top;\n",
       "    }\n",
       "\n",
       "    .dataframe thead th {\n",
       "        text-align: right;\n",
       "    }\n",
       "</style>\n",
       "<table border=\"1\" class=\"dataframe\">\n",
       "  <thead>\n",
       "    <tr style=\"text-align: right;\">\n",
       "      <th></th>\n",
       "      <th>Unnamed: 0</th>\n",
       "      <th>id</th>\n",
       "      <th>click</th>\n",
       "      <th>hour</th>\n",
       "      <th>C1</th>\n",
       "      <th>banner_pos</th>\n",
       "      <th>site_id</th>\n",
       "      <th>site_domain</th>\n",
       "      <th>site_category</th>\n",
       "      <th>app_id</th>\n",
       "      <th>...</th>\n",
       "      <th>C15</th>\n",
       "      <th>C16</th>\n",
       "      <th>C17</th>\n",
       "      <th>C18</th>\n",
       "      <th>C19</th>\n",
       "      <th>C20</th>\n",
       "      <th>C21</th>\n",
       "      <th>new_date</th>\n",
       "      <th>new_time</th>\n",
       "      <th>day_of_week</th>\n",
       "    </tr>\n",
       "  </thead>\n",
       "  <tbody>\n",
       "    <tr>\n",
       "      <th>0</th>\n",
       "      <td>0</td>\n",
       "      <td>10004510652136496837</td>\n",
       "      <td>0</td>\n",
       "      <td>14102100</td>\n",
       "      <td>1005</td>\n",
       "      <td>0</td>\n",
       "      <td>543a539e</td>\n",
       "      <td>c7ca3108</td>\n",
       "      <td>3e814130</td>\n",
       "      <td>ecad2386</td>\n",
       "      <td>...</td>\n",
       "      <td>320</td>\n",
       "      <td>50</td>\n",
       "      <td>2333</td>\n",
       "      <td>0</td>\n",
       "      <td>39</td>\n",
       "      <td>-1</td>\n",
       "      <td>157</td>\n",
       "      <td>2014-10-21</td>\n",
       "      <td>00:00:00</td>\n",
       "      <td>1</td>\n",
       "    </tr>\n",
       "    <tr>\n",
       "      <th>1</th>\n",
       "      <td>1</td>\n",
       "      <td>10007164336863914220</td>\n",
       "      <td>1</td>\n",
       "      <td>14102100</td>\n",
       "      <td>1005</td>\n",
       "      <td>0</td>\n",
       "      <td>1fbe01fe</td>\n",
       "      <td>f3845767</td>\n",
       "      <td>28905ebd</td>\n",
       "      <td>ecad2386</td>\n",
       "      <td>...</td>\n",
       "      <td>320</td>\n",
       "      <td>50</td>\n",
       "      <td>1722</td>\n",
       "      <td>0</td>\n",
       "      <td>35</td>\n",
       "      <td>-1</td>\n",
       "      <td>79</td>\n",
       "      <td>2014-10-21</td>\n",
       "      <td>00:00:00</td>\n",
       "      <td>1</td>\n",
       "    </tr>\n",
       "    <tr>\n",
       "      <th>2</th>\n",
       "      <td>2</td>\n",
       "      <td>10076859283156800622</td>\n",
       "      <td>0</td>\n",
       "      <td>14102100</td>\n",
       "      <td>1002</td>\n",
       "      <td>0</td>\n",
       "      <td>f17ebd97</td>\n",
       "      <td>c4e18dd6</td>\n",
       "      <td>50e219e0</td>\n",
       "      <td>ecad2386</td>\n",
       "      <td>...</td>\n",
       "      <td>216</td>\n",
       "      <td>36</td>\n",
       "      <td>2497</td>\n",
       "      <td>3</td>\n",
       "      <td>43</td>\n",
       "      <td>100151</td>\n",
       "      <td>42</td>\n",
       "      <td>2014-10-21</td>\n",
       "      <td>00:00:00</td>\n",
       "      <td>1</td>\n",
       "    </tr>\n",
       "    <tr>\n",
       "      <th>3</th>\n",
       "      <td>3</td>\n",
       "      <td>10078825124049580646</td>\n",
       "      <td>0</td>\n",
       "      <td>14102100</td>\n",
       "      <td>1005</td>\n",
       "      <td>0</td>\n",
       "      <td>1fbe01fe</td>\n",
       "      <td>f3845767</td>\n",
       "      <td>28905ebd</td>\n",
       "      <td>ecad2386</td>\n",
       "      <td>...</td>\n",
       "      <td>320</td>\n",
       "      <td>50</td>\n",
       "      <td>1722</td>\n",
       "      <td>0</td>\n",
       "      <td>35</td>\n",
       "      <td>-1</td>\n",
       "      <td>79</td>\n",
       "      <td>2014-10-21</td>\n",
       "      <td>00:00:00</td>\n",
       "      <td>1</td>\n",
       "    </tr>\n",
       "    <tr>\n",
       "      <th>4</th>\n",
       "      <td>4</td>\n",
       "      <td>10085233430943183912</td>\n",
       "      <td>0</td>\n",
       "      <td>14102100</td>\n",
       "      <td>1005</td>\n",
       "      <td>0</td>\n",
       "      <td>1fbe01fe</td>\n",
       "      <td>f3845767</td>\n",
       "      <td>28905ebd</td>\n",
       "      <td>ecad2386</td>\n",
       "      <td>...</td>\n",
       "      <td>320</td>\n",
       "      <td>50</td>\n",
       "      <td>1722</td>\n",
       "      <td>0</td>\n",
       "      <td>35</td>\n",
       "      <td>-1</td>\n",
       "      <td>79</td>\n",
       "      <td>2014-10-21</td>\n",
       "      <td>00:00:00</td>\n",
       "      <td>1</td>\n",
       "    </tr>\n",
       "  </tbody>\n",
       "</table>\n",
       "<p>5 rows × 28 columns</p>\n",
       "</div>"
      ],
      "text/plain": [
       "   Unnamed: 0                    id  click      hour    C1  banner_pos  \\\n",
       "0           0  10004510652136496837      0  14102100  1005           0   \n",
       "1           1  10007164336863914220      1  14102100  1005           0   \n",
       "2           2  10076859283156800622      0  14102100  1002           0   \n",
       "3           3  10078825124049580646      0  14102100  1005           0   \n",
       "4           4  10085233430943183912      0  14102100  1005           0   \n",
       "\n",
       "    site_id site_domain site_category    app_id     ...       C15 C16   C17  \\\n",
       "0  543a539e    c7ca3108      3e814130  ecad2386     ...       320  50  2333   \n",
       "1  1fbe01fe    f3845767      28905ebd  ecad2386     ...       320  50  1722   \n",
       "2  f17ebd97    c4e18dd6      50e219e0  ecad2386     ...       216  36  2497   \n",
       "3  1fbe01fe    f3845767      28905ebd  ecad2386     ...       320  50  1722   \n",
       "4  1fbe01fe    f3845767      28905ebd  ecad2386     ...       320  50  1722   \n",
       "\n",
       "  C18 C19     C20  C21    new_date  new_time  day_of_week  \n",
       "0   0  39      -1  157  2014-10-21  00:00:00            1  \n",
       "1   0  35      -1   79  2014-10-21  00:00:00            1  \n",
       "2   3  43  100151   42  2014-10-21  00:00:00            1  \n",
       "3   0  35      -1   79  2014-10-21  00:00:00            1  \n",
       "4   0  35      -1   79  2014-10-21  00:00:00            1  \n",
       "\n",
       "[5 rows x 28 columns]"
      ]
     },
     "execution_count": 4,
     "metadata": {},
     "output_type": "execute_result"
    }
   ],
   "source": [
    "df.head(5)"
   ]
  },
  {
   "cell_type": "code",
   "execution_count": 5,
   "metadata": {},
   "outputs": [
    {
     "data": {
      "text/html": [
       "<div>\n",
       "<style scoped>\n",
       "    .dataframe tbody tr th:only-of-type {\n",
       "        vertical-align: middle;\n",
       "    }\n",
       "\n",
       "    .dataframe tbody tr th {\n",
       "        vertical-align: top;\n",
       "    }\n",
       "\n",
       "    .dataframe thead th {\n",
       "        text-align: right;\n",
       "    }\n",
       "</style>\n",
       "<table border=\"1\" class=\"dataframe\">\n",
       "  <thead>\n",
       "    <tr style=\"text-align: right;\">\n",
       "      <th></th>\n",
       "      <th>Unnamed: 0</th>\n",
       "      <th>id</th>\n",
       "      <th>click</th>\n",
       "      <th>hour</th>\n",
       "      <th>C1</th>\n",
       "      <th>banner_pos</th>\n",
       "      <th>device_type</th>\n",
       "      <th>device_conn_type</th>\n",
       "      <th>C14</th>\n",
       "      <th>C15</th>\n",
       "      <th>C16</th>\n",
       "      <th>C17</th>\n",
       "      <th>C18</th>\n",
       "      <th>C19</th>\n",
       "      <th>C20</th>\n",
       "      <th>C21</th>\n",
       "      <th>day_of_week</th>\n",
       "    </tr>\n",
       "  </thead>\n",
       "  <tbody>\n",
       "    <tr>\n",
       "      <th>count</th>\n",
       "      <td>404410.000000</td>\n",
       "      <td>4.044100e+05</td>\n",
       "      <td>404410.000000</td>\n",
       "      <td>4.044100e+05</td>\n",
       "      <td>404410.000000</td>\n",
       "      <td>404410.000000</td>\n",
       "      <td>404410.000000</td>\n",
       "      <td>404410.000000</td>\n",
       "      <td>404410.000000</td>\n",
       "      <td>404410.000000</td>\n",
       "      <td>404410.000000</td>\n",
       "      <td>404410.000000</td>\n",
       "      <td>404410.000000</td>\n",
       "      <td>404410.000000</td>\n",
       "      <td>404410.000000</td>\n",
       "      <td>404410.000000</td>\n",
       "      <td>404410.000000</td>\n",
       "    </tr>\n",
       "    <tr>\n",
       "      <th>mean</th>\n",
       "      <td>202204.500000</td>\n",
       "      <td>9.213896e+18</td>\n",
       "      <td>0.169991</td>\n",
       "      <td>1.410256e+07</td>\n",
       "      <td>1004.967372</td>\n",
       "      <td>0.288638</td>\n",
       "      <td>1.014695</td>\n",
       "      <td>0.331688</td>\n",
       "      <td>18844.936193</td>\n",
       "      <td>318.795856</td>\n",
       "      <td>60.076581</td>\n",
       "      <td>2112.733881</td>\n",
       "      <td>1.431426</td>\n",
       "      <td>227.891140</td>\n",
       "      <td>53239.462209</td>\n",
       "      <td>83.304955</td>\n",
       "      <td>2.601259</td>\n",
       "    </tr>\n",
       "    <tr>\n",
       "      <th>std</th>\n",
       "      <td>116743.255518</td>\n",
       "      <td>5.319411e+18</td>\n",
       "      <td>0.375625</td>\n",
       "      <td>2.968127e+02</td>\n",
       "      <td>1.090207</td>\n",
       "      <td>0.504033</td>\n",
       "      <td>0.523959</td>\n",
       "      <td>0.855877</td>\n",
       "      <td>4947.526554</td>\n",
       "      <td>20.667022</td>\n",
       "      <td>47.023691</td>\n",
       "      <td>607.929983</td>\n",
       "      <td>1.325359</td>\n",
       "      <td>351.686105</td>\n",
       "      <td>49955.391770</td>\n",
       "      <td>70.251537</td>\n",
       "      <td>1.727362</td>\n",
       "    </tr>\n",
       "    <tr>\n",
       "      <th>min</th>\n",
       "      <td>0.000000</td>\n",
       "      <td>7.306813e+13</td>\n",
       "      <td>0.000000</td>\n",
       "      <td>1.410210e+07</td>\n",
       "      <td>1001.000000</td>\n",
       "      <td>0.000000</td>\n",
       "      <td>0.000000</td>\n",
       "      <td>0.000000</td>\n",
       "      <td>375.000000</td>\n",
       "      <td>120.000000</td>\n",
       "      <td>20.000000</td>\n",
       "      <td>112.000000</td>\n",
       "      <td>0.000000</td>\n",
       "      <td>33.000000</td>\n",
       "      <td>-1.000000</td>\n",
       "      <td>1.000000</td>\n",
       "      <td>0.000000</td>\n",
       "    </tr>\n",
       "    <tr>\n",
       "      <th>25%</th>\n",
       "      <td>101102.250000</td>\n",
       "      <td>4.607240e+18</td>\n",
       "      <td>0.000000</td>\n",
       "      <td>1.410230e+07</td>\n",
       "      <td>1005.000000</td>\n",
       "      <td>0.000000</td>\n",
       "      <td>1.000000</td>\n",
       "      <td>0.000000</td>\n",
       "      <td>16920.000000</td>\n",
       "      <td>320.000000</td>\n",
       "      <td>50.000000</td>\n",
       "      <td>1863.000000</td>\n",
       "      <td>0.000000</td>\n",
       "      <td>35.000000</td>\n",
       "      <td>-1.000000</td>\n",
       "      <td>23.000000</td>\n",
       "      <td>1.000000</td>\n",
       "    </tr>\n",
       "    <tr>\n",
       "      <th>50%</th>\n",
       "      <td>202204.500000</td>\n",
       "      <td>9.218443e+18</td>\n",
       "      <td>0.000000</td>\n",
       "      <td>1.410260e+07</td>\n",
       "      <td>1005.000000</td>\n",
       "      <td>0.000000</td>\n",
       "      <td>1.000000</td>\n",
       "      <td>0.000000</td>\n",
       "      <td>20346.000000</td>\n",
       "      <td>320.000000</td>\n",
       "      <td>50.000000</td>\n",
       "      <td>2323.000000</td>\n",
       "      <td>2.000000</td>\n",
       "      <td>39.000000</td>\n",
       "      <td>100048.000000</td>\n",
       "      <td>61.000000</td>\n",
       "      <td>2.000000</td>\n",
       "    </tr>\n",
       "    <tr>\n",
       "      <th>75%</th>\n",
       "      <td>303306.750000</td>\n",
       "      <td>1.382200e+19</td>\n",
       "      <td>0.000000</td>\n",
       "      <td>1.410281e+07</td>\n",
       "      <td>1005.000000</td>\n",
       "      <td>1.000000</td>\n",
       "      <td>1.000000</td>\n",
       "      <td>0.000000</td>\n",
       "      <td>21893.000000</td>\n",
       "      <td>320.000000</td>\n",
       "      <td>50.000000</td>\n",
       "      <td>2526.000000</td>\n",
       "      <td>3.000000</td>\n",
       "      <td>171.000000</td>\n",
       "      <td>100086.000000</td>\n",
       "      <td>101.000000</td>\n",
       "      <td>4.000000</td>\n",
       "    </tr>\n",
       "    <tr>\n",
       "      <th>max</th>\n",
       "      <td>404409.000000</td>\n",
       "      <td>1.844673e+19</td>\n",
       "      <td>1.000000</td>\n",
       "      <td>1.410302e+07</td>\n",
       "      <td>1012.000000</td>\n",
       "      <td>7.000000</td>\n",
       "      <td>5.000000</td>\n",
       "      <td>5.000000</td>\n",
       "      <td>24043.000000</td>\n",
       "      <td>1024.000000</td>\n",
       "      <td>1024.000000</td>\n",
       "      <td>2757.000000</td>\n",
       "      <td>3.000000</td>\n",
       "      <td>1839.000000</td>\n",
       "      <td>100248.000000</td>\n",
       "      <td>255.000000</td>\n",
       "      <td>6.000000</td>\n",
       "    </tr>\n",
       "  </tbody>\n",
       "</table>\n",
       "</div>"
      ],
      "text/plain": [
       "          Unnamed: 0            id          click          hour  \\\n",
       "count  404410.000000  4.044100e+05  404410.000000  4.044100e+05   \n",
       "mean   202204.500000  9.213896e+18       0.169991  1.410256e+07   \n",
       "std    116743.255518  5.319411e+18       0.375625  2.968127e+02   \n",
       "min         0.000000  7.306813e+13       0.000000  1.410210e+07   \n",
       "25%    101102.250000  4.607240e+18       0.000000  1.410230e+07   \n",
       "50%    202204.500000  9.218443e+18       0.000000  1.410260e+07   \n",
       "75%    303306.750000  1.382200e+19       0.000000  1.410281e+07   \n",
       "max    404409.000000  1.844673e+19       1.000000  1.410302e+07   \n",
       "\n",
       "                  C1     banner_pos    device_type  device_conn_type  \\\n",
       "count  404410.000000  404410.000000  404410.000000     404410.000000   \n",
       "mean     1004.967372       0.288638       1.014695          0.331688   \n",
       "std         1.090207       0.504033       0.523959          0.855877   \n",
       "min      1001.000000       0.000000       0.000000          0.000000   \n",
       "25%      1005.000000       0.000000       1.000000          0.000000   \n",
       "50%      1005.000000       0.000000       1.000000          0.000000   \n",
       "75%      1005.000000       1.000000       1.000000          0.000000   \n",
       "max      1012.000000       7.000000       5.000000          5.000000   \n",
       "\n",
       "                 C14            C15            C16            C17  \\\n",
       "count  404410.000000  404410.000000  404410.000000  404410.000000   \n",
       "mean    18844.936193     318.795856      60.076581    2112.733881   \n",
       "std      4947.526554      20.667022      47.023691     607.929983   \n",
       "min       375.000000     120.000000      20.000000     112.000000   \n",
       "25%     16920.000000     320.000000      50.000000    1863.000000   \n",
       "50%     20346.000000     320.000000      50.000000    2323.000000   \n",
       "75%     21893.000000     320.000000      50.000000    2526.000000   \n",
       "max     24043.000000    1024.000000    1024.000000    2757.000000   \n",
       "\n",
       "                 C18            C19            C20            C21  \\\n",
       "count  404410.000000  404410.000000  404410.000000  404410.000000   \n",
       "mean        1.431426     227.891140   53239.462209      83.304955   \n",
       "std         1.325359     351.686105   49955.391770      70.251537   \n",
       "min         0.000000      33.000000      -1.000000       1.000000   \n",
       "25%         0.000000      35.000000      -1.000000      23.000000   \n",
       "50%         2.000000      39.000000  100048.000000      61.000000   \n",
       "75%         3.000000     171.000000  100086.000000     101.000000   \n",
       "max         3.000000    1839.000000  100248.000000     255.000000   \n",
       "\n",
       "         day_of_week  \n",
       "count  404410.000000  \n",
       "mean        2.601259  \n",
       "std         1.727362  \n",
       "min         0.000000  \n",
       "25%         1.000000  \n",
       "50%         2.000000  \n",
       "75%         4.000000  \n",
       "max         6.000000  "
      ]
     },
     "execution_count": 5,
     "metadata": {},
     "output_type": "execute_result"
    }
   ],
   "source": [
    "df.describe()"
   ]
  },
  {
   "cell_type": "code",
   "execution_count": 6,
   "metadata": {},
   "outputs": [
    {
     "data": {
      "text/plain": [
       "(404410, 28)"
      ]
     },
     "execution_count": 6,
     "metadata": {},
     "output_type": "execute_result"
    }
   ],
   "source": [
    "df.shape # this sample has 404,410 rows of data with 26 columns"
   ]
  },
  {
   "cell_type": "code",
   "execution_count": 7,
   "metadata": {},
   "outputs": [
    {
     "data": {
      "text/plain": [
       "Unnamed: 0           int64\n",
       "id                  uint64\n",
       "click                int64\n",
       "hour                 int64\n",
       "C1                   int64\n",
       "banner_pos           int64\n",
       "site_id             object\n",
       "site_domain         object\n",
       "site_category       object\n",
       "app_id              object\n",
       "app_domain          object\n",
       "app_category        object\n",
       "device_id           object\n",
       "device_ip           object\n",
       "device_model        object\n",
       "device_type          int64\n",
       "device_conn_type     int64\n",
       "C14                  int64\n",
       "C15                  int64\n",
       "C16                  int64\n",
       "C17                  int64\n",
       "C18                  int64\n",
       "C19                  int64\n",
       "C20                  int64\n",
       "C21                  int64\n",
       "new_date            object\n",
       "new_time            object\n",
       "day_of_week          int64\n",
       "dtype: object"
      ]
     },
     "execution_count": 7,
     "metadata": {},
     "output_type": "execute_result"
    }
   ],
   "source": [
    "df.dtypes\n",
    "# avazu: \"all integer features are categorical variables, all IDs, no numerical meaning\""
   ]
  },
  {
   "cell_type": "code",
   "execution_count": 8,
   "metadata": {},
   "outputs": [],
   "source": [
    "# what do the columns mean?"
   ]
  },
  {
   "cell_type": "markdown",
   "metadata": {},
   "source": [
    " - id: ad identifier\n",
    " - click: 0/1 for non-click/click\n",
    " - hour: format is YYMMDDHH\n",
    " - C1 — anonymized categorical variable\n",
    " - banner_pos\n",
    " - site_id\n",
    " - site_domain\n",
    " - site_category\n",
    " - app_id\n",
    " - app_domain\n",
    " - app_category\n",
    " - device_id\n",
    " - device_ip\n",
    " - device_model\n",
    " - device_type\n",
    " - device_conn_type\n",
    " - C14-C21 — anonymized categorical variables"
   ]
  },
  {
   "cell_type": "markdown",
   "metadata": {},
   "source": [
    "# Data Preprocessing"
   ]
  },
  {
   "cell_type": "code",
   "execution_count": 9,
   "metadata": {},
   "outputs": [],
   "source": [
    "#  unnamed column are columns that are created when a dataframe is converted to a csv. \n",
    "# 'Unnamed: 0', 'Unnamed: 0.1' are row indexes which were tansposed into columns.\n",
    "df_new = df.drop(['Unnamed: 0'], axis=1) "
   ]
  },
  {
   "cell_type": "code",
   "execution_count": 10,
   "metadata": {},
   "outputs": [
    {
     "data": {
      "text/plain": [
       "(404410, 27)"
      ]
     },
     "execution_count": 10,
     "metadata": {},
     "output_type": "execute_result"
    }
   ],
   "source": [
    "df_new.shape"
   ]
  },
  {
   "cell_type": "code",
   "execution_count": 11,
   "metadata": {
    "scrolled": true
   },
   "outputs": [
    {
     "data": {
      "text/plain": [
       "id                  0\n",
       "click               0\n",
       "hour                0\n",
       "C1                  0\n",
       "banner_pos          0\n",
       "site_id             0\n",
       "site_domain         0\n",
       "site_category       0\n",
       "app_id              0\n",
       "app_domain          0\n",
       "app_category        0\n",
       "device_id           0\n",
       "device_ip           0\n",
       "device_model        0\n",
       "device_type         0\n",
       "device_conn_type    0\n",
       "C14                 0\n",
       "C15                 0\n",
       "C16                 0\n",
       "C17                 0\n",
       "C18                 0\n",
       "C19                 0\n",
       "C20                 0\n",
       "C21                 0\n",
       "new_date            0\n",
       "new_time            0\n",
       "day_of_week         0\n",
       "dtype: int64"
      ]
     },
     "execution_count": 11,
     "metadata": {},
     "output_type": "execute_result"
    }
   ],
   "source": [
    "# check for missing values\n",
    "\n",
    "df_new.isnull().sum()\n"
   ]
  },
  {
   "cell_type": "code",
   "execution_count": 12,
   "metadata": {},
   "outputs": [
    {
     "name": "stdout",
     "output_type": "stream",
     "text": [
      "id total: 404410\n",
      "click total: 2\n",
      "hour total: 240\n",
      "C1 total: 7\n",
      "banner_pos total: 7\n",
      "site_id total: 2195\n",
      "site_domain total: 2172\n",
      "site_category total: 21\n",
      "app_id total: 2305\n",
      "app_domain total: 153\n",
      "app_category total: 26\n",
      "device_id total: 64913\n",
      "device_ip total: 262453\n",
      "device_model total: 4369\n",
      "device_type total: 5\n",
      "device_conn_type total: 4\n",
      "C14 total: 2067\n",
      "C15 total: 8\n",
      "C16 total: 9\n",
      "C17 total: 415\n",
      "C18 total: 4\n",
      "C19 total: 65\n",
      "C20 total: 159\n",
      "C21 total: 60\n",
      "new_date total: 10\n",
      "new_time total: 24\n",
      "day_of_week total: 7\n"
     ]
    }
   ],
   "source": [
    "# summed list of each column for df_new, looking for inconsistencies\n",
    "\n",
    "for col in df_new.columns.values:\n",
    "    total = len(df_new[col].unique())\n",
    "    print(str(col) + \" \" + \"total: \" + str(total))"
   ]
  },
  {
   "cell_type": "markdown",
   "metadata": {},
   "source": [
    "Each instance of a column are hashed values of an original ID.\n",
    "Hashing was done to anonymize the services contributing ad data to this dataset.\n",
    "For illustrative/descriptive purposes we will treat each hashed value as names or in other fictional contexts (e.g.,'7801e8d9' = 'www.overstock.com'). (Thank you Naomi!)"
   ]
  },
  {
   "cell_type": "markdown",
   "metadata": {},
   "source": [
    "# Feature Engineering\n",
    "## Hour & Date "
   ]
  },
  {
   "cell_type": "code",
   "execution_count": 13,
   "metadata": {},
   "outputs": [
    {
     "data": {
      "text/plain": [
       "dtype('int64')"
      ]
     },
     "execution_count": 13,
     "metadata": {},
     "output_type": "execute_result"
    }
   ],
   "source": [
    "# check hour column data type\n",
    "df_new.hour.dtype"
   ]
  },
  {
   "cell_type": "code",
   "execution_count": 14,
   "metadata": {},
   "outputs": [
    {
     "data": {
      "text/plain": [
       "0        2014-10-21 00:00:00\n",
       "1        2014-10-21 00:00:00\n",
       "2        2014-10-21 00:00:00\n",
       "3        2014-10-21 00:00:00\n",
       "4        2014-10-21 00:00:00\n",
       "5        2014-10-21 00:00:00\n",
       "6        2014-10-21 00:00:00\n",
       "7        2014-10-21 00:00:00\n",
       "8        2014-10-21 00:00:00\n",
       "9        2014-10-21 00:00:00\n",
       "10       2014-10-21 00:00:00\n",
       "11       2014-10-21 00:00:00\n",
       "12       2014-10-21 00:00:00\n",
       "13       2014-10-21 00:00:00\n",
       "14       2014-10-21 00:00:00\n",
       "15       2014-10-21 00:00:00\n",
       "16       2014-10-21 00:00:00\n",
       "17       2014-10-21 00:00:00\n",
       "18       2014-10-21 00:00:00\n",
       "19       2014-10-21 00:00:00\n",
       "20       2014-10-21 00:00:00\n",
       "21       2014-10-21 00:00:00\n",
       "22       2014-10-21 00:00:00\n",
       "23       2014-10-21 00:00:00\n",
       "24       2014-10-21 00:00:00\n",
       "25       2014-10-21 00:00:00\n",
       "26       2014-10-21 00:00:00\n",
       "27       2014-10-21 00:00:00\n",
       "28       2014-10-21 00:00:00\n",
       "29       2014-10-21 00:00:00\n",
       "                 ...        \n",
       "404380   2014-10-30 23:00:00\n",
       "404381   2014-10-30 23:00:00\n",
       "404382   2014-10-30 23:00:00\n",
       "404383   2014-10-30 23:00:00\n",
       "404384   2014-10-30 23:00:00\n",
       "404385   2014-10-30 23:00:00\n",
       "404386   2014-10-30 23:00:00\n",
       "404387   2014-10-30 23:00:00\n",
       "404388   2014-10-30 23:00:00\n",
       "404389   2014-10-30 23:00:00\n",
       "404390   2014-10-30 23:00:00\n",
       "404391   2014-10-30 23:00:00\n",
       "404392   2014-10-30 23:00:00\n",
       "404393   2014-10-30 23:00:00\n",
       "404394   2014-10-30 23:00:00\n",
       "404395   2014-10-30 23:00:00\n",
       "404396   2014-10-30 23:00:00\n",
       "404397   2014-10-30 23:00:00\n",
       "404398   2014-10-30 23:00:00\n",
       "404399   2014-10-30 23:00:00\n",
       "404400   2014-10-30 23:00:00\n",
       "404401   2014-10-30 23:00:00\n",
       "404402   2014-10-30 23:00:00\n",
       "404403   2014-10-30 23:00:00\n",
       "404404   2014-10-30 23:00:00\n",
       "404405   2014-10-30 23:00:00\n",
       "404406   2014-10-30 23:00:00\n",
       "404407   2014-10-30 23:00:00\n",
       "404408   2014-10-30 23:00:00\n",
       "404409   2014-10-30 23:00:00\n",
       "Name: new_hour, Length: 404410, dtype: datetime64[ns]"
      ]
     },
     "execution_count": 14,
     "metadata": {},
     "output_type": "execute_result"
    }
   ],
   "source": [
    "# separate the date and time\n",
    "parse_date = lambda val : pd.datetime.strptime(val, '%y%m%d%H')\n",
    "df_new['new_hour'] = df_new.hour.astype(str).apply(parse_date)\n",
    "df_new['new_hour']"
   ]
  },
  {
   "cell_type": "code",
   "execution_count": 15,
   "metadata": {},
   "outputs": [
    {
     "data": {
      "text/html": [
       "<div>\n",
       "<style scoped>\n",
       "    .dataframe tbody tr th:only-of-type {\n",
       "        vertical-align: middle;\n",
       "    }\n",
       "\n",
       "    .dataframe tbody tr th {\n",
       "        vertical-align: top;\n",
       "    }\n",
       "\n",
       "    .dataframe thead th {\n",
       "        text-align: right;\n",
       "    }\n",
       "</style>\n",
       "<table border=\"1\" class=\"dataframe\">\n",
       "  <thead>\n",
       "    <tr style=\"text-align: right;\">\n",
       "      <th></th>\n",
       "      <th>id</th>\n",
       "      <th>click</th>\n",
       "      <th>hour</th>\n",
       "      <th>C1</th>\n",
       "      <th>banner_pos</th>\n",
       "      <th>site_id</th>\n",
       "      <th>site_domain</th>\n",
       "      <th>site_category</th>\n",
       "      <th>app_id</th>\n",
       "      <th>app_domain</th>\n",
       "      <th>...</th>\n",
       "      <th>C16</th>\n",
       "      <th>C17</th>\n",
       "      <th>C18</th>\n",
       "      <th>C19</th>\n",
       "      <th>C20</th>\n",
       "      <th>C21</th>\n",
       "      <th>new_date</th>\n",
       "      <th>new_time</th>\n",
       "      <th>day_of_week</th>\n",
       "      <th>new_hour</th>\n",
       "    </tr>\n",
       "  </thead>\n",
       "  <tbody>\n",
       "    <tr>\n",
       "      <th>0</th>\n",
       "      <td>10004510652136496837</td>\n",
       "      <td>0</td>\n",
       "      <td>14102100</td>\n",
       "      <td>1005</td>\n",
       "      <td>0</td>\n",
       "      <td>543a539e</td>\n",
       "      <td>c7ca3108</td>\n",
       "      <td>3e814130</td>\n",
       "      <td>ecad2386</td>\n",
       "      <td>7801e8d9</td>\n",
       "      <td>...</td>\n",
       "      <td>50</td>\n",
       "      <td>2333</td>\n",
       "      <td>0</td>\n",
       "      <td>39</td>\n",
       "      <td>-1</td>\n",
       "      <td>157</td>\n",
       "      <td>2014-10-21</td>\n",
       "      <td>00:00:00</td>\n",
       "      <td>1</td>\n",
       "      <td>2014-10-21</td>\n",
       "    </tr>\n",
       "    <tr>\n",
       "      <th>1</th>\n",
       "      <td>10007164336863914220</td>\n",
       "      <td>1</td>\n",
       "      <td>14102100</td>\n",
       "      <td>1005</td>\n",
       "      <td>0</td>\n",
       "      <td>1fbe01fe</td>\n",
       "      <td>f3845767</td>\n",
       "      <td>28905ebd</td>\n",
       "      <td>ecad2386</td>\n",
       "      <td>7801e8d9</td>\n",
       "      <td>...</td>\n",
       "      <td>50</td>\n",
       "      <td>1722</td>\n",
       "      <td>0</td>\n",
       "      <td>35</td>\n",
       "      <td>-1</td>\n",
       "      <td>79</td>\n",
       "      <td>2014-10-21</td>\n",
       "      <td>00:00:00</td>\n",
       "      <td>1</td>\n",
       "      <td>2014-10-21</td>\n",
       "    </tr>\n",
       "    <tr>\n",
       "      <th>2</th>\n",
       "      <td>10076859283156800622</td>\n",
       "      <td>0</td>\n",
       "      <td>14102100</td>\n",
       "      <td>1002</td>\n",
       "      <td>0</td>\n",
       "      <td>f17ebd97</td>\n",
       "      <td>c4e18dd6</td>\n",
       "      <td>50e219e0</td>\n",
       "      <td>ecad2386</td>\n",
       "      <td>7801e8d9</td>\n",
       "      <td>...</td>\n",
       "      <td>36</td>\n",
       "      <td>2497</td>\n",
       "      <td>3</td>\n",
       "      <td>43</td>\n",
       "      <td>100151</td>\n",
       "      <td>42</td>\n",
       "      <td>2014-10-21</td>\n",
       "      <td>00:00:00</td>\n",
       "      <td>1</td>\n",
       "      <td>2014-10-21</td>\n",
       "    </tr>\n",
       "  </tbody>\n",
       "</table>\n",
       "<p>3 rows × 28 columns</p>\n",
       "</div>"
      ],
      "text/plain": [
       "                     id  click      hour    C1  banner_pos   site_id  \\\n",
       "0  10004510652136496837      0  14102100  1005           0  543a539e   \n",
       "1  10007164336863914220      1  14102100  1005           0  1fbe01fe   \n",
       "2  10076859283156800622      0  14102100  1002           0  f17ebd97   \n",
       "\n",
       "  site_domain site_category    app_id app_domain    ...     C16   C17 C18 C19  \\\n",
       "0    c7ca3108      3e814130  ecad2386   7801e8d9    ...      50  2333   0  39   \n",
       "1    f3845767      28905ebd  ecad2386   7801e8d9    ...      50  1722   0  35   \n",
       "2    c4e18dd6      50e219e0  ecad2386   7801e8d9    ...      36  2497   3  43   \n",
       "\n",
       "      C20  C21    new_date  new_time  day_of_week   new_hour  \n",
       "0      -1  157  2014-10-21  00:00:00            1 2014-10-21  \n",
       "1      -1   79  2014-10-21  00:00:00            1 2014-10-21  \n",
       "2  100151   42  2014-10-21  00:00:00            1 2014-10-21  \n",
       "\n",
       "[3 rows x 28 columns]"
      ]
     },
     "execution_count": 15,
     "metadata": {},
     "output_type": "execute_result"
    }
   ],
   "source": [
    "# check if column 'new_hour' was created and parsed to string\n",
    "df_new.head(3)"
   ]
  },
  {
   "cell_type": "code",
   "execution_count": 16,
   "metadata": {},
   "outputs": [
    {
     "data": {
      "text/plain": [
       "dtype('<M8[ns]')"
      ]
     },
     "execution_count": 16,
     "metadata": {},
     "output_type": "execute_result"
    }
   ],
   "source": [
    "#confirm dtype of new_hour\n",
    "df_new.new_hour.dtype"
   ]
  },
  {
   "cell_type": "code",
   "execution_count": 17,
   "metadata": {},
   "outputs": [],
   "source": [
    "# create new_date & new_time columns from parsed new_hour column\n",
    "df_new['date'] = [d.date() for d in df_new['new_hour']]\n",
    "df_new['time'] = [d.time() for d in df_new['new_hour']]"
   ]
  },
  {
   "cell_type": "code",
   "execution_count": 18,
   "metadata": {},
   "outputs": [
    {
     "data": {
      "text/html": [
       "<div>\n",
       "<style scoped>\n",
       "    .dataframe tbody tr th:only-of-type {\n",
       "        vertical-align: middle;\n",
       "    }\n",
       "\n",
       "    .dataframe tbody tr th {\n",
       "        vertical-align: top;\n",
       "    }\n",
       "\n",
       "    .dataframe thead th {\n",
       "        text-align: right;\n",
       "    }\n",
       "</style>\n",
       "<table border=\"1\" class=\"dataframe\">\n",
       "  <thead>\n",
       "    <tr style=\"text-align: right;\">\n",
       "      <th></th>\n",
       "      <th>id</th>\n",
       "      <th>click</th>\n",
       "      <th>hour</th>\n",
       "      <th>C1</th>\n",
       "      <th>banner_pos</th>\n",
       "      <th>site_id</th>\n",
       "      <th>site_domain</th>\n",
       "      <th>site_category</th>\n",
       "      <th>app_id</th>\n",
       "      <th>app_domain</th>\n",
       "      <th>...</th>\n",
       "      <th>C18</th>\n",
       "      <th>C19</th>\n",
       "      <th>C20</th>\n",
       "      <th>C21</th>\n",
       "      <th>new_date</th>\n",
       "      <th>new_time</th>\n",
       "      <th>day_of_week</th>\n",
       "      <th>new_hour</th>\n",
       "      <th>date</th>\n",
       "      <th>time</th>\n",
       "    </tr>\n",
       "  </thead>\n",
       "  <tbody>\n",
       "    <tr>\n",
       "      <th>0</th>\n",
       "      <td>10004510652136496837</td>\n",
       "      <td>0</td>\n",
       "      <td>14102100</td>\n",
       "      <td>1005</td>\n",
       "      <td>0</td>\n",
       "      <td>543a539e</td>\n",
       "      <td>c7ca3108</td>\n",
       "      <td>3e814130</td>\n",
       "      <td>ecad2386</td>\n",
       "      <td>7801e8d9</td>\n",
       "      <td>...</td>\n",
       "      <td>0</td>\n",
       "      <td>39</td>\n",
       "      <td>-1</td>\n",
       "      <td>157</td>\n",
       "      <td>2014-10-21</td>\n",
       "      <td>00:00:00</td>\n",
       "      <td>1</td>\n",
       "      <td>2014-10-21</td>\n",
       "      <td>2014-10-21</td>\n",
       "      <td>00:00:00</td>\n",
       "    </tr>\n",
       "    <tr>\n",
       "      <th>1</th>\n",
       "      <td>10007164336863914220</td>\n",
       "      <td>1</td>\n",
       "      <td>14102100</td>\n",
       "      <td>1005</td>\n",
       "      <td>0</td>\n",
       "      <td>1fbe01fe</td>\n",
       "      <td>f3845767</td>\n",
       "      <td>28905ebd</td>\n",
       "      <td>ecad2386</td>\n",
       "      <td>7801e8d9</td>\n",
       "      <td>...</td>\n",
       "      <td>0</td>\n",
       "      <td>35</td>\n",
       "      <td>-1</td>\n",
       "      <td>79</td>\n",
       "      <td>2014-10-21</td>\n",
       "      <td>00:00:00</td>\n",
       "      <td>1</td>\n",
       "      <td>2014-10-21</td>\n",
       "      <td>2014-10-21</td>\n",
       "      <td>00:00:00</td>\n",
       "    </tr>\n",
       "    <tr>\n",
       "      <th>2</th>\n",
       "      <td>10076859283156800622</td>\n",
       "      <td>0</td>\n",
       "      <td>14102100</td>\n",
       "      <td>1002</td>\n",
       "      <td>0</td>\n",
       "      <td>f17ebd97</td>\n",
       "      <td>c4e18dd6</td>\n",
       "      <td>50e219e0</td>\n",
       "      <td>ecad2386</td>\n",
       "      <td>7801e8d9</td>\n",
       "      <td>...</td>\n",
       "      <td>3</td>\n",
       "      <td>43</td>\n",
       "      <td>100151</td>\n",
       "      <td>42</td>\n",
       "      <td>2014-10-21</td>\n",
       "      <td>00:00:00</td>\n",
       "      <td>1</td>\n",
       "      <td>2014-10-21</td>\n",
       "      <td>2014-10-21</td>\n",
       "      <td>00:00:00</td>\n",
       "    </tr>\n",
       "  </tbody>\n",
       "</table>\n",
       "<p>3 rows × 30 columns</p>\n",
       "</div>"
      ],
      "text/plain": [
       "                     id  click      hour    C1  banner_pos   site_id  \\\n",
       "0  10004510652136496837      0  14102100  1005           0  543a539e   \n",
       "1  10007164336863914220      1  14102100  1005           0  1fbe01fe   \n",
       "2  10076859283156800622      0  14102100  1002           0  f17ebd97   \n",
       "\n",
       "  site_domain site_category    app_id app_domain    ...    C18 C19     C20  \\\n",
       "0    c7ca3108      3e814130  ecad2386   7801e8d9    ...      0  39      -1   \n",
       "1    f3845767      28905ebd  ecad2386   7801e8d9    ...      0  35      -1   \n",
       "2    c4e18dd6      50e219e0  ecad2386   7801e8d9    ...      3  43  100151   \n",
       "\n",
       "   C21    new_date  new_time  day_of_week   new_hour        date      time  \n",
       "0  157  2014-10-21  00:00:00            1 2014-10-21  2014-10-21  00:00:00  \n",
       "1   79  2014-10-21  00:00:00            1 2014-10-21  2014-10-21  00:00:00  \n",
       "2   42  2014-10-21  00:00:00            1 2014-10-21  2014-10-21  00:00:00  \n",
       "\n",
       "[3 rows x 30 columns]"
      ]
     },
     "execution_count": 18,
     "metadata": {},
     "output_type": "execute_result"
    }
   ],
   "source": [
    "#check if columns were established properly\n",
    "df_new.head(3)"
   ]
  },
  {
   "cell_type": "code",
   "execution_count": 19,
   "metadata": {},
   "outputs": [
    {
     "data": {
      "text/plain": [
       "id                          uint64\n",
       "click                        int64\n",
       "hour                         int64\n",
       "C1                           int64\n",
       "banner_pos                   int64\n",
       "site_id                     object\n",
       "site_domain                 object\n",
       "site_category               object\n",
       "app_id                      object\n",
       "app_domain                  object\n",
       "app_category                object\n",
       "device_id                   object\n",
       "device_ip                   object\n",
       "device_model                object\n",
       "device_type                  int64\n",
       "device_conn_type             int64\n",
       "C14                          int64\n",
       "C15                          int64\n",
       "C16                          int64\n",
       "C17                          int64\n",
       "C18                          int64\n",
       "C19                          int64\n",
       "C20                          int64\n",
       "C21                          int64\n",
       "new_date                    object\n",
       "new_time                    object\n",
       "day_of_week                  int64\n",
       "new_hour            datetime64[ns]\n",
       "date                        object\n",
       "time                        object\n",
       "dtype: object"
      ]
     },
     "execution_count": 19,
     "metadata": {},
     "output_type": "execute_result"
    }
   ],
   "source": [
    "df_new.dtypes"
   ]
  },
  {
   "cell_type": "code",
   "execution_count": 20,
   "metadata": {},
   "outputs": [],
   "source": [
    "# drop redundant cols\n",
    "df_tmp = df_new.drop(['new_hour', 'hour'], axis=1)"
   ]
  },
  {
   "cell_type": "code",
   "execution_count": 21,
   "metadata": {},
   "outputs": [
    {
     "data": {
      "text/html": [
       "<div>\n",
       "<style scoped>\n",
       "    .dataframe tbody tr th:only-of-type {\n",
       "        vertical-align: middle;\n",
       "    }\n",
       "\n",
       "    .dataframe tbody tr th {\n",
       "        vertical-align: top;\n",
       "    }\n",
       "\n",
       "    .dataframe thead th {\n",
       "        text-align: right;\n",
       "    }\n",
       "</style>\n",
       "<table border=\"1\" class=\"dataframe\">\n",
       "  <thead>\n",
       "    <tr style=\"text-align: right;\">\n",
       "      <th></th>\n",
       "      <th>id</th>\n",
       "      <th>click</th>\n",
       "      <th>C1</th>\n",
       "      <th>banner_pos</th>\n",
       "      <th>site_id</th>\n",
       "      <th>site_domain</th>\n",
       "      <th>site_category</th>\n",
       "      <th>app_id</th>\n",
       "      <th>app_domain</th>\n",
       "      <th>app_category</th>\n",
       "      <th>...</th>\n",
       "      <th>C17</th>\n",
       "      <th>C18</th>\n",
       "      <th>C19</th>\n",
       "      <th>C20</th>\n",
       "      <th>C21</th>\n",
       "      <th>new_date</th>\n",
       "      <th>new_time</th>\n",
       "      <th>day_of_week</th>\n",
       "      <th>date</th>\n",
       "      <th>time</th>\n",
       "    </tr>\n",
       "  </thead>\n",
       "  <tbody>\n",
       "    <tr>\n",
       "      <th>0</th>\n",
       "      <td>10004510652136496837</td>\n",
       "      <td>0</td>\n",
       "      <td>1005</td>\n",
       "      <td>0</td>\n",
       "      <td>543a539e</td>\n",
       "      <td>c7ca3108</td>\n",
       "      <td>3e814130</td>\n",
       "      <td>ecad2386</td>\n",
       "      <td>7801e8d9</td>\n",
       "      <td>07d7df22</td>\n",
       "      <td>...</td>\n",
       "      <td>2333</td>\n",
       "      <td>0</td>\n",
       "      <td>39</td>\n",
       "      <td>-1</td>\n",
       "      <td>157</td>\n",
       "      <td>2014-10-21</td>\n",
       "      <td>00:00:00</td>\n",
       "      <td>1</td>\n",
       "      <td>2014-10-21</td>\n",
       "      <td>00:00:00</td>\n",
       "    </tr>\n",
       "    <tr>\n",
       "      <th>1</th>\n",
       "      <td>10007164336863914220</td>\n",
       "      <td>1</td>\n",
       "      <td>1005</td>\n",
       "      <td>0</td>\n",
       "      <td>1fbe01fe</td>\n",
       "      <td>f3845767</td>\n",
       "      <td>28905ebd</td>\n",
       "      <td>ecad2386</td>\n",
       "      <td>7801e8d9</td>\n",
       "      <td>07d7df22</td>\n",
       "      <td>...</td>\n",
       "      <td>1722</td>\n",
       "      <td>0</td>\n",
       "      <td>35</td>\n",
       "      <td>-1</td>\n",
       "      <td>79</td>\n",
       "      <td>2014-10-21</td>\n",
       "      <td>00:00:00</td>\n",
       "      <td>1</td>\n",
       "      <td>2014-10-21</td>\n",
       "      <td>00:00:00</td>\n",
       "    </tr>\n",
       "  </tbody>\n",
       "</table>\n",
       "<p>2 rows × 28 columns</p>\n",
       "</div>"
      ],
      "text/plain": [
       "                     id  click    C1  banner_pos   site_id site_domain  \\\n",
       "0  10004510652136496837      0  1005           0  543a539e    c7ca3108   \n",
       "1  10007164336863914220      1  1005           0  1fbe01fe    f3845767   \n",
       "\n",
       "  site_category    app_id app_domain app_category    ...      C17 C18 C19  \\\n",
       "0      3e814130  ecad2386   7801e8d9     07d7df22    ...     2333   0  39   \n",
       "1      28905ebd  ecad2386   7801e8d9     07d7df22    ...     1722   0  35   \n",
       "\n",
       "   C20  C21    new_date  new_time  day_of_week        date      time  \n",
       "0   -1  157  2014-10-21  00:00:00            1  2014-10-21  00:00:00  \n",
       "1   -1   79  2014-10-21  00:00:00            1  2014-10-21  00:00:00  \n",
       "\n",
       "[2 rows x 28 columns]"
      ]
     },
     "execution_count": 21,
     "metadata": {},
     "output_type": "execute_result"
    }
   ],
   "source": [
    "df_tmp.head(2)"
   ]
  },
  {
   "cell_type": "code",
   "execution_count": 22,
   "metadata": {},
   "outputs": [
    {
     "name": "stdout",
     "output_type": "stream",
     "text": [
      "id total: 404410\n",
      "click total: 2\n",
      "C1 total: 7\n",
      "banner_pos total: 7\n",
      "site_id total: 2195\n",
      "site_domain total: 2172\n",
      "site_category total: 21\n",
      "app_id total: 2305\n",
      "app_domain total: 153\n",
      "app_category total: 26\n",
      "device_id total: 64913\n",
      "device_ip total: 262453\n",
      "device_model total: 4369\n",
      "device_type total: 5\n",
      "device_conn_type total: 4\n",
      "C14 total: 2067\n",
      "C15 total: 8\n",
      "C16 total: 9\n",
      "C17 total: 415\n",
      "C18 total: 4\n",
      "C19 total: 65\n",
      "C20 total: 159\n",
      "C21 total: 60\n",
      "new_date total: 10\n",
      "new_time total: 24\n",
      "day_of_week total: 7\n",
      "date total: 10\n",
      "time total: 24\n"
     ]
    }
   ],
   "source": [
    "# sannity check of summed columns for unique vals\n",
    "\n",
    "for col in df_tmp.columns.values:\n",
    "    total = len(df_tmp[col].unique())\n",
    "    val = df_tmp[col].unique()\n",
    "    print(str(col) + \" \" + \"total: \" + str(total))"
   ]
  },
  {
   "cell_type": "markdown",
   "metadata": {},
   "source": [
    "# Feature engineering cont. \n",
    "### device_type converted into binary columns by device_type \n"
   ]
  },
  {
   "cell_type": "code",
   "execution_count": 23,
   "metadata": {},
   "outputs": [
    {
     "name": "stdout",
     "output_type": "stream",
     "text": [
      "id , val: [10004510652136496837 10007164336863914220 10076859283156800622 ...\n",
      "  9930625418032326788  9953588061726377330  9959058523366506236]\n",
      "click , val: [0 1]\n",
      "C1 , val: [1005 1002 1010 1007 1008 1012 1001]\n",
      "banner_pos , val: [0 1 2 5 7 4 3]\n",
      "site_id , val: ['543a539e' '1fbe01fe' 'f17ebd97' ... '9fd919ea' '1b72ccd8' '5a51436e']\n",
      "site_domain , val: ['c7ca3108' 'f3845767' 'c4e18dd6' ... '0da06afc' '3e87e1c9' '645c06d3']\n",
      "site_category , val: ['3e814130' '28905ebd' '50e219e0' '76b2941d' 'f028772b' 'f66779e6'\n",
      " '0569f928' '335d28a8' '72722551' '75fa27f6' 'c0dd3be3' 'a818d37a'\n",
      " '8fd0aea4' '70fb0e29' 'dedf689d' 'e787de0e' '5378d028' 'bcf865d9'\n",
      " '42a36e14' '9ccfa2ea' 'c706e647']\n",
      "app_id , val: ['ecad2386' '1779deee' 'febd1138' ... '96f19b66' '5717fe5d' '404b2054']\n",
      "app_domain , val: ['7801e8d9' '2347f47a' '82e27996' '45a51db4' '5c5a694b' 'afdf1f54'\n",
      " 'aefc06bd' 'ae637522' 'd9b5648e' '828da833' '5b9c592b' '0654b444'\n",
      " '885c7f3f' 'b8d325c3' 'b5f3b24a' 'ad63ec9b' '33da2e74' '43cf4f06'\n",
      " '15ec7f39' '18eb4e75' '813f3323' 'b9528b13' 'f3ad7798' '5ac0b939'\n",
      " 'f2f777fb' 'c6824def' '5c620f04' 'b408d42a' 'df32afa9' '7bbb38df'\n",
      " 'e787a6bc' '6f7ca2ba' '4fafd4c4' 'b2816726' '9ec164d3' '0e8616ad'\n",
      " '2c1c31c6' '48aec236' '700adbf0' '7a94af76' 'e5d5313f' '1ed56ded'\n",
      " '2619a4f7' 'cb36afb8' '15c23f8e' '27ee373d' '772df91c' 'b12ff13e'\n",
      " 'fd5f0ee2' 'f7f22564' '6a0a3a9d' '2b627705' '7b833eb9' '8d87821d'\n",
      " '1c666936' '9ecca2dd' '47464e95' '0d79ee56' 'f5a7c834' 'ef1fc174'\n",
      " '88293ffa' '438468ad' '9c566260' '448ca2e3' 'f48b6635' '3feeed1e'\n",
      " 'db829551' 'b51aefa8' 'b6c7e8e1' '1d5e09f4' 'ba275770' '1ddc989f'\n",
      " 'd9e67b62' 'bb6bcbae' 'd6feb1a4' '256a5990' 'b7af3e0a' '7a9371fa'\n",
      " '90322ef6' '29cd071c' 'a271c340' 'a5204413' '55240cf0' '63f57be0'\n",
      " 'bd8c1fdc' '1cb641ec' '92895b94' '999f1fac' '1ea19ec4' 'ae36b8ab'\n",
      " 'e5d008b4' 'adacd5cc' 'ead20d3d' '3191f81f' '9cc1123d' '713c0c91'\n",
      " 'fc41b20c' '916026d9' 'd18c63a1' '5ad474ea' '51174fb1' '323f3fe5'\n",
      " 'da45f10e' 'dcdba109' '09abdb18' 'a8b0bf20' '863f4950' '756ffb85'\n",
      " '99b4c806' '3fa331b0' 'c87b28e6' 'b88e8096' '3c992420' '449e219f'\n",
      " '298309ba' '5048f612' 'f435cae0' '57cf0548' '59e465f4' '9acfe436'\n",
      " '42ed489e' '5da9e6db' 'd95432fe' '3ca588d4' '7eec2ab0' '6437e20c'\n",
      " '535a6777' '6bfb9168' '9830a8fb' '65b2af4c' 'ed7f6170' '8a1d880a'\n",
      " '97efe5c6' '0b7d3d7d' '1b74784d' 'dcb74110' '12aaf71f' '48f95f3e'\n",
      " '9492ae41' '734d52b9' '7a0640b2' 'e2fa941d' 'b299335a' 'be452468'\n",
      " 'e24414c4' 'f09de4dc' 'fe369646' 'b4df0cc5' 'cda96d46' 'b97def0d'\n",
      " 'b9215c20' '7d58e760' '1cbecd39']\n",
      "app_category , val: ['07d7df22' 'f95efa07' '0f2161f8' 'cef3e649' '8ded1f7a' '75d80bbe'\n",
      " '4ce2e9fc' 'd1327cf5' 'fc6fa53d' 'dc97ec06' 'a3c42688' '09481d60'\n",
      " '0f9a328c' '4681bb9d' '879c24eb' '79f0b860' 'a86a3e89' '2281a340'\n",
      " '0bfbc358' '8df2e842' 'a7fd01ec' '18b1e0be' '7113d72a' 'bf8ac856'\n",
      " '2fc4f2aa' '5326cf99']\n",
      "device_id , val: ['a99f214a' '7681c1c6' '29968214' ... 'dd9d5e9c' '9cf797fb' '2a182304']\n",
      "device_ip , val: ['8a308c73' 'b2b14786' 'dbd0f760' ... '79710561' '1c54673b' '0281e457']\n",
      "device_model , val: ['3223bcfe' '36d749e5' '1a4a9acf' ... '2626ec75' '06f5a2bb' 'a11089e0']\n",
      "device_type , val: [1 0 4 5 2]\n",
      "device_conn_type , val: [0 2 3 5]\n",
      "C14 , val: [20352 15706 21692 ... 23624 23740 18509]\n",
      "C15 , val: [ 320  216  300  728  480 1024  768  120]\n",
      "C16 , val: [  50   36  250  480   90  320  768 1024   20]\n",
      "C17 , val: [2333 1722 2497 2161 1926 2480 1863 1800 2449 2283 2493 2227 1887 2351\n",
      " 2481 2043 2374 1740 1994 1934 2496 2323 2434 2253 2039  576 1993 2162\n",
      " 1637 2306  196 2446 2331 1401 1872 2271 1784 1899  423 2371  613 2060\n",
      "  571 2312 2495 2295 2478 2264 1248 1973 2036 2304 2307 2154 1955 2158\n",
      " 2424 2372 2465 2443 2485 1882 1092 2467 2263 1921 2303  112 1974  901\n",
      " 2278 2487 2492  572 2201 1780 2421 1991  544 1698 1895  906  898  479\n",
      "  122 2229 2285 2270 2083 1884  761 2260 1873 2418 2420 2348 2281 1835\n",
      " 1996 1752 2286 2316  549  547 2282 2242  153 1272 1447 2325 2397 1965\n",
      " 2471 2489 2394 1960 2225 2494 2206 2476 1255 1769 2181 2153  550 2187\n",
      " 2339 1528 2500  768 2292 1507 2502 2338 2505 2504 2498 2427  937 2509\n",
      "  178 2503 2390 2508 1174 2491 2513 2428 2412 2512 2441 2459 2483 1008\n",
      "  827 2455 1741 2279 2510 2438 2425  394 2482 2451 2284 2519 2439  686\n",
      " 2520 2250 2501 1685 1141 2016 1939 2506 2507 2526 2522 2523 2524 2518\n",
      " 2525 1526 2528 2462 1076 1702 1932 2530 2440 2009 1823 1972 2436  873\n",
      " 2479 2527 2544 2547 2545 2531 2532 2546 2533 2535 2536 2534 2101 2537\n",
      " 1107 2369 2550 2552 2551 2548 2199 2556 2299 2554 2539 2543 2435 1694\n",
      " 2555 2563 2218 2558 2515 2557 2566  832 2569 2570 2561 2572 2565 2571\n",
      " 1903 2574 2340 2560 2553 1149 2577 2583 2580 1042 2587 2578 2454 2453\n",
      " 2588 2589 2450  863 2576 2590 2573 1946 2579 2581 2594 2582 2602 2601\n",
      " 1161 2604 2429 1160 2599 2600 2606 2597 2542 2609 2104  872 2592 2610\n",
      " 1821 2615 2591 2616 2608 2613 2614 2603 2611 2593 2624 2619 2625 2631\n",
      " 2630 2605 2634 2633 2635 2636 2612 2627 2647 2637 2640 2645 2644 2643\n",
      " 2646 2638 2639 2648 2641 2642 2617  644 2649 2598 2620 2650 2226 2654\n",
      " 2661 2660 2651 2657 2663 2655 2659 2656 2658 2665 2671 2668 2673 2667\n",
      " 2669 2676 2672 2688 2684 2683 2682 2685 2681 2675 2679 2670 2677 2511\n",
      " 2680 2686 2662 1809 2607 2664 2699 2698 2709 2695 2666 2716 2708 2717\n",
      " 2707 2710 2713 2714 2706 2711 2691 2702 2705 2718 2724 2291 2703 2715\n",
      " 2721 2720 2727 2653 2289 2728 2689 2729 2712 1426 2726 2730 2736 2674\n",
      " 2738 2735 2687 2745 2700 2741 2740 2742 2652 2744 2743 2747 2748 2150\n",
      " 2725 2749 2737 2753 2755 2754 2756 2757 2719]\n",
      "C18 , val: [0 3 2 1]\n",
      "C19 , val: [  39   35   43  297  167  163  687  943  303 1063  161  171  175  431\n",
      "  551  427   47  291  813 1835 1319 1315  547 1711  681 1451  683  169\n",
      "  423  299   41  801  425  679  673   34  559  553 1327 1447   33 1071\n",
      "  811  555  675  295 1059  809  937  417   45  419 1065  935  815 1195\n",
      " 1583  939 1839   38  290 1831  289  803 1575]\n",
      "C20 , val: [    -1 100151 100111 100034 100075 100105 100083 100079 100020 100084\n",
      " 100119 100060 100081 100148 100088 100183 100128 100130 100001 100046\n",
      " 100188 100050 100131 100228 100101 100039 100086 100199 100221 100074\n",
      " 100077 100048 100233 100210 100155 100202 100000 100037 100068 100191\n",
      " 100166 100076 100217 100170 100062 100193 100189 100065 100215 100160\n",
      " 100212 100194 100156 100103 100150 100013 100168 100021 100049 100225\n",
      " 100171 100019 100093 100141 100087 100248 100161 100162 100172 100205\n",
      " 100002 100041 100094 100028 100003 100022 100043 100107 100053 100031\n",
      " 100224 100057 100144 100137 100206 100149 100033 100173 100032 100181\n",
      " 100052 100163 100097 100182 100165 100029 100070 100106 100096 100123\n",
      " 100117 100200 100185 100126 100071 100061 100241 100025 100012 100133\n",
      " 100176 100072 100135 100004 100108 100095 100005 100192 100058 100177\n",
      " 100026 100190 100055 100064 100143 100112 100091 100195 100139 100090\n",
      " 100051 100099 100073 100063 100121 100175 100054 100040 100124 100056\n",
      " 100059 100229 100113 100179 100153 100114 100244 100024 100010 100152\n",
      " 100213 100178 100109 100016 100027 100082 100169 100122 100138]\n",
      "C21 , val: [157  79  42  13  61  23  91  95 117  48  32 100  33  16  52  15 156  94\n",
      "  46  71  93  51  43 111 101 195  69  82  20  17 116 112  90  70 221  68\n",
      " 194  85  35 110 102 219 163 159 108 178 182 171 177 204 212 126 253 251\n",
      "   1 229 246 255  76 104]\n",
      "new_date , val: ['2014-10-21' '2014-10-22' '2014-10-23' '2014-10-24' '2014-10-25'\n",
      " '2014-10-26' '2014-10-27' '2014-10-28' '2014-10-29' '2014-10-30']\n",
      "new_time , val: ['00:00:00' '01:00:00' '02:00:00' '03:00:00' '04:00:00' '05:00:00'\n",
      " '06:00:00' '07:00:00' '08:00:00' '09:00:00' '10:00:00' '11:00:00'\n",
      " '12:00:00' '13:00:00' '14:00:00' '15:00:00' '16:00:00' '17:00:00'\n",
      " '18:00:00' '19:00:00' '20:00:00' '21:00:00' '22:00:00' '23:00:00']\n",
      "day_of_week , val: [1 2 3 4 5 6 0]\n",
      "date , val: [datetime.date(2014, 10, 21) datetime.date(2014, 10, 22)\n",
      " datetime.date(2014, 10, 23) datetime.date(2014, 10, 24)\n",
      " datetime.date(2014, 10, 25) datetime.date(2014, 10, 26)\n",
      " datetime.date(2014, 10, 27) datetime.date(2014, 10, 28)\n",
      " datetime.date(2014, 10, 29) datetime.date(2014, 10, 30)]\n",
      "time , val: [datetime.time(0, 0) datetime.time(1, 0) datetime.time(2, 0)\n",
      " datetime.time(3, 0) datetime.time(4, 0) datetime.time(5, 0)\n",
      " datetime.time(6, 0) datetime.time(7, 0) datetime.time(8, 0)\n",
      " datetime.time(9, 0) datetime.time(10, 0) datetime.time(11, 0)\n",
      " datetime.time(12, 0) datetime.time(13, 0) datetime.time(14, 0)\n",
      " datetime.time(15, 0) datetime.time(16, 0) datetime.time(17, 0)\n",
      " datetime.time(18, 0) datetime.time(19, 0) datetime.time(20, 0)\n",
      " datetime.time(21, 0) datetime.time(22, 0) datetime.time(23, 0)]\n"
     ]
    }
   ],
   "source": [
    "# iterate through columns and print the unique values of each column\n",
    "for col in df_tmp.columns.values:\n",
    "    val = df_tmp[col].unique()\n",
    "    print(str(col) + \" \" + \", val: \" + str(val))"
   ]
  },
  {
   "cell_type": "code",
   "execution_count": 24,
   "metadata": {},
   "outputs": [
    {
     "data": {
      "text/plain": [
       "5"
      ]
     },
     "execution_count": 24,
     "metadata": {},
     "output_type": "execute_result"
    }
   ],
   "source": [
    "# use device_type as practice. There are 5 unique vals -- smaller number is easier to work with\n",
    "df_tmp.device_type.nunique()"
   ]
  },
  {
   "cell_type": "code",
   "execution_count": 25,
   "metadata": {},
   "outputs": [],
   "source": [
    "# store df_tmp.device_type as var for ease of re-use\n",
    "dvc_type = df_tmp.device_type"
   ]
  },
  {
   "cell_type": "code",
   "execution_count": 26,
   "metadata": {},
   "outputs": [
    {
     "data": {
      "text/plain": [
       "1"
      ]
     },
     "execution_count": 26,
     "metadata": {},
     "output_type": "execute_result"
    }
   ],
   "source": [
    "# check instance of dvc_type\n",
    "dvc_type[0]"
   ]
  },
  {
   "cell_type": "code",
   "execution_count": 27,
   "metadata": {},
   "outputs": [
    {
     "data": {
      "text/plain": [
       "1    373412\n",
       "0     22074\n",
       "4      7676\n",
       "5      1247\n",
       "2         1\n",
       "Name: device_type, dtype: int64"
      ]
     },
     "execution_count": 27,
     "metadata": {},
     "output_type": "execute_result"
    }
   ],
   "source": [
    "# val counts gives me the count of each unique values \n",
    "dvc_type.value_counts()"
   ]
  },
  {
   "cell_type": "code",
   "execution_count": 28,
   "metadata": {},
   "outputs": [
    {
     "data": {
      "text/plain": [
       "[1, 0, 4, 5, 2]"
      ]
     },
     "execution_count": 28,
     "metadata": {},
     "output_type": "execute_result"
    }
   ],
   "source": [
    "# make var to hold col 'names' based off unique values stored as a list\n",
    "col_names = df_tmp['device_type'].unique().tolist()\n",
    "col_names"
   ]
  },
  {
   "cell_type": "code",
   "execution_count": 29,
   "metadata": {},
   "outputs": [
    {
     "data": {
      "text/html": [
       "<div>\n",
       "<style scoped>\n",
       "    .dataframe tbody tr th:only-of-type {\n",
       "        vertical-align: middle;\n",
       "    }\n",
       "\n",
       "    .dataframe tbody tr th {\n",
       "        vertical-align: top;\n",
       "    }\n",
       "\n",
       "    .dataframe thead th {\n",
       "        text-align: right;\n",
       "    }\n",
       "</style>\n",
       "<table border=\"1\" class=\"dataframe\">\n",
       "  <thead>\n",
       "    <tr style=\"text-align: right;\">\n",
       "      <th></th>\n",
       "      <th>id</th>\n",
       "      <th>click</th>\n",
       "      <th>C1</th>\n",
       "      <th>banner_pos</th>\n",
       "      <th>site_id</th>\n",
       "      <th>site_domain</th>\n",
       "      <th>site_category</th>\n",
       "      <th>app_id</th>\n",
       "      <th>app_domain</th>\n",
       "      <th>app_category</th>\n",
       "      <th>...</th>\n",
       "      <th>C17</th>\n",
       "      <th>C18</th>\n",
       "      <th>C19</th>\n",
       "      <th>C20</th>\n",
       "      <th>C21</th>\n",
       "      <th>new_date</th>\n",
       "      <th>new_time</th>\n",
       "      <th>day_of_week</th>\n",
       "      <th>date</th>\n",
       "      <th>time</th>\n",
       "    </tr>\n",
       "  </thead>\n",
       "  <tbody>\n",
       "    <tr>\n",
       "      <th>0</th>\n",
       "      <td>10004510652136496837</td>\n",
       "      <td>0</td>\n",
       "      <td>1005</td>\n",
       "      <td>0</td>\n",
       "      <td>543a539e</td>\n",
       "      <td>c7ca3108</td>\n",
       "      <td>3e814130</td>\n",
       "      <td>ecad2386</td>\n",
       "      <td>7801e8d9</td>\n",
       "      <td>07d7df22</td>\n",
       "      <td>...</td>\n",
       "      <td>2333</td>\n",
       "      <td>0</td>\n",
       "      <td>39</td>\n",
       "      <td>-1</td>\n",
       "      <td>157</td>\n",
       "      <td>2014-10-21</td>\n",
       "      <td>00:00:00</td>\n",
       "      <td>1</td>\n",
       "      <td>2014-10-21</td>\n",
       "      <td>00:00:00</td>\n",
       "    </tr>\n",
       "    <tr>\n",
       "      <th>1</th>\n",
       "      <td>10007164336863914220</td>\n",
       "      <td>1</td>\n",
       "      <td>1005</td>\n",
       "      <td>0</td>\n",
       "      <td>1fbe01fe</td>\n",
       "      <td>f3845767</td>\n",
       "      <td>28905ebd</td>\n",
       "      <td>ecad2386</td>\n",
       "      <td>7801e8d9</td>\n",
       "      <td>07d7df22</td>\n",
       "      <td>...</td>\n",
       "      <td>1722</td>\n",
       "      <td>0</td>\n",
       "      <td>35</td>\n",
       "      <td>-1</td>\n",
       "      <td>79</td>\n",
       "      <td>2014-10-21</td>\n",
       "      <td>00:00:00</td>\n",
       "      <td>1</td>\n",
       "      <td>2014-10-21</td>\n",
       "      <td>00:00:00</td>\n",
       "    </tr>\n",
       "    <tr>\n",
       "      <th>2</th>\n",
       "      <td>10076859283156800622</td>\n",
       "      <td>0</td>\n",
       "      <td>1002</td>\n",
       "      <td>0</td>\n",
       "      <td>f17ebd97</td>\n",
       "      <td>c4e18dd6</td>\n",
       "      <td>50e219e0</td>\n",
       "      <td>ecad2386</td>\n",
       "      <td>7801e8d9</td>\n",
       "      <td>07d7df22</td>\n",
       "      <td>...</td>\n",
       "      <td>2497</td>\n",
       "      <td>3</td>\n",
       "      <td>43</td>\n",
       "      <td>100151</td>\n",
       "      <td>42</td>\n",
       "      <td>2014-10-21</td>\n",
       "      <td>00:00:00</td>\n",
       "      <td>1</td>\n",
       "      <td>2014-10-21</td>\n",
       "      <td>00:00:00</td>\n",
       "    </tr>\n",
       "  </tbody>\n",
       "</table>\n",
       "<p>3 rows × 28 columns</p>\n",
       "</div>"
      ],
      "text/plain": [
       "                     id  click    C1  banner_pos   site_id site_domain  \\\n",
       "0  10004510652136496837      0  1005           0  543a539e    c7ca3108   \n",
       "1  10007164336863914220      1  1005           0  1fbe01fe    f3845767   \n",
       "2  10076859283156800622      0  1002           0  f17ebd97    c4e18dd6   \n",
       "\n",
       "  site_category    app_id app_domain app_category    ...      C17 C18 C19  \\\n",
       "0      3e814130  ecad2386   7801e8d9     07d7df22    ...     2333   0  39   \n",
       "1      28905ebd  ecad2386   7801e8d9     07d7df22    ...     1722   0  35   \n",
       "2      50e219e0  ecad2386   7801e8d9     07d7df22    ...     2497   3  43   \n",
       "\n",
       "      C20  C21    new_date  new_time  day_of_week        date      time  \n",
       "0      -1  157  2014-10-21  00:00:00            1  2014-10-21  00:00:00  \n",
       "1      -1   79  2014-10-21  00:00:00            1  2014-10-21  00:00:00  \n",
       "2  100151   42  2014-10-21  00:00:00            1  2014-10-21  00:00:00  \n",
       "\n",
       "[3 rows x 28 columns]"
      ]
     },
     "execution_count": 29,
     "metadata": {},
     "output_type": "execute_result"
    }
   ],
   "source": [
    "# check it\n",
    "df_tmp.head(3)"
   ]
  },
  {
   "cell_type": "code",
   "execution_count": 30,
   "metadata": {},
   "outputs": [
    {
     "data": {
      "text/html": [
       "<div>\n",
       "<style scoped>\n",
       "    .dataframe tbody tr th:only-of-type {\n",
       "        vertical-align: middle;\n",
       "    }\n",
       "\n",
       "    .dataframe tbody tr th {\n",
       "        vertical-align: top;\n",
       "    }\n",
       "\n",
       "    .dataframe thead th {\n",
       "        text-align: right;\n",
       "    }\n",
       "</style>\n",
       "<table border=\"1\" class=\"dataframe\">\n",
       "  <thead>\n",
       "    <tr style=\"text-align: right;\">\n",
       "      <th></th>\n",
       "      <th>1</th>\n",
       "      <th>0</th>\n",
       "      <th>4</th>\n",
       "      <th>5</th>\n",
       "      <th>2</th>\n",
       "    </tr>\n",
       "  </thead>\n",
       "  <tbody>\n",
       "    <tr>\n",
       "      <th>count</th>\n",
       "      <td>404410.000000</td>\n",
       "      <td>404410.000000</td>\n",
       "      <td>404410.000000</td>\n",
       "      <td>404410.000000</td>\n",
       "      <td>404410.000000</td>\n",
       "    </tr>\n",
       "    <tr>\n",
       "      <th>mean</th>\n",
       "      <td>0.054583</td>\n",
       "      <td>0.923350</td>\n",
       "      <td>0.000002</td>\n",
       "      <td>0.018981</td>\n",
       "      <td>0.003084</td>\n",
       "    </tr>\n",
       "    <tr>\n",
       "      <th>std</th>\n",
       "      <td>0.227165</td>\n",
       "      <td>0.266036</td>\n",
       "      <td>0.001572</td>\n",
       "      <td>0.136457</td>\n",
       "      <td>0.055444</td>\n",
       "    </tr>\n",
       "    <tr>\n",
       "      <th>min</th>\n",
       "      <td>0.000000</td>\n",
       "      <td>0.000000</td>\n",
       "      <td>0.000000</td>\n",
       "      <td>0.000000</td>\n",
       "      <td>0.000000</td>\n",
       "    </tr>\n",
       "    <tr>\n",
       "      <th>25%</th>\n",
       "      <td>0.000000</td>\n",
       "      <td>1.000000</td>\n",
       "      <td>0.000000</td>\n",
       "      <td>0.000000</td>\n",
       "      <td>0.000000</td>\n",
       "    </tr>\n",
       "    <tr>\n",
       "      <th>50%</th>\n",
       "      <td>0.000000</td>\n",
       "      <td>1.000000</td>\n",
       "      <td>0.000000</td>\n",
       "      <td>0.000000</td>\n",
       "      <td>0.000000</td>\n",
       "    </tr>\n",
       "    <tr>\n",
       "      <th>75%</th>\n",
       "      <td>0.000000</td>\n",
       "      <td>1.000000</td>\n",
       "      <td>0.000000</td>\n",
       "      <td>0.000000</td>\n",
       "      <td>0.000000</td>\n",
       "    </tr>\n",
       "    <tr>\n",
       "      <th>max</th>\n",
       "      <td>1.000000</td>\n",
       "      <td>1.000000</td>\n",
       "      <td>1.000000</td>\n",
       "      <td>1.000000</td>\n",
       "      <td>1.000000</td>\n",
       "    </tr>\n",
       "  </tbody>\n",
       "</table>\n",
       "</div>"
      ],
      "text/plain": [
       "                   1              0              4              5  \\\n",
       "count  404410.000000  404410.000000  404410.000000  404410.000000   \n",
       "mean        0.054583       0.923350       0.000002       0.018981   \n",
       "std         0.227165       0.266036       0.001572       0.136457   \n",
       "min         0.000000       0.000000       0.000000       0.000000   \n",
       "25%         0.000000       1.000000       0.000000       0.000000   \n",
       "50%         0.000000       1.000000       0.000000       0.000000   \n",
       "75%         0.000000       1.000000       0.000000       0.000000   \n",
       "max         1.000000       1.000000       1.000000       1.000000   \n",
       "\n",
       "                   2  \n",
       "count  404410.000000  \n",
       "mean        0.003084  \n",
       "std         0.055444  \n",
       "min         0.000000  \n",
       "25%         0.000000  \n",
       "50%         0.000000  \n",
       "75%         0.000000  \n",
       "max         1.000000  "
      ]
     },
     "execution_count": 30,
     "metadata": {},
     "output_type": "execute_result"
    }
   ],
   "source": [
    "df_tmp[col_names] = pd.get_dummies(df_tmp['device_type'])\n",
    "df_tmp[col_names].describe()"
   ]
  },
  {
   "cell_type": "code",
   "execution_count": 31,
   "metadata": {},
   "outputs": [
    {
     "data": {
      "text/plain": [
       "2"
      ]
     },
     "execution_count": 31,
     "metadata": {},
     "output_type": "execute_result"
    }
   ],
   "source": [
    "# 2 unique numbers for column 1, this means it is either 1 or not 1?\n",
    "df_tmp[col_names][1].nunique()"
   ]
  },
  {
   "cell_type": "code",
   "execution_count": 32,
   "metadata": {},
   "outputs": [
    {
     "data": {
      "text/plain": [
       "id                  0\n",
       "click               0\n",
       "C1                  0\n",
       "banner_pos          0\n",
       "site_id             0\n",
       "site_domain         0\n",
       "site_category       0\n",
       "app_id              0\n",
       "app_domain          0\n",
       "app_category        0\n",
       "device_id           0\n",
       "device_ip           0\n",
       "device_model        0\n",
       "device_type         0\n",
       "device_conn_type    0\n",
       "C14                 0\n",
       "C15                 0\n",
       "C16                 0\n",
       "C17                 0\n",
       "C18                 0\n",
       "C19                 0\n",
       "C20                 0\n",
       "C21                 0\n",
       "new_date            0\n",
       "new_time            0\n",
       "day_of_week         0\n",
       "date                0\n",
       "time                0\n",
       "1                   0\n",
       "0                   0\n",
       "4                   0\n",
       "5                   0\n",
       "2                   0\n",
       "dtype: int64"
      ]
     },
     "execution_count": 32,
     "metadata": {},
     "output_type": "execute_result"
    }
   ],
   "source": [
    "# check for missing values -- there are none, good.\n",
    "\n",
    "df_tmp.isnull().sum()"
   ]
  },
  {
   "cell_type": "code",
   "execution_count": 33,
   "metadata": {},
   "outputs": [
    {
     "data": {
      "text/plain": [
       "(404410, 33)"
      ]
     },
     "execution_count": 33,
     "metadata": {},
     "output_type": "execute_result"
    }
   ],
   "source": [
    "# ya final rows are columns stratified by device type\n",
    "df_tmp.shape"
   ]
  },
  {
   "cell_type": "code",
   "execution_count": 34,
   "metadata": {},
   "outputs": [
    {
     "data": {
      "text/html": [
       "<div>\n",
       "<style scoped>\n",
       "    .dataframe tbody tr th:only-of-type {\n",
       "        vertical-align: middle;\n",
       "    }\n",
       "\n",
       "    .dataframe tbody tr th {\n",
       "        vertical-align: top;\n",
       "    }\n",
       "\n",
       "    .dataframe thead th {\n",
       "        text-align: right;\n",
       "    }\n",
       "</style>\n",
       "<table border=\"1\" class=\"dataframe\">\n",
       "  <thead>\n",
       "    <tr style=\"text-align: right;\">\n",
       "      <th></th>\n",
       "      <th>1</th>\n",
       "      <th>0</th>\n",
       "      <th>4</th>\n",
       "      <th>5</th>\n",
       "      <th>2</th>\n",
       "    </tr>\n",
       "  </thead>\n",
       "  <tbody>\n",
       "    <tr>\n",
       "      <th>0</th>\n",
       "      <td>0</td>\n",
       "      <td>1</td>\n",
       "      <td>0</td>\n",
       "      <td>0</td>\n",
       "      <td>0</td>\n",
       "    </tr>\n",
       "    <tr>\n",
       "      <th>1</th>\n",
       "      <td>0</td>\n",
       "      <td>1</td>\n",
       "      <td>0</td>\n",
       "      <td>0</td>\n",
       "      <td>0</td>\n",
       "    </tr>\n",
       "    <tr>\n",
       "      <th>2</th>\n",
       "      <td>1</td>\n",
       "      <td>0</td>\n",
       "      <td>0</td>\n",
       "      <td>0</td>\n",
       "      <td>0</td>\n",
       "    </tr>\n",
       "  </tbody>\n",
       "</table>\n",
       "</div>"
      ],
      "text/plain": [
       "   1  0  4  5  2\n",
       "0  0  1  0  0  0\n",
       "1  0  1  0  0  0\n",
       "2  1  0  0  0  0"
      ]
     },
     "execution_count": 34,
     "metadata": {},
     "output_type": "execute_result"
    }
   ],
   "source": [
    "# confirm successful selection of last 5 cols -- device types\n",
    "df_tmp[df_tmp.columns[-5:]].head(3)"
   ]
  },
  {
   "cell_type": "code",
   "execution_count": 35,
   "metadata": {},
   "outputs": [
    {
     "data": {
      "text/html": [
       "<div>\n",
       "<style scoped>\n",
       "    .dataframe tbody tr th:only-of-type {\n",
       "        vertical-align: middle;\n",
       "    }\n",
       "\n",
       "    .dataframe tbody tr th {\n",
       "        vertical-align: top;\n",
       "    }\n",
       "\n",
       "    .dataframe thead th {\n",
       "        text-align: right;\n",
       "    }\n",
       "</style>\n",
       "<table border=\"1\" class=\"dataframe\">\n",
       "  <thead>\n",
       "    <tr style=\"text-align: right;\">\n",
       "      <th></th>\n",
       "      <th>id</th>\n",
       "      <th>click</th>\n",
       "      <th>C1</th>\n",
       "      <th>banner_pos</th>\n",
       "      <th>site_id</th>\n",
       "      <th>site_domain</th>\n",
       "      <th>site_category</th>\n",
       "      <th>app_id</th>\n",
       "      <th>app_domain</th>\n",
       "      <th>app_category</th>\n",
       "      <th>...</th>\n",
       "      <th>new_date</th>\n",
       "      <th>new_time</th>\n",
       "      <th>day_of_week</th>\n",
       "      <th>date</th>\n",
       "      <th>time</th>\n",
       "      <th>1</th>\n",
       "      <th>0</th>\n",
       "      <th>4</th>\n",
       "      <th>5</th>\n",
       "      <th>2</th>\n",
       "    </tr>\n",
       "  </thead>\n",
       "  <tbody>\n",
       "    <tr>\n",
       "      <th>0</th>\n",
       "      <td>10004510652136496837</td>\n",
       "      <td>0</td>\n",
       "      <td>1005</td>\n",
       "      <td>0</td>\n",
       "      <td>543a539e</td>\n",
       "      <td>c7ca3108</td>\n",
       "      <td>3e814130</td>\n",
       "      <td>ecad2386</td>\n",
       "      <td>7801e8d9</td>\n",
       "      <td>07d7df22</td>\n",
       "      <td>...</td>\n",
       "      <td>2014-10-21</td>\n",
       "      <td>00:00:00</td>\n",
       "      <td>1</td>\n",
       "      <td>2014-10-21</td>\n",
       "      <td>00:00:00</td>\n",
       "      <td>0</td>\n",
       "      <td>1</td>\n",
       "      <td>0</td>\n",
       "      <td>0</td>\n",
       "      <td>0</td>\n",
       "    </tr>\n",
       "    <tr>\n",
       "      <th>1</th>\n",
       "      <td>10007164336863914220</td>\n",
       "      <td>1</td>\n",
       "      <td>1005</td>\n",
       "      <td>0</td>\n",
       "      <td>1fbe01fe</td>\n",
       "      <td>f3845767</td>\n",
       "      <td>28905ebd</td>\n",
       "      <td>ecad2386</td>\n",
       "      <td>7801e8d9</td>\n",
       "      <td>07d7df22</td>\n",
       "      <td>...</td>\n",
       "      <td>2014-10-21</td>\n",
       "      <td>00:00:00</td>\n",
       "      <td>1</td>\n",
       "      <td>2014-10-21</td>\n",
       "      <td>00:00:00</td>\n",
       "      <td>0</td>\n",
       "      <td>1</td>\n",
       "      <td>0</td>\n",
       "      <td>0</td>\n",
       "      <td>0</td>\n",
       "    </tr>\n",
       "    <tr>\n",
       "      <th>2</th>\n",
       "      <td>10076859283156800622</td>\n",
       "      <td>0</td>\n",
       "      <td>1002</td>\n",
       "      <td>0</td>\n",
       "      <td>f17ebd97</td>\n",
       "      <td>c4e18dd6</td>\n",
       "      <td>50e219e0</td>\n",
       "      <td>ecad2386</td>\n",
       "      <td>7801e8d9</td>\n",
       "      <td>07d7df22</td>\n",
       "      <td>...</td>\n",
       "      <td>2014-10-21</td>\n",
       "      <td>00:00:00</td>\n",
       "      <td>1</td>\n",
       "      <td>2014-10-21</td>\n",
       "      <td>00:00:00</td>\n",
       "      <td>1</td>\n",
       "      <td>0</td>\n",
       "      <td>0</td>\n",
       "      <td>0</td>\n",
       "      <td>0</td>\n",
       "    </tr>\n",
       "  </tbody>\n",
       "</table>\n",
       "<p>3 rows × 33 columns</p>\n",
       "</div>"
      ],
      "text/plain": [
       "                     id  click    C1  banner_pos   site_id site_domain  \\\n",
       "0  10004510652136496837      0  1005           0  543a539e    c7ca3108   \n",
       "1  10007164336863914220      1  1005           0  1fbe01fe    f3845767   \n",
       "2  10076859283156800622      0  1002           0  f17ebd97    c4e18dd6   \n",
       "\n",
       "  site_category    app_id app_domain app_category ...    new_date  new_time  \\\n",
       "0      3e814130  ecad2386   7801e8d9     07d7df22 ...  2014-10-21  00:00:00   \n",
       "1      28905ebd  ecad2386   7801e8d9     07d7df22 ...  2014-10-21  00:00:00   \n",
       "2      50e219e0  ecad2386   7801e8d9     07d7df22 ...  2014-10-21  00:00:00   \n",
       "\n",
       "  day_of_week        date      time  1  0  4  5  2  \n",
       "0           1  2014-10-21  00:00:00  0  1  0  0  0  \n",
       "1           1  2014-10-21  00:00:00  0  1  0  0  0  \n",
       "2           1  2014-10-21  00:00:00  1  0  0  0  0  \n",
       "\n",
       "[3 rows x 33 columns]"
      ]
     },
     "execution_count": 35,
     "metadata": {},
     "output_type": "execute_result"
    }
   ],
   "source": [
    "# rename device_type col name for readability / understanding\n",
    "df_dvtype = df_tmp\n",
    "#df_dvtype.columns = ['a', 'b']\n",
    "df_dvtype.head(3)"
   ]
  },
  {
   "cell_type": "code",
   "execution_count": 36,
   "metadata": {},
   "outputs": [
    {
     "data": {
      "text/plain": [
       "Index(['id', 'click', 'C1', 'banner_pos', 'site_id', 'site_domain',\n",
       "       'site_category', 'app_id', 'app_domain', 'app_category', 'device_id',\n",
       "       'device_ip', 'device_model', 'device_type', 'device_conn_type', 'C14',\n",
       "       'C15', 'C16', 'C17', 'C18', 'C19', 'C20', 'C21', 'new_date', 'new_time',\n",
       "       'day_of_week', 'date', 'time', 'device_type_a', 'device_type_b',\n",
       "       'device_type_c', 'device_type_d', 'device_type_e'],\n",
       "      dtype='object')"
      ]
     },
     "execution_count": 36,
     "metadata": {},
     "output_type": "execute_result"
    }
   ],
   "source": [
    "df_dvtype = df_dvtype.rename({1:'device_type_a',0:'device_type_b',4:'device_type_c',5:'device_type_d', 2:'device_type_e'}, axis='columns')\n",
    "df_dvtype.columns"
   ]
  },
  {
   "cell_type": "code",
   "execution_count": 37,
   "metadata": {},
   "outputs": [],
   "source": [
    "df_num = df_dvtype.drop(columns = ['id', 'new_time', 'new_date'])"
   ]
  },
  {
   "cell_type": "code",
   "execution_count": 38,
   "metadata": {},
   "outputs": [
    {
     "data": {
      "text/plain": [
       "Index(['click', 'C1', 'banner_pos', 'site_id', 'site_domain', 'site_category',\n",
       "       'app_id', 'app_domain', 'app_category', 'device_id', 'device_ip',\n",
       "       'device_model', 'device_type', 'device_conn_type', 'C14', 'C15', 'C16',\n",
       "       'C17', 'C18', 'C19', 'C20', 'C21', 'day_of_week', 'date', 'time',\n",
       "       'device_type_a', 'device_type_b', 'device_type_c', 'device_type_d',\n",
       "       'device_type_e'],\n",
       "      dtype='object')"
      ]
     },
     "execution_count": 38,
     "metadata": {},
     "output_type": "execute_result"
    }
   ],
   "source": [
    "df_num.columns"
   ]
  },
  {
   "cell_type": "code",
   "execution_count": 39,
   "metadata": {},
   "outputs": [
    {
     "data": {
      "text/plain": [
       "click                int64\n",
       "C1                   int64\n",
       "banner_pos           int64\n",
       "site_id             object\n",
       "site_domain         object\n",
       "site_category       object\n",
       "app_id              object\n",
       "app_domain          object\n",
       "app_category        object\n",
       "device_id           object\n",
       "device_ip           object\n",
       "device_model        object\n",
       "device_type          int64\n",
       "device_conn_type     int64\n",
       "C14                  int64\n",
       "C15                  int64\n",
       "C16                  int64\n",
       "C17                  int64\n",
       "C18                  int64\n",
       "C19                  int64\n",
       "C20                  int64\n",
       "C21                  int64\n",
       "day_of_week          int64\n",
       "date                object\n",
       "time                object\n",
       "device_type_a        uint8\n",
       "device_type_b        uint8\n",
       "device_type_c        uint8\n",
       "device_type_d        uint8\n",
       "device_type_e        uint8\n",
       "dtype: object"
      ]
     },
     "execution_count": 39,
     "metadata": {},
     "output_type": "execute_result"
    }
   ],
   "source": [
    "df_num.dtypes"
   ]
  },
  {
   "cell_type": "code",
   "execution_count": 40,
   "metadata": {},
   "outputs": [],
   "source": [
    "# converting non-numerical columns into numerical columns\n",
    "categories = ['site_id', 'site_domain','site_category', 'app_id', 'app_domain', 'app_category', 'device_id', 'device_ip', 'device_model', 'date', 'time']\n",
    "\n",
    "for category in categories:\n",
    "  df_num[category] = df_num[category].astype('category').cat.codes"
   ]
  },
  {
   "cell_type": "code",
   "execution_count": 41,
   "metadata": {},
   "outputs": [
    {
     "data": {
      "text/plain": [
       "click               int64\n",
       "C1                  int64\n",
       "banner_pos          int64\n",
       "site_id             int16\n",
       "site_domain         int16\n",
       "site_category        int8\n",
       "app_id              int16\n",
       "app_domain          int16\n",
       "app_category         int8\n",
       "device_id           int32\n",
       "device_ip           int32\n",
       "device_model        int16\n",
       "device_type         int64\n",
       "device_conn_type    int64\n",
       "C14                 int64\n",
       "C15                 int64\n",
       "C16                 int64\n",
       "C17                 int64\n",
       "C18                 int64\n",
       "C19                 int64\n",
       "C20                 int64\n",
       "C21                 int64\n",
       "day_of_week         int64\n",
       "date                 int8\n",
       "time                 int8\n",
       "device_type_a       uint8\n",
       "device_type_b       uint8\n",
       "device_type_c       uint8\n",
       "device_type_d       uint8\n",
       "device_type_e       uint8\n",
       "dtype: object"
      ]
     },
     "execution_count": 41,
     "metadata": {},
     "output_type": "execute_result"
    }
   ],
   "source": [
    "# check dtypes\n",
    "df_num.dtypes"
   ]
  },
  {
   "cell_type": "code",
   "execution_count": 42,
   "metadata": {},
   "outputs": [
    {
     "data": {
      "text/html": [
       "<div>\n",
       "<style scoped>\n",
       "    .dataframe tbody tr th:only-of-type {\n",
       "        vertical-align: middle;\n",
       "    }\n",
       "\n",
       "    .dataframe tbody tr th {\n",
       "        vertical-align: top;\n",
       "    }\n",
       "\n",
       "    .dataframe thead th {\n",
       "        text-align: right;\n",
       "    }\n",
       "</style>\n",
       "<table border=\"1\" class=\"dataframe\">\n",
       "  <thead>\n",
       "    <tr style=\"text-align: right;\">\n",
       "      <th></th>\n",
       "      <th>click</th>\n",
       "      <th>C1</th>\n",
       "      <th>banner_pos</th>\n",
       "      <th>site_id</th>\n",
       "      <th>site_domain</th>\n",
       "      <th>site_category</th>\n",
       "      <th>app_id</th>\n",
       "      <th>app_domain</th>\n",
       "      <th>app_category</th>\n",
       "      <th>device_id</th>\n",
       "      <th>...</th>\n",
       "      <th>C20</th>\n",
       "      <th>C21</th>\n",
       "      <th>day_of_week</th>\n",
       "      <th>date</th>\n",
       "      <th>time</th>\n",
       "      <th>device_type_a</th>\n",
       "      <th>device_type_b</th>\n",
       "      <th>device_type_c</th>\n",
       "      <th>device_type_d</th>\n",
       "      <th>device_type_e</th>\n",
       "    </tr>\n",
       "  </thead>\n",
       "  <tbody>\n",
       "    <tr>\n",
       "      <th>404407</th>\n",
       "      <td>0</td>\n",
       "      <td>1005</td>\n",
       "      <td>0</td>\n",
       "      <td>263</td>\n",
       "      <td>2056</td>\n",
       "      <td>1</td>\n",
       "      <td>2129</td>\n",
       "      <td>65</td>\n",
       "      <td>0</td>\n",
       "      <td>43137</td>\n",
       "      <td>...</td>\n",
       "      <td>-1</td>\n",
       "      <td>51</td>\n",
       "      <td>3</td>\n",
       "      <td>9</td>\n",
       "      <td>23</td>\n",
       "      <td>0</td>\n",
       "      <td>1</td>\n",
       "      <td>0</td>\n",
       "      <td>0</td>\n",
       "      <td>0</td>\n",
       "    </tr>\n",
       "    <tr>\n",
       "      <th>404408</th>\n",
       "      <td>0</td>\n",
       "      <td>1005</td>\n",
       "      <td>0</td>\n",
       "      <td>1145</td>\n",
       "      <td>1680</td>\n",
       "      <td>5</td>\n",
       "      <td>1396</td>\n",
       "      <td>17</td>\n",
       "      <td>24</td>\n",
       "      <td>43137</td>\n",
       "      <td>...</td>\n",
       "      <td>-1</td>\n",
       "      <td>221</td>\n",
       "      <td>3</td>\n",
       "      <td>9</td>\n",
       "      <td>23</td>\n",
       "      <td>0</td>\n",
       "      <td>1</td>\n",
       "      <td>0</td>\n",
       "      <td>0</td>\n",
       "      <td>0</td>\n",
       "    </tr>\n",
       "    <tr>\n",
       "      <th>404409</th>\n",
       "      <td>0</td>\n",
       "      <td>1005</td>\n",
       "      <td>0</td>\n",
       "      <td>263</td>\n",
       "      <td>2056</td>\n",
       "      <td>1</td>\n",
       "      <td>2129</td>\n",
       "      <td>65</td>\n",
       "      <td>0</td>\n",
       "      <td>43137</td>\n",
       "      <td>...</td>\n",
       "      <td>-1</td>\n",
       "      <td>51</td>\n",
       "      <td>3</td>\n",
       "      <td>9</td>\n",
       "      <td>23</td>\n",
       "      <td>0</td>\n",
       "      <td>1</td>\n",
       "      <td>0</td>\n",
       "      <td>0</td>\n",
       "      <td>0</td>\n",
       "    </tr>\n",
       "  </tbody>\n",
       "</table>\n",
       "<p>3 rows × 30 columns</p>\n",
       "</div>"
      ],
      "text/plain": [
       "        click    C1  banner_pos  site_id  site_domain  site_category  app_id  \\\n",
       "404407      0  1005           0      263         2056              1    2129   \n",
       "404408      0  1005           0     1145         1680              5    1396   \n",
       "404409      0  1005           0      263         2056              1    2129   \n",
       "\n",
       "        app_domain  app_category  device_id      ...        C20  C21  \\\n",
       "404407          65             0      43137      ...         -1   51   \n",
       "404408          17            24      43137      ...         -1  221   \n",
       "404409          65             0      43137      ...         -1   51   \n",
       "\n",
       "        day_of_week  date  time  device_type_a  device_type_b  device_type_c  \\\n",
       "404407            3     9    23              0              1              0   \n",
       "404408            3     9    23              0              1              0   \n",
       "404409            3     9    23              0              1              0   \n",
       "\n",
       "        device_type_d  device_type_e  \n",
       "404407              0              0  \n",
       "404408              0              0  \n",
       "404409              0              0  \n",
       "\n",
       "[3 rows x 30 columns]"
      ]
     },
     "execution_count": 42,
     "metadata": {},
     "output_type": "execute_result"
    }
   ],
   "source": [
    "df_num.head(3)\n",
    "df_num.tail(3)"
   ]
  },
  {
   "cell_type": "code",
   "execution_count": 43,
   "metadata": {},
   "outputs": [
    {
     "data": {
      "text/plain": [
       "64913"
      ]
     },
     "execution_count": 43,
     "metadata": {},
     "output_type": "execute_result"
    }
   ],
   "source": [
    "df_num.device_id.nunique()"
   ]
  },
  {
   "cell_type": "code",
   "execution_count": 44,
   "metadata": {},
   "outputs": [
    {
     "data": {
      "text/plain": [
       "64913"
      ]
     },
     "execution_count": 44,
     "metadata": {},
     "output_type": "execute_result"
    }
   ],
   "source": [
    "df_tmp.device_id.nunique()"
   ]
  },
  {
   "cell_type": "code",
   "execution_count": 56,
   "metadata": {},
   "outputs": [
    {
     "data": {
      "text/plain": [
       "count    404410.000000\n",
       "mean          2.601259\n",
       "std           1.727362\n",
       "min           0.000000\n",
       "25%           1.000000\n",
       "50%           2.000000\n",
       "75%           4.000000\n",
       "max           6.000000\n",
       "Name: day_of_week, dtype: float64"
      ]
     },
     "execution_count": 56,
     "metadata": {},
     "output_type": "execute_result"
    }
   ],
   "source": [
    "# just checking dow -- day_of_week is good, date is numbered 0-9 as there are 10 days of data\n",
    "df_num.day_of_week.describe()"
   ]
  },
  {
   "cell_type": "markdown",
   "metadata": {},
   "source": [
    "# Original features"
   ]
  },
  {
   "cell_type": "markdown",
   "metadata": {},
   "source": [
    " - Target feature : click\n",
    " - Site features : site_id, site_domain, site_category\n",
    " - App feature: app_id, app_domain, app_category\n",
    " - Device feature: device_id, device_ip, device_model, device_type, device_conn_type\n",
    " - Anonymized categorical features: C14-C21"
   ]
  },
  {
   "cell_type": "markdown",
   "metadata": {},
   "source": [
    "# New Features"
   ]
  },
  {
   "cell_type": "markdown",
   "metadata": {},
   "source": [
    "### All features are numerical (df_num)\n",
    "- Target feature : click\n",
    " - Site features : site_id, site_domain, site_category\n",
    " - App feature: app_id, app_domain, app_category\n",
    " - Device feature: device_id[a,b,c,d,e], device_ip, device_model, device_type, device_conn_type\n",
    " - Anonymized numerical features: C14-C21"
   ]
  },
  {
   "cell_type": "markdown",
   "metadata": {},
   "source": [
    "# Data Analysis\n"
   ]
  },
  {
   "cell_type": "code",
   "execution_count": null,
   "metadata": {},
   "outputs": [],
   "source": [
    "df_da = df_num"
   ]
  },
  {
   "cell_type": "code",
   "execution_count": 48,
   "metadata": {
    "scrolled": true
   },
   "outputs": [
    {
     "name": "stdout",
     "output_type": "stream",
     "text": [
      "C1 total: 7\n",
      "banner_pos total: 7\n",
      "site_category total: 21\n",
      "device_type total: 5\n",
      "device_conn_type total: 4\n",
      "C15 total: 8\n",
      "C16 total: 9\n",
      "C18 total: 4\n",
      "day_of_week total: 7\n",
      "date total: 10\n",
      "time total: 24\n"
     ]
    }
   ],
   "source": [
    "# encode these categories\n",
    "for col in df_num.columns.values:\n",
    "    total = len(df_num[col].unique())\n",
    "    val = df_num[col].unique()\n",
    "    if total < 26 and total > 2:\n",
    "        print(str(col) + \" \" + \"total: \" + str(total))"
   ]
  },
  {
   "cell_type": "code",
   "execution_count": 54,
   "metadata": {
    "scrolled": true
   },
   "outputs": [
    {
     "data": {
      "text/plain": [
       "dtype('int64')"
      ]
     },
     "execution_count": 54,
     "metadata": {},
     "output_type": "execute_result"
    }
   ],
   "source": [
    "df_num.C1.dtype"
   ]
  },
  {
   "cell_type": "code",
   "execution_count": 55,
   "metadata": {},
   "outputs": [],
   "source": [
    "# try onehotencoder \n",
    "from sklearn.preprocessing import OneHotEncoder\n",
    "\n",
    "enc = OneHotEncoder(handle_unknown='ignore')\n",
    "\n",
    "X = df_num.C1\n"
   ]
  },
  {
   "cell_type": "code",
   "execution_count": null,
   "metadata": {},
   "outputs": [],
   "source": [
    "#enc.fit(X)\n",
    "\n",
    "#OneHotEncoder(categorical_features=None, categories=None,dtype='numpy.int64', handle_unknown='ignore', n_values=None, sparse=True)\n",
    "\n",
    "#enc.categories_[array(['Female', 'Male'], dtype=object), array([1, 2, 3], dtype=object)]\n",
    "\n",
    "#enc.transform([['Female', 1], ['Male', 4]]).toarray()\n",
    "\n",
    "#array([[1., 0., 1., 0., 0.],\n",
    "       [0., 1., 0., 0., 0.]])\n",
    "\n",
    "#enc.inverse_transform([[0, 1, 1, 0, 0], [0, 0, 0, 1, 0]])\n",
    "\n",
    "#array([['Male', 1],[None, 2]], dtype=object)\n",
    "\n",
    "#enc.get_feature_names()\n",
    "\n",
    "#array(['x0_Female', 'x0_Male', 'x1_1', 'x1_2', 'x1_3'], dtype=object)"
   ]
  },
  {
   "cell_type": "markdown",
   "metadata": {},
   "source": [
    "# Standardize / Normalize Data"
   ]
  },
  {
   "cell_type": "code",
   "execution_count": null,
   "metadata": {},
   "outputs": [],
   "source": [
    "# describe each column\n",
    "for col in df_num.columns:\n",
    "    mean = df_num[col].mean()\n",
    "    print(str(col) + \" \" + \"stats are: \" + str(mean))"
   ]
  },
  {
   "cell_type": "code",
   "execution_count": null,
   "metadata": {},
   "outputs": [],
   "source": [
    "# correlations\n",
    "df_da.corr()"
   ]
  },
  {
   "cell_type": "code",
   "execution_count": null,
   "metadata": {},
   "outputs": [],
   "source": []
  },
  {
   "cell_type": "code",
   "execution_count": null,
   "metadata": {},
   "outputs": [],
   "source": []
  },
  {
   "cell_type": "code",
   "execution_count": null,
   "metadata": {},
   "outputs": [],
   "source": [
    "# filter out outliers\n",
    "#df_normal = df_num[np.abs(df_num.Data-df_num.Data.mean()) <= (3*df_num.Data.std())]\n",
    "# keep only the ones that are within +3 to -3 standard deviations in the column 'Data'.\n",
    "\n",
    "# keep anything outside of +3 or -3 stdvs\n",
    "#df_outliers = df_num[~(np.abs(df_num.Data-df_num.Data.mean()) > (3*df_num.Data.std()))]\n"
   ]
  },
  {
   "cell_type": "markdown",
   "metadata": {},
   "source": [
    "# Random Forest\n",
    "## Classification using sklearn\n",
    "### baseline metrics"
   ]
  },
  {
   "cell_type": "code",
   "execution_count": null,
   "metadata": {},
   "outputs": [],
   "source": [
    "# baseline random forest\n",
    "features = ['C1', 'banner_pos', 'site_id', 'site_domain',\n",
    "       'site_category', 'app_id', 'app_domain', 'app_category', 'device_id',\n",
    "       'device_ip', 'device_model', 'device_type', 'device_conn_type', 'C14',\n",
    "       'C15', 'C16', 'C17', 'C18', 'C19', 'C20', 'C21', 'date', 'time', 'device_type_a', 'device_type_b', 'device_type_c', 'device_type_d', 'device_type_e']\n",
    "target = ['click']\n",
    "\n",
    "X_train, X_test, y_train, y_test = train_test_split(df_num[features], df_num[target], test_size = 0.2, random_state = 0)"
   ]
  },
  {
   "cell_type": "code",
   "execution_count": null,
   "metadata": {},
   "outputs": [],
   "source": [
    "y_train.head(3)"
   ]
  },
  {
   "cell_type": "code",
   "execution_count": null,
   "metadata": {},
   "outputs": [],
   "source": [
    "X_train.head(3)"
   ]
  },
  {
   "cell_type": "code",
   "execution_count": null,
   "metadata": {},
   "outputs": [],
   "source": [
    "#running random forest algorithm\n",
    "\n",
    "from sklearn.ensemble import RandomForestRegressor\n",
    "\n",
    "regressor = RandomForestRegressor(n_estimators=1000, random_state=0)  \n",
    "regressor.fit(X_train, y_train)  \n",
    "y_pred = regressor.predict(X_test)  \n",
    "\n"
   ]
  },
  {
   "cell_type": "code",
   "execution_count": null,
   "metadata": {},
   "outputs": [],
   "source": [
    "Y_pred.shape"
   ]
  },
  {
   "cell_type": "code",
   "execution_count": null,
   "metadata": {},
   "outputs": [],
   "source": []
  },
  {
   "cell_type": "code",
   "execution_count": null,
   "metadata": {},
   "outputs": [],
   "source": []
  }
 ],
 "metadata": {
  "kernelspec": {
   "display_name": "Python 3",
   "language": "python",
   "name": "python3"
  },
  "language_info": {
   "codemirror_mode": {
    "name": "ipython",
    "version": 3
   },
   "file_extension": ".py",
   "mimetype": "text/x-python",
   "name": "python",
   "nbconvert_exporter": "python",
   "pygments_lexer": "ipython3",
   "version": "3.7.1"
  }
 },
 "nbformat": 4,
 "nbformat_minor": 2
}
